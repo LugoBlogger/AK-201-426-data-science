{
 "cells": [
  {
   "attachments": {},
   "cell_type": "markdown",
   "metadata": {},
   "source": [
    "Logs   \n",
    "- [2023/03/08]   \n",
    "  Restart this notebook if you change the scratch library"
   ]
  },
  {
   "cell_type": "code",
   "execution_count": 48,
   "metadata": {},
   "outputs": [],
   "source": [
    "import numpy as np\n",
    "import networkx as nx\n",
    "import matplotlib.pyplot as plt\n",
    "import tqdm\n",
    "\n",
    "from typing import NamedTuple, Dict, List, Tuple\n",
    "from collections import deque, Counter\n",
    "from scratch.linear_algebra import LinearAlgebra as la\n",
    "from scratch.linear_algebra import Matrix, Vector\n",
    "from IPython.display import display\n",
    "\n",
    "Path = List[int]\n"
   ]
  },
  {
   "cell_type": "code",
   "execution_count": 2,
   "metadata": {},
   "outputs": [],
   "source": [
    "plt.rcParams.update(plt.rcParamsDefault)\n",
    "plt.rcParams.update({\n",
    "  'font.size': 16,\n",
    "  'grid.alpha': 0.25})"
   ]
  },
  {
   "attachments": {},
   "cell_type": "markdown",
   "metadata": {},
   "source": [
    "Several important terms in networks:\n",
    "\n",
    "- nodes\n",
    "- edges\n",
    "- undirected\n",
    "- directed"
   ]
  },
  {
   "attachments": {},
   "cell_type": "markdown",
   "metadata": {},
   "source": [
    "## Betweenness Centrality\n",
    "\n",
    "The reason why we need to use *betweeness centrality* is to capture who\n",
    "is the key connector for given two peoples. The notion of *degree centrality*\n",
    "cannot capture this feature."
   ]
  },
  {
   "cell_type": "code",
   "execution_count": 3,
   "metadata": {},
   "outputs": [],
   "source": [
    "class User(NamedTuple):\n",
    "  id_: int\n",
    "  name: str\n",
    "\n",
    "users = [User(0, \"Hero\"), User(1, \"Dunn\"), User(2, \"Sue\"), User(3, \"Chi\"),\n",
    "         User(4, \"Thor\"), User(5, \"Clive\"), User(6, \"Hicks\"),\n",
    "         User(7, \"Devin\"), User(8, \"Kate\"), User(9, \"Klein\")]\n",
    "\n",
    "friend_pairs = [(0, 1), (0, 2), (1, 2), (1, 3), (2, 3), (3, 4),\n",
    "                (4, 5), (5, 6), (5, 7), (6, 8), (7, 8), (8, 9)]"
   ]
  },
  {
   "attachments": {},
   "cell_type": "markdown",
   "metadata": {},
   "source": [
    "### The DataSciencester network"
   ]
  },
  {
   "cell_type": "code",
   "execution_count": 4,
   "metadata": {},
   "outputs": [
    {
     "name": "stdout",
     "output_type": "stream",
     "text": [
      "The DataSciencester network\n"
     ]
    },
    {
     "data": {
      "image/png": "[encoded data removed]",
      "text/plain": [
       "<Figure size 1000x1000 with 1 Axes>"
      ]
     },
     "metadata": {},
     "output_type": "display_data"
    }
   ],
   "source": [
    "G = nx.Graph()\n",
    "[G.add_node(user.id_) for user in users]\n",
    "G.add_edges_from(friend_pairs)\n",
    "\n",
    "fig, ax = plt.subplots(figsize=(10, 10))\n",
    "\n",
    "node_pos = {\n",
    "  0: (0, 2), 1: (1, 1), 2: (1, 3), 3: (2, 2), 4: (3, 2),\n",
    "  5: (4, 2), 6: (5, 3), 7:(5, 1), 8: (6, 2), 9: (7, 2)}\n",
    "\n",
    "nx.draw(G, pos=node_pos, with_labels=True, font_weight=\"bold\", \n",
    "  node_color=\"#cfe2f3\", node_size=2000, \n",
    "  edgecolors=\"k\", ax=ax, font_size=16)\n",
    "\n",
    "# nx.draw(G, with_labels=True, font_weight=\"bold\", \n",
    "#   node_color=\"#cfe2f3\", node_size=700, \n",
    "#   edgecolors=\"k\", ax=ax)\n",
    "\n",
    "ax.set_aspect(\"equal\")\n",
    "ax.set_ylim([0.6, 3.5])\n",
    "# ax.set_title(\"The DataSciencester network\")\n",
    "\n",
    "print(\"The DataSciencester network\")\n",
    "plt.show(fig)"
   ]
  },
  {
   "attachments": {},
   "cell_type": "markdown",
   "metadata": {},
   "source": [
    "The friendship data will be easier to handle as a `dict`"
   ]
  },
  {
   "cell_type": "code",
   "execution_count": 5,
   "metadata": {},
   "outputs": [
    {
     "name": "stdout",
     "output_type": "stream",
     "text": [
      "[3, 5]\n",
      "[6, 7, 9]\n"
     ]
    },
    {
     "data": {
      "text/plain": [
       "{0: [1, 2],\n",
       " 1: [0, 2, 3],\n",
       " 2: [0, 1, 3],\n",
       " 3: [1, 2, 4],\n",
       " 4: [3, 5],\n",
       " 5: [4, 6, 7],\n",
       " 6: [5, 8],\n",
       " 7: [5, 8],\n",
       " 8: [6, 7, 9],\n",
       " 9: [8]}"
      ]
     },
     "execution_count": 5,
     "metadata": {},
     "output_type": "execute_result"
    }
   ],
   "source": [
    "# type alias for keeping track of Friendships\n",
    "Friendships = Dict[int, List[int]]\n",
    "\n",
    "friendships: Friendships = {user.id_: [] for user in users}\n",
    "\n",
    "for i, j in friend_pairs:\n",
    "  friendships[i].append(j)\n",
    "  friendships[j].append(i)\n",
    "\n",
    "print(friendships[4])\n",
    "print(friendships[8])\n",
    "\n",
    "friendships"
   ]
  },
  {
   "attachments": {},
   "cell_type": "markdown",
   "metadata": {},
   "source": [
    "To calculate *betweenness centrality* of node $i$, we add\n",
    "up, for every other pair of nodes $j$ and $k$, the proportion\n",
    "of shortest paths between node $j$ and node $k$ that pass through $i$.\n",
    "\n",
    "Now we have to build a function that can calculate the shortest\n",
    "paths between all pairs of peple. This algorithm is bread-firsth search.\n",
    "See the textbook for the complete description"
   ]
  },
  {
   "cell_type": "code",
   "execution_count": 6,
   "metadata": {},
   "outputs": [
    {
     "name": "stdout",
     "output_type": "stream",
     "text": [
      "deque([(0, 1), (0, 2)])\n",
      "deque([(1, 0), (1, 2), (1, 3)])\n",
      "deque([(2, 0), (2, 1), (2, 3)])\n",
      "deque([(3, 1), (3, 2), (3, 4)])\n",
      "deque([(4, 3), (4, 5)])\n",
      "deque([(5, 4), (5, 6), (5, 7)])\n",
      "deque([(6, 5), (6, 8)])\n",
      "deque([(7, 5), (7, 8)])\n",
      "deque([(8, 6), (8, 7), (8, 9)])\n",
      "deque([(9, 8)])\n"
     ]
    }
   ],
   "source": [
    "for user in users:\n",
    "  from_user_id = user.id_\n",
    "  frontier = deque((from_user_id, friend_id)\n",
    "                    for friend_id in friendships[from_user_id])\n",
    "  print(frontier)"
   ]
  },
  {
   "cell_type": "code",
   "execution_count": 7,
   "metadata": {},
   "outputs": [
    {
     "name": "stdout",
     "output_type": "stream",
     "text": [
      "deque([(0, 1), (0, 2)])\n",
      "deque([(0, 2)])\n",
      "deque([(0, 2), (2, 3)])\n"
     ]
    }
   ],
   "source": [
    "from_user_id = users[0].id_\n",
    "frontier = deque((from_user_id, friend_id)\n",
    "                  for friend_id in friendships[from_user_id])\n",
    "print(frontier)\n",
    "frontier.popleft()\n",
    "print(frontier)\n",
    "frontier.extend([(2, 3)])\n",
    "print(frontier)"
   ]
  },
  {
   "cell_type": "code",
   "execution_count": 8,
   "metadata": {},
   "outputs": [
    {
     "data": {
      "text/plain": [
       "[]"
      ]
     },
     "execution_count": 8,
     "metadata": {},
     "output_type": "execute_result"
    }
   ],
   "source": [
    "a = {0: [[]], 1: [[2]]}\n",
    "\n",
    "a.get(3, [])"
   ]
  },
  {
   "cell_type": "code",
   "execution_count": 9,
   "metadata": {},
   "outputs": [],
   "source": [
    "def shortest_paths_from(from_user_id: int, friendships: Friendships,\n",
    "                        verbose=False) -> Dict[int, List[Path]]:\n",
    "  # A dictionary from user_id to `all` shortest paths to that user.\n",
    "  shortest_paths_to: Dict[int, List[Path]] = {from_user_id: [[]]}\n",
    "\n",
    "  # [item 4.] A queue of (previous user, next user) that we need to check\n",
    "  # Starts out with all pairs (from_user, friend_of_from_user).\n",
    "  frontier = deque((from_user_id, friend_id)\n",
    "                   for friend_id in friendships[from_user_id])\n",
    "  \n",
    "  # Keep going until we empty the queue\n",
    "  while frontier:\n",
    "    # Remove the pair that's next in the queue.\n",
    "    prev_user_id, user_id = frontier.popleft()\n",
    "\n",
    "    # Because of the way we're adding to the queue,\n",
    "    # necessarily we already know some shortest paths to prev_user.\n",
    "    paths_to_prev_user = shortest_paths_to[prev_user_id]\n",
    "    new_paths_to_user = [path + [user_id] for path in paths_to_prev_user]\n",
    "\n",
    "    # It's possible we already know a shortest path to user_id.\n",
    "    # The second argunebt if .get is the default value when the key \n",
    "    # doesn't exist.\n",
    "    old_paths_to_user = shortest_paths_to.get(user_id, [])\n",
    "\n",
    "    # What's the shortest path to here that we've seen so far?\n",
    "    if old_paths_to_user:\n",
    "      min_path_length = len(old_paths_to_user[0])\n",
    "    else:   # zero path length is the first situation where \n",
    "            # the path from_user to itself\n",
    "      min_path_length = float('inf')\n",
    "\n",
    "    if verbose:\n",
    "      print(f\"prev_user_id, user_id: {prev_user_id, user_id}\")\n",
    "      print(f\"paths_to_prev_user: {paths_to_prev_user}\")\n",
    "      print(f\"new_paths_to_user: {new_paths_to_user}\")\n",
    "      print(f\"old_paths_to_user: {old_paths_to_user}\")\n",
    "      print(f\"min_path_length: {min_path_length}\")\n",
    "\n",
    "    # Only keep paths that aren't too long and are actually new.\n",
    "    # Update new_paths_to_user by comparing its path \n",
    "    # length to the old_paths_to_user\n",
    "    new_paths_to_user = [path for path in new_paths_to_user\n",
    "                          if len(path) <= min_path_length and path not in old_paths_to_user]\n",
    "\n",
    "    # update shortest_paths_to user_id if the each path of new_paths_to_user\n",
    "    # has len(path) less than or equal to min_path_length of old_paths_to_user\n",
    "    # This will be update at least by an empty path (new_paths_to_user = [[]])\n",
    "    shortest_paths_to[user_id] = old_paths_to_user + new_paths_to_user\n",
    "\n",
    "    # Add never-seen neighbors to the frontier.\n",
    "    frontier.extend((user_id, friend_id) for friend_id in friendships[user_id]\n",
    "                      if friend_id not in shortest_paths_to)\n",
    "    \n",
    "    if verbose:\n",
    "      print(f\"new_paths_to_user: {new_paths_to_user}\")\n",
    "      print(f\"shortest_paths_to: {shortest_paths_to}\")\n",
    "      print(f\"frontier: {frontier}\")\n",
    "      print()\n",
    "    \n",
    "  return shortest_paths_to\n",
    "    "
   ]
  },
  {
   "cell_type": "code",
   "execution_count": 10,
   "metadata": {},
   "outputs": [
    {
     "name": "stdout",
     "output_type": "stream",
     "text": [
      "prev_user_id, user_id: (0, 1)\n",
      "paths_to_prev_user: [[]]\n",
      "new_paths_to_user: [[1]]\n",
      "old_paths_to_user: []\n",
      "min_path_length: inf\n",
      "new_paths_to_user: [[1]]\n",
      "shortest_paths_to: {0: [[]], 1: [[1]]}\n",
      "frontier: deque([(0, 2), (1, 2), (1, 3)])\n",
      "\n",
      "prev_user_id, user_id: (0, 2)\n",
      "paths_to_prev_user: [[]]\n",
      "new_paths_to_user: [[2]]\n",
      "old_paths_to_user: []\n",
      "min_path_length: inf\n",
      "new_paths_to_user: [[2]]\n",
      "shortest_paths_to: {0: [[]], 1: [[1]], 2: [[2]]}\n",
      "frontier: deque([(1, 2), (1, 3), (2, 3)])\n",
      "\n",
      "prev_user_id, user_id: (1, 2)\n",
      "paths_to_prev_user: [[1]]\n",
      "new_paths_to_user: [[1, 2]]\n",
      "old_paths_to_user: [[2]]\n",
      "min_path_length: 1\n",
      "new_paths_to_user: []\n",
      "shortest_paths_to: {0: [[]], 1: [[1]], 2: [[2]]}\n",
      "frontier: deque([(1, 3), (2, 3), (2, 3)])\n",
      "\n",
      "prev_user_id, user_id: (1, 3)\n",
      "paths_to_prev_user: [[1]]\n",
      "new_paths_to_user: [[1, 3]]\n",
      "old_paths_to_user: []\n",
      "min_path_length: inf\n",
      "new_paths_to_user: [[1, 3]]\n",
      "shortest_paths_to: {0: [[]], 1: [[1]], 2: [[2]], 3: [[1, 3]]}\n",
      "frontier: deque([(2, 3), (2, 3), (3, 4)])\n",
      "\n",
      "prev_user_id, user_id: (2, 3)\n",
      "paths_to_prev_user: [[2]]\n",
      "new_paths_to_user: [[2, 3]]\n",
      "old_paths_to_user: [[1, 3]]\n",
      "min_path_length: 2\n",
      "new_paths_to_user: [[2, 3]]\n",
      "shortest_paths_to: {0: [[]], 1: [[1]], 2: [[2]], 3: [[1, 3], [2, 3]]}\n",
      "frontier: deque([(2, 3), (3, 4), (3, 4)])\n",
      "\n",
      "prev_user_id, user_id: (2, 3)\n",
      "paths_to_prev_user: [[2]]\n",
      "new_paths_to_user: [[2, 3]]\n",
      "old_paths_to_user: [[1, 3], [2, 3]]\n",
      "min_path_length: 2\n",
      "new_paths_to_user: []\n",
      "shortest_paths_to: {0: [[]], 1: [[1]], 2: [[2]], 3: [[1, 3], [2, 3]]}\n",
      "frontier: deque([(3, 4), (3, 4), (3, 4)])\n",
      "\n",
      "prev_user_id, user_id: (3, 4)\n",
      "paths_to_prev_user: [[1, 3], [2, 3]]\n",
      "new_paths_to_user: [[1, 3, 4], [2, 3, 4]]\n",
      "old_paths_to_user: []\n",
      "min_path_length: inf\n",
      "new_paths_to_user: [[1, 3, 4], [2, 3, 4]]\n",
      "shortest_paths_to: {0: [[]], 1: [[1]], 2: [[2]], 3: [[1, 3], [2, 3]], 4: [[1, 3, 4], [2, 3, 4]]}\n",
      "frontier: deque([(3, 4), (3, 4), (4, 5)])\n",
      "\n",
      "prev_user_id, user_id: (3, 4)\n",
      "paths_to_prev_user: [[1, 3], [2, 3]]\n",
      "new_paths_to_user: [[1, 3, 4], [2, 3, 4]]\n",
      "old_paths_to_user: [[1, 3, 4], [2, 3, 4]]\n",
      "min_path_length: 3\n",
      "new_paths_to_user: []\n",
      "shortest_paths_to: {0: [[]], 1: [[1]], 2: [[2]], 3: [[1, 3], [2, 3]], 4: [[1, 3, 4], [2, 3, 4]]}\n",
      "frontier: deque([(3, 4), (4, 5), (4, 5)])\n",
      "\n",
      "prev_user_id, user_id: (3, 4)\n",
      "paths_to_prev_user: [[1, 3], [2, 3]]\n",
      "new_paths_to_user: [[1, 3, 4], [2, 3, 4]]\n",
      "old_paths_to_user: [[1, 3, 4], [2, 3, 4]]\n",
      "min_path_length: 3\n",
      "new_paths_to_user: []\n",
      "shortest_paths_to: {0: [[]], 1: [[1]], 2: [[2]], 3: [[1, 3], [2, 3]], 4: [[1, 3, 4], [2, 3, 4]]}\n",
      "frontier: deque([(4, 5), (4, 5), (4, 5)])\n",
      "\n",
      "prev_user_id, user_id: (4, 5)\n",
      "paths_to_prev_user: [[1, 3, 4], [2, 3, 4]]\n",
      "new_paths_to_user: [[1, 3, 4, 5], [2, 3, 4, 5]]\n",
      "old_paths_to_user: []\n",
      "min_path_length: inf\n",
      "new_paths_to_user: [[1, 3, 4, 5], [2, 3, 4, 5]]\n",
      "shortest_paths_to: {0: [[]], 1: [[1]], 2: [[2]], 3: [[1, 3], [2, 3]], 4: [[1, 3, 4], [2, 3, 4]], 5: [[1, 3, 4, 5], [2, 3, 4, 5]]}\n",
      "frontier: deque([(4, 5), (4, 5), (5, 6), (5, 7)])\n",
      "\n",
      "prev_user_id, user_id: (4, 5)\n",
      "paths_to_prev_user: [[1, 3, 4], [2, 3, 4]]\n",
      "new_paths_to_user: [[1, 3, 4, 5], [2, 3, 4, 5]]\n",
      "old_paths_to_user: [[1, 3, 4, 5], [2, 3, 4, 5]]\n",
      "min_path_length: 4\n",
      "new_paths_to_user: []\n",
      "shortest_paths_to: {0: [[]], 1: [[1]], 2: [[2]], 3: [[1, 3], [2, 3]], 4: [[1, 3, 4], [2, 3, 4]], 5: [[1, 3, 4, 5], [2, 3, 4, 5]]}\n",
      "frontier: deque([(4, 5), (5, 6), (5, 7), (5, 6), (5, 7)])\n",
      "\n",
      "prev_user_id, user_id: (4, 5)\n",
      "paths_to_prev_user: [[1, 3, 4], [2, 3, 4]]\n",
      "new_paths_to_user: [[1, 3, 4, 5], [2, 3, 4, 5]]\n",
      "old_paths_to_user: [[1, 3, 4, 5], [2, 3, 4, 5]]\n",
      "min_path_length: 4\n",
      "new_paths_to_user: []\n",
      "shortest_paths_to: {0: [[]], 1: [[1]], 2: [[2]], 3: [[1, 3], [2, 3]], 4: [[1, 3, 4], [2, 3, 4]], 5: [[1, 3, 4, 5], [2, 3, 4, 5]]}\n",
      "frontier: deque([(5, 6), (5, 7), (5, 6), (5, 7), (5, 6), (5, 7)])\n",
      "\n",
      "prev_user_id, user_id: (5, 6)\n",
      "paths_to_prev_user: [[1, 3, 4, 5], [2, 3, 4, 5]]\n",
      "new_paths_to_user: [[1, 3, 4, 5, 6], [2, 3, 4, 5, 6]]\n",
      "old_paths_to_user: []\n",
      "min_path_length: inf\n",
      "new_paths_to_user: [[1, 3, 4, 5, 6], [2, 3, 4, 5, 6]]\n",
      "shortest_paths_to: {0: [[]], 1: [[1]], 2: [[2]], 3: [[1, 3], [2, 3]], 4: [[1, 3, 4], [2, 3, 4]], 5: [[1, 3, 4, 5], [2, 3, 4, 5]], 6: [[1, 3, 4, 5, 6], [2, 3, 4, 5, 6]]}\n",
      "frontier: deque([(5, 7), (5, 6), (5, 7), (5, 6), (5, 7), (6, 8)])\n",
      "\n",
      "prev_user_id, user_id: (5, 7)\n",
      "paths_to_prev_user: [[1, 3, 4, 5], [2, 3, 4, 5]]\n",
      "new_paths_to_user: [[1, 3, 4, 5, 7], [2, 3, 4, 5, 7]]\n",
      "old_paths_to_user: []\n",
      "min_path_length: inf\n",
      "new_paths_to_user: [[1, 3, 4, 5, 7], [2, 3, 4, 5, 7]]\n",
      "shortest_paths_to: {0: [[]], 1: [[1]], 2: [[2]], 3: [[1, 3], [2, 3]], 4: [[1, 3, 4], [2, 3, 4]], 5: [[1, 3, 4, 5], [2, 3, 4, 5]], 6: [[1, 3, 4, 5, 6], [2, 3, 4, 5, 6]], 7: [[1, 3, 4, 5, 7], [2, 3, 4, 5, 7]]}\n",
      "frontier: deque([(5, 6), (5, 7), (5, 6), (5, 7), (6, 8), (7, 8)])\n",
      "\n",
      "prev_user_id, user_id: (5, 6)\n",
      "paths_to_prev_user: [[1, 3, 4, 5], [2, 3, 4, 5]]\n",
      "new_paths_to_user: [[1, 3, 4, 5, 6], [2, 3, 4, 5, 6]]\n",
      "old_paths_to_user: [[1, 3, 4, 5, 6], [2, 3, 4, 5, 6]]\n",
      "min_path_length: 5\n",
      "new_paths_to_user: []\n",
      "shortest_paths_to: {0: [[]], 1: [[1]], 2: [[2]], 3: [[1, 3], [2, 3]], 4: [[1, 3, 4], [2, 3, 4]], 5: [[1, 3, 4, 5], [2, 3, 4, 5]], 6: [[1, 3, 4, 5, 6], [2, 3, 4, 5, 6]], 7: [[1, 3, 4, 5, 7], [2, 3, 4, 5, 7]]}\n",
      "frontier: deque([(5, 7), (5, 6), (5, 7), (6, 8), (7, 8), (6, 8)])\n",
      "\n",
      "prev_user_id, user_id: (5, 7)\n",
      "paths_to_prev_user: [[1, 3, 4, 5], [2, 3, 4, 5]]\n",
      "new_paths_to_user: [[1, 3, 4, 5, 7], [2, 3, 4, 5, 7]]\n",
      "old_paths_to_user: [[1, 3, 4, 5, 7], [2, 3, 4, 5, 7]]\n",
      "min_path_length: 5\n",
      "new_paths_to_user: []\n",
      "shortest_paths_to: {0: [[]], 1: [[1]], 2: [[2]], 3: [[1, 3], [2, 3]], 4: [[1, 3, 4], [2, 3, 4]], 5: [[1, 3, 4, 5], [2, 3, 4, 5]], 6: [[1, 3, 4, 5, 6], [2, 3, 4, 5, 6]], 7: [[1, 3, 4, 5, 7], [2, 3, 4, 5, 7]]}\n",
      "frontier: deque([(5, 6), (5, 7), (6, 8), (7, 8), (6, 8), (7, 8)])\n",
      "\n",
      "prev_user_id, user_id: (5, 6)\n",
      "paths_to_prev_user: [[1, 3, 4, 5], [2, 3, 4, 5]]\n",
      "new_paths_to_user: [[1, 3, 4, 5, 6], [2, 3, 4, 5, 6]]\n",
      "old_paths_to_user: [[1, 3, 4, 5, 6], [2, 3, 4, 5, 6]]\n",
      "min_path_length: 5\n",
      "new_paths_to_user: []\n",
      "shortest_paths_to: {0: [[]], 1: [[1]], 2: [[2]], 3: [[1, 3], [2, 3]], 4: [[1, 3, 4], [2, 3, 4]], 5: [[1, 3, 4, 5], [2, 3, 4, 5]], 6: [[1, 3, 4, 5, 6], [2, 3, 4, 5, 6]], 7: [[1, 3, 4, 5, 7], [2, 3, 4, 5, 7]]}\n",
      "frontier: deque([(5, 7), (6, 8), (7, 8), (6, 8), (7, 8), (6, 8)])\n",
      "\n",
      "prev_user_id, user_id: (5, 7)\n",
      "paths_to_prev_user: [[1, 3, 4, 5], [2, 3, 4, 5]]\n",
      "new_paths_to_user: [[1, 3, 4, 5, 7], [2, 3, 4, 5, 7]]\n",
      "old_paths_to_user: [[1, 3, 4, 5, 7], [2, 3, 4, 5, 7]]\n",
      "min_path_length: 5\n",
      "new_paths_to_user: []\n",
      "shortest_paths_to: {0: [[]], 1: [[1]], 2: [[2]], 3: [[1, 3], [2, 3]], 4: [[1, 3, 4], [2, 3, 4]], 5: [[1, 3, 4, 5], [2, 3, 4, 5]], 6: [[1, 3, 4, 5, 6], [2, 3, 4, 5, 6]], 7: [[1, 3, 4, 5, 7], [2, 3, 4, 5, 7]]}\n",
      "frontier: deque([(6, 8), (7, 8), (6, 8), (7, 8), (6, 8), (7, 8)])\n",
      "\n",
      "prev_user_id, user_id: (6, 8)\n",
      "paths_to_prev_user: [[1, 3, 4, 5, 6], [2, 3, 4, 5, 6]]\n",
      "new_paths_to_user: [[1, 3, 4, 5, 6, 8], [2, 3, 4, 5, 6, 8]]\n",
      "old_paths_to_user: []\n",
      "min_path_length: inf\n",
      "new_paths_to_user: [[1, 3, 4, 5, 6, 8], [2, 3, 4, 5, 6, 8]]\n",
      "shortest_paths_to: {0: [[]], 1: [[1]], 2: [[2]], 3: [[1, 3], [2, 3]], 4: [[1, 3, 4], [2, 3, 4]], 5: [[1, 3, 4, 5], [2, 3, 4, 5]], 6: [[1, 3, 4, 5, 6], [2, 3, 4, 5, 6]], 7: [[1, 3, 4, 5, 7], [2, 3, 4, 5, 7]], 8: [[1, 3, 4, 5, 6, 8], [2, 3, 4, 5, 6, 8]]}\n",
      "frontier: deque([(7, 8), (6, 8), (7, 8), (6, 8), (7, 8), (8, 9)])\n",
      "\n",
      "prev_user_id, user_id: (7, 8)\n",
      "paths_to_prev_user: [[1, 3, 4, 5, 7], [2, 3, 4, 5, 7]]\n",
      "new_paths_to_user: [[1, 3, 4, 5, 7, 8], [2, 3, 4, 5, 7, 8]]\n",
      "old_paths_to_user: [[1, 3, 4, 5, 6, 8], [2, 3, 4, 5, 6, 8]]\n",
      "min_path_length: 6\n",
      "new_paths_to_user: [[1, 3, 4, 5, 7, 8], [2, 3, 4, 5, 7, 8]]\n",
      "shortest_paths_to: {0: [[]], 1: [[1]], 2: [[2]], 3: [[1, 3], [2, 3]], 4: [[1, 3, 4], [2, 3, 4]], 5: [[1, 3, 4, 5], [2, 3, 4, 5]], 6: [[1, 3, 4, 5, 6], [2, 3, 4, 5, 6]], 7: [[1, 3, 4, 5, 7], [2, 3, 4, 5, 7]], 8: [[1, 3, 4, 5, 6, 8], [2, 3, 4, 5, 6, 8], [1, 3, 4, 5, 7, 8], [2, 3, 4, 5, 7, 8]]}\n",
      "frontier: deque([(6, 8), (7, 8), (6, 8), (7, 8), (8, 9), (8, 9)])\n",
      "\n",
      "prev_user_id, user_id: (6, 8)\n",
      "paths_to_prev_user: [[1, 3, 4, 5, 6], [2, 3, 4, 5, 6]]\n",
      "new_paths_to_user: [[1, 3, 4, 5, 6, 8], [2, 3, 4, 5, 6, 8]]\n",
      "old_paths_to_user: [[1, 3, 4, 5, 6, 8], [2, 3, 4, 5, 6, 8], [1, 3, 4, 5, 7, 8], [2, 3, 4, 5, 7, 8]]\n",
      "min_path_length: 6\n",
      "new_paths_to_user: []\n",
      "shortest_paths_to: {0: [[]], 1: [[1]], 2: [[2]], 3: [[1, 3], [2, 3]], 4: [[1, 3, 4], [2, 3, 4]], 5: [[1, 3, 4, 5], [2, 3, 4, 5]], 6: [[1, 3, 4, 5, 6], [2, 3, 4, 5, 6]], 7: [[1, 3, 4, 5, 7], [2, 3, 4, 5, 7]], 8: [[1, 3, 4, 5, 6, 8], [2, 3, 4, 5, 6, 8], [1, 3, 4, 5, 7, 8], [2, 3, 4, 5, 7, 8]]}\n",
      "frontier: deque([(7, 8), (6, 8), (7, 8), (8, 9), (8, 9), (8, 9)])\n",
      "\n",
      "prev_user_id, user_id: (7, 8)\n",
      "paths_to_prev_user: [[1, 3, 4, 5, 7], [2, 3, 4, 5, 7]]\n",
      "new_paths_to_user: [[1, 3, 4, 5, 7, 8], [2, 3, 4, 5, 7, 8]]\n",
      "old_paths_to_user: [[1, 3, 4, 5, 6, 8], [2, 3, 4, 5, 6, 8], [1, 3, 4, 5, 7, 8], [2, 3, 4, 5, 7, 8]]\n",
      "min_path_length: 6\n",
      "new_paths_to_user: []\n",
      "shortest_paths_to: {0: [[]], 1: [[1]], 2: [[2]], 3: [[1, 3], [2, 3]], 4: [[1, 3, 4], [2, 3, 4]], 5: [[1, 3, 4, 5], [2, 3, 4, 5]], 6: [[1, 3, 4, 5, 6], [2, 3, 4, 5, 6]], 7: [[1, 3, 4, 5, 7], [2, 3, 4, 5, 7]], 8: [[1, 3, 4, 5, 6, 8], [2, 3, 4, 5, 6, 8], [1, 3, 4, 5, 7, 8], [2, 3, 4, 5, 7, 8]]}\n",
      "frontier: deque([(6, 8), (7, 8), (8, 9), (8, 9), (8, 9), (8, 9)])\n",
      "\n",
      "prev_user_id, user_id: (6, 8)\n",
      "paths_to_prev_user: [[1, 3, 4, 5, 6], [2, 3, 4, 5, 6]]\n",
      "new_paths_to_user: [[1, 3, 4, 5, 6, 8], [2, 3, 4, 5, 6, 8]]\n",
      "old_paths_to_user: [[1, 3, 4, 5, 6, 8], [2, 3, 4, 5, 6, 8], [1, 3, 4, 5, 7, 8], [2, 3, 4, 5, 7, 8]]\n",
      "min_path_length: 6\n",
      "new_paths_to_user: []\n",
      "shortest_paths_to: {0: [[]], 1: [[1]], 2: [[2]], 3: [[1, 3], [2, 3]], 4: [[1, 3, 4], [2, 3, 4]], 5: [[1, 3, 4, 5], [2, 3, 4, 5]], 6: [[1, 3, 4, 5, 6], [2, 3, 4, 5, 6]], 7: [[1, 3, 4, 5, 7], [2, 3, 4, 5, 7]], 8: [[1, 3, 4, 5, 6, 8], [2, 3, 4, 5, 6, 8], [1, 3, 4, 5, 7, 8], [2, 3, 4, 5, 7, 8]]}\n",
      "frontier: deque([(7, 8), (8, 9), (8, 9), (8, 9), (8, 9), (8, 9)])\n",
      "\n",
      "prev_user_id, user_id: (7, 8)\n",
      "paths_to_prev_user: [[1, 3, 4, 5, 7], [2, 3, 4, 5, 7]]\n",
      "new_paths_to_user: [[1, 3, 4, 5, 7, 8], [2, 3, 4, 5, 7, 8]]\n",
      "old_paths_to_user: [[1, 3, 4, 5, 6, 8], [2, 3, 4, 5, 6, 8], [1, 3, 4, 5, 7, 8], [2, 3, 4, 5, 7, 8]]\n",
      "min_path_length: 6\n",
      "new_paths_to_user: []\n",
      "shortest_paths_to: {0: [[]], 1: [[1]], 2: [[2]], 3: [[1, 3], [2, 3]], 4: [[1, 3, 4], [2, 3, 4]], 5: [[1, 3, 4, 5], [2, 3, 4, 5]], 6: [[1, 3, 4, 5, 6], [2, 3, 4, 5, 6]], 7: [[1, 3, 4, 5, 7], [2, 3, 4, 5, 7]], 8: [[1, 3, 4, 5, 6, 8], [2, 3, 4, 5, 6, 8], [1, 3, 4, 5, 7, 8], [2, 3, 4, 5, 7, 8]]}\n",
      "frontier: deque([(8, 9), (8, 9), (8, 9), (8, 9), (8, 9), (8, 9)])\n",
      "\n",
      "prev_user_id, user_id: (8, 9)\n",
      "paths_to_prev_user: [[1, 3, 4, 5, 6, 8], [2, 3, 4, 5, 6, 8], [1, 3, 4, 5, 7, 8], [2, 3, 4, 5, 7, 8]]\n",
      "new_paths_to_user: [[1, 3, 4, 5, 6, 8, 9], [2, 3, 4, 5, 6, 8, 9], [1, 3, 4, 5, 7, 8, 9], [2, 3, 4, 5, 7, 8, 9]]\n",
      "old_paths_to_user: []\n",
      "min_path_length: inf\n",
      "new_paths_to_user: [[1, 3, 4, 5, 6, 8, 9], [2, 3, 4, 5, 6, 8, 9], [1, 3, 4, 5, 7, 8, 9], [2, 3, 4, 5, 7, 8, 9]]\n",
      "shortest_paths_to: {0: [[]], 1: [[1]], 2: [[2]], 3: [[1, 3], [2, 3]], 4: [[1, 3, 4], [2, 3, 4]], 5: [[1, 3, 4, 5], [2, 3, 4, 5]], 6: [[1, 3, 4, 5, 6], [2, 3, 4, 5, 6]], 7: [[1, 3, 4, 5, 7], [2, 3, 4, 5, 7]], 8: [[1, 3, 4, 5, 6, 8], [2, 3, 4, 5, 6, 8], [1, 3, 4, 5, 7, 8], [2, 3, 4, 5, 7, 8]], 9: [[1, 3, 4, 5, 6, 8, 9], [2, 3, 4, 5, 6, 8, 9], [1, 3, 4, 5, 7, 8, 9], [2, 3, 4, 5, 7, 8, 9]]}\n",
      "frontier: deque([(8, 9), (8, 9), (8, 9), (8, 9), (8, 9)])\n",
      "\n",
      "prev_user_id, user_id: (8, 9)\n",
      "paths_to_prev_user: [[1, 3, 4, 5, 6, 8], [2, 3, 4, 5, 6, 8], [1, 3, 4, 5, 7, 8], [2, 3, 4, 5, 7, 8]]\n",
      "new_paths_to_user: [[1, 3, 4, 5, 6, 8, 9], [2, 3, 4, 5, 6, 8, 9], [1, 3, 4, 5, 7, 8, 9], [2, 3, 4, 5, 7, 8, 9]]\n",
      "old_paths_to_user: [[1, 3, 4, 5, 6, 8, 9], [2, 3, 4, 5, 6, 8, 9], [1, 3, 4, 5, 7, 8, 9], [2, 3, 4, 5, 7, 8, 9]]\n",
      "min_path_length: 7\n",
      "new_paths_to_user: []\n",
      "shortest_paths_to: {0: [[]], 1: [[1]], 2: [[2]], 3: [[1, 3], [2, 3]], 4: [[1, 3, 4], [2, 3, 4]], 5: [[1, 3, 4, 5], [2, 3, 4, 5]], 6: [[1, 3, 4, 5, 6], [2, 3, 4, 5, 6]], 7: [[1, 3, 4, 5, 7], [2, 3, 4, 5, 7]], 8: [[1, 3, 4, 5, 6, 8], [2, 3, 4, 5, 6, 8], [1, 3, 4, 5, 7, 8], [2, 3, 4, 5, 7, 8]], 9: [[1, 3, 4, 5, 6, 8, 9], [2, 3, 4, 5, 6, 8, 9], [1, 3, 4, 5, 7, 8, 9], [2, 3, 4, 5, 7, 8, 9]]}\n",
      "frontier: deque([(8, 9), (8, 9), (8, 9), (8, 9)])\n",
      "\n",
      "prev_user_id, user_id: (8, 9)\n",
      "paths_to_prev_user: [[1, 3, 4, 5, 6, 8], [2, 3, 4, 5, 6, 8], [1, 3, 4, 5, 7, 8], [2, 3, 4, 5, 7, 8]]\n",
      "new_paths_to_user: [[1, 3, 4, 5, 6, 8, 9], [2, 3, 4, 5, 6, 8, 9], [1, 3, 4, 5, 7, 8, 9], [2, 3, 4, 5, 7, 8, 9]]\n",
      "old_paths_to_user: [[1, 3, 4, 5, 6, 8, 9], [2, 3, 4, 5, 6, 8, 9], [1, 3, 4, 5, 7, 8, 9], [2, 3, 4, 5, 7, 8, 9]]\n",
      "min_path_length: 7\n",
      "new_paths_to_user: []\n",
      "shortest_paths_to: {0: [[]], 1: [[1]], 2: [[2]], 3: [[1, 3], [2, 3]], 4: [[1, 3, 4], [2, 3, 4]], 5: [[1, 3, 4, 5], [2, 3, 4, 5]], 6: [[1, 3, 4, 5, 6], [2, 3, 4, 5, 6]], 7: [[1, 3, 4, 5, 7], [2, 3, 4, 5, 7]], 8: [[1, 3, 4, 5, 6, 8], [2, 3, 4, 5, 6, 8], [1, 3, 4, 5, 7, 8], [2, 3, 4, 5, 7, 8]], 9: [[1, 3, 4, 5, 6, 8, 9], [2, 3, 4, 5, 6, 8, 9], [1, 3, 4, 5, 7, 8, 9], [2, 3, 4, 5, 7, 8, 9]]}\n",
      "frontier: deque([(8, 9), (8, 9), (8, 9)])\n",
      "\n",
      "prev_user_id, user_id: (8, 9)\n",
      "paths_to_prev_user: [[1, 3, 4, 5, 6, 8], [2, 3, 4, 5, 6, 8], [1, 3, 4, 5, 7, 8], [2, 3, 4, 5, 7, 8]]\n",
      "new_paths_to_user: [[1, 3, 4, 5, 6, 8, 9], [2, 3, 4, 5, 6, 8, 9], [1, 3, 4, 5, 7, 8, 9], [2, 3, 4, 5, 7, 8, 9]]\n",
      "old_paths_to_user: [[1, 3, 4, 5, 6, 8, 9], [2, 3, 4, 5, 6, 8, 9], [1, 3, 4, 5, 7, 8, 9], [2, 3, 4, 5, 7, 8, 9]]\n",
      "min_path_length: 7\n",
      "new_paths_to_user: []\n",
      "shortest_paths_to: {0: [[]], 1: [[1]], 2: [[2]], 3: [[1, 3], [2, 3]], 4: [[1, 3, 4], [2, 3, 4]], 5: [[1, 3, 4, 5], [2, 3, 4, 5]], 6: [[1, 3, 4, 5, 6], [2, 3, 4, 5, 6]], 7: [[1, 3, 4, 5, 7], [2, 3, 4, 5, 7]], 8: [[1, 3, 4, 5, 6, 8], [2, 3, 4, 5, 6, 8], [1, 3, 4, 5, 7, 8], [2, 3, 4, 5, 7, 8]], 9: [[1, 3, 4, 5, 6, 8, 9], [2, 3, 4, 5, 6, 8, 9], [1, 3, 4, 5, 7, 8, 9], [2, 3, 4, 5, 7, 8, 9]]}\n",
      "frontier: deque([(8, 9), (8, 9)])\n",
      "\n",
      "prev_user_id, user_id: (8, 9)\n",
      "paths_to_prev_user: [[1, 3, 4, 5, 6, 8], [2, 3, 4, 5, 6, 8], [1, 3, 4, 5, 7, 8], [2, 3, 4, 5, 7, 8]]\n",
      "new_paths_to_user: [[1, 3, 4, 5, 6, 8, 9], [2, 3, 4, 5, 6, 8, 9], [1, 3, 4, 5, 7, 8, 9], [2, 3, 4, 5, 7, 8, 9]]\n",
      "old_paths_to_user: [[1, 3, 4, 5, 6, 8, 9], [2, 3, 4, 5, 6, 8, 9], [1, 3, 4, 5, 7, 8, 9], [2, 3, 4, 5, 7, 8, 9]]\n",
      "min_path_length: 7\n",
      "new_paths_to_user: []\n",
      "shortest_paths_to: {0: [[]], 1: [[1]], 2: [[2]], 3: [[1, 3], [2, 3]], 4: [[1, 3, 4], [2, 3, 4]], 5: [[1, 3, 4, 5], [2, 3, 4, 5]], 6: [[1, 3, 4, 5, 6], [2, 3, 4, 5, 6]], 7: [[1, 3, 4, 5, 7], [2, 3, 4, 5, 7]], 8: [[1, 3, 4, 5, 6, 8], [2, 3, 4, 5, 6, 8], [1, 3, 4, 5, 7, 8], [2, 3, 4, 5, 7, 8]], 9: [[1, 3, 4, 5, 6, 8, 9], [2, 3, 4, 5, 6, 8, 9], [1, 3, 4, 5, 7, 8, 9], [2, 3, 4, 5, 7, 8, 9]]}\n",
      "frontier: deque([(8, 9)])\n",
      "\n",
      "prev_user_id, user_id: (8, 9)\n",
      "paths_to_prev_user: [[1, 3, 4, 5, 6, 8], [2, 3, 4, 5, 6, 8], [1, 3, 4, 5, 7, 8], [2, 3, 4, 5, 7, 8]]\n",
      "new_paths_to_user: [[1, 3, 4, 5, 6, 8, 9], [2, 3, 4, 5, 6, 8, 9], [1, 3, 4, 5, 7, 8, 9], [2, 3, 4, 5, 7, 8, 9]]\n",
      "old_paths_to_user: [[1, 3, 4, 5, 6, 8, 9], [2, 3, 4, 5, 6, 8, 9], [1, 3, 4, 5, 7, 8, 9], [2, 3, 4, 5, 7, 8, 9]]\n",
      "min_path_length: 7\n",
      "new_paths_to_user: []\n",
      "shortest_paths_to: {0: [[]], 1: [[1]], 2: [[2]], 3: [[1, 3], [2, 3]], 4: [[1, 3, 4], [2, 3, 4]], 5: [[1, 3, 4, 5], [2, 3, 4, 5]], 6: [[1, 3, 4, 5, 6], [2, 3, 4, 5, 6]], 7: [[1, 3, 4, 5, 7], [2, 3, 4, 5, 7]], 8: [[1, 3, 4, 5, 6, 8], [2, 3, 4, 5, 6, 8], [1, 3, 4, 5, 7, 8], [2, 3, 4, 5, 7, 8]], 9: [[1, 3, 4, 5, 6, 8, 9], [2, 3, 4, 5, 6, 8, 9], [1, 3, 4, 5, 7, 8, 9], [2, 3, 4, 5, 7, 8, 9]]}\n",
      "frontier: deque([])\n",
      "\n"
     ]
    },
    {
     "data": {
      "text/plain": [
       "{0: [[]],\n",
       " 1: [[1]],\n",
       " 2: [[2]],\n",
       " 3: [[1, 3], [2, 3]],\n",
       " 4: [[1, 3, 4], [2, 3, 4]],\n",
       " 5: [[1, 3, 4, 5], [2, 3, 4, 5]],\n",
       " 6: [[1, 3, 4, 5, 6], [2, 3, 4, 5, 6]],\n",
       " 7: [[1, 3, 4, 5, 7], [2, 3, 4, 5, 7]],\n",
       " 8: [[1, 3, 4, 5, 6, 8],\n",
       "  [2, 3, 4, 5, 6, 8],\n",
       "  [1, 3, 4, 5, 7, 8],\n",
       "  [2, 3, 4, 5, 7, 8]],\n",
       " 9: [[1, 3, 4, 5, 6, 8, 9],\n",
       "  [2, 3, 4, 5, 6, 8, 9],\n",
       "  [1, 3, 4, 5, 7, 8, 9],\n",
       "  [2, 3, 4, 5, 7, 8, 9]]}"
      ]
     },
     "execution_count": 10,
     "metadata": {},
     "output_type": "execute_result"
    }
   ],
   "source": [
    "shortest_paths_from(0, friendships, verbose=True)"
   ]
  },
  {
   "attachments": {},
   "cell_type": "markdown",
   "metadata": {},
   "source": [
    "Now let's compute all the shortest paths:"
   ]
  },
  {
   "cell_type": "code",
   "execution_count": 11,
   "metadata": {},
   "outputs": [
    {
     "data": {
      "text/plain": [
       "{0: {0: [[]],\n",
       "  1: [[1]],\n",
       "  2: [[2]],\n",
       "  3: [[1, 3], [2, 3]],\n",
       "  4: [[1, 3, 4], [2, 3, 4]],\n",
       "  5: [[1, 3, 4, 5], [2, 3, 4, 5]],\n",
       "  6: [[1, 3, 4, 5, 6], [2, 3, 4, 5, 6]],\n",
       "  7: [[1, 3, 4, 5, 7], [2, 3, 4, 5, 7]],\n",
       "  8: [[1, 3, 4, 5, 6, 8],\n",
       "   [2, 3, 4, 5, 6, 8],\n",
       "   [1, 3, 4, 5, 7, 8],\n",
       "   [2, 3, 4, 5, 7, 8]],\n",
       "  9: [[1, 3, 4, 5, 6, 8, 9],\n",
       "   [2, 3, 4, 5, 6, 8, 9],\n",
       "   [1, 3, 4, 5, 7, 8, 9],\n",
       "   [2, 3, 4, 5, 7, 8, 9]]},\n",
       " 1: {1: [[]],\n",
       "  0: [[0]],\n",
       "  2: [[2]],\n",
       "  3: [[3]],\n",
       "  4: [[3, 4]],\n",
       "  5: [[3, 4, 5]],\n",
       "  6: [[3, 4, 5, 6]],\n",
       "  7: [[3, 4, 5, 7]],\n",
       "  8: [[3, 4, 5, 6, 8], [3, 4, 5, 7, 8]],\n",
       "  9: [[3, 4, 5, 6, 8, 9], [3, 4, 5, 7, 8, 9]]},\n",
       " 2: {2: [[]],\n",
       "  0: [[0]],\n",
       "  1: [[1]],\n",
       "  3: [[3]],\n",
       "  4: [[3, 4]],\n",
       "  5: [[3, 4, 5]],\n",
       "  6: [[3, 4, 5, 6]],\n",
       "  7: [[3, 4, 5, 7]],\n",
       "  8: [[3, 4, 5, 6, 8], [3, 4, 5, 7, 8]],\n",
       "  9: [[3, 4, 5, 6, 8, 9], [3, 4, 5, 7, 8, 9]]},\n",
       " 3: {3: [[]],\n",
       "  1: [[1]],\n",
       "  2: [[2]],\n",
       "  4: [[4]],\n",
       "  0: [[1, 0], [2, 0]],\n",
       "  5: [[4, 5]],\n",
       "  6: [[4, 5, 6]],\n",
       "  7: [[4, 5, 7]],\n",
       "  8: [[4, 5, 6, 8], [4, 5, 7, 8]],\n",
       "  9: [[4, 5, 6, 8, 9], [4, 5, 7, 8, 9]]},\n",
       " 4: {4: [[]],\n",
       "  3: [[3]],\n",
       "  5: [[5]],\n",
       "  1: [[3, 1]],\n",
       "  2: [[3, 2]],\n",
       "  6: [[5, 6]],\n",
       "  7: [[5, 7]],\n",
       "  0: [[3, 1, 0], [3, 2, 0]],\n",
       "  8: [[5, 6, 8], [5, 7, 8]],\n",
       "  9: [[5, 6, 8, 9], [5, 7, 8, 9]]},\n",
       " 5: {5: [[]],\n",
       "  4: [[4]],\n",
       "  6: [[6]],\n",
       "  7: [[7]],\n",
       "  3: [[4, 3]],\n",
       "  8: [[6, 8], [7, 8]],\n",
       "  1: [[4, 3, 1]],\n",
       "  2: [[4, 3, 2]],\n",
       "  9: [[6, 8, 9], [7, 8, 9]],\n",
       "  0: [[4, 3, 1, 0], [4, 3, 2, 0]]},\n",
       " 6: {6: [[]],\n",
       "  5: [[5]],\n",
       "  8: [[8]],\n",
       "  4: [[5, 4]],\n",
       "  7: [[5, 7], [8, 7]],\n",
       "  9: [[8, 9]],\n",
       "  3: [[5, 4, 3]],\n",
       "  1: [[5, 4, 3, 1]],\n",
       "  2: [[5, 4, 3, 2]],\n",
       "  0: [[5, 4, 3, 1, 0], [5, 4, 3, 2, 0]]},\n",
       " 7: {7: [[]],\n",
       "  5: [[5]],\n",
       "  8: [[8]],\n",
       "  4: [[5, 4]],\n",
       "  6: [[5, 6], [8, 6]],\n",
       "  9: [[8, 9]],\n",
       "  3: [[5, 4, 3]],\n",
       "  1: [[5, 4, 3, 1]],\n",
       "  2: [[5, 4, 3, 2]],\n",
       "  0: [[5, 4, 3, 1, 0], [5, 4, 3, 2, 0]]},\n",
       " 8: {8: [[]],\n",
       "  6: [[6]],\n",
       "  7: [[7]],\n",
       "  9: [[9]],\n",
       "  5: [[6, 5], [7, 5]],\n",
       "  4: [[6, 5, 4], [7, 5, 4]],\n",
       "  3: [[6, 5, 4, 3], [7, 5, 4, 3]],\n",
       "  1: [[6, 5, 4, 3, 1], [7, 5, 4, 3, 1]],\n",
       "  2: [[6, 5, 4, 3, 2], [7, 5, 4, 3, 2]],\n",
       "  0: [[6, 5, 4, 3, 1, 0],\n",
       "   [7, 5, 4, 3, 1, 0],\n",
       "   [6, 5, 4, 3, 2, 0],\n",
       "   [7, 5, 4, 3, 2, 0]]},\n",
       " 9: {9: [[]],\n",
       "  8: [[8]],\n",
       "  6: [[8, 6]],\n",
       "  7: [[8, 7]],\n",
       "  5: [[8, 6, 5], [8, 7, 5]],\n",
       "  4: [[8, 6, 5, 4], [8, 7, 5, 4]],\n",
       "  3: [[8, 6, 5, 4, 3], [8, 7, 5, 4, 3]],\n",
       "  1: [[8, 6, 5, 4, 3, 1], [8, 7, 5, 4, 3, 1]],\n",
       "  2: [[8, 6, 5, 4, 3, 2], [8, 7, 5, 4, 3, 2]],\n",
       "  0: [[8, 6, 5, 4, 3, 1, 0],\n",
       "   [8, 7, 5, 4, 3, 1, 0],\n",
       "   [8, 6, 5, 4, 3, 2, 0],\n",
       "   [8, 7, 5, 4, 3, 2, 0]]}}"
      ]
     },
     "execution_count": 11,
     "metadata": {},
     "output_type": "execute_result"
    }
   ],
   "source": [
    "# For each from_user, for each to_user, a list of shortest paths.\n",
    "shortest_paths = {user.id_: shortest_paths_from(user.id_, friendships)\n",
    "                  for user in users}\n",
    "\n",
    "shortest_paths"
   ]
  },
  {
   "attachments": {},
   "cell_type": "markdown",
   "metadata": {},
   "source": [
    "Now we finally ready to compute betweenness centrality"
   ]
  },
  {
   "cell_type": "code",
   "execution_count": 12,
   "metadata": {},
   "outputs": [
    {
     "data": {
      "text/plain": [
       "{0: 0.0,\n",
       " 1: 3.5,\n",
       " 2: 3.5,\n",
       " 3: 18.0,\n",
       " 4: 20.0,\n",
       " 5: 20.5,\n",
       " 6: 6.0,\n",
       " 7: 6.0,\n",
       " 8: 8.5,\n",
       " 9: 0.0}"
      ]
     },
     "execution_count": 12,
     "metadata": {},
     "output_type": "execute_result"
    }
   ],
   "source": [
    "betweenness_centrality = {user.id_: 0.0 for user in users}\n",
    "\n",
    "for source in users:\n",
    "  for target_id, paths in shortest_paths[source.id_].items():\n",
    "    if source.id_ < target_id:       # don't double count\n",
    "      num_paths = len(paths)          # how many shortest paths?\n",
    "      contrib = 1 / num_paths         # contribution to centrality\n",
    "      for path in paths:\n",
    "        for between_id in path:\n",
    "          if between_id not in [source.id_, target_id]:\n",
    "            betweenness_centrality[between_id] += contrib\n",
    "\n",
    "betweenness_centrality"
   ]
  },
  {
   "attachments": {},
   "cell_type": "markdown",
   "metadata": {},
   "source": [
    "### Draw the network with betweenness centrality"
   ]
  },
  {
   "cell_type": "code",
   "execution_count": 13,
   "metadata": {},
   "outputs": [
    {
     "name": "stdout",
     "output_type": "stream",
     "text": [
      "The DataSciencester network sized by betweenness centrality\n"
     ]
    },
    {
     "data": {
      "image/png": "[encoded data removed]",
      "text/plain": [
       "<Figure size 1000x1000 with 1 Axes>"
      ]
     },
     "metadata": {},
     "output_type": "display_data"
    }
   ],
   "source": [
    "fig, ax = plt.subplots(figsize=(10, 10))\n",
    "\n",
    "node_pos = {\n",
    "  0: (0, 2), 1: (1, 1), 2: (1, 3), 3: (2, 2), 4: (3, 2),\n",
    "  5: (4, 2), 6: (5, 3), 7:(5, 1), 8: (6, 2), 9: (7, 2)}\n",
    "nx.draw(G, pos=node_pos, nodelist=G.nodes, \n",
    "  node_size=[200*size for size in betweenness_centrality.values()],\n",
    "  with_labels=True, font_weight=\"bold\", \n",
    "  node_color=\"#cfe2f3\", edgecolors=\"k\", ax=ax)\n",
    "\n",
    "ax.set_aspect(\"equal\")\n",
    "ax.set_ylim([0.5, 3.5])\n",
    "print(\"The DataSciencester network sized by betweenness centrality\")\n",
    "plt.show(fig)"
   ]
  },
  {
   "attachments": {},
   "cell_type": "markdown",
   "metadata": {},
   "source": [
    "### Closeness centrality\n",
    "\n",
    "Closeness is 1/farness. The farness is the sum of the lengths\n",
    "of its node shortest from all the other nodes."
   ]
  },
  {
   "cell_type": "code",
   "execution_count": 14,
   "metadata": {},
   "outputs": [],
   "source": [
    "def farness(user_id: int) -> float:\n",
    "  \"\"\"the sum of the lengths of the shortest paths to each other user\"\"\" \n",
    "  return sum(len(paths[0]) for paths in shortest_paths[user_id].values())"
   ]
  },
  {
   "cell_type": "code",
   "execution_count": 15,
   "metadata": {},
   "outputs": [
    {
     "data": {
      "text/plain": [
       "{0: 0.029411764705882353,\n",
       " 1: 0.037037037037037035,\n",
       " 2: 0.037037037037037035,\n",
       " 3: 0.045454545454545456,\n",
       " 4: 0.05,\n",
       " 5: 0.05,\n",
       " 6: 0.041666666666666664,\n",
       " 7: 0.041666666666666664,\n",
       " 8: 0.03571428571428571,\n",
       " 9: 0.027777777777777776}"
      ]
     },
     "execution_count": 15,
     "metadata": {},
     "output_type": "execute_result"
    }
   ],
   "source": [
    "closeness_centrality = {user.id_: 1 / farness(user.id_) for user in users}\n",
    "closeness_centrality"
   ]
  },
  {
   "attachments": {},
   "cell_type": "markdown",
   "metadata": {},
   "source": [
    "### Draw the network with closeness centrality"
   ]
  },
  {
   "cell_type": "code",
   "execution_count": 16,
   "metadata": {},
   "outputs": [
    {
     "name": "stdout",
     "output_type": "stream",
     "text": [
      "The DataSciencester network sized by closeness centrality\n"
     ]
    },
    {
     "data": {
      "image/png": "[encoded data removed]",
      "text/plain": [
       "<Figure size 1000x1000 with 1 Axes>"
      ]
     },
     "metadata": {},
     "output_type": "display_data"
    }
   ],
   "source": [
    "fig, ax = plt.subplots(figsize=(10, 10))\n",
    "\n",
    "node_pos = {\n",
    "  0: (0, 2), 1: (1, 1), 2: (1, 3), 3: (2, 2), 4: (3, 2),\n",
    "  5: (4, 2), 6: (5, 3), 7:(5, 1), 8: (6, 2), 9: (7, 2)}\n",
    "nx.draw(G, pos=node_pos, nodelist=G.nodes, \n",
    "  node_size=[np.exp(160*size) for size in closeness_centrality.values()],\n",
    "  with_labels=True, font_weight=\"bold\", \n",
    "  node_color=\"#cfe2f3\", edgecolors=\"k\", ax=ax)\n",
    "\n",
    "ax.set_aspect(\"equal\")\n",
    "ax.set_ylim([0.5, 3.5])\n",
    "print(\"The DataSciencester network sized by closeness centrality\")\n",
    "plt.show(fig)"
   ]
  },
  {
   "attachments": {},
   "cell_type": "markdown",
   "metadata": {},
   "source": [
    "Computing of shortest_paths is not practical for large networks.\n",
    "That is why we need another quantity *eigenvector centrality* which is less \n",
    "intuitive"
   ]
  },
  {
   "attachments": {},
   "cell_type": "markdown",
   "metadata": {},
   "source": [
    "## Eigenvector Centrality"
   ]
  },
  {
   "attachments": {},
   "cell_type": "markdown",
   "metadata": {},
   "source": [
    "### Matrix Multiplication"
   ]
  },
  {
   "cell_type": "code",
   "execution_count": 17,
   "metadata": {},
   "outputs": [],
   "source": [
    "def entry_fn(m1=None, m2=None, nc1=None) -> float:\n",
    "  \"\"\"dot product of i-th row of m1 with j-th column of m2\"\"\" \n",
    "  return lambda i, j: sum(m1[i][k] * m2[k][j] for k in range(nc1))\n",
    "\n",
    "\n",
    "def matrix_times_matrix(m1: Matrix, m2: Matrix) -> Matrix:\n",
    "  nr1, nc1 = la.shape(m1)\n",
    "  nr2, nc2 = la.shape(m2)\n",
    "\n",
    "  assert nc1 == nc2, \"must have (# of columns in m1) == (# of rows in m2)\"\n",
    "\n",
    "  return la.make_matrix(nr1, nc2, entry_fn(m1, m2, nc1))\n",
    "\n",
    "\n",
    "def matrix_times_vector(m: Matrix, v: Vector) -> Vector:\n",
    "  nr, nc = la.shape(m)\n",
    "  n = len(v)\n",
    "  assert nc == n, \"must have (# of cols in m) == (# of elements in v)\"\n",
    "\n",
    "  return [la.dot(row, v) for row in m]    # output has length nr"
   ]
  },
  {
   "attachments": {},
   "cell_type": "markdown",
   "metadata": {},
   "source": [
    "Compute eigenvector by guessing and iterate to get a convergence\n",
    "eigenvector"
   ]
  },
  {
   "cell_type": "code",
   "execution_count": 18,
   "metadata": {},
   "outputs": [],
   "source": [
    "def find_eigenvector(m: Matrix, tolerance: float = 1e-5, rng=None) \\\n",
    "  -> Tuple[Vector, float]:\n",
    "\n",
    "  assert rng is not None, \"You must proved rng with np.random.default_rng()\"\n",
    "\n",
    "  guess = rng.random(len(m[0]))\n",
    "\n",
    "  while True:\n",
    "    result = matrix_times_vector(m, guess)      # transform guess\n",
    "    norm = la.magnitude(result)                 # compute norm\n",
    "    next_guess = [x / norm for x in result]     # rescale\n",
    "\n",
    "    if la.distance(guess, next_guess) < tolerance:\n",
    "      # convergence so return (eigenvector, eigenvalue)\n",
    "      return next_guess, norm\n",
    "\n",
    "    guess = next_guess"
   ]
  },
  {
   "attachments": {},
   "cell_type": "markdown",
   "metadata": {},
   "source": [
    "The algorithm above does not work for rotation matrix and reflection matrix.\n",
    "It will iterate (for rotation matrix) or swapping the element of vector\n",
    "(for reflection matrix) forever"
   ]
  },
  {
   "attachments": {},
   "cell_type": "markdown",
   "metadata": {},
   "source": [
    "### Centrality"
   ]
  },
  {
   "cell_type": "code",
   "execution_count": 19,
   "metadata": {},
   "outputs": [
    {
     "data": {
      "text/plain": [
       "[[0, 1, 1, 0, 0, 0, 0, 0, 0, 0],\n",
       " [1, 0, 1, 1, 0, 0, 0, 0, 0, 0],\n",
       " [1, 1, 0, 1, 0, 0, 0, 0, 0, 0],\n",
       " [0, 1, 1, 0, 1, 0, 0, 0, 0, 0],\n",
       " [0, 0, 0, 1, 0, 1, 0, 0, 0, 0],\n",
       " [0, 0, 0, 0, 1, 0, 1, 1, 0, 0],\n",
       " [0, 0, 0, 0, 0, 1, 0, 0, 1, 0],\n",
       " [0, 0, 0, 0, 0, 1, 0, 0, 1, 0],\n",
       " [0, 0, 0, 0, 0, 0, 1, 1, 0, 1],\n",
       " [0, 0, 0, 0, 0, 0, 0, 0, 1, 0]]"
      ]
     },
     "execution_count": 19,
     "metadata": {},
     "output_type": "execute_result"
    }
   ],
   "source": [
    "def entry_fn_friend_pairs(i: int, j: int):\n",
    "  return 1 if (i, j) in friend_pairs or (j, i) in friend_pairs else 0\n",
    "\n",
    "n = len(users)\n",
    "adjacency_matrix = la.make_matrix(n, n, entry_fn_friend_pairs)\n",
    "adjacency_matrix"
   ]
  },
  {
   "cell_type": "code",
   "execution_count": 20,
   "metadata": {},
   "outputs": [
    {
     "data": {
      "text/plain": [
       "[0.3857810095869771,\n",
       " 0.5147898766765331,\n",
       " 0.5147898766765331,\n",
       " 0.4733140369586612,\n",
       " 0.2336073439262894,\n",
       " 0.15014868750679594,\n",
       " 0.08355126164013295,\n",
       " 0.08355126164013295,\n",
       " 0.07284277862328659,\n",
       " 0.02729256795322402]"
      ]
     },
     "execution_count": 20,
     "metadata": {},
     "output_type": "execute_result"
    }
   ],
   "source": [
    "seed = None\n",
    "rng = np.random.default_rng(seed)\n",
    "eigenvector_centralities, _ = find_eigenvector(adjacency_matrix, rng=rng)\n",
    "eigenvector_centralities"
   ]
  },
  {
   "attachments": {},
   "cell_type": "markdown",
   "metadata": {},
   "source": [
    "Users with high eigenvector centrality should be those who have a lot of\n",
    "connections, and connections to people who themselves have high centrality"
   ]
  },
  {
   "attachments": {},
   "cell_type": "markdown",
   "metadata": {},
   "source": [
    "### Draw the network with eigenvector centrality"
   ]
  },
  {
   "cell_type": "code",
   "execution_count": 36,
   "metadata": {},
   "outputs": [
    {
     "name": "stdout",
     "output_type": "stream",
     "text": [
      "The DataSciencester network sized by eigenvector centrality\n"
     ]
    },
    {
     "data": {
      "image/png": "[encoded data removed]",
      "text/plain": [
       "<Figure size 1000x1000 with 1 Axes>"
      ]
     },
     "metadata": {},
     "output_type": "display_data"
    }
   ],
   "source": [
    "fig, ax = plt.subplots(figsize=(10, 10))\n",
    "\n",
    "node_pos = {\n",
    "  0: (0, 2), 1: (1, 1), 2: (1, 3), 3: (2, 2), 4: (3, 2),\n",
    "  5: (4, 2), 6: (5, 3), 7:(5, 1), 8: (6, 2), 9: (7, 2)}\n",
    "nx.draw(G, pos=node_pos, nodelist=G.nodes, \n",
    "  node_size=[9000*size for size in eigenvector_centralities],\n",
    "  with_labels=True, font_weight=\"bold\", \n",
    "  node_color=\"#cfe2f3\", edgecolors=\"k\", ax=ax)\n",
    "\n",
    "ax.set_aspect(\"equal\")\n",
    "ax.set_ylim([0.2, 3.7])\n",
    "print(\"The DataSciencester network sized by eigenvector centrality\")\n",
    "plt.show(fig)"
   ]
  },
  {
   "attachments": {},
   "cell_type": "markdown",
   "metadata": {},
   "source": [
    "In small network, eigenvector centrality behaves erratically.\n",
    "Adding and subtracting a node will have a great impact to the value\n",
    "of eigenvector. But in much larger network, this would not \n",
    "particularly be the case.\n",
    "\n",
    "You can understand this by seeing what is the multiplication adjacency\n",
    "matrix and its eigenvector"
   ]
  },
  {
   "attachments": {},
   "cell_type": "markdown",
   "metadata": {},
   "source": [
    "## Directed Graphs and PageRank\n",
    "\n",
    "We also have another data that show the endorsemnet target between users"
   ]
  },
  {
   "cell_type": "code",
   "execution_count": 37,
   "metadata": {},
   "outputs": [],
   "source": [
    "endorsements = [\n",
    "  (0, 1), (1, 0), (0, 2), (2, 0), (1, 2),\n",
    "  (2, 1), (1, 3), (2, 3), (3, 4), (5, 4),\n",
    "  (5, 6), (7, 5), (6, 8), (8, 7), (8, 9)]\n"
   ]
  },
  {
   "cell_type": "code",
   "execution_count": 41,
   "metadata": {},
   "outputs": [
    {
     "name": "stdout",
     "output_type": "stream",
     "text": [
      "The DataSciencester network of endorsements\n"
     ]
    },
    {
     "data": {
      "image/png": "[encoded data removed]",
      "text/plain": [
       "<Figure size 1000x1000 with 1 Axes>"
      ]
     },
     "metadata": {},
     "output_type": "display_data"
    }
   ],
   "source": [
    "GDir = nx.DiGraph()\n",
    "[GDir.add_node(user.id_) for user in users]\n",
    "GDir.add_edges_from(endorsements)\n",
    "\n",
    "fig, ax = plt.subplots(figsize=(10, 10))\n",
    "\n",
    "node_pos = {\n",
    "  0: (0, 2), 1: (1, 1), 2: (1, 3), 3: (2, 2), 4: (3, 2),\n",
    "  5: (4, 2), 6: (5, 3), 7:(5, 1), 8: (6, 2), 9: (7, 2)}\n",
    "\n",
    "nx.draw(GDir, pos=node_pos, with_labels=True, font_weight=\"bold\", \n",
    "  node_color=\"#cfe2f3\", node_size=2000, arrowsize=20,\n",
    "  edgecolors=\"k\", ax=ax, font_size=16)\n",
    "\n",
    "# nx.draw(G, with_labels=True, font_weight=\"bold\", \n",
    "#   node_color=\"#cfe2f3\", node_size=700, \n",
    "#   edgecolors=\"k\", ax=ax)\n",
    "\n",
    "ax.set_aspect(\"equal\")\n",
    "ax.set_ylim([0.6, 3.5])\n",
    "# ax.set_title(\"The DataSciencester network\")\n",
    "\n",
    "print(\"The DataSciencester network of endorsements\")\n",
    "plt.show(fig)"
   ]
  },
  {
   "cell_type": "code",
   "execution_count": 43,
   "metadata": {},
   "outputs": [
    {
     "data": {
      "text/plain": [
       "Counter({1: 2, 0: 2, 2: 2, 3: 2, 4: 2, 6: 1, 5: 1, 8: 1, 7: 1, 9: 1})"
      ]
     },
     "execution_count": 43,
     "metadata": {},
     "output_type": "execute_result"
    }
   ],
   "source": [
    "# Find the `most_endorsed` data scientists\n",
    "endorsement_counts = Counter(target for source, target in endorsements)\n",
    "endorsement_counts"
   ]
  },
  {
   "attachments": {},
   "cell_type": "markdown",
   "metadata": {},
   "source": [
    "This kind of metric (*endorsement*) can be hijacked by people who\n",
    "ploy to endorse each others.\n",
    "\n",
    "A better metric would tak into account *who* endorses a specific user.  \n",
    "Endorsements from people who have a lot of endorsements should somehow count\n",
    "more than endorsements from people with few endorsements.\n",
    "This essence of the PageRank algorith. \n",
    "Remember this kind of situation is similar to the eigenvector centrality \n",
    "\n",
    "A simplified version of PageRank algorithm\n",
    "1. There is a total of 1.0 (or 100%) PageRank in the network.\n",
    "2. Initially this PageRank is equally distributed among nodes.\n",
    "3. At each step, a large fraction of each node's PageRank is distributed\n",
    "   evenly among its outgoing links.\n",
    "4. At each step, the remainder of each node's PageRank is distrbuted evenly\n",
    "   among all nodes."
   ]
  },
  {
   "cell_type": "code",
   "execution_count": 51,
   "metadata": {},
   "outputs": [],
   "source": [
    "def page_rank(users: List[User], endorsements: List[Tuple[int, int]], \n",
    "              damping: float = 0.85, num_iters: int = 100) -> Dict[int, float]:\n",
    "  # Compute how many people each person endorses\n",
    "  outgoing_counts = Counter(target for source, target in endorsements)\n",
    "\n",
    "  # Initially distribute PageRank evenly\n",
    "  num_users = len(users)\n",
    "  pr = {user.id_ : 1 / num_users for user in users}\n",
    "\n",
    "  # Small fraction of PageRank that each node gets each iteration\n",
    "  base_pr = (1 - damping) / num_users\n",
    "\n",
    "  for iter_ in tqdm.trange(num_iters):\n",
    "    next_pr = {user.id_: base_pr for user in users}     # start with base_pr\n",
    "\n",
    "    for source, target in endorsements:\n",
    "      # Add damped fraction of source pr to target\n",
    "      next_pr[target] += damping * pr[source] / outgoing_counts[source]\n",
    "\n",
    "\n",
    "    pr = next_pr\n",
    "\n",
    "  return pr"
   ]
  },
  {
   "cell_type": "code",
   "execution_count": 55,
   "metadata": {},
   "outputs": [
    {
     "name": "stderr",
     "output_type": "stream",
     "text": [
      "100%|██████████| 100/100 [00:00<00:00, 98945.60it/s]\n"
     ]
    }
   ],
   "source": [
    "pr = page_rank(users, endorsements)"
   ]
  },
  {
   "cell_type": "code",
   "execution_count": 56,
   "metadata": {},
   "outputs": [
    {
     "name": "stdout",
     "output_type": "stream",
     "text": [
      "0.14250000000000002\n",
      "0.1\n"
     ]
    }
   ],
   "source": [
    "# Thor (user_id 4) has higher page rank than anyone else\n",
    "print(pr[4])\n",
    "print(max(pr_i for user_id, pr_i in pr.items() if user_id != 4))\n"
   ]
  },
  {
   "cell_type": "code",
   "execution_count": null,
   "metadata": {},
   "outputs": [],
   "source": []
  }
 ],
 "metadata": {
  "kernelspec": {
   "display_name": "base",
   "language": "python",
   "name": "python3"
  },
  "language_info": {
   "codemirror_mode": {
    "name": "ipython",
    "version": 3
   },
   "file_extension": ".py",
   "mimetype": "text/x-python",
   "name": "python",
   "nbconvert_exporter": "python",
   "pygments_lexer": "ipython3",
   "version": "3.8.10"
  },
  "orig_nbformat": 4
 },
 "nbformat": 4,
 "nbformat_minor": 2
}
