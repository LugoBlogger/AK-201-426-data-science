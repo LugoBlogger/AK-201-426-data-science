{
 "cells": [
  {
   "cell_type": "markdown",
   "metadata": {},
   "source": [
    "Logs   \n",
    "- [2023/03/08]   \n",
    "  Restart this notebook if you change the scratch library"
   ]
  },
  {
   "cell_type": "code",
   "execution_count": 42,
   "metadata": {},
   "outputs": [],
   "source": [
    "import networkx as nx\n",
    "import matplotlib.pyplot as plt\n",
    "\n",
    "from typing import NamedTuple, Dict, List\n",
    "from collections import deque\n",
    "from IPython.display import display\n",
    "\n",
    "Path = List[int]\n"
   ]
  },
  {
   "cell_type": "code",
   "execution_count": 3,
   "metadata": {},
   "outputs": [],
   "source": [
    "plt.rcParams.update(plt.rcParamsDefault)\n",
    "plt.rcParams.update({\n",
    "  'font.size': 16,\n",
    "  'grid.alpha': 0.25})"
   ]
  },
  {
   "attachments": {},
   "cell_type": "markdown",
   "metadata": {},
   "source": [
    "Several important terms in networks:\n",
    "\n",
    "- nodes\n",
    "- edges\n",
    "- undirected\n",
    "- directed"
   ]
  },
  {
   "attachments": {},
   "cell_type": "markdown",
   "metadata": {},
   "source": [
    "## Betweenness Centrality\n",
    "\n",
    "The reason why we need to use *betweeness centrality* is to capture who\n",
    "is the key connector for given two peoples. The notion of *degree centrality*\n",
    "cannot capture this feature."
   ]
  },
  {
   "cell_type": "code",
   "execution_count": 9,
   "metadata": {},
   "outputs": [],
   "source": [
    "class User(NamedTuple):\n",
    "  id_: int\n",
    "  name: str\n",
    "\n",
    "users = [User(0, \"Hero\"), User(1, \"Dunn\"), User(2, \"Sue\"), User(3, \"Chi\"),\n",
    "         User(4, \"Thor\"), User(5, \"Clive\"), User(6, \"Hicks\"),\n",
    "         User(7, \"Devin\"), User(8, \"Kate\"), User(9, \"Klein\")]\n",
    "\n",
    "friend_pairs = [(0, 1), (0, 2), (1, 2), (1, 3), (2, 3), (3, 4),\n",
    "                (4, 5), (5, 6), (5, 7), (6, 8), (7, 8), (8, 9)]"
   ]
  },
  {
   "cell_type": "markdown",
   "metadata": {},
   "source": [
    "### The DataSciencester network"
   ]
  },
  {
   "cell_type": "code",
   "execution_count": 24,
   "metadata": {},
   "outputs": [
    {
     "name": "stdout",
     "output_type": "stream",
     "text": [
      "The DataSciencester network\n"
     ]
    },
    {
     "data": {
      "image/png": "[encoded data removed]",
      "text/plain": [
       "<Figure size 1000x1000 with 1 Axes>"
      ]
     },
     "metadata": {},
     "output_type": "display_data"
    }
   ],
   "source": [
    "G = nx.Graph()\n",
    "[G.add_node(user.id_) for user in users]\n",
    "G.add_edges_from(friend_pairs)\n",
    "\n",
    "fig, ax = plt.subplots(figsize=(10, 10))\n",
    "\n",
    "node_pos = {\n",
    "  0: (0, 2), 1: (1, 1), 2: (1, 3), 3: (2, 2), 4: (3, 2),\n",
    "  5: (4, 2), 6: (5, 3), 7:(5, 1), 8: (6, 2), 9: (7, 2)}\n",
    "\n",
    "nx.draw(G, pos=node_pos, with_labels=True, font_weight=\"bold\", \n",
    "  node_color=\"#cfe2f3\", node_size=2000, \n",
    "  edgecolors=\"k\", ax=ax, font_size=16)\n",
    "\n",
    "# nx.draw(G, with_labels=True, font_weight=\"bold\", \n",
    "#   node_color=\"#cfe2f3\", node_size=700, \n",
    "#   edgecolors=\"k\", ax=ax)\n",
    "\n",
    "ax.set_aspect(\"equal\")\n",
    "ax.set_ylim([0.6, 3.5])\n",
    "# ax.set_title(\"The DataSciencester network\")\n",
    "\n",
    "print(\"The DataSciencester network\")\n",
    "plt.show(fig)"
   ]
  },
  {
   "attachments": {},
   "cell_type": "markdown",
   "metadata": {},
   "source": [
    "The friendship data will be easier to handle as a `dict`"
   ]
  },
  {
   "cell_type": "code",
   "execution_count": 27,
   "metadata": {},
   "outputs": [
    {
     "name": "stdout",
     "output_type": "stream",
     "text": [
      "[3, 5]\n",
      "[6, 7, 9]\n"
     ]
    }
   ],
   "source": [
    "# type alias for keeping track of Friendships\n",
    "Friendships = Dict[int, List[int]]\n",
    "\n",
    "friendships: Friendships = {user.id_: [] for user in users}\n",
    "\n",
    "for i, j in friend_pairs:\n",
    "  friendships[i].append(j)\n",
    "  friendships[j].append(i)\n",
    "\n",
    "print(friendships[4])\n",
    "print(friendships[8])"
   ]
  },
  {
   "attachments": {},
   "cell_type": "markdown",
   "metadata": {},
   "source": [
    "To calculate *betweenness centrality* of node $i$, we add\n",
    "up, for every other pair of nodes $j$ and $k$, the proportion\n",
    "of shortest paths between node $j$ and node $k$ that pass through $i$.\n",
    "\n",
    "Now we have to build a function that can calculate the shortest\n",
    "paths between all pairs of peple. This algorithm is bread-firsth search.\n",
    "See the textbook for the complete description"
   ]
  },
  {
   "cell_type": "code",
   "execution_count": 45,
   "metadata": {},
   "outputs": [
    {
     "name": "stdout",
     "output_type": "stream",
     "text": [
      "deque([(0, 1), (0, 2)])\n",
      "deque([(1, 0), (1, 2), (1, 3)])\n",
      "deque([(2, 0), (2, 1), (2, 3)])\n",
      "deque([(3, 1), (3, 2), (3, 4)])\n",
      "deque([(4, 3), (4, 5)])\n",
      "deque([(5, 4), (5, 6), (5, 7)])\n",
      "deque([(6, 5), (6, 8)])\n",
      "deque([(7, 5), (7, 8)])\n",
      "deque([(8, 6), (8, 7), (8, 9)])\n",
      "deque([(9, 8)])\n"
     ]
    }
   ],
   "source": [
    "for user in users:\n",
    "  from_user_id = user.id_\n",
    "  frontier = deque((from_user_id, friend_id)\n",
    "                    for friend_id in friendships[from_user_id])\n",
    "  print(frontier)"
   ]
  },
  {
   "cell_type": "code",
   "execution_count": 53,
   "metadata": {},
   "outputs": [
    {
     "name": "stdout",
     "output_type": "stream",
     "text": [
      "deque([(0, 1), (0, 2)])\n",
      "deque([(0, 2)])\n",
      "deque([(0, 2), (2, 3)])\n"
     ]
    }
   ],
   "source": [
    "from_user_id = users[0].id_\n",
    "frontier = deque((from_user_id, friend_id)\n",
    "                  for friend_id in friendships[from_user_id])\n",
    "print(frontier)\n",
    "frontier.popleft()\n",
    "print(frontier)\n",
    "frontier.extend([(2, 3)])\n",
    "print(frontier)"
   ]
  },
  {
   "cell_type": "code",
   "execution_count": 49,
   "metadata": {},
   "outputs": [
    {
     "data": {
      "text/plain": [
       "[[1]]"
      ]
     },
     "execution_count": 49,
     "metadata": {},
     "output_type": "execute_result"
    }
   ],
   "source": [
    "[[] + [1]]"
   ]
  },
  {
   "cell_type": "code",
   "execution_count": 29,
   "metadata": {},
   "outputs": [],
   "source": [
    "def shortest_paths_from(from_user_id: int, friendships: Friendships) -> Dict[int, List[Path]]:\n",
    "  # A dictionary from user_id to `all` shortest paths to that user.\n",
    "  shortest_paths_to: Dict[int, List[Path]] = {from_user_id: [[]]}\n",
    "\n",
    "  # A queue of (previous user, next user) that we need to check\n",
    "  # Starts out with all pairs (from_user, friend_of_from_user).\n",
    "  frontier = deque((from_user_id, friend_id)\n",
    "                   for friend_id in friendships[from_user_id])\n",
    "  \n",
    "  # Keep going until we empty the queue\n",
    "  while frontier:\n",
    "    # Remove the pair that's next in the queue.\n",
    "    prev_user_id, user_id = frontier.popleft()\n",
    "\n",
    "    # Because of the way we're adding to the queue,\n",
    "    # necessarily we already know some shortest paths to prev_user.\n",
    "    paths_to_prev_user = shortest_paths_to[prev_user_id]\n",
    "    new_paths_to_user = [path + [user_id] for path in paths_to_prev_user]\n",
    "\n",
    "    # It's possible we already know a shortest path to user_id.\n",
    "    old_paths_to_user = shortest_paths_to.get(user_id, [])\n",
    "\n",
    "    # What's the shortest path to here that we've seen so far?\n",
    "    if old_paths_to_user:\n",
    "      min_path_length = len(old_paths_to_user[0])\n",
    "    else:\n",
    "      min_path_length = float('inf')\n",
    "\n",
    "    # Only keep paths that aren't too long and are actually new.\n",
    "    new_paths_to_user = [path for path in new_paths_to_user\n",
    "                          if len(path) <= min_path_length and path not in old_paths_to_user]\n",
    "    \n",
    "    shortest_paths_to[user_id] = old_paths_to_user + new_paths_to_user\n",
    "\n",
    "    # Add never-seen neighbors to the frontier.\n",
    "    frontier.extend((user_id, friend_id) for friend_id in friendships[user_id]\n",
    "                      if friend_id not in shortest_paths_to)\n",
    "    \n",
    "  return shortest_paths_to\n",
    "    "
   ]
  },
  {
   "attachments": {},
   "cell_type": "markdown",
   "metadata": {},
   "source": [
    "Now let's compute all the shortest paths:"
   ]
  },
  {
   "cell_type": "code",
   "execution_count": 30,
   "metadata": {},
   "outputs": [
    {
     "data": {
      "text/plain": [
       "{0: {0: [[]],\n",
       "  1: [[1]],\n",
       "  2: [[2]],\n",
       "  3: [[1, 3], [2, 3]],\n",
       "  4: [[1, 3, 4], [2, 3, 4]],\n",
       "  5: [[1, 3, 4, 5], [2, 3, 4, 5]],\n",
       "  6: [[1, 3, 4, 5, 6], [2, 3, 4, 5, 6]],\n",
       "  7: [[1, 3, 4, 5, 7], [2, 3, 4, 5, 7]],\n",
       "  8: [[1, 3, 4, 5, 6, 8],\n",
       "   [2, 3, 4, 5, 6, 8],\n",
       "   [1, 3, 4, 5, 7, 8],\n",
       "   [2, 3, 4, 5, 7, 8]],\n",
       "  9: [[1, 3, 4, 5, 6, 8, 9],\n",
       "   [2, 3, 4, 5, 6, 8, 9],\n",
       "   [1, 3, 4, 5, 7, 8, 9],\n",
       "   [2, 3, 4, 5, 7, 8, 9]]},\n",
       " 1: {1: [[]],\n",
       "  0: [[0]],\n",
       "  2: [[2]],\n",
       "  3: [[3]],\n",
       "  4: [[3, 4]],\n",
       "  5: [[3, 4, 5]],\n",
       "  6: [[3, 4, 5, 6]],\n",
       "  7: [[3, 4, 5, 7]],\n",
       "  8: [[3, 4, 5, 6, 8], [3, 4, 5, 7, 8]],\n",
       "  9: [[3, 4, 5, 6, 8, 9], [3, 4, 5, 7, 8, 9]]},\n",
       " 2: {2: [[]],\n",
       "  0: [[0]],\n",
       "  1: [[1]],\n",
       "  3: [[3]],\n",
       "  4: [[3, 4]],\n",
       "  5: [[3, 4, 5]],\n",
       "  6: [[3, 4, 5, 6]],\n",
       "  7: [[3, 4, 5, 7]],\n",
       "  8: [[3, 4, 5, 6, 8], [3, 4, 5, 7, 8]],\n",
       "  9: [[3, 4, 5, 6, 8, 9], [3, 4, 5, 7, 8, 9]]},\n",
       " 3: {3: [[]],\n",
       "  1: [[1]],\n",
       "  2: [[2]],\n",
       "  4: [[4]],\n",
       "  0: [[1, 0], [2, 0]],\n",
       "  5: [[4, 5]],\n",
       "  6: [[4, 5, 6]],\n",
       "  7: [[4, 5, 7]],\n",
       "  8: [[4, 5, 6, 8], [4, 5, 7, 8]],\n",
       "  9: [[4, 5, 6, 8, 9], [4, 5, 7, 8, 9]]},\n",
       " 4: {4: [[]],\n",
       "  3: [[3]],\n",
       "  5: [[5]],\n",
       "  1: [[3, 1]],\n",
       "  2: [[3, 2]],\n",
       "  6: [[5, 6]],\n",
       "  7: [[5, 7]],\n",
       "  0: [[3, 1, 0], [3, 2, 0]],\n",
       "  8: [[5, 6, 8], [5, 7, 8]],\n",
       "  9: [[5, 6, 8, 9], [5, 7, 8, 9]]},\n",
       " 5: {5: [[]],\n",
       "  4: [[4]],\n",
       "  6: [[6]],\n",
       "  7: [[7]],\n",
       "  3: [[4, 3]],\n",
       "  8: [[6, 8], [7, 8]],\n",
       "  1: [[4, 3, 1]],\n",
       "  2: [[4, 3, 2]],\n",
       "  9: [[6, 8, 9], [7, 8, 9]],\n",
       "  0: [[4, 3, 1, 0], [4, 3, 2, 0]]},\n",
       " 6: {6: [[]],\n",
       "  5: [[5]],\n",
       "  8: [[8]],\n",
       "  4: [[5, 4]],\n",
       "  7: [[5, 7], [8, 7]],\n",
       "  9: [[8, 9]],\n",
       "  3: [[5, 4, 3]],\n",
       "  1: [[5, 4, 3, 1]],\n",
       "  2: [[5, 4, 3, 2]],\n",
       "  0: [[5, 4, 3, 1, 0], [5, 4, 3, 2, 0]]},\n",
       " 7: {7: [[]],\n",
       "  5: [[5]],\n",
       "  8: [[8]],\n",
       "  4: [[5, 4]],\n",
       "  6: [[5, 6], [8, 6]],\n",
       "  9: [[8, 9]],\n",
       "  3: [[5, 4, 3]],\n",
       "  1: [[5, 4, 3, 1]],\n",
       "  2: [[5, 4, 3, 2]],\n",
       "  0: [[5, 4, 3, 1, 0], [5, 4, 3, 2, 0]]},\n",
       " 8: {8: [[]],\n",
       "  6: [[6]],\n",
       "  7: [[7]],\n",
       "  9: [[9]],\n",
       "  5: [[6, 5], [7, 5]],\n",
       "  4: [[6, 5, 4], [7, 5, 4]],\n",
       "  3: [[6, 5, 4, 3], [7, 5, 4, 3]],\n",
       "  1: [[6, 5, 4, 3, 1], [7, 5, 4, 3, 1]],\n",
       "  2: [[6, 5, 4, 3, 2], [7, 5, 4, 3, 2]],\n",
       "  0: [[6, 5, 4, 3, 1, 0],\n",
       "   [7, 5, 4, 3, 1, 0],\n",
       "   [6, 5, 4, 3, 2, 0],\n",
       "   [7, 5, 4, 3, 2, 0]]},\n",
       " 9: {9: [[]],\n",
       "  8: [[8]],\n",
       "  6: [[8, 6]],\n",
       "  7: [[8, 7]],\n",
       "  5: [[8, 6, 5], [8, 7, 5]],\n",
       "  4: [[8, 6, 5, 4], [8, 7, 5, 4]],\n",
       "  3: [[8, 6, 5, 4, 3], [8, 7, 5, 4, 3]],\n",
       "  1: [[8, 6, 5, 4, 3, 1], [8, 7, 5, 4, 3, 1]],\n",
       "  2: [[8, 6, 5, 4, 3, 2], [8, 7, 5, 4, 3, 2]],\n",
       "  0: [[8, 6, 5, 4, 3, 1, 0],\n",
       "   [8, 7, 5, 4, 3, 1, 0],\n",
       "   [8, 6, 5, 4, 3, 2, 0],\n",
       "   [8, 7, 5, 4, 3, 2, 0]]}}"
      ]
     },
     "execution_count": 30,
     "metadata": {},
     "output_type": "execute_result"
    }
   ],
   "source": [
    "# For each from_user, for each to_user, a list of shortest paths.\n",
    "shortest_paths = {user.id_: shortest_paths_from(user.id_, friendships)\n",
    "                  for user in users}\n",
    "\n",
    "shortest_paths"
   ]
  },
  {
   "cell_type": "markdown",
   "metadata": {},
   "source": [
    "Now we finally ready to compute betweenness centrality"
   ]
  },
  {
   "cell_type": "code",
   "execution_count": 31,
   "metadata": {},
   "outputs": [
    {
     "data": {
      "text/plain": [
       "{0: 0.0,\n",
       " 1: 3.5,\n",
       " 2: 3.5,\n",
       " 3: 18.0,\n",
       " 4: 20.0,\n",
       " 5: 20.5,\n",
       " 6: 6.0,\n",
       " 7: 6.0,\n",
       " 8: 8.5,\n",
       " 9: 0.0}"
      ]
     },
     "execution_count": 31,
     "metadata": {},
     "output_type": "execute_result"
    }
   ],
   "source": [
    "betweenness_centrality = {user.id_: 0.0 for user in users}\n",
    "\n",
    "for source in users:\n",
    "  for target_id, paths in shortest_paths[source.id_].items():\n",
    "    if source.id_ < target_id:       # don't double count\n",
    "      num_paths = len(paths)          # how many shortest paths?\n",
    "      contrib = 1 / num_paths         # contribution to centrality\n",
    "      for path in paths:\n",
    "        for between_id in path:\n",
    "          if between_id not in [source.id_, target_id]:\n",
    "            betweenness_centrality[between_id] += contrib\n",
    "\n",
    "betweenness_centrality"
   ]
  },
  {
   "cell_type": "markdown",
   "metadata": {},
   "source": [
    "### Draw the network with betweenness centrality"
   ]
  },
  {
   "cell_type": "code",
   "execution_count": 38,
   "metadata": {},
   "outputs": [
    {
     "name": "stdout",
     "output_type": "stream",
     "text": [
      "The DataSciencester network sized by betweenness centrality\n"
     ]
    },
    {
     "data": {
      "image/png": "[encoded data removed]",
      "text/plain": [
       "<Figure size 1000x1000 with 1 Axes>"
      ]
     },
     "metadata": {},
     "output_type": "display_data"
    }
   ],
   "source": [
    "fig, ax = plt.subplots(figsize=(10, 10))\n",
    "\n",
    "node_pos = {\n",
    "  0: (0, 2), 1: (1, 1), 2: (1, 3), 3: (2, 2), 4: (3, 2),\n",
    "  5: (4, 2), 6: (5, 3), 7:(5, 1), 8: (6, 2), 9: (7, 2)}\n",
    "nx.draw(G, pos=node_pos, nodelist=G.nodes, \n",
    "  node_size=[200*size for size in betweenness_centrality.values()],\n",
    "  with_labels=True, font_weight=\"bold\", \n",
    "  node_color=\"#cfe2f3\", edgecolors=\"k\", ax=ax)\n",
    "\n",
    "ax.set_aspect(\"equal\")\n",
    "ax.set_ylim([0.5, 3.5])\n",
    "print(\"The DataSciencester network sized by betweenness centrality\")\n",
    "plt.show(fig)"
   ]
  },
  {
   "cell_type": "code",
   "execution_count": null,
   "metadata": {},
   "outputs": [],
   "source": []
  }
 ],
 "metadata": {
  "kernelspec": {
   "display_name": "base",
   "language": "python",
   "name": "python3"
  },
  "language_info": {
   "codemirror_mode": {
    "name": "ipython",
    "version": 3
   },
   "file_extension": ".py",
   "mimetype": "text/x-python",
   "name": "python",
   "nbconvert_exporter": "python",
   "pygments_lexer": "ipython3",
   "version": "3.10.9"
  },
  "orig_nbformat": 4
 },
 "nbformat": 4,
 "nbformat_minor": 2
}
