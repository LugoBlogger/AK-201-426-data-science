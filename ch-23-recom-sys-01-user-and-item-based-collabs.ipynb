{
 "cells": [
  {
   "cell_type": "markdown",
   "metadata": {},
   "source": [
    "Logs\n",
    "- [2024/04/28]   \n",
    "  You do not need to restart this notebook when updating the scratch library"
   ]
  },
  {
   "cell_type": "code",
   "execution_count": 1,
   "metadata": {},
   "outputs": [],
   "source": [
    "import numpy as np\n",
    "import matplotlib.pyplot as plt\n",
    "from matplotlib import colormaps\n",
    "\n",
    "from collections import defaultdict\n",
    "from typing import List, Tuple, Dict\n",
    "from collections import Counter\n",
    "from scratch.natural_language_processing import NaturalLanguageProcessing as nlp"
   ]
  },
  {
   "cell_type": "code",
   "execution_count": 2,
   "metadata": {},
   "outputs": [],
   "source": [
    "plt.rcParams.update(plt.rcParamsDefault)\n",
    "plt.rcParams.update({\n",
    "  'font.size': 16,\n",
    "  'grid.alpha': 0.25})"
   ]
  },
  {
   "cell_type": "code",
   "execution_count": 3,
   "metadata": {},
   "outputs": [],
   "source": [
    "%load_ext autoreload\n",
    "%autoreload 2 "
   ]
  },
  {
   "cell_type": "markdown",
   "metadata": {},
   "source": [
    "Some real world examples of recommendation systems:\n",
    "- Netflix recomends movies you might want to watch\n",
    "- Amazon recommends products you might want to buy\n",
    "- X (Twitter) recommends users you might want to follow"
   ]
  },
  {
   "cell_type": "code",
   "execution_count": 4,
   "metadata": {},
   "outputs": [],
   "source": [
    "users_interests = [\n",
    "  [\"Hadoop\", \"Big Data\", \"HBase\", \"Java\", \"Spark\", \"Storm\", \"Cassandra\"],\n",
    "  [\"NoSQL\", \"MongoDB\", \"Cassandra\", \"HBase\", \"Postgres\"],\n",
    "  [\"Python\", \"scikit-learn\", \"scipy\", \"numpy\", \"statsmodels\", \"pandas\"],\n",
    "  [\"R\", \"Python\", \"statistics\", \"regression\", \"probability\"],\n",
    "  [\"machine learning\", \"regression\", \"decision trees\", \"libsvm\"],\n",
    "  [\"Python\", \"R\", \"Java\", \"C++\", \"Haskell\", \"programming languages\"],\n",
    "  [\"statistics\", \"probability\", \"mathematics\", \"theory\"],\n",
    "  [\"machine learning\", \"scikit-learn\", \"Mahout\", \"neural networks\"],\n",
    "  [\"neural networks\", \"deep learning\", \"Big Data\", \"artificial intelligence\"],\n",
    "  [\"Hadoop\", \"Java\", \"MapReduce\", \"Big Data\"],\n",
    "  [\"statistics\", \"R\", \"statsmodels\"],\n",
    "  [\"C++\", \"deep learning\", \"artificial intelligence\", \"probability\"],\n",
    "  [\"pandas\", \"R\", \"Python\"],\n",
    "  [\"databases\", \"HBase\", \"Postgres\", \"MySQL\", \"MongoDB\"],\n",
    "  [\"libsvm\", \"regression\", \"support vector machines\"]\n",
    "]"
   ]
  },
  {
   "cell_type": "markdown",
   "metadata": {},
   "source": [
    "## Manual Curation"
   ]
  },
  {
   "cell_type": "markdown",
   "metadata": {},
   "source": [
    "Before the digital age, most of the recommendation has been done by the   \n",
    "knoweldge of curators. For example in library, the librarian who will give    \n",
    "recommendation which books to be read for a specific topic, or using card catalog"
   ]
  },
  {
   "cell_type": "markdown",
   "metadata": {},
   "source": [
    "## Recommending What's Popular"
   ]
  },
  {
   "cell_type": "code",
   "execution_count": 5,
   "metadata": {},
   "outputs": [
    {
     "data": {
      "text/plain": [
       "Counter({'Python': 4,\n",
       "         'R': 4,\n",
       "         'Big Data': 3,\n",
       "         'HBase': 3,\n",
       "         'Java': 3,\n",
       "         'statistics': 3,\n",
       "         'regression': 3,\n",
       "         'probability': 3,\n",
       "         'Hadoop': 2,\n",
       "         'Cassandra': 2,\n",
       "         'MongoDB': 2,\n",
       "         'Postgres': 2,\n",
       "         'scikit-learn': 2,\n",
       "         'statsmodels': 2,\n",
       "         'pandas': 2,\n",
       "         'machine learning': 2,\n",
       "         'libsvm': 2,\n",
       "         'C++': 2,\n",
       "         'neural networks': 2,\n",
       "         'deep learning': 2,\n",
       "         'artificial intelligence': 2,\n",
       "         'Spark': 1,\n",
       "         'Storm': 1,\n",
       "         'NoSQL': 1,\n",
       "         'scipy': 1,\n",
       "         'numpy': 1,\n",
       "         'decision trees': 1,\n",
       "         'Haskell': 1,\n",
       "         'programming languages': 1,\n",
       "         'mathematics': 1,\n",
       "         'theory': 1,\n",
       "         'Mahout': 1,\n",
       "         'MapReduce': 1,\n",
       "         'databases': 1,\n",
       "         'MySQL': 1,\n",
       "         'support vector machines': 1})"
      ]
     },
     "execution_count": 5,
     "metadata": {},
     "output_type": "execute_result"
    }
   ],
   "source": [
    "popular_interests = Counter(interest for user_interests in users_interests\n",
    "                            for interest in user_interests)\n",
    "popular_interests"
   ]
  },
  {
   "cell_type": "code",
   "execution_count": 6,
   "metadata": {},
   "outputs": [
    {
     "data": {
      "text/plain": [
       "1"
      ]
     },
     "execution_count": 6,
     "metadata": {},
     "output_type": "execute_result"
    }
   ],
   "source": [
    "popular_interests[\"MySQL\"]"
   ]
  },
  {
   "cell_type": "code",
   "execution_count": 7,
   "metadata": {},
   "outputs": [
    {
     "data": {
      "text/plain": [
       "[('Python', 4),\n",
       " ('R', 4),\n",
       " ('Big Data', 3),\n",
       " ('HBase', 3),\n",
       " ('Java', 3),\n",
       " ('statistics', 3),\n",
       " ('regression', 3),\n",
       " ('probability', 3),\n",
       " ('Hadoop', 2),\n",
       " ('Cassandra', 2),\n",
       " ('MongoDB', 2),\n",
       " ('Postgres', 2),\n",
       " ('scikit-learn', 2),\n",
       " ('statsmodels', 2),\n",
       " ('pandas', 2),\n",
       " ('machine learning', 2),\n",
       " ('libsvm', 2),\n",
       " ('C++', 2),\n",
       " ('neural networks', 2),\n",
       " ('deep learning', 2),\n",
       " ('artificial intelligence', 2),\n",
       " ('Spark', 1),\n",
       " ('Storm', 1),\n",
       " ('NoSQL', 1),\n",
       " ('scipy', 1),\n",
       " ('numpy', 1),\n",
       " ('decision trees', 1),\n",
       " ('Haskell', 1),\n",
       " ('programming languages', 1),\n",
       " ('mathematics', 1),\n",
       " ('theory', 1),\n",
       " ('Mahout', 1),\n",
       " ('MapReduce', 1),\n",
       " ('databases', 1),\n",
       " ('MySQL', 1),\n",
       " ('support vector machines', 1)]"
      ]
     },
     "execution_count": 7,
     "metadata": {},
     "output_type": "execute_result"
    }
   ],
   "source": [
    "popular_interests.most_common()"
   ]
  },
  {
   "cell_type": "markdown",
   "metadata": {},
   "source": [
    "With `popular_interests`, we can just suggest to a user the most popular interests   \n",
    "that he's not already interested in:"
   ]
  },
  {
   "cell_type": "code",
   "execution_count": 8,
   "metadata": {},
   "outputs": [],
   "source": [
    "def most_popular_new_interests(user_interests: List[str], \n",
    "                                max_results: int = 5) -> List[Tuple[str, int]]:\n",
    "  suggestions = [(interest, frequency)\n",
    "                  for interest, frequency in popular_interests.most_common()\n",
    "                    if interest not in user_interests]\n",
    "  \n",
    "  return suggestions[:max_results]"
   ]
  },
  {
   "cell_type": "code",
   "execution_count": 9,
   "metadata": {},
   "outputs": [
    {
     "name": "stdout",
     "output_type": "stream",
     "text": [
      "['NoSQL', 'MongoDB', 'Cassandra', 'HBase', 'Postgres']\n"
     ]
    },
    {
     "data": {
      "text/plain": [
       "[('Python', 4), ('R', 4), ('Big Data', 3), ('Java', 3), ('statistics', 3)]"
      ]
     },
     "execution_count": 9,
     "metadata": {},
     "output_type": "execute_result"
    }
   ],
   "source": [
    "# popular recommendations that are new for user 1 (users_interests[1])\n",
    "print(users_interests[1])\n",
    "most_popular_new_interests(users_interests[1])"
   ]
  },
  {
   "cell_type": "code",
   "execution_count": 10,
   "metadata": {},
   "outputs": [
    {
     "name": "stdout",
     "output_type": "stream",
     "text": [
      "['R', 'Python', 'statistics', 'regression', 'probability']\n"
     ]
    },
    {
     "data": {
      "text/plain": [
       "[('Big Data', 3), ('HBase', 3), ('Java', 3), ('Hadoop', 2), ('Cassandra', 2)]"
      ]
     },
     "execution_count": 10,
     "metadata": {},
     "output_type": "execute_result"
    }
   ],
   "source": [
    "# popular recommendations that are new for user 3 (users_interests[3])\n",
    "print(users_interests[3])\n",
    "most_popular_new_interests(users_interests[3])"
   ]
  },
  {
   "cell_type": "markdown",
   "metadata": {},
   "source": [
    "## User-Based Collaborative Filtering"
   ]
  },
  {
   "cell_type": "markdown",
   "metadata": {},
   "source": [
    "One way to taking a user's interests into account is to look for users who are   \n",
    "somehow _similar_ to her, and then suggest the things that those users are    \n",
    "interested in."
   ]
  },
  {
   "cell_type": "code",
   "execution_count": 11,
   "metadata": {},
   "outputs": [],
   "source": [
    "unique_interests = sorted({interest for user_interests in users_interests \n",
    "                            for interest in user_interests})\n",
    "\n",
    "assert unique_interests[:6] == [\n",
    "  \"Big Data\", \"C++\", \"Cassandra\", \"HBase\", \"Hadoop\", \"Haskell\",\n",
    "  # ...\n",
    "] "
   ]
  },
  {
   "cell_type": "code",
   "execution_count": 12,
   "metadata": {},
   "outputs": [
    {
     "name": "stdout",
     "output_type": "stream",
     "text": [
      "36\n",
      "['Big Data', 'C++', 'Cassandra', 'HBase', 'Hadoop', 'Haskell', 'Java', 'Mahout', 'MapReduce', 'MongoDB', 'MySQL', 'NoSQL', 'Postgres', 'Python', 'R', 'Spark', 'Storm', 'artificial intelligence', 'databases', 'decision trees', 'deep learning', 'libsvm', 'machine learning', 'mathematics', 'neural networks', 'numpy', 'pandas', 'probability', 'programming languages', 'regression', 'scikit-learn', 'scipy', 'statistics', 'statsmodels', 'support vector machines', 'theory']\n"
     ]
    }
   ],
   "source": [
    "print(len(unique_interests))\n",
    "print(unique_interests)"
   ]
  },
  {
   "cell_type": "markdown",
   "metadata": {},
   "source": [
    "Next we want to produce an \"interest\" vector of 0s and 1s for each user."
   ]
  },
  {
   "cell_type": "code",
   "execution_count": 13,
   "metadata": {},
   "outputs": [],
   "source": [
    "def make_user_interest_vector(user_interests: List[str]) -> List[int]:\n",
    "  \"\"\"Given a list of interests, produce a vector whose ith element is 1 \n",
    "  if unique_interests[i] is in the list, 0 otherwise\"\"\"\n",
    "  return [1 if interest in user_interests else 0 \n",
    "          for interest in unique_interests]"
   ]
  },
  {
   "cell_type": "markdown",
   "metadata": {},
   "source": [
    "Transform each `user_interests` into a vector where the length is equal to  \n",
    "`unique_interests`. "
   ]
  },
  {
   "cell_type": "code",
   "execution_count": 14,
   "metadata": {},
   "outputs": [
    {
     "name": "stdout",
     "output_type": "stream",
     "text": [
      "[1, 0, 1, 1, 1, 0, 1, 0, 0, 0, 0, 0, 0, 0, 0, 1, 1, 0, 0, 0, 0, 0, 0, 0, 0, 0, 0, 0, 0, 0, 0, 0, 0, 0, 0, 0]\n"
     ]
    }
   ],
   "source": [
    "user_interest_vectors = [make_user_interest_vector(user_interests)\n",
    "                          for user_interests in users_interests]\n",
    "\n",
    "# user_interest_vector[i][j] equals 1 if user i specified interest j, and 0 otherwise\n",
    "print(user_interest_vectors[0])"
   ]
  },
  {
   "cell_type": "code",
   "execution_count": 15,
   "metadata": {},
   "outputs": [
    {
     "name": "stdout",
     "output_type": "stream",
     "text": [
      "[1, 0, 1, 1, 1, 0, 1, 0, 0, 0, 0, 0, 0, 0, 0, 1, 1, 0, 0, 0, 0, 0, 0, 0, 0, 0, 0, 0, 0, 0, 0, 0, 0, 0, 0, 0]\n",
      "[0, 0, 1, 1, 0, 0, 0, 0, 0, 1, 0, 1, 1, 0, 0, 0, 0, 0, 0, 0, 0, 0, 0, 0, 0, 0, 0, 0, 0, 0, 0, 0, 0, 0, 0, 0]\n",
      "[0, 0, 0, 0, 0, 0, 0, 0, 0, 0, 0, 0, 0, 1, 0, 0, 0, 0, 0, 0, 0, 0, 0, 0, 0, 1, 1, 0, 0, 0, 1, 1, 0, 1, 0, 0]\n",
      "[0, 0, 0, 0, 0, 0, 0, 0, 0, 0, 0, 0, 0, 1, 1, 0, 0, 0, 0, 0, 0, 0, 0, 0, 0, 0, 0, 1, 0, 1, 0, 0, 1, 0, 0, 0]\n",
      "[0, 0, 0, 0, 0, 0, 0, 0, 0, 0, 0, 0, 0, 0, 0, 0, 0, 0, 0, 1, 0, 1, 1, 0, 0, 0, 0, 0, 0, 1, 0, 0, 0, 0, 0, 0]\n",
      "[0, 1, 0, 0, 0, 1, 1, 0, 0, 0, 0, 0, 0, 1, 1, 0, 0, 0, 0, 0, 0, 0, 0, 0, 0, 0, 0, 0, 1, 0, 0, 0, 0, 0, 0, 0]\n",
      "[0, 0, 0, 0, 0, 0, 0, 0, 0, 0, 0, 0, 0, 0, 0, 0, 0, 0, 0, 0, 0, 0, 0, 1, 0, 0, 0, 1, 0, 0, 0, 0, 1, 0, 0, 1]\n",
      "[0, 0, 0, 0, 0, 0, 0, 1, 0, 0, 0, 0, 0, 0, 0, 0, 0, 0, 0, 0, 0, 0, 1, 0, 1, 0, 0, 0, 0, 0, 1, 0, 0, 0, 0, 0]\n",
      "[1, 0, 0, 0, 0, 0, 0, 0, 0, 0, 0, 0, 0, 0, 0, 0, 0, 1, 0, 0, 1, 0, 0, 0, 1, 0, 0, 0, 0, 0, 0, 0, 0, 0, 0, 0]\n",
      "[1, 0, 0, 0, 1, 0, 1, 0, 1, 0, 0, 0, 0, 0, 0, 0, 0, 0, 0, 0, 0, 0, 0, 0, 0, 0, 0, 0, 0, 0, 0, 0, 0, 0, 0, 0]\n",
      "[0, 0, 0, 0, 0, 0, 0, 0, 0, 0, 0, 0, 0, 0, 1, 0, 0, 0, 0, 0, 0, 0, 0, 0, 0, 0, 0, 0, 0, 0, 0, 0, 1, 1, 0, 0]\n",
      "[0, 1, 0, 0, 0, 0, 0, 0, 0, 0, 0, 0, 0, 0, 0, 0, 0, 1, 0, 0, 1, 0, 0, 0, 0, 0, 0, 1, 0, 0, 0, 0, 0, 0, 0, 0]\n",
      "[0, 0, 0, 0, 0, 0, 0, 0, 0, 0, 0, 0, 0, 1, 1, 0, 0, 0, 0, 0, 0, 0, 0, 0, 0, 0, 1, 0, 0, 0, 0, 0, 0, 0, 0, 0]\n",
      "[0, 0, 0, 1, 0, 0, 0, 0, 0, 1, 1, 0, 1, 0, 0, 0, 0, 0, 1, 0, 0, 0, 0, 0, 0, 0, 0, 0, 0, 0, 0, 0, 0, 0, 0, 0]\n",
      "[0, 0, 0, 0, 0, 0, 0, 0, 0, 0, 0, 0, 0, 0, 0, 0, 0, 0, 0, 0, 0, 1, 0, 0, 0, 0, 0, 0, 0, 1, 0, 0, 0, 0, 1, 0]\n"
     ]
    }
   ],
   "source": [
    "for user in user_interest_vectors:\n",
    "  print(user)"
   ]
  },
  {
   "cell_type": "code",
   "execution_count": 19,
   "metadata": {},
   "outputs": [
    {
     "name": "stdout",
     "output_type": "stream",
     "text": [
      "[ 1  3  4  5  7 16 17]\n",
      "[ 3  4 10 12 13]\n",
      "[14 26 27 31 32 34]\n",
      "[14 15 28 30 33]\n",
      "[20 22 23 30]\n",
      "[ 2  6  7 14 15 29]\n",
      "[24 28 33 36]\n",
      "[ 8 23 25 31]\n",
      "[ 1 18 21 25]\n",
      "[1 5 7 9]\n",
      "[15 33 34]\n",
      "[ 2 18 21 28]\n",
      "[14 15 27]\n",
      "[ 4 10 11 13 19]\n",
      "[22 30 35]\n"
     ]
    }
   ],
   "source": [
    "for user in user_interest_vectors:\n",
    "  print(np.array(np.where(user)[0]) + 1)"
   ]
  },
  {
   "cell_type": "markdown",
   "metadata": {},
   "source": [
    "Similarity between two `user_interests`'s are calculated using `cosine_similarity`    "
   ]
  },
  {
   "cell_type": "code",
   "execution_count": 67,
   "metadata": {},
   "outputs": [],
   "source": [
    "user_similarities = [[nlp.cosine_similarity(interest_vector_i, interest_vector_j)\n",
    "                      for interest_vector_j in user_interest_vectors]\n",
    "                        for interest_vector_i in user_interest_vectors]"
   ]
  },
  {
   "cell_type": "code",
   "execution_count": 68,
   "metadata": {},
   "outputs": [
    {
     "name": "stdout",
     "output_type": "stream",
     "text": [
      "['1.000', '0.338', '0.000', '0.000', '0.000', '0.154', '0.000', '0.000', '0.189', '0.567', '0.000', '0.000', '0.000', '0.169', '0.000']\n",
      "['0.338', '1.000', '0.000', '0.000', '0.000', '0.000', '0.000', '0.000', '0.000', '0.000', '0.000', '0.000', '0.000', '0.600', '0.000']\n",
      "['0.000', '0.000', '1.000', '0.183', '0.000', '0.167', '0.000', '0.204', '0.000', '0.000', '0.236', '0.000', '0.471', '0.000', '0.000']\n",
      "['0.000', '0.000', '0.183', '1.000', '0.224', '0.365', '0.447', '0.000', '0.000', '0.000', '0.516', '0.224', '0.516', '0.000', '0.258']\n",
      "['0.000', '0.000', '0.000', '0.224', '1.000', '0.000', '0.000', '0.250', '0.000', '0.000', '0.000', '0.000', '0.000', '0.000', '0.577']\n",
      "['0.154', '0.000', '0.167', '0.365', '0.000', '1.000', '0.000', '0.000', '0.000', '0.204', '0.236', '0.204', '0.471', '0.000', '0.000']\n",
      "['0.000', '0.000', '0.000', '0.447', '0.000', '0.000', '1.000', '0.000', '0.000', '0.000', '0.289', '0.250', '0.000', '0.000', '0.000']\n",
      "['0.000', '0.000', '0.204', '0.000', '0.250', '0.000', '0.000', '1.000', '0.250', '0.000', '0.000', '0.000', '0.000', '0.000', '0.000']\n",
      "['0.189', '0.000', '0.000', '0.000', '0.000', '0.000', '0.000', '0.250', '1.000', '0.250', '0.000', '0.500', '0.000', '0.000', '0.000']\n",
      "['0.567', '0.000', '0.000', '0.000', '0.000', '0.204', '0.000', '0.000', '0.250', '1.000', '0.000', '0.000', '0.000', '0.000', '0.000']\n",
      "['0.000', '0.000', '0.236', '0.516', '0.000', '0.236', '0.289', '0.000', '0.000', '0.000', '1.000', '0.000', '0.333', '0.000', '0.000']\n",
      "['0.000', '0.000', '0.000', '0.224', '0.000', '0.204', '0.250', '0.000', '0.500', '0.000', '0.000', '1.000', '0.000', '0.000', '0.000']\n",
      "['0.000', '0.000', '0.471', '0.516', '0.000', '0.471', '0.000', '0.000', '0.000', '0.000', '0.333', '0.000', '1.000', '0.000', '0.000']\n",
      "['0.169', '0.600', '0.000', '0.000', '0.000', '0.000', '0.000', '0.000', '0.000', '0.000', '0.000', '0.000', '0.000', '1.000', '0.000']\n",
      "['0.000', '0.000', '0.000', '0.258', '0.577', '0.000', '0.000', '0.000', '0.000', '0.000', '0.000', '0.000', '0.000', '0.000', '1.000']\n"
     ]
    }
   ],
   "source": [
    "for user_similarity in user_similarities:\n",
    "  print([f\"{col:.3f}\" for col in user_similarity])"
   ]
  },
  {
   "cell_type": "code",
   "execution_count": 69,
   "metadata": {},
   "outputs": [
    {
     "data": {
      "image/png": "[encoded data removed]",
      "text/plain": [
       "<Figure size 400x400 with 1 Axes>"
      ]
     },
     "metadata": {},
     "output_type": "display_data"
    }
   ],
   "source": [
    "A = np.array(user_similarities)\n",
    "mask = np.tri(A.shape[0], k=-1).T\n",
    "A = np.ma.array(A, mask=mask) # mask out the lower triangle\n",
    "\n",
    "fig, ax = plt.subplots(figsize=(4, 4))\n",
    "cmap = colormaps.get_cmap('summer') # jet doesn't have white color\n",
    "cmap.set_bad('w') # default value is 'k'\n",
    "ax.imshow(A, interpolation=\"nearest\", cmap=cmap, vmin=0, vmax=1)\n",
    "\n",
    "ax.set_yticks(np.arange(0, len(A), 2))\n",
    "ax.set_yticklabels([f\"user{d}\" for d in range(0, len(A), 2)], fontsize=\"small\")\n",
    "\n",
    "ax.set_xticks(np.arange(0, len(A), 2))\n",
    "ax.set_xticklabels([f\"user{d}\" for d in range(0, len(A), 2)],\n",
    "                    rotation=45, ha=\"right\", fontsize=\"small\")\n",
    "plt.show(fig)"
   ]
  },
  {
   "cell_type": "code",
   "execution_count": 70,
   "metadata": {},
   "outputs": [],
   "source": [
    "# Users 0 and 9 share interests in Hadoop, Java, and Big Data\n",
    "assert 0.56 < user_similarities[0][9] < 0.58, \"several shared interests\"\n",
    "\n",
    "# Users 0 and 9 share only one interest: Big Data\n",
    "assert 0.18 < user_similarities[0][8] < 0.20, \"only one shared interest\""
   ]
  },
  {
   "cell_type": "markdown",
   "metadata": {},
   "source": [
    "Using `user_similarities`, we can write a function that finds the most similar  \n",
    "users to a given user. We'll make sure not to include the user herself, nor any  \n",
    "users with zero similarity"
   ]
  },
  {
   "cell_type": "code",
   "execution_count": 71,
   "metadata": {},
   "outputs": [],
   "source": [
    "def most_similar_users_to(user_id: int) -> List[Tuple[int, float]]:\n",
    "  pairs = [(other_user_id, similarity)                        # Find other\n",
    "            for other_user_id, similarity in                  # users with\n",
    "              enumerate(user_similarities[user_id])           # nonzero\n",
    "            if user_id != other_user_id and similarity > 0]   # similarity.\n",
    "  \n",
    "  return sorted(pairs,                      # Sort them\n",
    "                key=lambda pair: pair[-1],  # most similar\n",
    "                reverse=True)               # first."
   ]
  },
  {
   "cell_type": "code",
   "execution_count": 72,
   "metadata": {},
   "outputs": [
    {
     "data": {
      "text/plain": [
       "[(9, 0.5669467095138409),\n",
       " (1, 0.3380617018914066),\n",
       " (8, 0.1889822365046136),\n",
       " (13, 0.1690308509457033),\n",
       " (5, 0.1543033499620919)]"
      ]
     },
     "execution_count": 72,
     "metadata": {},
     "output_type": "execute_result"
    }
   ],
   "source": [
    "most_similar_users_to(0)"
   ]
  },
  {
   "cell_type": "markdown",
   "metadata": {},
   "source": [
    "To get new recommendations, we put the similarity score of the other users   \n",
    "to their interests. Then, we sum all similarity for the same interests   \n",
    "from the other users.\n",
    "\n",
    "<img src=\"./img-resources/recommender-sys-user-based-suggestion.png\" width=800>"
   ]
  },
  {
   "cell_type": "code",
   "execution_count": 73,
   "metadata": {},
   "outputs": [],
   "source": [
    "def user_based_suggestion(user_id: int, include_current_interests: bool = False):\n",
    "  # Sum up the similarities\n",
    "  suggestions: Dict[str, float] = defaultdict(float)\n",
    "  for other_user_id, similarity in most_similar_users_to(user_id):\n",
    "    for interest in users_interests[other_user_id]:\n",
    "      suggestions[interest] += similarity\n",
    "  \n",
    "  # Convert them to a sorted list\n",
    "  suggestions = sorted(suggestions.items(),\n",
    "                        key=lambda pair: pair[-1],    # weight\n",
    "                        reverse=True)\n",
    "\n",
    "  # And (maybe) exclude already interests\n",
    "  if include_current_interests:\n",
    "    return suggestions\n",
    "  else:\n",
    "    return [(suggestion, weight)\n",
    "            for suggestion, weight in suggestions\n",
    "              if suggestions not in users_interests[user_id]]"
   ]
  },
  {
   "cell_type": "code",
   "execution_count": 74,
   "metadata": {},
   "outputs": [
    {
     "data": {
      "text/plain": [
       "[('Big Data', 0.7559289460184544),\n",
       " ('Java', 0.7212500594759328),\n",
       " ('Hadoop', 0.5669467095138409),\n",
       " ('MapReduce', 0.5669467095138409),\n",
       " ('MongoDB', 0.50709255283711),\n",
       " ('HBase', 0.50709255283711),\n",
       " ('Postgres', 0.50709255283711),\n",
       " ('NoSQL', 0.3380617018914066),\n",
       " ('Cassandra', 0.3380617018914066),\n",
       " ('neural networks', 0.1889822365046136),\n",
       " ('deep learning', 0.1889822365046136),\n",
       " ('artificial intelligence', 0.1889822365046136),\n",
       " ('databases', 0.1690308509457033),\n",
       " ('MySQL', 0.1690308509457033),\n",
       " ('Python', 0.1543033499620919),\n",
       " ('R', 0.1543033499620919),\n",
       " ('C++', 0.1543033499620919),\n",
       " ('Haskell', 0.1543033499620919),\n",
       " ('programming languages', 0.1543033499620919)]"
      ]
     },
     "execution_count": 74,
     "metadata": {},
     "output_type": "execute_result"
    }
   ],
   "source": [
    "user_based_suggestion(0)"
   ]
  },
  {
   "cell_type": "markdown",
   "metadata": {},
   "source": [
    "There is a problem to the above approach if the number of items (unique interests)   \n",
    "are very large (remember the curse of dimensionality).  \n",
    "All our vectors in high dimensional spaces are very far apart."
   ]
  },
  {
   "cell_type": "markdown",
   "metadata": {},
   "source": [
    "## Item-Based Collaborative Filtering"
   ]
  },
  {
   "cell_type": "code",
   "execution_count": 75,
   "metadata": {},
   "outputs": [
    {
     "data": {
      "text/plain": [
       "['Big Data',\n",
       " 'C++',\n",
       " 'Cassandra',\n",
       " 'HBase',\n",
       " 'Hadoop',\n",
       " 'Haskell',\n",
       " 'Java',\n",
       " 'Mahout',\n",
       " 'MapReduce',\n",
       " 'MongoDB',\n",
       " 'MySQL',\n",
       " 'NoSQL',\n",
       " 'Postgres',\n",
       " 'Python',\n",
       " 'R',\n",
       " 'Spark',\n",
       " 'Storm',\n",
       " 'artificial intelligence',\n",
       " 'databases',\n",
       " 'decision trees',\n",
       " 'deep learning',\n",
       " 'libsvm',\n",
       " 'machine learning',\n",
       " 'mathematics',\n",
       " 'neural networks',\n",
       " 'numpy',\n",
       " 'pandas',\n",
       " 'probability',\n",
       " 'programming languages',\n",
       " 'regression',\n",
       " 'scikit-learn',\n",
       " 'scipy',\n",
       " 'statistics',\n",
       " 'statsmodels',\n",
       " 'support vector machines',\n",
       " 'theory']"
      ]
     },
     "execution_count": 75,
     "metadata": {},
     "output_type": "execute_result"
    }
   ],
   "source": [
    "unique_interests"
   ]
  },
  {
   "cell_type": "code",
   "execution_count": 76,
   "metadata": {},
   "outputs": [
    {
     "data": {
      "text/plain": [
       "[[1, 0, 0, 0, 0, 0, 0, 0, 1, 1, 0, 0, 0, 0, 0],\n",
       " [0, 0, 0, 0, 0, 1, 0, 0, 0, 0, 0, 1, 0, 0, 0],\n",
       " [1, 1, 0, 0, 0, 0, 0, 0, 0, 0, 0, 0, 0, 0, 0],\n",
       " [1, 1, 0, 0, 0, 0, 0, 0, 0, 0, 0, 0, 0, 1, 0],\n",
       " [1, 0, 0, 0, 0, 0, 0, 0, 0, 1, 0, 0, 0, 0, 0],\n",
       " [0, 0, 0, 0, 0, 1, 0, 0, 0, 0, 0, 0, 0, 0, 0],\n",
       " [1, 0, 0, 0, 0, 1, 0, 0, 0, 1, 0, 0, 0, 0, 0],\n",
       " [0, 0, 0, 0, 0, 0, 0, 1, 0, 0, 0, 0, 0, 0, 0],\n",
       " [0, 0, 0, 0, 0, 0, 0, 0, 0, 1, 0, 0, 0, 0, 0],\n",
       " [0, 1, 0, 0, 0, 0, 0, 0, 0, 0, 0, 0, 0, 1, 0],\n",
       " [0, 0, 0, 0, 0, 0, 0, 0, 0, 0, 0, 0, 0, 1, 0],\n",
       " [0, 1, 0, 0, 0, 0, 0, 0, 0, 0, 0, 0, 0, 0, 0],\n",
       " [0, 1, 0, 0, 0, 0, 0, 0, 0, 0, 0, 0, 0, 1, 0],\n",
       " [0, 0, 1, 1, 0, 1, 0, 0, 0, 0, 0, 0, 1, 0, 0],\n",
       " [0, 0, 0, 1, 0, 1, 0, 0, 0, 0, 1, 0, 1, 0, 0],\n",
       " [1, 0, 0, 0, 0, 0, 0, 0, 0, 0, 0, 0, 0, 0, 0],\n",
       " [1, 0, 0, 0, 0, 0, 0, 0, 0, 0, 0, 0, 0, 0, 0],\n",
       " [0, 0, 0, 0, 0, 0, 0, 0, 1, 0, 0, 1, 0, 0, 0],\n",
       " [0, 0, 0, 0, 0, 0, 0, 0, 0, 0, 0, 0, 0, 1, 0],\n",
       " [0, 0, 0, 0, 1, 0, 0, 0, 0, 0, 0, 0, 0, 0, 0],\n",
       " [0, 0, 0, 0, 0, 0, 0, 0, 1, 0, 0, 1, 0, 0, 0],\n",
       " [0, 0, 0, 0, 1, 0, 0, 0, 0, 0, 0, 0, 0, 0, 1],\n",
       " [0, 0, 0, 0, 1, 0, 0, 1, 0, 0, 0, 0, 0, 0, 0],\n",
       " [0, 0, 0, 0, 0, 0, 1, 0, 0, 0, 0, 0, 0, 0, 0],\n",
       " [0, 0, 0, 0, 0, 0, 0, 1, 1, 0, 0, 0, 0, 0, 0],\n",
       " [0, 0, 1, 0, 0, 0, 0, 0, 0, 0, 0, 0, 0, 0, 0],\n",
       " [0, 0, 1, 0, 0, 0, 0, 0, 0, 0, 0, 0, 1, 0, 0],\n",
       " [0, 0, 0, 1, 0, 0, 1, 0, 0, 0, 0, 1, 0, 0, 0],\n",
       " [0, 0, 0, 0, 0, 1, 0, 0, 0, 0, 0, 0, 0, 0, 0],\n",
       " [0, 0, 0, 1, 1, 0, 0, 0, 0, 0, 0, 0, 0, 0, 1],\n",
       " [0, 0, 1, 0, 0, 0, 0, 1, 0, 0, 0, 0, 0, 0, 0],\n",
       " [0, 0, 1, 0, 0, 0, 0, 0, 0, 0, 0, 0, 0, 0, 0],\n",
       " [0, 0, 0, 1, 0, 0, 1, 0, 0, 0, 1, 0, 0, 0, 0],\n",
       " [0, 0, 1, 0, 0, 0, 0, 0, 0, 0, 1, 0, 0, 0, 0],\n",
       " [0, 0, 0, 0, 0, 0, 0, 0, 0, 0, 0, 0, 0, 0, 1],\n",
       " [0, 0, 0, 0, 0, 0, 1, 0, 0, 0, 0, 0, 0, 0, 0]]"
      ]
     },
     "execution_count": 76,
     "metadata": {},
     "output_type": "execute_result"
    }
   ],
   "source": [
    "interest_user_matrix = [[user_interest_vector[j]\n",
    "                          for user_interest_vector in user_interest_vectors]\n",
    "                            for j, _ in enumerate(unique_interests)]\n",
    "\n",
    "interest_user_matrix"
   ]
  },
  {
   "cell_type": "markdown",
   "metadata": {},
   "source": [
    "`interest_user_matrix` in term of user's index and create a dictionary\n",
    "where the keys are `unique_interests`"
   ]
  },
  {
   "cell_type": "code",
   "execution_count": 77,
   "metadata": {},
   "outputs": [
    {
     "data": {
      "text/plain": [
       "{'Big Data': array([0, 8, 9]),\n",
       " 'C++': array([ 5, 11]),\n",
       " 'Cassandra': array([0, 1]),\n",
       " 'HBase': array([ 0,  1, 13]),\n",
       " 'Hadoop': array([0, 9]),\n",
       " 'Haskell': array([5]),\n",
       " 'Java': array([0, 5, 9]),\n",
       " 'Mahout': array([7]),\n",
       " 'MapReduce': array([9]),\n",
       " 'MongoDB': array([ 1, 13]),\n",
       " 'MySQL': array([13]),\n",
       " 'NoSQL': array([1]),\n",
       " 'Postgres': array([ 1, 13]),\n",
       " 'Python': array([ 2,  3,  5, 12]),\n",
       " 'R': array([ 3,  5, 10, 12]),\n",
       " 'Spark': array([0]),\n",
       " 'Storm': array([0]),\n",
       " 'artificial intelligence': array([ 8, 11]),\n",
       " 'databases': array([13]),\n",
       " 'decision trees': array([4]),\n",
       " 'deep learning': array([ 8, 11]),\n",
       " 'libsvm': array([ 4, 14]),\n",
       " 'machine learning': array([4, 7]),\n",
       " 'mathematics': array([6]),\n",
       " 'neural networks': array([7, 8]),\n",
       " 'numpy': array([2]),\n",
       " 'pandas': array([ 2, 12]),\n",
       " 'probability': array([ 3,  6, 11]),\n",
       " 'programming languages': array([5]),\n",
       " 'regression': array([ 3,  4, 14]),\n",
       " 'scikit-learn': array([2, 7]),\n",
       " 'scipy': array([2]),\n",
       " 'statistics': array([ 3,  6, 10]),\n",
       " 'statsmodels': array([ 2, 10]),\n",
       " 'support vector machines': array([14]),\n",
       " 'theory': array([6])}"
      ]
     },
     "execution_count": 77,
     "metadata": {},
     "output_type": "execute_result"
    }
   ],
   "source": [
    "interest_user_dict = {}\n",
    "for interest, item in zip(unique_interests, interest_user_matrix):\n",
    "  interest_user_dict[interest] = np.arange(len(interest_user_matrix[0]), dtype=int)[np.array(item, dtype=bool)]\n",
    "\n",
    "interest_user_dict"
   ]
  },
  {
   "cell_type": "markdown",
   "metadata": {},
   "source": [
    "In the above result, row `j` of `interest_user_matrix` is column `j` of   \n",
    "`user_interest_vectors`."
   ]
  },
  {
   "cell_type": "code",
   "execution_count": 78,
   "metadata": {},
   "outputs": [
    {
     "data": {
      "text/plain": [
       "[1, 0, 0, 0, 0, 0, 0, 0, 1, 1, 0, 0, 0, 0, 0]"
      ]
     },
     "execution_count": 78,
     "metadata": {},
     "output_type": "execute_result"
    }
   ],
   "source": [
    "interest_user_matrix[0]"
   ]
  },
  {
   "cell_type": "markdown",
   "metadata": {},
   "source": [
    "The above result shows that user 0, 8, and 9 indicates that they have interest  \n",
    "in Big Data (Big Data is `unique_interests[0]`)"
   ]
  },
  {
   "cell_type": "markdown",
   "metadata": {},
   "source": [
    "Now we use again cosine similarity. We compare similarity between two rows in   \n",
    "`interest_user_matrix`"
   ]
  },
  {
   "cell_type": "code",
   "execution_count": 79,
   "metadata": {},
   "outputs": [
    {
     "name": "stdout",
     "output_type": "stream",
     "text": [
      "['1.000', '0.000', '0.408', '0.333', '0.816', '0.000', '0.667', '0.000', '0.577', '0.000', '0.000', '0.000', '0.000', '0.000', '0.000', '0.577', '0.577', '0.408', '0.000', '0.000', '0.408', '0.000', '0.000', '0.000', '0.408', '0.000', '0.000', '0.000', '0.000', '0.000', '0.000', '0.000', '0.000', '0.000', '0.000', '0.000']\n",
      "['0.000', '1.000', '0.000', '0.000', '0.000', '0.707', '0.408', '0.000', '0.000', '0.000', '0.000', '0.000', '0.000', '0.354', '0.354', '0.000', '0.000', '0.500', '0.000', '0.000', '0.500', '0.000', '0.000', '0.000', '0.000', '0.000', '0.000', '0.408', '0.707', '0.000', '0.000', '0.000', '0.000', '0.000', '0.000', '0.000']\n",
      "['0.408', '0.000', '1.000', '0.816', '0.500', '0.000', '0.408', '0.000', '0.000', '0.500', '0.000', '0.707', '0.500', '0.000', '0.000', '0.707', '0.707', '0.000', '0.000', '0.000', '0.000', '0.000', '0.000', '0.000', '0.000', '0.000', '0.000', '0.000', '0.000', '0.000', '0.000', '0.000', '0.000', '0.000', '0.000', '0.000']\n",
      "['0.333', '0.000', '0.816', '1.000', '0.408', '0.000', '0.333', '0.000', '0.000', '0.816', '0.577', '0.577', '0.816', '0.000', '0.000', '0.577', '0.577', '0.000', '0.577', '0.000', '0.000', '0.000', '0.000', '0.000', '0.000', '0.000', '0.000', '0.000', '0.000', '0.000', '0.000', '0.000', '0.000', '0.000', '0.000', '0.000']\n",
      "['0.816', '0.000', '0.500', '0.408', '1.000', '0.000', '0.816', '0.000', '0.707', '0.000', '0.000', '0.000', '0.000', '0.000', '0.000', '0.707', '0.707', '0.000', '0.000', '0.000', '0.000', '0.000', '0.000', '0.000', '0.000', '0.000', '0.000', '0.000', '0.000', '0.000', '0.000', '0.000', '0.000', '0.000', '0.000', '0.000']\n",
      "['0.000', '0.707', '0.000', '0.000', '0.000', '1.000', '0.577', '0.000', '0.000', '0.000', '0.000', '0.000', '0.000', '0.500', '0.500', '0.000', '0.000', '0.000', '0.000', '0.000', '0.000', '0.000', '0.000', '0.000', '0.000', '0.000', '0.000', '0.000', '1.000', '0.000', '0.000', '0.000', '0.000', '0.000', '0.000', '0.000']\n",
      "['0.667', '0.408', '0.408', '0.333', '0.816', '0.577', '1.000', '0.000', '0.577', '0.000', '0.000', '0.000', '0.000', '0.289', '0.289', '0.577', '0.577', '0.000', '0.000', '0.000', '0.000', '0.000', '0.000', '0.000', '0.000', '0.000', '0.000', '0.000', '0.577', '0.000', '0.000', '0.000', '0.000', '0.000', '0.000', '0.000']\n",
      "['0.000', '0.000', '0.000', '0.000', '0.000', '0.000', '0.000', '1.000', '0.000', '0.000', '0.000', '0.000', '0.000', '0.000', '0.000', '0.000', '0.000', '0.000', '0.000', '0.000', '0.000', '0.000', '0.707', '0.000', '0.707', '0.000', '0.000', '0.000', '0.000', '0.000', '0.707', '0.000', '0.000', '0.000', '0.000', '0.000']\n",
      "['0.577', '0.000', '0.000', '0.000', '0.707', '0.000', '0.577', '0.000', '1.000', '0.000', '0.000', '0.000', '0.000', '0.000', '0.000', '0.000', '0.000', '0.000', '0.000', '0.000', '0.000', '0.000', '0.000', '0.000', '0.000', '0.000', '0.000', '0.000', '0.000', '0.000', '0.000', '0.000', '0.000', '0.000', '0.000', '0.000']\n",
      "['0.000', '0.000', '0.500', '0.816', '0.000', '0.000', '0.000', '0.000', '0.000', '1.000', '0.707', '0.707', '1.000', '0.000', '0.000', '0.000', '0.000', '0.000', '0.707', '0.000', '0.000', '0.000', '0.000', '0.000', '0.000', '0.000', '0.000', '0.000', '0.000', '0.000', '0.000', '0.000', '0.000', '0.000', '0.000', '0.000']\n",
      "['0.000', '0.000', '0.000', '0.577', '0.000', '0.000', '0.000', '0.000', '0.000', '0.707', '1.000', '0.000', '0.707', '0.000', '0.000', '0.000', '0.000', '0.000', '1.000', '0.000', '0.000', '0.000', '0.000', '0.000', '0.000', '0.000', '0.000', '0.000', '0.000', '0.000', '0.000', '0.000', '0.000', '0.000', '0.000', '0.000']\n",
      "['0.000', '0.000', '0.707', '0.577', '0.000', '0.000', '0.000', '0.000', '0.000', '0.707', '0.000', '1.000', '0.707', '0.000', '0.000', '0.000', '0.000', '0.000', '0.000', '0.000', '0.000', '0.000', '0.000', '0.000', '0.000', '0.000', '0.000', '0.000', '0.000', '0.000', '0.000', '0.000', '0.000', '0.000', '0.000', '0.000']\n",
      "['0.000', '0.000', '0.500', '0.816', '0.000', '0.000', '0.000', '0.000', '0.000', '1.000', '0.707', '0.707', '1.000', '0.000', '0.000', '0.000', '0.000', '0.000', '0.707', '0.000', '0.000', '0.000', '0.000', '0.000', '0.000', '0.000', '0.000', '0.000', '0.000', '0.000', '0.000', '0.000', '0.000', '0.000', '0.000', '0.000']\n",
      "['0.000', '0.354', '0.000', '0.000', '0.000', '0.500', '0.289', '0.000', '0.000', '0.000', '0.000', '0.000', '0.000', '1.000', '0.750', '0.000', '0.000', '0.000', '0.000', '0.000', '0.000', '0.000', '0.000', '0.000', '0.000', '0.500', '0.707', '0.289', '0.500', '0.289', '0.354', '0.500', '0.289', '0.354', '0.000', '0.000']\n",
      "['0.000', '0.354', '0.000', '0.000', '0.000', '0.500', '0.289', '0.000', '0.000', '0.000', '0.000', '0.000', '0.000', '0.750', '1.000', '0.000', '0.000', '0.000', '0.000', '0.000', '0.000', '0.000', '0.000', '0.000', '0.000', '0.000', '0.354', '0.289', '0.500', '0.289', '0.000', '0.000', '0.577', '0.354', '0.000', '0.000']\n",
      "['0.577', '0.000', '0.707', '0.577', '0.707', '0.000', '0.577', '0.000', '0.000', '0.000', '0.000', '0.000', '0.000', '0.000', '0.000', '1.000', '1.000', '0.000', '0.000', '0.000', '0.000', '0.000', '0.000', '0.000', '0.000', '0.000', '0.000', '0.000', '0.000', '0.000', '0.000', '0.000', '0.000', '0.000', '0.000', '0.000']\n",
      "['0.577', '0.000', '0.707', '0.577', '0.707', '0.000', '0.577', '0.000', '0.000', '0.000', '0.000', '0.000', '0.000', '0.000', '0.000', '1.000', '1.000', '0.000', '0.000', '0.000', '0.000', '0.000', '0.000', '0.000', '0.000', '0.000', '0.000', '0.000', '0.000', '0.000', '0.000', '0.000', '0.000', '0.000', '0.000', '0.000']\n",
      "['0.408', '0.500', '0.000', '0.000', '0.000', '0.000', '0.000', '0.000', '0.000', '0.000', '0.000', '0.000', '0.000', '0.000', '0.000', '0.000', '0.000', '1.000', '0.000', '0.000', '1.000', '0.000', '0.000', '0.000', '0.500', '0.000', '0.000', '0.408', '0.000', '0.000', '0.000', '0.000', '0.000', '0.000', '0.000', '0.000']\n",
      "['0.000', '0.000', '0.000', '0.577', '0.000', '0.000', '0.000', '0.000', '0.000', '0.707', '1.000', '0.000', '0.707', '0.000', '0.000', '0.000', '0.000', '0.000', '1.000', '0.000', '0.000', '0.000', '0.000', '0.000', '0.000', '0.000', '0.000', '0.000', '0.000', '0.000', '0.000', '0.000', '0.000', '0.000', '0.000', '0.000']\n",
      "['0.000', '0.000', '0.000', '0.000', '0.000', '0.000', '0.000', '0.000', '0.000', '0.000', '0.000', '0.000', '0.000', '0.000', '0.000', '0.000', '0.000', '0.000', '0.000', '1.000', '0.000', '0.707', '0.707', '0.000', '0.000', '0.000', '0.000', '0.000', '0.000', '0.577', '0.000', '0.000', '0.000', '0.000', '0.000', '0.000']\n",
      "['0.408', '0.500', '0.000', '0.000', '0.000', '0.000', '0.000', '0.000', '0.000', '0.000', '0.000', '0.000', '0.000', '0.000', '0.000', '0.000', '0.000', '1.000', '0.000', '0.000', '1.000', '0.000', '0.000', '0.000', '0.500', '0.000', '0.000', '0.408', '0.000', '0.000', '0.000', '0.000', '0.000', '0.000', '0.000', '0.000']\n",
      "['0.000', '0.000', '0.000', '0.000', '0.000', '0.000', '0.000', '0.000', '0.000', '0.000', '0.000', '0.000', '0.000', '0.000', '0.000', '0.000', '0.000', '0.000', '0.000', '0.707', '0.000', '1.000', '0.500', '0.000', '0.000', '0.000', '0.000', '0.000', '0.000', '0.816', '0.000', '0.000', '0.000', '0.000', '0.707', '0.000']\n",
      "['0.000', '0.000', '0.000', '0.000', '0.000', '0.000', '0.000', '0.707', '0.000', '0.000', '0.000', '0.000', '0.000', '0.000', '0.000', '0.000', '0.000', '0.000', '0.000', '0.707', '0.000', '0.500', '1.000', '0.000', '0.500', '0.000', '0.000', '0.000', '0.000', '0.408', '0.500', '0.000', '0.000', '0.000', '0.000', '0.000']\n",
      "['0.000', '0.000', '0.000', '0.000', '0.000', '0.000', '0.000', '0.000', '0.000', '0.000', '0.000', '0.000', '0.000', '0.000', '0.000', '0.000', '0.000', '0.000', '0.000', '0.000', '0.000', '0.000', '0.000', '1.000', '0.000', '0.000', '0.000', '0.577', '0.000', '0.000', '0.000', '0.000', '0.577', '0.000', '0.000', '1.000']\n",
      "['0.408', '0.000', '0.000', '0.000', '0.000', '0.000', '0.000', '0.707', '0.000', '0.000', '0.000', '0.000', '0.000', '0.000', '0.000', '0.000', '0.000', '0.500', '0.000', '0.000', '0.500', '0.000', '0.500', '0.000', '1.000', '0.000', '0.000', '0.000', '0.000', '0.000', '0.500', '0.000', '0.000', '0.000', '0.000', '0.000']\n",
      "['0.000', '0.000', '0.000', '0.000', '0.000', '0.000', '0.000', '0.000', '0.000', '0.000', '0.000', '0.000', '0.000', '0.500', '0.000', '0.000', '0.000', '0.000', '0.000', '0.000', '0.000', '0.000', '0.000', '0.000', '0.000', '1.000', '0.707', '0.000', '0.000', '0.000', '0.707', '1.000', '0.000', '0.707', '0.000', '0.000']\n",
      "['0.000', '0.000', '0.000', '0.000', '0.000', '0.000', '0.000', '0.000', '0.000', '0.000', '0.000', '0.000', '0.000', '0.707', '0.354', '0.000', '0.000', '0.000', '0.000', '0.000', '0.000', '0.000', '0.000', '0.000', '0.000', '0.707', '1.000', '0.000', '0.000', '0.000', '0.500', '0.707', '0.000', '0.500', '0.000', '0.000']\n",
      "['0.000', '0.408', '0.000', '0.000', '0.000', '0.000', '0.000', '0.000', '0.000', '0.000', '0.000', '0.000', '0.000', '0.289', '0.289', '0.000', '0.000', '0.408', '0.000', '0.000', '0.408', '0.000', '0.000', '0.577', '0.000', '0.000', '0.000', '1.000', '0.000', '0.333', '0.000', '0.000', '0.667', '0.000', '0.000', '0.577']\n",
      "['0.000', '0.707', '0.000', '0.000', '0.000', '1.000', '0.577', '0.000', '0.000', '0.000', '0.000', '0.000', '0.000', '0.500', '0.500', '0.000', '0.000', '0.000', '0.000', '0.000', '0.000', '0.000', '0.000', '0.000', '0.000', '0.000', '0.000', '0.000', '1.000', '0.000', '0.000', '0.000', '0.000', '0.000', '0.000', '0.000']\n",
      "['0.000', '0.000', '0.000', '0.000', '0.000', '0.000', '0.000', '0.000', '0.000', '0.000', '0.000', '0.000', '0.000', '0.289', '0.289', '0.000', '0.000', '0.000', '0.000', '0.577', '0.000', '0.816', '0.408', '0.000', '0.000', '0.000', '0.000', '0.333', '0.000', '1.000', '0.000', '0.000', '0.333', '0.000', '0.577', '0.000']\n",
      "['0.000', '0.000', '0.000', '0.000', '0.000', '0.000', '0.000', '0.707', '0.000', '0.000', '0.000', '0.000', '0.000', '0.354', '0.000', '0.000', '0.000', '0.000', '0.000', '0.000', '0.000', '0.000', '0.500', '0.000', '0.500', '0.707', '0.500', '0.000', '0.000', '0.000', '1.000', '0.707', '0.000', '0.500', '0.000', '0.000']\n",
      "['0.000', '0.000', '0.000', '0.000', '0.000', '0.000', '0.000', '0.000', '0.000', '0.000', '0.000', '0.000', '0.000', '0.500', '0.000', '0.000', '0.000', '0.000', '0.000', '0.000', '0.000', '0.000', '0.000', '0.000', '0.000', '1.000', '0.707', '0.000', '0.000', '0.000', '0.707', '1.000', '0.000', '0.707', '0.000', '0.000']\n",
      "['0.000', '0.000', '0.000', '0.000', '0.000', '0.000', '0.000', '0.000', '0.000', '0.000', '0.000', '0.000', '0.000', '0.289', '0.577', '0.000', '0.000', '0.000', '0.000', '0.000', '0.000', '0.000', '0.000', '0.577', '0.000', '0.000', '0.000', '0.667', '0.000', '0.333', '0.000', '0.000', '1.000', '0.408', '0.000', '0.577']\n",
      "['0.000', '0.000', '0.000', '0.000', '0.000', '0.000', '0.000', '0.000', '0.000', '0.000', '0.000', '0.000', '0.000', '0.354', '0.354', '0.000', '0.000', '0.000', '0.000', '0.000', '0.000', '0.000', '0.000', '0.000', '0.000', '0.707', '0.500', '0.000', '0.000', '0.000', '0.500', '0.707', '0.408', '1.000', '0.000', '0.000']\n",
      "['0.000', '0.000', '0.000', '0.000', '0.000', '0.000', '0.000', '0.000', '0.000', '0.000', '0.000', '0.000', '0.000', '0.000', '0.000', '0.000', '0.000', '0.000', '0.000', '0.000', '0.000', '0.707', '0.000', '0.000', '0.000', '0.000', '0.000', '0.000', '0.000', '0.577', '0.000', '0.000', '0.000', '0.000', '1.000', '0.000']\n",
      "['0.000', '0.000', '0.000', '0.000', '0.000', '0.000', '0.000', '0.000', '0.000', '0.000', '0.000', '0.000', '0.000', '0.000', '0.000', '0.000', '0.000', '0.000', '0.000', '0.000', '0.000', '0.000', '0.000', '1.000', '0.000', '0.000', '0.000', '0.577', '0.000', '0.000', '0.000', '0.000', '0.577', '0.000', '0.000', '1.000']\n"
     ]
    }
   ],
   "source": [
    "interest_similarities = [[nlp.cosine_similarity(user_vector_i, user_vector_j)\n",
    "                            for user_vector_j in interest_user_matrix]\n",
    "                          for user_vector_i in interest_user_matrix]\n",
    "\n",
    "for interest_similarity in interest_similarities:\n",
    "  print([f\"{interest:.3f}\" for interest in interest_similarity])"
   ]
  },
  {
   "cell_type": "code",
   "execution_count": 80,
   "metadata": {},
   "outputs": [
    {
     "data": {
      "image/png": "[encoded data removed]",
      "text/plain": [
       "<Figure size 600x600 with 1 Axes>"
      ]
     },
     "metadata": {},
     "output_type": "display_data"
    }
   ],
   "source": [
    "A = np.array(interest_similarities)\n",
    "mask = np.tri(A.shape[0], k=-1).T\n",
    "A = np.ma.array(A, mask=mask) # mask out the lower triangle\n",
    "fig, ax = plt.subplots(figsize=(6, 6))\n",
    "cmap = colormaps.get_cmap('summer') # jet doesn't have white color\n",
    "cmap.set_bad('w') # default value is 'k'\n",
    "ax.imshow(A, interpolation=\"nearest\", cmap=cmap, vmin=0, vmax=1)\n",
    "\n",
    "ax.set_yticks(np.arange(0, len(A), 1))\n",
    "ax.set_yticklabels([interest for interest in unique_interests[::]], fontsize=\"xx-small\")\n",
    "\n",
    "ax.set_xticks(np.arange(0, len(A), 3))\n",
    "ax.set_xticklabels([interest for interest in unique_interests[::3]], \n",
    "                    rotation=45, ha=\"right\", fontsize=\"xx-small\")\n",
    "plt.show()\n"
   ]
  },
  {
   "cell_type": "markdown",
   "metadata": {},
   "source": [
    "Find all interests that has non zero similarity with interest0 (\"Big Data\")"
   ]
  },
  {
   "cell_type": "code",
   "execution_count": 81,
   "metadata": {},
   "outputs": [
    {
     "data": {
      "text/plain": [
       "array([['Big Data'],\n",
       "       ['Cassandra'],\n",
       "       ['HBase'],\n",
       "       ['Hadoop'],\n",
       "       ['Java'],\n",
       "       ['MapReduce'],\n",
       "       ['Spark'],\n",
       "       ['Storm'],\n",
       "       ['artificial intelligence'],\n",
       "       ['deep learning'],\n",
       "       ['neural networks']], dtype='<U23')"
      ]
     },
     "execution_count": 81,
     "metadata": {},
     "output_type": "execute_result"
    }
   ],
   "source": [
    "np.array(unique_interests)[np.argwhere(np.array(interest_similarities)[:, 0] > 1e-5)]"
   ]
  },
  {
   "cell_type": "code",
   "execution_count": 82,
   "metadata": {},
   "outputs": [
    {
     "data": {
      "text/plain": [
       "'Hadoop'"
      ]
     },
     "execution_count": 82,
     "metadata": {},
     "output_type": "execute_result"
    }
   ],
   "source": [
    "np.array(unique_interests[1:])[np.argmax(np.array(interest_similarities)[1:, 0])]"
   ]
  },
  {
   "cell_type": "markdown",
   "metadata": {},
   "source": [
    "We can find the interests most similar to Big Data (`unique_interests[0]`) with  \n",
    "the following function"
   ]
  },
  {
   "cell_type": "code",
   "execution_count": 83,
   "metadata": {},
   "outputs": [],
   "source": [
    "def most_similar_interests_to(interest_id: int):\n",
    "  similarities = interest_similarities[interest_id]\n",
    "  pairs = [(unique_interests[other_interest_id], similarity)\n",
    "            for other_interest_id, similarity in enumerate(similarities)\n",
    "              if interest_id != other_interest_id and similarity > 0]\n",
    "  return sorted(pairs,\n",
    "                key=lambda pair: pair[-1],\n",
    "                reverse=True)"
   ]
  },
  {
   "cell_type": "code",
   "execution_count": 92,
   "metadata": {},
   "outputs": [
    {
     "data": {
      "text/plain": [
       "[('Big Data', 0.4082482904638631),\n",
       " ('HBase', 0.8164965809277261),\n",
       " ('Hadoop', 0.5),\n",
       " ('Java', 0.4082482904638631),\n",
       " ('MongoDB', 0.5),\n",
       " ('NoSQL', 0.7071067811865475),\n",
       " ('Postgres', 0.5),\n",
       " ('Spark', 0.7071067811865475),\n",
       " ('Storm', 0.7071067811865475)]"
      ]
     },
     "execution_count": 92,
     "metadata": {},
     "output_type": "execute_result"
    }
   ],
   "source": [
    "sorted(most_similar_interests_to(2), key=lambda x: x[0])"
   ]
  },
  {
   "cell_type": "code",
   "execution_count": 54,
   "metadata": {},
   "outputs": [
    {
     "data": {
      "text/plain": [
       "'Storm'"
      ]
     },
     "execution_count": 54,
     "metadata": {},
     "output_type": "execute_result"
    }
   ],
   "source": [
    "unique_interests[16]"
   ]
  },
  {
   "cell_type": "code",
   "execution_count": 25,
   "metadata": {},
   "outputs": [
    {
     "data": {
      "text/plain": [
       "[('Spark', 1.0),\n",
       " ('Cassandra', 0.7071067811865475),\n",
       " ('Hadoop', 0.7071067811865475),\n",
       " ('Big Data', 0.5773502691896258),\n",
       " ('HBase', 0.5773502691896258),\n",
       " ('Java', 0.5773502691896258)]"
      ]
     },
     "execution_count": 25,
     "metadata": {},
     "output_type": "execute_result"
    }
   ],
   "source": [
    "most_similar_interests_to(16)"
   ]
  },
  {
   "cell_type": "markdown",
   "metadata": {},
   "source": [
    "Now we can ceate recommendations for a user by summing up the similarities of  \n",
    "the interests similar to his:"
   ]
  },
  {
   "cell_type": "code",
   "execution_count": 26,
   "metadata": {},
   "outputs": [],
   "source": [
    "def item_based_suggestions(user_id: int,\n",
    "                            include_current_interests: bool = False):\n",
    "  # Add up the similar interests\n",
    "  suggestions = defaultdict(float)\n",
    "  user_interest_vector = user_interest_vectors[user_id]\n",
    "  for interest_id, is_interested in enumerate(user_interest_vector):\n",
    "    if is_interested == 1:\n",
    "      similar_interests = most_similar_interests_to(interest_id)\n",
    "      for interest, similarity in similar_interests:\n",
    "        suggestions[interest] += similarity\n",
    "\n",
    "  # Sort them by weight\n",
    "  suggestions = sorted(suggestions.items(),\n",
    "                        key=lambda pair: pair[-1],\n",
    "                        reverse=True)\n",
    "  \n",
    "  if include_current_interests:\n",
    "    return suggestions\n",
    "  else:\n",
    "    return [(suggestion, weight)\n",
    "            for suggestion, weight in suggestions\n",
    "              if suggestion not in users_interests[user_id]]"
   ]
  },
  {
   "cell_type": "code",
   "execution_count": 27,
   "metadata": {},
   "outputs": [
    {
     "data": {
      "text/plain": [
       "[('MapReduce', 1.861807319565799),\n",
       " ('MongoDB', 1.3164965809277263),\n",
       " ('Postgres', 1.3164965809277263),\n",
       " ('NoSQL', 1.2844570503761732),\n",
       " ('MySQL', 0.5773502691896258),\n",
       " ('databases', 0.5773502691896258),\n",
       " ('Haskell', 0.5773502691896258),\n",
       " ('programming languages', 0.5773502691896258),\n",
       " ('artificial intelligence', 0.4082482904638631),\n",
       " ('deep learning', 0.4082482904638631),\n",
       " ('neural networks', 0.4082482904638631),\n",
       " ('C++', 0.4082482904638631),\n",
       " ('Python', 0.2886751345948129),\n",
       " ('R', 0.2886751345948129)]"
      ]
     },
     "execution_count": 27,
     "metadata": {},
     "output_type": "execute_result"
    }
   ],
   "source": [
    "item_based_suggestions(0)"
   ]
  }
 ],
 "metadata": {
  "kernelspec": {
   "display_name": "base",
   "language": "python",
   "name": "python3"
  },
  "language_info": {
   "codemirror_mode": {
    "name": "ipython",
    "version": 3
   },
   "file_extension": ".py",
   "mimetype": "text/x-python",
   "name": "python",
   "nbconvert_exporter": "python",
   "pygments_lexer": "ipython3",
   "version": "3.11.5"
  }
 },
 "nbformat": 4,
 "nbformat_minor": 2
}
