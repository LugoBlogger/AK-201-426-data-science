{
 "cells": [
  {
   "cell_type": "code",
   "execution_count": 96,
   "metadata": {},
   "outputs": [],
   "source": [
    "import json\n",
    "import time\n",
    "import numpy as np\n",
    "\n",
    "from collections import defaultdict, Counter\n",
    "from typing import List, Optional, Dict, Iterable, Tuple, Callable\n",
    "\n",
    "from IPython.display import display"
   ]
  },
  {
   "cell_type": "markdown",
   "metadata": {},
   "source": [
    "# A Crash Course in Python"
   ]
  },
  {
   "cell_type": "markdown",
   "metadata": {},
   "source": [
    "## Whitespace Formatting"
   ]
  },
  {
   "cell_type": "code",
   "execution_count": 2,
   "metadata": {},
   "outputs": [
    {
     "name": "stdout",
     "output_type": "stream",
     "text": [
      "1: 1 2\n",
      "2 3\n",
      "3 4\n",
      "4 5\n",
      "5 6\n",
      "; 1\n",
      "2: 1 3\n",
      "2 4\n",
      "3 5\n",
      "4 6\n",
      "5 7\n",
      "; 2\n",
      "3: 1 4\n",
      "2 5\n",
      "3 6\n",
      "4 7\n",
      "5 8\n",
      "; 3\n",
      "4: 1 5\n",
      "2 6\n",
      "3 7\n",
      "4 8\n",
      "5 9\n",
      "; 4\n",
      "5: 1 6\n",
      "2 7\n",
      "3 8\n",
      "4 9\n",
      "5 10\n",
      "; 5\n",
      "done looping\n"
     ]
    }
   ],
   "source": [
    "# The pound sign marks the start of a comment. Python itself\n",
    "# ignores the comments, but they're helpful for anyone reading the code. \n",
    "for i in [1, 2, 3, 4, 5]:\n",
    "  print(i, end=\": \")                      # First line in \"for i\" block\n",
    "  for j in [1, 2, 3, 4, 5]:\n",
    "    print(j, end=\" \")\n",
    "    print(i + j)\n",
    "  \n",
    "  print(\"; \", end=\"\")\n",
    "  print(i)\n",
    "print(\"done looping\")"
   ]
  },
  {
   "attachments": {},
   "cell_type": "markdown",
   "metadata": {},
   "source": [
    "Whitespace is ignored inside parantheses and backets"
   ]
  },
  {
   "cell_type": "code",
   "execution_count": 3,
   "metadata": {},
   "outputs": [
    {
     "data": {
      "text/plain": [
       "210"
      ]
     },
     "execution_count": 3,
     "metadata": {},
     "output_type": "execute_result"
    }
   ],
   "source": [
    "long_winded_computation = (1 + 2 + 3 + 4 + 5 + 6 + 7 + 8 + 9 + 10\n",
    "  + 11 + 12 + 13 + 14 + 15 + 16 + 17 + 18 + 19 + 20)\n",
    "long_winded_computation"
   ]
  },
  {
   "cell_type": "code",
   "execution_count": 4,
   "metadata": {},
   "outputs": [
    {
     "data": {
      "text/plain": [
       "[[1, 2, 3], [4, 5, 6], [7, 8, 9]]"
      ]
     },
     "execution_count": 4,
     "metadata": {},
     "output_type": "execute_result"
    }
   ],
   "source": [
    "list_of_lists = [[1, 2, 3], [4, 5, 6], [7, 8, 9]]\n",
    "\n",
    "easier_to_read_list_of_lists = [[1, 2, 3],\n",
    "                                [4, 5, 6],\n",
    "                                [7, 8, 9]]\n",
    "easier_to_read_list_of_lists"
   ]
  },
  {
   "attachments": {},
   "cell_type": "markdown",
   "metadata": {},
   "source": [
    "Use backslash to indicate that a statement continues onto the next line\n"
   ]
  },
  {
   "cell_type": "code",
   "execution_count": 5,
   "metadata": {},
   "outputs": [
    {
     "data": {
      "text/plain": [
       "5"
      ]
     },
     "execution_count": 5,
     "metadata": {},
     "output_type": "execute_result"
    }
   ],
   "source": [
    "two_plus_three = 2 + \\\n",
    "                 3\n",
    "two_plus_three"
   ]
  },
  {
   "attachments": {},
   "cell_type": "markdown",
   "metadata": {},
   "source": [
    "## Modules"
   ]
  },
  {
   "cell_type": "markdown",
   "metadata": {},
   "source": [
    "There are commonly three ways to import libraries or other Python user-defined\n",
    "function"
   ]
  },
  {
   "cell_type": "code",
   "execution_count": 6,
   "metadata": {},
   "outputs": [
    {
     "data": {
      "text/plain": [
       "re.compile(r'[0-9]+', re.IGNORECASE|re.UNICODE)"
      ]
     },
     "execution_count": 6,
     "metadata": {},
     "output_type": "execute_result"
    }
   ],
   "source": [
    "import re \n",
    "my_regex = re.compile(\"[0-9]+\", re.I)\n",
    "my_regex"
   ]
  },
  {
   "cell_type": "markdown",
   "metadata": {},
   "source": [
    "We import the library name with an alias"
   ]
  },
  {
   "cell_type": "code",
   "execution_count": 7,
   "metadata": {},
   "outputs": [
    {
     "data": {
      "text/plain": [
       "re.compile(r'[0-9]+', re.IGNORECASE|re.UNICODE)"
      ]
     },
     "execution_count": 7,
     "metadata": {},
     "output_type": "execute_result"
    }
   ],
   "source": [
    "import re as regex\n",
    "my_regex = regex.compile(\"[0-9]+\", regex.I)\n",
    "my_regex"
   ]
  },
  {
   "cell_type": "markdown",
   "metadata": {},
   "source": [
    "We import specific submodule (file, class, function inside the loaded library)\n",
    "using a user-defined namespace for shorten name"
   ]
  },
  {
   "cell_type": "code",
   "execution_count": 8,
   "metadata": {},
   "outputs": [
    {
     "data": {
      "image/png": "[encoded data removed]",
      "text/plain": [
       "<Figure size 640x480 with 1 Axes>"
      ]
     },
     "metadata": {},
     "output_type": "display_data"
    }
   ],
   "source": [
    "import matplotlib.pyplot as plt\n",
    "\n",
    "fig, ax = plt.subplots()\n",
    "\n",
    "plt.show(fig)"
   ]
  },
  {
   "cell_type": "markdown",
   "metadata": {},
   "source": [
    "We can import explicitly the function or class inside a module/library"
   ]
  },
  {
   "cell_type": "code",
   "execution_count": 9,
   "metadata": {},
   "outputs": [],
   "source": [
    "from collections import defaultdict, Counter\n",
    "lookup = defaultdict(int)\n",
    "my_counter = Counter()"
   ]
  },
  {
   "attachments": {},
   "cell_type": "markdown",
   "metadata": {},
   "source": [
    "## Functions"
   ]
  },
  {
   "cell_type": "code",
   "execution_count": 10,
   "metadata": {},
   "outputs": [],
   "source": [
    "def double(x):\n",
    "  \"\"\"\n",
    "  This is where you put an optional docstring that explains what the\n",
    "  function does. For example, this function multiplies its input by 2.\n",
    "  \"\"\"\n",
    "  return x * 2"
   ]
  },
  {
   "attachments": {},
   "cell_type": "markdown",
   "metadata": {},
   "source": [
    "Python functions are *first-class*, which means that we can assign them to\n",
    "variables and pass them into functions just like any other arguments."
   ]
  },
  {
   "cell_type": "code",
   "execution_count": 11,
   "metadata": {},
   "outputs": [
    {
     "data": {
      "text/plain": [
       "2"
      ]
     },
     "execution_count": 11,
     "metadata": {},
     "output_type": "execute_result"
    }
   ],
   "source": [
    "def apply_to_one(f):\n",
    "  \"\"\"Calls the function f with 1 as its argument\"\"\" \n",
    "  return f(1)\n",
    "\n",
    "my_double = double          # referes to the previously defined function\n",
    "x = apply_to_one(my_double)\n",
    "x"
   ]
  },
  {
   "attachments": {},
   "cell_type": "markdown",
   "metadata": {},
   "source": [
    "Create short anonymous functions, or *lambdas*"
   ]
  },
  {
   "cell_type": "code",
   "execution_count": 12,
   "metadata": {},
   "outputs": [
    {
     "data": {
      "text/plain": [
       "5"
      ]
     },
     "execution_count": 12,
     "metadata": {},
     "output_type": "execute_result"
    }
   ],
   "source": [
    "y = apply_to_one(lambda x: x + 4)\n",
    "y"
   ]
  },
  {
   "attachments": {},
   "cell_type": "markdown",
   "metadata": {},
   "source": [
    "Function parameters can also be given default arguments"
   ]
  },
  {
   "cell_type": "code",
   "execution_count": 13,
   "metadata": {},
   "outputs": [
    {
     "name": "stdout",
     "output_type": "stream",
     "text": [
      "hello\n",
      "my default message\n"
     ]
    }
   ],
   "source": [
    "def my_print(message=\"my default message\"):\n",
    "  print(message)\n",
    "\n",
    "my_print(\"hello\")         # prints \"hello\"\n",
    "my_print()                # prints 'my default message'"
   ]
  },
  {
   "attachments": {},
   "cell_type": "markdown",
   "metadata": {},
   "source": [
    "## Strings"
   ]
  },
  {
   "attachments": {},
   "cell_type": "markdown",
   "metadata": {},
   "source": [
    "Strings can be delimited by single or double quotation marks"
   ]
  },
  {
   "cell_type": "code",
   "execution_count": 14,
   "metadata": {},
   "outputs": [],
   "source": [
    "single_quoted_string = 'data science'\n",
    "double_quoted_string = \"data science\""
   ]
  },
  {
   "attachments": {},
   "cell_type": "markdown",
   "metadata": {},
   "source": [
    "Python uses backslashes to encode special characters. For example:"
   ]
  },
  {
   "cell_type": "code",
   "execution_count": 15,
   "metadata": {},
   "outputs": [
    {
     "data": {
      "text/plain": [
       "1"
      ]
     },
     "execution_count": 15,
     "metadata": {},
     "output_type": "execute_result"
    }
   ],
   "source": [
    "tab_string = \"\\t\"       # represents the tab character\n",
    "len(tab_string)"
   ]
  },
  {
   "cell_type": "code",
   "execution_count": 16,
   "metadata": {},
   "outputs": [
    {
     "data": {
      "text/plain": [
       "2"
      ]
     },
     "execution_count": 16,
     "metadata": {},
     "output_type": "execute_result"
    }
   ],
   "source": [
    "not_tab_string = r\"\\t\"      # represents the characters '\\' and 't'\n",
    "len(not_tab_string)"
   ]
  },
  {
   "cell_type": "code",
   "execution_count": 17,
   "metadata": {},
   "outputs": [],
   "source": [
    "multi_line_string = \"\"\"This is the first line.\n",
    "  and this is the second line\n",
    "  and this is the third line\"\"\""
   ]
  },
  {
   "attachments": {},
   "cell_type": "markdown",
   "metadata": {},
   "source": [
    "A new feature in Python 3.6 is the *f-string*, which provides a simple\n",
    "way to substitute values into strings."
   ]
  },
  {
   "cell_type": "code",
   "execution_count": 18,
   "metadata": {},
   "outputs": [],
   "source": [
    "first_name = \"Joel\"\n",
    "last_name = \"Grus\""
   ]
  },
  {
   "cell_type": "code",
   "execution_count": 19,
   "metadata": {},
   "outputs": [
    {
     "name": "stdout",
     "output_type": "stream",
     "text": [
      "Joel Grus\n",
      "Joel Grus\n"
     ]
    }
   ],
   "source": [
    "full_name1 = first_name + \" \" + last_name             # string addition\n",
    "full_name2 = \"{0} {1}\".format(first_name, last_name)  # string.format\n",
    "\n",
    "print(full_name1)\n",
    "print(full_name2)"
   ]
  },
  {
   "cell_type": "code",
   "execution_count": 20,
   "metadata": {},
   "outputs": [
    {
     "name": "stdout",
     "output_type": "stream",
     "text": [
      "Joel Grus\n"
     ]
    }
   ],
   "source": [
    "full_name3 = f\"{first_name} {last_name}\"\n",
    "print(full_name3)"
   ]
  },
  {
   "attachments": {},
   "cell_type": "markdown",
   "metadata": {},
   "source": [
    "## Exceptions"
   ]
  },
  {
   "cell_type": "code",
   "execution_count": 21,
   "metadata": {},
   "outputs": [
    {
     "name": "stdout",
     "output_type": "stream",
     "text": [
      "cannot divide by zero\n"
     ]
    }
   ],
   "source": [
    "try:\n",
    "  print(0 / 0)\n",
    "except ZeroDivisionError:\n",
    "  print(\"cannot divide by zero\")"
   ]
  },
  {
   "attachments": {},
   "cell_type": "markdown",
   "metadata": {},
   "source": [
    "## Lists"
   ]
  },
  {
   "cell_type": "markdown",
   "metadata": {},
   "source": [
    "This is a fundamental data structure in Python and similar to another data \n",
    "structure which is called _array_ in other programming languages."
   ]
  },
  {
   "cell_type": "code",
   "execution_count": 22,
   "metadata": {},
   "outputs": [],
   "source": [
    "integer_list = [1, 2, 3]\n",
    "heterogeneous_list = [\"string\", 0.1, True]\n",
    "list_of_lists = [integer_list, heterogeneous_list, []]\n",
    "\n",
    "list_length = len(integer_list)   # equal 3\n",
    "list_sum = sum(integer_list) # equals 6"
   ]
  },
  {
   "cell_type": "markdown",
   "metadata": {},
   "source": [
    "To get the element in a list, you can use a square bracket"
   ]
  },
  {
   "cell_type": "code",
   "execution_count": 23,
   "metadata": {},
   "outputs": [],
   "source": [
    "x = [0, 1, 2, 3, 4, 5, 6, 7, 8, 9]\n",
    "\n",
    "zero = x[0]    # equals 0, lists are 0-indexed\n",
    "one = x[1]    # equals 1\n",
    "nine = x[-1]    # equals 9, 'Pythonic' for last element\n",
    "eight = x[-2]     # equals 8, 'Pythonic' for next-to-last element\n",
    "x[0] = -1         # now x is [-1, 1, 2, 3, ..., 9]"
   ]
  },
  {
   "cell_type": "markdown",
   "metadata": {},
   "source": [
    "We can select some elements consecutively using `:`. This technique is called\n",
    "_slice_.   \n",
    "The slice `i:j` means all elements from `i` (inclusive) to `j` (not inclusive).   \n",
    "If you leave off the start of the slice, you'll slic from the beginning of the list,   \n",
    "and if you leave of the ened of the slice, you'll slice until the end of the list."
   ]
  },
  {
   "cell_type": "code",
   "execution_count": 24,
   "metadata": {},
   "outputs": [],
   "source": [
    "first_three = x[:3]                   # [-1, 1, 2]\n",
    "three_to_end = x[3:]                  # [3, 4, ..., 9]\n",
    "one_to_four = x[1:5]                  # [1, 2, 3, 4]\n",
    "last_three = x[-3:]                   # [7, 8, 9]\n",
    "without_first_and_last = x[1:-1]      # [1, 2, ..., 8]\n",
    "copy_of_x = x[:]                      # [-1, 1, 2, ..., 9]"
   ]
  },
  {
   "cell_type": "markdown",
   "metadata": {},
   "source": [
    "There is a third argument in slice technique that controls how many element that you skipped.   \n",
    "It also supports the negative number"
   ]
  },
  {
   "cell_type": "code",
   "execution_count": 25,
   "metadata": {},
   "outputs": [],
   "source": [
    "every_third = x[::3]        # [-1, 3, 6, 9]\n",
    "five_to_three = x[5:2:-1]   # [5, 4, 3]"
   ]
  },
  {
   "cell_type": "markdown",
   "metadata": {},
   "source": [
    "You can test if an element (it should be an integer type) is an element of \n",
    "a list."
   ]
  },
  {
   "cell_type": "code",
   "execution_count": 26,
   "metadata": {},
   "outputs": [
    {
     "name": "stdout",
     "output_type": "stream",
     "text": [
      "True\n",
      "False\n"
     ]
    }
   ],
   "source": [
    "# For a very long list (one million elements, you should not to use this)\n",
    "print(1 in [1, 2, 3])      # True\n",
    "print(0 in [1, 2, 3])      # False"
   ]
  },
  {
   "cell_type": "markdown",
   "metadata": {},
   "source": [
    "In-place extension of a list with a list"
   ]
  },
  {
   "cell_type": "code",
   "execution_count": 27,
   "metadata": {},
   "outputs": [],
   "source": [
    "x = [1, 2, 3]\n",
    "x.extend([4, 5, 6])       # x is now [1, 2, 3, 4, 5, 6]"
   ]
  },
  {
   "cell_type": "markdown",
   "metadata": {},
   "source": [
    "Or you can make a new list from a previous list by extending it"
   ]
  },
  {
   "cell_type": "code",
   "execution_count": 28,
   "metadata": {},
   "outputs": [],
   "source": [
    "x = [1, 2, 3]\n",
    "y = x + [4, 5, 6]         # y is [1, 2, 3, 4, 5, 6]: x is unchanged"
   ]
  },
  {
   "cell_type": "markdown",
   "metadata": {},
   "source": [
    "Frequently, we usually append a single element at a time"
   ]
  },
  {
   "cell_type": "code",
   "execution_count": 29,
   "metadata": {},
   "outputs": [],
   "source": [
    "x = [1, 2, 3]\n",
    "x.append(0)       # x is now [1, 2, 3, 0]\n",
    "y = x[-1]         # equals 0\n",
    "z = len(x)        # equals 4"
   ]
  },
  {
   "cell_type": "markdown",
   "metadata": {},
   "source": [
    "We can unpack each element in a list to a specific variable, if we know\n",
    "how many elements in a list"
   ]
  },
  {
   "cell_type": "code",
   "execution_count": 30,
   "metadata": {},
   "outputs": [],
   "source": [
    "x, y = [1, 2]\n",
    "p, q, r = [1, 2, 3]     # now x is 1, y is 2"
   ]
  },
  {
   "cell_type": "markdown",
   "metadata": {},
   "source": [
    "There is a best practice to use `_` if you want to throw away an element\n",
    "you really do not care about"
   ]
  },
  {
   "cell_type": "code",
   "execution_count": 31,
   "metadata": {},
   "outputs": [],
   "source": [
    "_, y = [1, 2]     # now y == 2, didn't care about the first element"
   ]
  },
  {
   "cell_type": "markdown",
   "metadata": {},
   "source": [
    "## Tuples"
   ]
  },
  {
   "cell_type": "markdown",
   "metadata": {},
   "source": [
    "Tuples are very similar to list, but it is immutable (after you construct\n",
    "the elements, you cannot change it)"
   ]
  },
  {
   "cell_type": "code",
   "execution_count": 32,
   "metadata": {},
   "outputs": [
    {
     "name": "stdout",
     "output_type": "stream",
     "text": [
      "cannot modify a tuple\n"
     ]
    }
   ],
   "source": [
    "my_list = [1, 2]\n",
    "my_tuple = (1, 2)\n",
    "other_tuple = 3, 4\n",
    "my_list[1] = 3          # my_list is now [1, 3]\n",
    "\n",
    "try:\n",
    "  my_tuple[1] = 3\n",
    "except TypeError:\n",
    "  print(\"cannot modify a tuple\")"
   ]
  },
  {
   "cell_type": "markdown",
   "metadata": {},
   "source": [
    "To return many values in a function, you can use tuple.   \n",
    "By default if you separate each value by comma in return line of a function,   \n",
    "you create automatically a tuple"
   ]
  },
  {
   "cell_type": "code",
   "execution_count": 33,
   "metadata": {},
   "outputs": [],
   "source": [
    "def sum_and_product(x, y):\n",
    "  return (x + y), (x * y)\n",
    "\n",
    "sp = sum_and_product(2, 3)      # sp is (5, 6)\n",
    "s, p = sum_and_product(5, 10)   # s is 15, p is 50"
   ]
  },
  {
   "cell_type": "markdown",
   "metadata": {},
   "source": [
    "Multiple assignment and element swapping can be performed by using a tuple"
   ]
  },
  {
   "cell_type": "code",
   "execution_count": 34,
   "metadata": {},
   "outputs": [],
   "source": [
    "x, y = 1, 2      # now x is 1, y is 2\n",
    "x, y = y, x      # Pythonic way to swap variables; now x is 2, y is 1"
   ]
  },
  {
   "cell_type": "markdown",
   "metadata": {},
   "source": [
    "## Dictionaries"
   ]
  },
  {
   "cell_type": "code",
   "execution_count": 35,
   "metadata": {},
   "outputs": [],
   "source": [
    "empty_dict = {}                       # Pythonic\n",
    "empty_dict2 = dict()                  # less Pythonic\n",
    "grades = {\"Joel\": 80, \"Tim\": 95}      # dictionary literal\n"
   ]
  },
  {
   "cell_type": "markdown",
   "metadata": {},
   "source": [
    "To get an element (which is called _value_) you can use _key_ of the dictionary"
   ]
  },
  {
   "cell_type": "code",
   "execution_count": 36,
   "metadata": {},
   "outputs": [],
   "source": [
    "joels_grade = grades[\"Joel\"]      # equals 80"
   ]
  },
  {
   "attachments": {},
   "cell_type": "markdown",
   "metadata": {},
   "source": [
    "Check for the existence of a key using `in`.    \n",
    "The membership check is **fast** even for large dictionaries."
   ]
  },
  {
   "cell_type": "code",
   "execution_count": 37,
   "metadata": {},
   "outputs": [
    {
     "name": "stdout",
     "output_type": "stream",
     "text": [
      "True False\n"
     ]
    }
   ],
   "source": [
    "joel_has_grade = \"Joel\" in grades    # True\n",
    "kate_has_grade = \"Kate\" in grades    # False\n",
    "\n",
    "print(joel_has_grade, kate_has_grade)"
   ]
  },
  {
   "cell_type": "markdown",
   "metadata": {},
   "source": [
    "Another way to get a value in a dictionary without raising an exception"
   ]
  },
  {
   "cell_type": "code",
   "execution_count": 38,
   "metadata": {},
   "outputs": [],
   "source": [
    "joels_grade = grades.get(\"Joel\", 0)   # equals 80\n",
    "kates_grade = grades.get(\"Kate\", 0)   # equals 0\n",
    "no_ones_grade = grades.get(\"No One\")  # default is None"
   ]
  },
  {
   "cell_type": "markdown",
   "metadata": {},
   "source": [
    "Similar to list, we can assign a new value to a specific key"
   ]
  },
  {
   "cell_type": "code",
   "execution_count": 39,
   "metadata": {},
   "outputs": [],
   "source": [
    "grades[\"Tim\"] = 99          # replaces the old value\n",
    "grades[\"Kate\"] = 100        # adds a third entry\n",
    "num_students = len(grades)  # equals 3"
   ]
  },
  {
   "cell_type": "markdown",
   "metadata": {},
   "source": [
    "We can use dictionary to create a complicated data structure."
   ]
  },
  {
   "cell_type": "code",
   "execution_count": 40,
   "metadata": {},
   "outputs": [],
   "source": [
    "tweet = {\n",
    "  \"user\": \"joelgrus\",\n",
    "  \"text\": \"Data Science is Awesome\",\n",
    "  \"retweet_count\": 100,\n",
    "  \"hashtags\": [\"#data\", \"#science\", \"#datascience\", \"#awesome\", \"#yolo\"]\n",
    "}"
   ]
  },
  {
   "cell_type": "markdown",
   "metadata": {},
   "source": [
    "There is a method (a built-in function attached to a dictionary) to get all\n",
    "the keys, values, or items"
   ]
  },
  {
   "cell_type": "code",
   "execution_count": 41,
   "metadata": {},
   "outputs": [
    {
     "name": "stdout",
     "output_type": "stream",
     "text": [
      "True\n",
      "True\n",
      "True\n"
     ]
    }
   ],
   "source": [
    "tweet_keys = tweet.keys()       # iterable for the keys\n",
    "tweet_values = tweet.values()   # iterable for the values\n",
    "tweet_items = tweet.items()     # iterable for the (key, value) tuples\n",
    "\n",
    "print(\"user\" in tweet_keys)        # True, but not Pythonic\n",
    "print(\"user\" in tweet)             # Pythonic way of checking for keys\n",
    "print(\"joelgrus\" in tweet_values)  # True (slow but the only way to check)"
   ]
  },
  {
   "attachments": {},
   "cell_type": "markdown",
   "metadata": {},
   "source": [
    "##  defaultdict"
   ]
  },
  {
   "cell_type": "code",
   "execution_count": 42,
   "metadata": {},
   "outputs": [
    {
     "data": {
      "text/plain": [
       "['this',\n",
       " 'is',\n",
       " 'a',\n",
       " 'somewhat',\n",
       " 'heavy',\n",
       " 'aspiration',\n",
       " 'for',\n",
       " 'a',\n",
       " 'book',\n",
       " 'the',\n",
       " 'best',\n",
       " 'way',\n",
       " 'to',\n",
       " 'learn',\n",
       " 'hacking',\n",
       " 'skills',\n",
       " 'is',\n",
       " 'by',\n",
       " 'hacking',\n",
       " 'on',\n",
       " 'things',\n",
       " 'by',\n",
       " 'reading',\n",
       " 'this',\n",
       " 'book,',\n",
       " 'you',\n",
       " 'will',\n",
       " 'get',\n",
       " 'a',\n",
       " 'good',\n",
       " 'understanding',\n",
       " 'of',\n",
       " 'the',\n",
       " 'way',\n",
       " 'i',\n",
       " 'hack',\n",
       " 'on',\n",
       " 'things,',\n",
       " 'which',\n",
       " 'may',\n",
       " 'not',\n",
       " 'necessarily',\n",
       " 'be',\n",
       " 'the',\n",
       " 'best',\n",
       " 'way',\n",
       " 'for',\n",
       " 'you',\n",
       " 'to',\n",
       " 'hack',\n",
       " 'on',\n",
       " 'things',\n",
       " 'you',\n",
       " 'will',\n",
       " 'get',\n",
       " 'a',\n",
       " 'good',\n",
       " 'understanding',\n",
       " 'of',\n",
       " 'some',\n",
       " 'of',\n",
       " 'the',\n",
       " 'tools',\n",
       " 'i',\n",
       " 'use,',\n",
       " 'which',\n",
       " 'will',\n",
       " 'not',\n",
       " 'necessarily',\n",
       " 'be',\n",
       " 'the',\n",
       " 'best',\n",
       " 'tools',\n",
       " 'for',\n",
       " 'you',\n",
       " 'to',\n",
       " 'use',\n",
       " 'you',\n",
       " 'will',\n",
       " 'get',\n",
       " 'a',\n",
       " 'good',\n",
       " 'understanding',\n",
       " 'of',\n",
       " 'the',\n",
       " 'way',\n",
       " 'i',\n",
       " 'approach',\n",
       " 'data',\n",
       " 'problems,',\n",
       " 'which',\n",
       " 'may',\n",
       " 'not',\n",
       " 'necessarily',\n",
       " 'be',\n",
       " 'the',\n",
       " 'best',\n",
       " 'way',\n",
       " 'for',\n",
       " 'you',\n",
       " 'to',\n",
       " 'approach',\n",
       " 'data',\n",
       " 'problems',\n",
       " 'the',\n",
       " 'intent',\n",
       " 'and',\n",
       " 'the',\n",
       " 'hope',\n",
       " 'is',\n",
       " 'that',\n",
       " 'my',\n",
       " 'examples',\n",
       " 'will',\n",
       " 'inspire',\n",
       " 'xvyou',\n",
       " 'to',\n",
       " 'try',\n",
       " 'things',\n",
       " 'your',\n",
       " 'own',\n",
       " 'way',\n",
       " 'all',\n",
       " 'the',\n",
       " 'code',\n",
       " 'and',\n",
       " 'data',\n",
       " 'from',\n",
       " 'the',\n",
       " 'book',\n",
       " 'is',\n",
       " 'available',\n",
       " 'on',\n",
       " 'github',\n",
       " 'to',\n",
       " 'get',\n",
       " 'you',\n",
       " 'started']"
      ]
     },
     "execution_count": 42,
     "metadata": {},
     "output_type": "execute_result"
    }
   ],
   "source": [
    "document = \"\\\n",
    "This is a somewhat heavy aspiration for a book. The best way to learn hacking skills is \\\n",
    "by hacking on things. By reading this book, you will get a good understanding of the \\\n",
    "way I hack on things, which may not necessarily be the best way for you to hack on \\\n",
    "things. You will get a good understanding of some of the tools I use, which will not \\\n",
    "necessarily be the best tools for you to use. You will get a good understanding of the \\\n",
    "way I approach data problems, which may not necessarily be the best way for you to \\\n",
    "approach data problems. The intent (and the hope) is that my examples will inspire \\\n",
    "xvyou to try things your own way. All the code and data from the book is available on \\\n",
    "GitHub to get you started.\"\n",
    "document = [word.lower().strip(\".()\") for word in document.split(\" \")]\n",
    "document"
   ]
  },
  {
   "cell_type": "markdown",
   "metadata": {},
   "source": [
    "We use `defautdict` if we want to avoid hassle in defining a try-except block\n",
    "when there is no key to query in dictionary.   \n",
    "`defaultdict` provides with a default value when initializing a dictionary"
   ]
  },
  {
   "cell_type": "code",
   "execution_count": 43,
   "metadata": {},
   "outputs": [
    {
     "data": {
      "text/plain": [
       "[('the', 11),\n",
       " ('you', 7),\n",
       " ('way', 6),\n",
       " ('to', 6),\n",
       " ('a', 5),\n",
       " ('will', 5),\n",
       " ('is', 4),\n",
       " ('for', 4),\n",
       " ('best', 4),\n",
       " ('on', 4),\n",
       " ('get', 4),\n",
       " ('of', 4),\n",
       " ('things', 3),\n",
       " ('good', 3),\n",
       " ('understanding', 3),\n",
       " ('i', 3),\n",
       " ('which', 3),\n",
       " ('not', 3),\n",
       " ('necessarily', 3),\n",
       " ('be', 3),\n",
       " ('data', 3),\n",
       " ('this', 2),\n",
       " ('book', 2),\n",
       " ('hacking', 2),\n",
       " ('by', 2),\n",
       " ('hack', 2),\n",
       " ('may', 2),\n",
       " ('tools', 2),\n",
       " ('approach', 2),\n",
       " ('and', 2),\n",
       " ('somewhat', 1),\n",
       " ('heavy', 1),\n",
       " ('aspiration', 1),\n",
       " ('learn', 1),\n",
       " ('skills', 1),\n",
       " ('reading', 1),\n",
       " ('book,', 1),\n",
       " ('things,', 1),\n",
       " ('some', 1),\n",
       " ('use,', 1),\n",
       " ('use', 1),\n",
       " ('problems,', 1),\n",
       " ('problems', 1),\n",
       " ('intent', 1),\n",
       " ('hope', 1),\n",
       " ('that', 1),\n",
       " ('my', 1),\n",
       " ('examples', 1),\n",
       " ('inspire', 1),\n",
       " ('xvyou', 1),\n",
       " ('try', 1),\n",
       " ('your', 1),\n",
       " ('own', 1),\n",
       " ('all', 1),\n",
       " ('code', 1),\n",
       " ('from', 1),\n",
       " ('available', 1),\n",
       " ('github', 1),\n",
       " ('started', 1)]"
      ]
     },
     "execution_count": 43,
     "metadata": {},
     "output_type": "execute_result"
    }
   ],
   "source": [
    "word_counts = defaultdict(int)\n",
    "for word in document:\n",
    "  word_counts[word] += 1\n",
    "\n",
    "sorted(word_counts.items(), key=lambda key_val: key_val[1], reverse=True)"
   ]
  },
  {
   "attachments": {},
   "cell_type": "markdown",
   "metadata": {},
   "source": [
    "`defaultdict` can also be useful with `list` or `dict`, or even\n",
    "your own functions:"
   ]
  },
  {
   "cell_type": "code",
   "execution_count": 44,
   "metadata": {},
   "outputs": [
    {
     "data": {
      "text/plain": [
       "defaultdict(list, {2: [1]})"
      ]
     },
     "execution_count": 44,
     "metadata": {},
     "output_type": "execute_result"
    }
   ],
   "source": [
    "dd_list = defaultdict(list)       # list() produces an empty list\n",
    "dd_list[2].append(1)\n",
    "dd_list"
   ]
  },
  {
   "cell_type": "code",
   "execution_count": 45,
   "metadata": {},
   "outputs": [
    {
     "data": {
      "text/plain": [
       "defaultdict(dict, {'Joel': {'City': 'Seattle'}})"
      ]
     },
     "execution_count": 45,
     "metadata": {},
     "output_type": "execute_result"
    }
   ],
   "source": [
    "dd_dict = defaultdict((dict))         # dict() produces an empty dict\n",
    "dd_dict[\"Joel\"][\"City\"] = \"Seattle\"\n",
    "dd_dict"
   ]
  },
  {
   "cell_type": "code",
   "execution_count": 46,
   "metadata": {},
   "outputs": [
    {
     "data": {
      "text/plain": [
       "defaultdict(<function __main__.<lambda>()>, {2: [0, 1]})"
      ]
     },
     "execution_count": 46,
     "metadata": {},
     "output_type": "execute_result"
    }
   ],
   "source": [
    "dd_pair = defaultdict(lambda: [0, 0])       # default value would be [0, 0]\n",
    "dd_pair[2][1] = 1\n",
    "dd_pair"
   ]
  },
  {
   "attachments": {},
   "cell_type": "markdown",
   "metadata": {},
   "source": [
    "## Counter"
   ]
  },
  {
   "cell_type": "markdown",
   "metadata": {},
   "source": [
    " A `Counter` turns a sequence of values into a `defaultdict(int)`-like\n",
    " object mapping keys to counts:"
   ]
  },
  {
   "cell_type": "code",
   "execution_count": 47,
   "metadata": {},
   "outputs": [],
   "source": [
    "c = Counter([0, 1, 2, 0])     # c is (basically) {0: 2, 1: 1, 2:1}"
   ]
  },
  {
   "cell_type": "code",
   "execution_count": 48,
   "metadata": {},
   "outputs": [
    {
     "name": "stdout",
     "output_type": "stream",
     "text": [
      "the 11\n",
      "you 7\n",
      "way 6\n",
      "to 6\n",
      "a 5\n",
      "will 5\n",
      "is 4\n",
      "for 4\n",
      "best 4\n",
      "on 4\n"
     ]
    }
   ],
   "source": [
    "# recall, document is a list of words\n",
    "word_counts = Counter(document)\n",
    "\n",
    "# print the 10 most common words and their counts\n",
    "for word, count in word_counts.most_common(10):\n",
    "  print(word, count)"
   ]
  },
  {
   "attachments": {},
   "cell_type": "markdown",
   "metadata": {},
   "source": [
    "## Sets\n"
   ]
  },
  {
   "cell_type": "markdown",
   "metadata": {},
   "source": [
    "If we have a large collection of items that we want to use for a membership\n",
    "test, a set is more appropriate than a list.   \n",
    "This data type will elimate any duplicate element in intialization of the data type\n"
   ]
  },
  {
   "cell_type": "code",
   "execution_count": 49,
   "metadata": {},
   "outputs": [],
   "source": [
    "primes_below_10 = {2, 3, 5, 7}"
   ]
  },
  {
   "cell_type": "code",
   "execution_count": 50,
   "metadata": {},
   "outputs": [],
   "source": [
    "s = set()\n",
    "s.add(1)      # s is now {1}\n",
    "s.add(2)      # s is now {1, 2}\n",
    "s.add(2)      # s is still {1, 2}\n",
    "x = len(s)    # equals 2\n",
    "y = 2 in s    # equals True\n",
    "z = 3 in s    # equals False"
   ]
  },
  {
   "cell_type": "markdown",
   "metadata": {},
   "source": [
    "Using `in` in set is much faster than using `in` a list."
   ]
  },
  {
   "cell_type": "code",
   "execution_count": 51,
   "metadata": {},
   "outputs": [],
   "source": [
    "# The following stopwords is download from https://github.com/stopwords-iso/stopwords-iso\n",
    "with open(\"./datasets/stopwords-en.json\", 'r') as fp:\n",
    "  hundreds_of_other_words = json.load(fp)[\"en\"]\n",
    "\n",
    "[hundreds_of_other_words.remove(item) for item in [\"a\", \"an\", \"at\", \"yet\", \"you\"]];"
   ]
  },
  {
   "cell_type": "code",
   "execution_count": 52,
   "metadata": {},
   "outputs": [
    {
     "name": "stdout",
     "output_type": "stream",
     "text": [
      "False\n",
      "elapsed time:   448600 ns\n",
      "False\n",
      "elapsed_time:    77500 ns\n"
     ]
    }
   ],
   "source": [
    "stopwords_list = [\"a\", \"an\", \"at\"] + hundreds_of_other_words + [\"yet\", \"you\"]\n",
    "t0 = time.perf_counter_ns()\n",
    "print(\"zip\" in stopwords_list)    # False, but have to check every element\n",
    "tEnd = time.perf_counter_ns()\n",
    "print(f\"elapsed time: {tEnd - t0:8d} ns\")\n",
    "\n",
    "stopwords_set = set(stopwords_list)\n",
    "t0 = time.perf_counter_ns()\n",
    "print(\"zip\" in stopwords_set)     # very fast to check\n",
    "tEnd = time.perf_counter_ns()\n",
    "print(f\"elapsed_time: {tEnd - t0:8d} ns\")"
   ]
  },
  {
   "cell_type": "markdown",
   "metadata": {},
   "source": [
    "Set is very handy when we want to get the distinct element for a given a list"
   ]
  },
  {
   "cell_type": "code",
   "execution_count": 53,
   "metadata": {},
   "outputs": [],
   "source": [
    "item_list = [1, 2, 3, 1, 2, 3]\n",
    "num_items = len(item_list)      # 6\n",
    "item_set = set(item_list)       # {1, 2, 3}\n",
    "num_distinct_items = len(item_set)      # 3\n",
    "distinct_item_list = list(item_set)     # [1, 2, 3]"
   ]
  },
  {
   "cell_type": "markdown",
   "metadata": {},
   "source": [
    "## Control Flow"
   ]
  },
  {
   "cell_type": "markdown",
   "metadata": {},
   "source": [
    "Branching flow with `if-elif-else`"
   ]
  },
  {
   "cell_type": "code",
   "execution_count": 54,
   "metadata": {},
   "outputs": [],
   "source": [
    "a = 1\n",
    "# a = 3\n",
    "# a = 4\n",
    "\n",
    "if a > 2:\n",
    "  message = \"if only 1 were greater than two...\"\n",
    "elif a > 3:\n",
    "  message = \"elif stands for 'else if'\"\n",
    "else:\n",
    "  message = \"when all else fails use else (if you want to)\""
   ]
  },
  {
   "cell_type": "markdown",
   "metadata": {},
   "source": [
    "Shorter version of `if-else` with ternary operator"
   ]
  },
  {
   "cell_type": "code",
   "execution_count": 55,
   "metadata": {},
   "outputs": [
    {
     "data": {
      "text/plain": [
       "'odd'"
      ]
     },
     "execution_count": 55,
     "metadata": {},
     "output_type": "execute_result"
    }
   ],
   "source": [
    "x = 1 \n",
    "parity = \"even\" if x % 2 == 0 else \"odd\"\n",
    "parity"
   ]
  },
  {
   "cell_type": "markdown",
   "metadata": {},
   "source": [
    "Looping with condition"
   ]
  },
  {
   "cell_type": "code",
   "execution_count": 56,
   "metadata": {},
   "outputs": [
    {
     "name": "stdout",
     "output_type": "stream",
     "text": [
      "0 is less than 10\n",
      "1 is less than 10\n",
      "2 is less than 10\n",
      "3 is less than 10\n",
      "4 is less than 10\n",
      "5 is less than 10\n",
      "6 is less than 10\n",
      "7 is less than 10\n",
      "8 is less than 10\n",
      "9 is less than 10\n"
     ]
    }
   ],
   "source": [
    "x = 0\n",
    "while x < 10:\n",
    "  print(f\"{x} is less than 10\")\n",
    "  x += 1"
   ]
  },
  {
   "cell_type": "markdown",
   "metadata": {},
   "source": [
    "Looping with iterable `range(10)`"
   ]
  },
  {
   "cell_type": "code",
   "execution_count": 57,
   "metadata": {},
   "outputs": [
    {
     "name": "stdout",
     "output_type": "stream",
     "text": [
      "0 is less than 10\n",
      "1 is less than 10\n",
      "2 is less than 10\n",
      "3 is less than 10\n",
      "4 is less than 10\n",
      "5 is less than 10\n",
      "6 is less than 10\n",
      "7 is less than 10\n",
      "8 is less than 10\n",
      "9 is less than 10\n"
     ]
    }
   ],
   "source": [
    "# raneg(10) is the numbers 0, 1, ..., 9\n",
    "for x in range(10):\n",
    "  print(f\"{x} is less than 10\")"
   ]
  },
  {
   "cell_type": "markdown",
   "metadata": {},
   "source": [
    "To control the flow of iteration, you can insert command `continue` or `break`"
   ]
  },
  {
   "cell_type": "code",
   "execution_count": 58,
   "metadata": {},
   "outputs": [
    {
     "name": "stdout",
     "output_type": "stream",
     "text": [
      "0\n",
      "1\n",
      "2\n",
      "4\n"
     ]
    }
   ],
   "source": [
    "for x in range(10):\n",
    "  if x == 3:\n",
    "    continue      # go immediately to the next iteration\n",
    "  if x == 5:\n",
    "    break         # quit the loop entirely\n",
    "  print(x)"
   ]
  },
  {
   "cell_type": "markdown",
   "metadata": {},
   "source": [
    "## Truthiness"
   ]
  },
  {
   "cell_type": "markdown",
   "metadata": {},
   "source": [
    "Boolean data type in Python has literals: `True` and `False`"
   ]
  },
  {
   "cell_type": "code",
   "execution_count": 59,
   "metadata": {},
   "outputs": [],
   "source": [
    "one_is_less_than_two = 1 < 2\n",
    "true_equals_false = True == False"
   ]
  },
  {
   "attachments": {},
   "cell_type": "markdown",
   "metadata": {},
   "source": [
    "Python uses the value `None` to indicate a nonexistent value.   \n",
    "It is simlar to other languages' `null`"
   ]
  },
  {
   "cell_type": "code",
   "execution_count": 60,
   "metadata": {},
   "outputs": [],
   "source": [
    "x = None\n",
    "assert x == None, \"this is not the Python way to check for None\"\n",
    "assert x is None, \"this is the Pythonic way to check for None\""
   ]
  },
  {
   "attachments": {},
   "cell_type": "markdown",
   "metadata": {},
   "source": [
    "The following are \"falsy\" in Python:\n",
    "`False`, `None`, `[]` (an empty `list`), `{}` (an empty `dict`),\n",
    "`\"\"`, `set()`, `0`, `0.0`"
   ]
  },
  {
   "cell_type": "markdown",
   "metadata": {},
   "source": [
    "Python has an `all` function, which takes an iterable and return `True`  \n",
    "precisely when every element is truthy,   \n",
    "and an `any` function, which returns `True` when at least one element is truthy"
   ]
  },
  {
   "cell_type": "code",
   "execution_count": 61,
   "metadata": {},
   "outputs": [
    {
     "name": "stdout",
     "output_type": "stream",
     "text": [
      "True\n",
      "False\n",
      "True\n",
      "True\n",
      "False\n"
     ]
    }
   ],
   "source": [
    "print(all([True, 1, {3}]))      # True, all are truthy\n",
    "print(all([True, 1, {}]))       # False, {} is falsy\n",
    "print(any([True, 1, {}]))       # True, True is truthy\n",
    "print(all([]))                  # True, no falsy elements\n",
    "print(any([]))                  # False, no truthy elements in the list"
   ]
  },
  {
   "cell_type": "markdown",
   "metadata": {},
   "source": [
    "## Sorting"
   ]
  },
  {
   "cell_type": "markdown",
   "metadata": {},
   "source": [
    "If you have unordered list and want to sort them, you can use `sorted()` or `.sort()`"
   ]
  },
  {
   "cell_type": "code",
   "execution_count": 62,
   "metadata": {},
   "outputs": [],
   "source": [
    "x = [4, 1, 2, 3]\n",
    "y = sorted(x)       # y is [1, 2, 3, 4], x is unchanged\n",
    "x.sort()            # now x is [1, 2, 3, 4]"
   ]
  },
  {
   "cell_type": "markdown",
   "metadata": {},
   "source": [
    "Sorting with reverse order (from largest to smallest) and/or with key function\n",
    "(this controls how you sort the list)"
   ]
  },
  {
   "cell_type": "code",
   "execution_count": 72,
   "metadata": {},
   "outputs": [],
   "source": [
    "word_counts;"
   ]
  },
  {
   "cell_type": "code",
   "execution_count": 64,
   "metadata": {},
   "outputs": [],
   "source": [
    "# sort the list by absolute value from largest to smallest\n",
    "x = sorted([-4, 1, -2, 3], key=abs, reverse=True)     # [-4, 3, -2, 1]\n",
    "\n",
    "# sort the words and counts from the highest count to lowest\n",
    "wc = sorted(word_counts.items(), key=lambda word_and_count: word_and_count[1],\n",
    "            reverse=True)"
   ]
  },
  {
   "cell_type": "markdown",
   "metadata": {},
   "source": [
    "## List Comprehension"
   ]
  },
  {
   "cell_type": "markdown",
   "metadata": {},
   "source": [
    "A shorter way to transform a list to a new list by iterating each element\n",
    "using a single line command of for loop"
   ]
  },
  {
   "cell_type": "code",
   "execution_count": 73,
   "metadata": {},
   "outputs": [],
   "source": [
    "even_numbers = [x for x in range(5) if x % 2 == 0]    # [0, 2, 4]\n",
    "squares = [x * x for x in range(5)]                   # [0, 1, 4, 9, 16]\n",
    "even_squares = [x * x for x in even_numbers]          # [0, 4, 16]"
   ]
  },
  {
   "cell_type": "markdown",
   "metadata": {},
   "source": [
    "Turn a list into dictionary or set"
   ]
  },
  {
   "cell_type": "code",
   "execution_count": 74,
   "metadata": {},
   "outputs": [],
   "source": [
    "square_dict = {x: x * x for x in range(5)}    # {0: 0, 1: 1, 2: 4, 3: 9, 4: 16}\n",
    "square_set = {x * x for x in [1, -1]}         # {1}"
   ]
  },
  {
   "cell_type": "markdown",
   "metadata": {},
   "source": [
    "You can do a nested list comprehension (loop inside loop)"
   ]
  },
  {
   "cell_type": "code",
   "execution_count": 75,
   "metadata": {},
   "outputs": [],
   "source": [
    "pairs = [(x, y) \n",
    "         for x in range(10)\n",
    "         for y in range(10)]      # has the same length as even_numbers"
   ]
  },
  {
   "cell_type": "markdown",
   "metadata": {},
   "source": [
    "The later `for` in two nested list comprehension can use the result of \n",
    "the earlier `for`"
   ]
  },
  {
   "cell_type": "code",
   "execution_count": 76,
   "metadata": {},
   "outputs": [],
   "source": [
    "increasing_pairs = [(x, y)\n",
    "                    for x in range(10)\n",
    "                    for y in range(x + 1, 10)]"
   ]
  },
  {
   "cell_type": "markdown",
   "metadata": {},
   "source": [
    "## Automated Testing and assert"
   ]
  },
  {
   "cell_type": "markdown",
   "metadata": {},
   "source": [
    "Using `assert` can help you to reduce that your program won't run as you expected"
   ]
  },
  {
   "cell_type": "code",
   "execution_count": 77,
   "metadata": {},
   "outputs": [],
   "source": [
    "assert 1 + 1 == 2\n",
    "assert 1 + 1 == 2, \"1 + 1 should equal 2 but didn't\""
   ]
  },
  {
   "cell_type": "code",
   "execution_count": 78,
   "metadata": {},
   "outputs": [],
   "source": [
    "def smallest_item(xs):\n",
    "  return min(xs)\n",
    "\n",
    "assert smallest_item([10, 20, 5, 40]) == 5\n",
    "assert smallest_item([1, 0, -1, 2]) == -1"
   ]
  },
  {
   "cell_type": "markdown",
   "metadata": {},
   "source": [
    "## Object-Oriented Programming"
   ]
  },
  {
   "cell_type": "markdown",
   "metadata": {},
   "source": [
    "This is a core principel of object-oriented programming in Python.   \n",
    "For full description, you have to take a course in Object-oriented programming.   \n",
    "The following example is a minimal description and it should be enough to   \n",
    "represent the mechanism of object oriented programming"
   ]
  },
  {
   "cell_type": "markdown",
   "metadata": {},
   "source": [
    "In this example, we want to create a clicker (or counter) by using class.  \n",
    "This class contains \n",
    "- an intialization function/method (`__init__()`)\n",
    "- a representation of its instance using function/method (`__repr__()`)\n",
    "- a function that simulate click of a counter (adding one to the current value) `click()`\n",
    "- a function to read the current value (`read()`)\n",
    "- a function to reset the counter"
   ]
  },
  {
   "cell_type": "code",
   "execution_count": 80,
   "metadata": {},
   "outputs": [],
   "source": [
    "class CountingClicker(object):\n",
    "  \"\"\"A class can/should have a docstring, just like a function\"\"\"\n",
    "  def __init__(self, count=0):\n",
    "    self.count = count\n",
    "\n",
    "  def __repr__(self):\n",
    "    return f\"CountingClicker(count={self.count})\"\n",
    "  \n",
    "  def click(self, num_times=1):\n",
    "    \"\"\"Click the clicker some number of times.\"\"\"\n",
    "    self.count += num_times\n",
    "  \n",
    "  def read(self):\n",
    "    return self.count\n",
    "\n",
    "  def reset(self):\n",
    "    self.count = 0"
   ]
  },
  {
   "cell_type": "code",
   "execution_count": null,
   "metadata": {},
   "outputs": [],
   "source": [
    "clicker1 = CountingClicker()          # a clicker that is initialized to 0\n",
    "clicker2 = CountingClicker(100)       # a second clicker, starts with count=100\n",
    "clicker3 = CountingClicker(count=100) # a third clicker more explicity way of doing ame"
   ]
  },
  {
   "cell_type": "markdown",
   "metadata": {},
   "source": [
    "All the above clickers (`clicker1`, `clicker2`, and `clicker3`) hold each \n",
    "own properties and do not interfere each other"
   ]
  },
  {
   "cell_type": "markdown",
   "metadata": {},
   "source": [
    "An example of a test case using `CountingClicker()` class"
   ]
  },
  {
   "cell_type": "code",
   "execution_count": 81,
   "metadata": {},
   "outputs": [],
   "source": [
    "clicker = CountingClicker()\n",
    "assert clicker.read() == 0, \"clicker should start with count 0\"\n",
    "clicker.click()\n",
    "clicker.click()\n",
    "assert clicker.read() == 2, \"after two clicks, clicker should have count 2\"\n",
    "clicker.reset()\n",
    "assert clicker.read() == 0, \"after reset, clicker should be back to 0\""
   ]
  },
  {
   "cell_type": "markdown",
   "metadata": {},
   "source": [
    "If you want to modify a class but only a few of methods that you want to modify,  \n",
    "you do not need to rewrite all the class methods.  \n",
    "We can use an inheritance, by putting the parent class to the modified class\n",
    "(child class)"
   ]
  },
  {
   "cell_type": "code",
   "execution_count": 82,
   "metadata": {},
   "outputs": [],
   "source": [
    "# A subclass inherits all the behavior of its parent class\n",
    "class NoResetClicker(CountingClicker):\n",
    "  # This class has all the same methods as CountingClicker\n",
    "\n",
    "  # Except that it has a reset method that does nothing\n",
    "  def reset(self):\n",
    "    pass"
   ]
  },
  {
   "cell_type": "code",
   "execution_count": 84,
   "metadata": {},
   "outputs": [],
   "source": [
    "# Simualte the above child class (subclass)\n",
    "clicker2 = NoResetClicker()\n",
    "assert clicker2.read() == 0\n",
    "clicker2.click()\n",
    "assert clicker2.read() == 1\n",
    "clicker2.reset()\n",
    "assert clicker2.read() == 1, \"reset shouldn't do anything\""
   ]
  },
  {
   "attachments": {},
   "cell_type": "markdown",
   "metadata": {},
   "source": [
    "## Iterables and Generators"
   ]
  },
  {
   "cell_type": "markdown",
   "metadata": {},
   "source": [
    "When you are dealing with a huge element in a list (one billion elements),   \n",
    "it is not wise to load all the element into a variable and then read one-by-one.   \n",
    "The clever way to avoid this huge amount of memory consumption is to generate\n",
    "a single element one at time."
   ]
  },
  {
   "cell_type": "code",
   "execution_count": 85,
   "metadata": {},
   "outputs": [],
   "source": [
    "def generate_range(n):\n",
    "  i = 0\n",
    "  while i < n:\n",
    "    yield i     # every call to yield produce a value of the generator\n",
    "    i += 1"
   ]
  },
  {
   "cell_type": "code",
   "execution_count": 88,
   "metadata": {},
   "outputs": [
    {
     "name": "stdout",
     "output_type": "stream",
     "text": [
      "i: 0\n",
      "i: 1\n",
      "i: 2\n",
      "i: 3\n",
      "i: 4\n",
      "i: 5\n",
      "i: 6\n",
      "i: 7\n",
      "i: 8\n",
      "i: 9\n"
     ]
    }
   ],
   "source": [
    "for i in generate_range(10):\n",
    "  print(f\"i: {i}\")"
   ]
  },
  {
   "cell_type": "markdown",
   "metadata": {},
   "source": [
    "By the same concept as above, we can generate an infinite sequence.  \n",
    "This meaning of infinity of course limited by the time when you stop to generate\n",
    "the next value"
   ]
  },
  {
   "cell_type": "code",
   "execution_count": 89,
   "metadata": {},
   "outputs": [],
   "source": [
    "def natural_numbers():\n",
    "  \"\"\"returns 1, 2, 3, ...\"\"\"\n",
    "  n = 1\n",
    "  while True:\n",
    "    yield n\n",
    "    n += 1"
   ]
  },
  {
   "cell_type": "markdown",
   "metadata": {},
   "source": [
    "We can use generator inside a list of comprehension"
   ]
  },
  {
   "cell_type": "code",
   "execution_count": 90,
   "metadata": {},
   "outputs": [],
   "source": [
    "evens_below_20 = (i for i in generate_range(20) if i % 2 == 0)"
   ]
  },
  {
   "cell_type": "markdown",
   "metadata": {},
   "source": [
    "The following code is a data-proprecssing pipelines that use generator"
   ]
  },
  {
   "cell_type": "code",
   "execution_count": 93,
   "metadata": {},
   "outputs": [],
   "source": [
    "# None of these computation 'does' anything until we iterate\n",
    "data = natural_numbers()\n",
    "evens = (x for x in data if x % 2 == 0)\n",
    "even_squares = (x**2 for x in evens)\n",
    "even_squares_ending_in_six = (x for x in even_squares if x % 10 == 6)\n",
    "# and so on\n",
    "\n",
    "# Test\n",
    "assert next(even_squares_ending_in_six) == 16\n",
    "assert next(even_squares_ending_in_six) == 36\n",
    "assert next(even_squares_ending_in_six) == 196"
   ]
  },
  {
   "cell_type": "markdown",
   "metadata": {},
   "source": [
    "## Randomness"
   ]
  },
  {
   "cell_type": "code",
   "execution_count": 101,
   "metadata": {},
   "outputs": [
    {
     "data": {
      "text/plain": [
       "array([0.95600171, 0.20768181, 0.82844489, 0.14928212])"
      ]
     },
     "execution_count": 101,
     "metadata": {},
     "output_type": "execute_result"
    }
   ],
   "source": [
    "seed = 10\n",
    "rng = np.random.default_rng(seed)\n",
    "\n",
    "# rng.random() produces numbers uniformly between 0 and 1. It's the random \n",
    "# function we'll use most often\n",
    "four_uniform_randoms = rng.random(4)\n",
    "four_uniform_randoms"
   ]
  },
  {
   "cell_type": "markdown",
   "metadata": {},
   "source": [
    "Using the same `seed` we can generate the same random number"
   ]
  },
  {
   "cell_type": "code",
   "execution_count": 110,
   "metadata": {},
   "outputs": [
    {
     "data": {
      "text/plain": [
       "array([0.95600171, 0.20768181, 0.82844489, 0.14928212])"
      ]
     },
     "execution_count": 110,
     "metadata": {},
     "output_type": "execute_result"
    }
   ],
   "source": [
    "rng = np.random.default_rng(seed)\n",
    "rng.random(4)"
   ]
  },
  {
   "cell_type": "markdown",
   "metadata": {},
   "source": [
    "Choose randomly an integer for a given range"
   ]
  },
  {
   "cell_type": "code",
   "execution_count": 117,
   "metadata": {},
   "outputs": [
    {
     "name": "stdout",
     "output_type": "stream",
     "text": [
      "1\n",
      "4\n"
     ]
    }
   ],
   "source": [
    "print(rng.integers(10))         # chose randomly from range(10) = [0, 1, ..., 9]\n",
    "print(rng.integers(3, 6))       # chose randomly from range(3, 6) = [3, 4, 5]"
   ]
  },
  {
   "cell_type": "markdown",
   "metadata": {},
   "source": [
    "Shuffle a given list"
   ]
  },
  {
   "cell_type": "code",
   "execution_count": 122,
   "metadata": {},
   "outputs": [
    {
     "name": "stdout",
     "output_type": "stream",
     "text": [
      "[4, 5, 2, 7, 8, 6, 10, 9, 3, 1]\n"
     ]
    }
   ],
   "source": [
    "up_to_ten = [1, 2, 3, 4, 5, 6, 7, 8, 9, 10]\n",
    "rng.shuffle(up_to_ten)\n",
    "print(up_to_ten)"
   ]
  },
  {
   "cell_type": "markdown",
   "metadata": {},
   "source": [
    "Pick one element in a list (any data type)"
   ]
  },
  {
   "cell_type": "code",
   "execution_count": 129,
   "metadata": {},
   "outputs": [
    {
     "data": {
      "text/plain": [
       "'Charlie'"
      ]
     },
     "execution_count": 129,
     "metadata": {},
     "output_type": "execute_result"
    }
   ],
   "source": [
    "my_best_friend = rng.choice([\"Alice\", \"Bob\", \"Charlie\"])\n",
    "my_best_friend"
   ]
  },
  {
   "cell_type": "markdown",
   "metadata": {},
   "source": [
    "Choose randomly a sample of elements without replacement (i.e., with no duplicates)"
   ]
  },
  {
   "cell_type": "code",
   "execution_count": 133,
   "metadata": {},
   "outputs": [
    {
     "data": {
      "text/plain": [
       "array([ 2, 29, 58, 18, 28, 10])"
      ]
     },
     "execution_count": 133,
     "metadata": {},
     "output_type": "execute_result"
    }
   ],
   "source": [
    "lottery_numbers = range(60)\n",
    "winning_numbers = rng.choice(lottery_numbers, replace=False, size=6)\n",
    "winning_numbers"
   ]
  },
  {
   "cell_type": "markdown",
   "metadata": {},
   "source": [
    "## Regular Expressions"
   ]
  },
  {
   "cell_type": "markdown",
   "metadata": {},
   "source": [
    "A regular expression is an expression that simplify how we define a pattern\n",
    "in given any text.    \n",
    "There are entire books written about them, so we only cover the basic of it."
   ]
  },
  {
   "cell_type": "code",
   "execution_count": 134,
   "metadata": {},
   "outputs": [],
   "source": [
    "re_examples = [                           # All of these are True, because\n",
    "  not re.match(\"a\", \"cat\"),               # 'cat' does not start with 'a'\n",
    "  re.search(\"a\", \"cat\"),                  # 'cat has an 'a' in it\n",
    "  not re.search(\"c\", \"dog\"),              # 'dog' doesn't have a 'c' in it.\n",
    "  3 == len(re.split(\"[ab]\", \"carbs\")),    # Split on a or b to ['c', 'r', 's']\n",
    "  \"R-D-\" == re.sub(\"[0-9]\", \"-\", \"R2D2\")  # Replace digits with dashes in \"R2D2\"\n",
    "]\n",
    "\n",
    "assert all(re_examples), \"all the regex example should be True\""
   ]
  },
  {
   "cell_type": "markdown",
   "metadata": {},
   "source": [
    "## `zip` and Argument Unpacking"
   ]
  },
  {
   "cell_type": "markdown",
   "metadata": {},
   "source": [
    "Like a zipper, you can iterate in parallel two or more list with the same length\n",
    "using `zip`"
   ]
  },
  {
   "cell_type": "code",
   "execution_count": 136,
   "metadata": {},
   "outputs": [
    {
     "data": {
      "text/plain": [
       "[('a', 1), ('b', 2), ('c', 3)]"
      ]
     },
     "execution_count": 136,
     "metadata": {},
     "output_type": "execute_result"
    }
   ],
   "source": [
    "list1 = ['a', 'b', 'c']\n",
    "list2 = [1, 2, 3]\n",
    "\n",
    "# zip is lazy (only generate the element if we call it), so you have todo \n",
    "# something like the following\n",
    "[pair for pair in zip(list1, list2)]    # is [('a', 1), ('b', 2), ('c', 3)]"
   ]
  },
  {
   "cell_type": "markdown",
   "metadata": {},
   "source": [
    "There is another strange trick to unzip using `*` (asterisk) \n",
    "that performs argument unpacking"
   ]
  },
  {
   "cell_type": "code",
   "execution_count": 137,
   "metadata": {},
   "outputs": [
    {
     "data": {
      "text/plain": [
       "(('a', 'b', 'c'), (1, 2, 3))"
      ]
     },
     "execution_count": 137,
     "metadata": {},
     "output_type": "execute_result"
    }
   ],
   "source": [
    "pairs = [('a', 1), ('b', 2), ('c', 3)]\n",
    "letters, numbers = zip(*pairs)\n",
    "letters, numbers"
   ]
  },
  {
   "attachments": {},
   "cell_type": "markdown",
   "metadata": {},
   "source": [
    "## `args` and `kwargs`"
   ]
  },
  {
   "cell_type": "markdown",
   "metadata": {},
   "source": [
    "Let us define a function that takes an input of some function `f` and returns   \n",
    "a new function that for any input returns twice of the value of `f`."
   ]
  },
  {
   "cell_type": "code",
   "execution_count": 140,
   "metadata": {},
   "outputs": [],
   "source": [
    "def doubler(f):\n",
    "  # Here we define a new function that keeps a reference to f\n",
    "  def g(x):      # <-- g only takes one argument\n",
    "    return 2 * f(x)\n",
    "\n",
    "  # And return that new function\n",
    "  return g"
   ]
  },
  {
   "cell_type": "markdown",
   "metadata": {},
   "source": [
    "We test for a function `f` with a single argument"
   ]
  },
  {
   "cell_type": "code",
   "execution_count": 142,
   "metadata": {},
   "outputs": [],
   "source": [
    "def f1(x):\n",
    "  return x + 1\n",
    "\n",
    "g_test = doubler(f1)\n",
    "assert g_test(3) == 8, \"(3 + 1) * 2 should equal 8\"\n",
    "assert g_test(-1) == 0, \"(-1 + 1) * 2 should equal 0\""
   ]
  },
  {
   "cell_type": "markdown",
   "metadata": {},
   "source": [
    "When we test with a function `f` with two arguments, we have an error"
   ]
  },
  {
   "cell_type": "code",
   "execution_count": 145,
   "metadata": {},
   "outputs": [
    {
     "name": "stdout",
     "output_type": "stream",
     "text": [
      "as defined, g only takes one argument\n"
     ]
    }
   ],
   "source": [
    "def f2(x, y):\n",
    "  return x + y\n",
    "\n",
    "g_test = doubler(f2)\n",
    "try:\n",
    "  g_test(1, 2)\n",
    "except TypeError:\n",
    "  print(\"as defined, g only takes one argument\")"
   ]
  },
  {
   "cell_type": "markdown",
   "metadata": {},
   "source": [
    "To make our function `doubler` works for any function `f`, we have to special   \n",
    "arguments: `*args` (unnamed arguments), and `**kwargs` (keyword arguments or named arguments)"
   ]
  },
  {
   "cell_type": "code",
   "execution_count": 146,
   "metadata": {},
   "outputs": [],
   "source": [
    "def doubler_correct(f):\n",
    "  \"\"\"works no matter what kind of inputs f expect\"\"\"\n",
    "  def g(*args, **kwargs):\n",
    "    \"\"\"whatever arguments g is supplied, pass them through to f\"\"\"\n",
    "    return 2 * f(*args, **kwargs)\n",
    "\n",
    "  return g\n",
    "\n",
    "g_test = doubler_correct(f2)\n",
    "assert g_test(1, 2) == 6, \"doubler should work now\""
   ]
  },
  {
   "attachments": {},
   "cell_type": "markdown",
   "metadata": {},
   "source": [
    "## Type Annotations\n",
    "\n",
    "Because Python is a *dynamically typed* language, these type annotations\n",
    "don't actually *do* anything.   \n",
    "This only help us to understand\n",
    "the function theoretically and mathematically \n",
    "when we put them into documentation "
   ]
  },
  {
   "cell_type": "code",
   "execution_count": 54,
   "metadata": {},
   "outputs": [
    {
     "name": "stdout",
     "output_type": "stream",
     "text": [
      "15\n",
      "hi there\n"
     ]
    }
   ],
   "source": [
    "def add(a: int, b: int) -> int:\n",
    "  return a + b\n",
    "\n",
    "print(add(10, 5))            # you'd like this to be OK\n",
    "print(add(\"hi \", \"there\"))   # you'd like this to be not OK"
   ]
  },
  {
   "cell_type": "markdown",
   "metadata": {},
   "source": [
    "Type annotation for list. You have to specify the type of its element.   \n",
    "In the below example the output has type annotation `float` which indicates\n",
    "by the arrow `->`"
   ]
  },
  {
   "cell_type": "code",
   "execution_count": 147,
   "metadata": {},
   "outputs": [
    {
     "name": "stdout",
     "output_type": "stream",
     "text": [
      "9\n"
     ]
    }
   ],
   "source": [
    "def total(xs: List[float]) -> float:\n",
    "  return sum(xs)\n",
    "\n",
    "print(total([2, 3, 4]))"
   ]
  },
  {
   "cell_type": "markdown",
   "metadata": {},
   "source": [
    "When the type is not obvious (whether it is `None` or `float`)"
   ]
  },
  {
   "cell_type": "code",
   "execution_count": 148,
   "metadata": {},
   "outputs": [],
   "source": [
    "best_so_far: Optional[float] = None   # allowed to be either a float or None"
   ]
  },
  {
   "cell_type": "markdown",
   "metadata": {},
   "source": [
    "Other type such as iterable, dictionary and tuple"
   ]
  },
  {
   "cell_type": "code",
   "execution_count": 149,
   "metadata": {},
   "outputs": [],
   "source": [
    "# keys are string, values are ints\n",
    "counts: Dict[str, int] = {\"data\": 1, \"science\": 2}\n",
    "\n",
    "# lists and generators are both iterable\n",
    "lazy: bool = True\n",
    "if lazy:\n",
    "  evens: Iterable[int] = (x for x in range(10) if x % 2 == 0)\n",
    "else:\n",
    "  evens = [0, 2, 4, 6, 8]   # if you put a value to a variable, you do not need to specify the type\n",
    "\n",
    "# tuples specify a type for each element\n",
    "triple: Tuple[int, float, int] = (10, 2.3, 5)"
   ]
  },
  {
   "cell_type": "markdown",
   "metadata": {},
   "source": [
    "Because Python is a programming language that supports first-class function,   \n",
    "we can put a function as an argument to another function and set its type\n",
    "to `Callable`"
   ]
  },
  {
   "cell_type": "code",
   "execution_count": 150,
   "metadata": {},
   "outputs": [],
   "source": [
    "# The type hint says that repeater is a function that takes\n",
    "# two arguments, a string and an int, and returns a string\n",
    "def twice(repeater: Callable[[str, int], str], s: str) -> str:\n",
    "  return repeater(s, 2)\n",
    "\n",
    "def comma_repeater(s: int, n: int) -> str:\n",
    "  n_copies = [s for _ in range(n)]\n",
    "  return \", \".join(n_copies)\n",
    "\n",
    "assert twice(comma_repeater, \"type hints\") == \"type hints, type hints\""
   ]
  },
  {
   "cell_type": "markdown",
   "metadata": {},
   "source": [
    "You can put type object to a variable and use that variable instead a full type"
   ]
  },
  {
   "cell_type": "code",
   "execution_count": null,
   "metadata": {},
   "outputs": [],
   "source": [
    "Number = int\n",
    "Numbers = List[Number]\n",
    "\n",
    "def total(xs: Numbers) -> Number:\n",
    "  return sum(xs)"
   ]
  }
 ],
 "metadata": {
  "kernelspec": {
   "display_name": "base",
   "language": "python",
   "name": "python3"
  },
  "language_info": {
   "codemirror_mode": {
    "name": "ipython",
    "version": 3
   },
   "file_extension": ".py",
   "mimetype": "text/x-python",
   "name": "python",
   "nbconvert_exporter": "python",
   "pygments_lexer": "ipython3",
   "version": "3.11.5"
  },
  "orig_nbformat": 4,
  "vscode": {
   "interpreter": {
    "hash": "b68217c4fa6011267e0d81cc47bb50822e9770eb46de3a1f506be20c9f89249d"
   }
  }
 },
 "nbformat": 4,
 "nbformat_minor": 2
}
