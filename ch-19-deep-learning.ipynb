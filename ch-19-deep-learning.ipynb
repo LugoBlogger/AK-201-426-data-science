{
 "cells": [
  {
   "attachments": {},
   "cell_type": "markdown",
   "metadata": {},
   "source": [
    "Logs   \n",
    "- [2023/03/08]   \n",
    "  Restart this notebook if you change the scratch library"
   ]
  },
  {
   "cell_type": "code",
   "execution_count": 3,
   "metadata": {},
   "outputs": [],
   "source": [
    "from typing import List"
   ]
  },
  {
   "cell_type": "code",
   "execution_count": null,
   "metadata": {},
   "outputs": [],
   "source": []
  },
  {
   "attachments": {},
   "cell_type": "markdown",
   "metadata": {},
   "source": [
    "Deep learning is a technique that utilize neural network with many layers\n",
    "to solve many problems including supervise and unsupervise.\n",
    "\n",
    "To do deep learning, we need several abstraction of data structure"
   ]
  },
  {
   "attachments": {},
   "cell_type": "markdown",
   "metadata": {},
   "source": [
    "## The Tensor\n",
    "\n",
    "The implementation of Tensor type in here using some kind of cheating, because\n",
    "for the practical purpose to learn the concept. More general Tensor datatype\n",
    "is provided by popular library like TensorFlow or PyTorch\n",
    "\n",
    "Here we use Tensor data type as a list (in fact in concise\n",
    "mathematical term, n-dimensional array *is not*\n",
    "a tensor)"
   ]
  },
  {
   "cell_type": "code",
   "execution_count": 1,
   "metadata": {},
   "outputs": [],
   "source": [
    "Tensor = list"
   ]
  },
  {
   "cell_type": "code",
   "execution_count": 4,
   "metadata": {},
   "outputs": [
    {
     "name": "stdout",
     "output_type": "stream",
     "text": [
      "[3]\n",
      "[3, 2]\n"
     ]
    }
   ],
   "source": [
    "# To find a tensors' shape:\n",
    "def shape(tensor: Tensor) -> List[int]:\n",
    "  sizes: List[int] = []\n",
    "  while isinstance(tensor, list):\n",
    "    sizes.append(len(tensor))\n",
    "    tensor = tensor[0]\n",
    "  return sizes\n",
    "\n",
    "print(shape([1, 2, 3]))\n",
    "print(shape([[1, 2], [3, 4], [5, 6]]))"
   ]
  },
  {
   "cell_type": "code",
   "execution_count": 7,
   "metadata": {},
   "outputs": [
    {
     "name": "stdout",
     "output_type": "stream",
     "text": [
      "True\n",
      "False\n"
     ]
    }
   ],
   "source": [
    "# We implement 1d case tensor with its function modification of tensor\n",
    "# and generalization greater than 1d can be implemented using recursive function\n",
    "def is_1d(tensor: Tensor) -> bool:\n",
    "  \"\"\"If tensor[0] is a list, it's a higher-order tensor.\n",
    "     Otherwise, tensor is 1-dimensional (that is, a vector).\"\"\" \n",
    "  return not isinstance(tensor[0], list)\n",
    "\n",
    "print(is_1d([1, 2, 3]))\n",
    "print(is_1d([[1, 2], [3, 4]]))"
   ]
  },
  {
   "cell_type": "code",
   "execution_count": null,
   "metadata": {},
   "outputs": [],
   "source": []
  }
 ],
 "metadata": {
  "kernelspec": {
   "display_name": "base",
   "language": "python",
   "name": "python3"
  },
  "language_info": {
   "codemirror_mode": {
    "name": "ipython",
    "version": 3
   },
   "file_extension": ".py",
   "mimetype": "text/x-python",
   "name": "python",
   "nbconvert_exporter": "python",
   "pygments_lexer": "ipython3",
   "version": "3.8.10"
  },
  "orig_nbformat": 4
 },
 "nbformat": 4,
 "nbformat_minor": 2
}
