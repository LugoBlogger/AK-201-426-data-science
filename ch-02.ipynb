{
 "cells": [
  {
   "cell_type": "code",
   "execution_count": 55,
   "metadata": {},
   "outputs": [],
   "source": [
    "from collections import defaultdict, Counter\n",
    "from typing import List, Optional, Dict, Iterable, Tuple, Callable\n",
    "\n",
    "from IPython.display import display"
   ]
  },
  {
   "cell_type": "markdown",
   "metadata": {},
   "source": [
    "# A Crash Course in Python"
   ]
  },
  {
   "cell_type": "markdown",
   "metadata": {},
   "source": [
    "## Whitespace Formatting"
   ]
  },
  {
   "cell_type": "code",
   "execution_count": 4,
   "metadata": {},
   "outputs": [
    {
     "name": "stdout",
     "output_type": "stream",
     "text": [
      "1: 1 2\n",
      "2 3\n",
      "3 4\n",
      "4 5\n",
      "5 6\n",
      "; 1\n",
      "2: 1 3\n",
      "2 4\n",
      "3 5\n",
      "4 6\n",
      "5 7\n",
      "; 2\n",
      "3: 1 4\n",
      "2 5\n",
      "3 6\n",
      "4 7\n",
      "5 8\n",
      "; 3\n",
      "4: 1 5\n",
      "2 6\n",
      "3 7\n",
      "4 8\n",
      "5 9\n",
      "; 4\n",
      "5: 1 6\n",
      "2 7\n",
      "3 8\n",
      "4 9\n",
      "5 10\n",
      "; 5\n",
      "done looping\n"
     ]
    }
   ],
   "source": [
    "# The pound sign marks the start of a comment. Python itself\n",
    "# ignores the comments, but they're helpful for anyone reading the code. \n",
    "for i in [1, 2, 3, 4, 5]:\n",
    "  print(i, end=\": \")                      # First line in \"for i\" block\n",
    "  for j in [1, 2, 3, 4, 5]:\n",
    "    print(j, end=\" \")\n",
    "    print(i + j)\n",
    "  \n",
    "  print(\"; \", end=\"\")\n",
    "  print(i)\n",
    "print(\"done looping\")"
   ]
  },
  {
   "attachments": {},
   "cell_type": "markdown",
   "metadata": {},
   "source": [
    "Whitespace is ignored inside parantheses and backets"
   ]
  },
  {
   "cell_type": "code",
   "execution_count": 5,
   "metadata": {},
   "outputs": [
    {
     "data": {
      "text/plain": [
       "210"
      ]
     },
     "execution_count": 5,
     "metadata": {},
     "output_type": "execute_result"
    }
   ],
   "source": [
    "long_winded_computation = (1 + 2 + 3 + 4 + 5 + 6 + 7 + 8 + 9 + 10\n",
    "  + 11 + 12 + 13 + 14 + 15 + 16 + 17 + 18 + 19 + 20)\n",
    "long_winded_computation"
   ]
  },
  {
   "cell_type": "code",
   "execution_count": 12,
   "metadata": {},
   "outputs": [
    {
     "data": {
      "text/plain": [
       "[[1, 2, 3], [4, 5, 6], [7, 8, 9]]"
      ]
     },
     "execution_count": 12,
     "metadata": {},
     "output_type": "execute_result"
    }
   ],
   "source": [
    "list_of_lists = [[1, 2, 3], [4, 5, 6], [7, 8, 9]]\n",
    "\n",
    "easier_to_read_list_of_lists = [[1, 2, 3],\n",
    "                                [4, 5, 6],\n",
    "                                [7, 8, 9]]\n",
    "easier_to_read_list_of_lists"
   ]
  },
  {
   "attachments": {},
   "cell_type": "markdown",
   "metadata": {},
   "source": [
    "Use backslash to indicate that a statement continues onto the next line\n"
   ]
  },
  {
   "cell_type": "code",
   "execution_count": 7,
   "metadata": {},
   "outputs": [
    {
     "data": {
      "text/plain": [
       "5"
      ]
     },
     "execution_count": 7,
     "metadata": {},
     "output_type": "execute_result"
    }
   ],
   "source": [
    "two_plus_three = 2 + \\\n",
    "                 3\n",
    "two_plus_three"
   ]
  },
  {
   "attachments": {},
   "cell_type": "markdown",
   "metadata": {},
   "source": [
    "## Modules"
   ]
  },
  {
   "attachments": {},
   "cell_type": "markdown",
   "metadata": {},
   "source": [
    "## Functions"
   ]
  },
  {
   "cell_type": "code",
   "execution_count": 13,
   "metadata": {},
   "outputs": [],
   "source": [
    "def double(x):\n",
    "  \"\"\"\n",
    "  This is where you put an optional docstring that explains what the\n",
    "  function does. For example, this function multiplies its input by 2.\n",
    "  \"\"\"\n",
    "  return x * 2"
   ]
  },
  {
   "attachments": {},
   "cell_type": "markdown",
   "metadata": {},
   "source": [
    "Python functions are *first-class*, which means that we can assign them to\n",
    "variables and pass them into functions just like any other arguments."
   ]
  },
  {
   "cell_type": "code",
   "execution_count": 14,
   "metadata": {},
   "outputs": [
    {
     "data": {
      "text/plain": [
       "2"
      ]
     },
     "execution_count": 14,
     "metadata": {},
     "output_type": "execute_result"
    }
   ],
   "source": [
    "def apply_to_one(f):\n",
    "  \"\"\"Calls the function f with 1 as its argument\"\"\" \n",
    "  return f(1)\n",
    "\n",
    "my_double = double          # referes to the previously defined function\n",
    "x = apply_to_one(my_double)\n",
    "x"
   ]
  },
  {
   "attachments": {},
   "cell_type": "markdown",
   "metadata": {},
   "source": [
    "Create short anonymous functions, or *lambdas*"
   ]
  },
  {
   "cell_type": "code",
   "execution_count": 15,
   "metadata": {},
   "outputs": [
    {
     "data": {
      "text/plain": [
       "5"
      ]
     },
     "execution_count": 15,
     "metadata": {},
     "output_type": "execute_result"
    }
   ],
   "source": [
    "y = apply_to_one(lambda x: x + 4)\n",
    "y"
   ]
  },
  {
   "attachments": {},
   "cell_type": "markdown",
   "metadata": {},
   "source": [
    "Function parameters can also be given default arguments"
   ]
  },
  {
   "cell_type": "code",
   "execution_count": 16,
   "metadata": {},
   "outputs": [
    {
     "name": "stdout",
     "output_type": "stream",
     "text": [
      "hello\n",
      "my default message\n"
     ]
    }
   ],
   "source": [
    "def my_print(message=\"my default message\"):\n",
    "  print(message)\n",
    "\n",
    "my_print(\"hello\")         # prints \"hello\"\n",
    "my_print()                # prints 'my default message'"
   ]
  },
  {
   "attachments": {},
   "cell_type": "markdown",
   "metadata": {},
   "source": [
    "## Strings"
   ]
  },
  {
   "attachments": {},
   "cell_type": "markdown",
   "metadata": {},
   "source": [
    "Strings can be delimited by single or double quotation marks"
   ]
  },
  {
   "cell_type": "code",
   "execution_count": 17,
   "metadata": {},
   "outputs": [],
   "source": [
    "single_quoted_string = 'data science'\n",
    "double_quoted_string = \"data science\""
   ]
  },
  {
   "attachments": {},
   "cell_type": "markdown",
   "metadata": {},
   "source": [
    "Python uses backslashes to encode special characters. For example:"
   ]
  },
  {
   "cell_type": "code",
   "execution_count": 18,
   "metadata": {},
   "outputs": [
    {
     "data": {
      "text/plain": [
       "1"
      ]
     },
     "execution_count": 18,
     "metadata": {},
     "output_type": "execute_result"
    }
   ],
   "source": [
    "tab_string = \"\\t\"       # represents the tab character\n",
    "len(tab_string)"
   ]
  },
  {
   "cell_type": "code",
   "execution_count": 19,
   "metadata": {},
   "outputs": [
    {
     "data": {
      "text/plain": [
       "2"
      ]
     },
     "execution_count": 19,
     "metadata": {},
     "output_type": "execute_result"
    }
   ],
   "source": [
    "not_tab_string = r\"\\t\"      # represents the characters '\\' and 't'\n",
    "len(not_tab_string)"
   ]
  },
  {
   "cell_type": "code",
   "execution_count": null,
   "metadata": {},
   "outputs": [],
   "source": [
    "multi_line_string = \"\"\"This is the first line.\n",
    "  and this is the second line\n",
    "  and this is the third line\"\"\""
   ]
  },
  {
   "attachments": {},
   "cell_type": "markdown",
   "metadata": {},
   "source": [
    "A new feature in Python 3.6 is the *f-string*, which provides a simple\n",
    "way to substitute values into strings."
   ]
  },
  {
   "cell_type": "code",
   "execution_count": 20,
   "metadata": {},
   "outputs": [],
   "source": [
    "first_name = \"Joel\"\n",
    "last_name = \"Grus\""
   ]
  },
  {
   "cell_type": "code",
   "execution_count": 21,
   "metadata": {},
   "outputs": [
    {
     "name": "stdout",
     "output_type": "stream",
     "text": [
      "Joel Grus\n",
      "Joel Grus\n"
     ]
    }
   ],
   "source": [
    "full_name1 = first_name + \" \" + last_name             # string addition\n",
    "full_name2 = \"{0} {1}\".format(first_name, last_name)  # string.format\n",
    "\n",
    "print(full_name1)\n",
    "print(full_name2)"
   ]
  },
  {
   "cell_type": "code",
   "execution_count": 22,
   "metadata": {},
   "outputs": [
    {
     "name": "stdout",
     "output_type": "stream",
     "text": [
      "Joel Grus\n"
     ]
    }
   ],
   "source": [
    "full_name3 = f\"{first_name} {last_name}\"\n",
    "print(full_name3)"
   ]
  },
  {
   "attachments": {},
   "cell_type": "markdown",
   "metadata": {},
   "source": [
    "## Exceptions"
   ]
  },
  {
   "cell_type": "code",
   "execution_count": 23,
   "metadata": {},
   "outputs": [
    {
     "name": "stdout",
     "output_type": "stream",
     "text": [
      "cannot divide by zero\n"
     ]
    }
   ],
   "source": [
    "try:\n",
    "  print(0 / 0)\n",
    "except ZeroDivisionError:\n",
    "  print(\"cannot divide by zero\")"
   ]
  },
  {
   "attachments": {},
   "cell_type": "markdown",
   "metadata": {},
   "source": [
    "## Lists"
   ]
  },
  {
   "cell_type": "markdown",
   "metadata": {},
   "source": [
    "## Tuple"
   ]
  },
  {
   "cell_type": "markdown",
   "metadata": {},
   "source": [
    "## Dictionaries"
   ]
  },
  {
   "cell_type": "code",
   "execution_count": 24,
   "metadata": {},
   "outputs": [],
   "source": [
    "empty_dict = {}                       # Pythonic\n",
    "empty_dict2 = dict()                  # less Pythonic\n",
    "grades = {\"Joel\": 80, \"Tim\": 95}      # dictionary literal\n"
   ]
  },
  {
   "attachments": {},
   "cell_type": "markdown",
   "metadata": {},
   "source": [
    "Check for the existence of a key using `in`.    \n",
    "The membership check is fast even for large dictionaries."
   ]
  },
  {
   "cell_type": "code",
   "execution_count": 25,
   "metadata": {},
   "outputs": [
    {
     "name": "stdout",
     "output_type": "stream",
     "text": [
      "True False\n"
     ]
    }
   ],
   "source": [
    "joel_has_grade = \"Joel\" in grades    # True\n",
    "kate_has_grade = \"Kate\" in grades    # False\n",
    "\n",
    "print(joel_has_grade, kate_has_grade)"
   ]
  },
  {
   "attachments": {},
   "cell_type": "markdown",
   "metadata": {},
   "source": [
    "##  defaultdict"
   ]
  },
  {
   "cell_type": "code",
   "execution_count": 34,
   "metadata": {},
   "outputs": [
    {
     "data": {
      "text/plain": [
       "['this',\n",
       " 'is',\n",
       " 'a',\n",
       " 'somewhat',\n",
       " 'heavy',\n",
       " 'aspiration',\n",
       " 'for',\n",
       " 'a',\n",
       " 'book',\n",
       " 'the',\n",
       " 'best',\n",
       " 'way',\n",
       " 'to',\n",
       " 'learn',\n",
       " 'hacking',\n",
       " 'skills',\n",
       " 'is',\n",
       " 'by',\n",
       " 'hacking',\n",
       " 'on',\n",
       " 'things',\n",
       " 'by',\n",
       " 'reading',\n",
       " 'this',\n",
       " 'book,',\n",
       " 'you',\n",
       " 'will',\n",
       " 'get',\n",
       " 'a',\n",
       " 'good',\n",
       " 'understanding',\n",
       " 'of',\n",
       " 'the',\n",
       " 'way',\n",
       " 'i',\n",
       " 'hack',\n",
       " 'on',\n",
       " 'things,',\n",
       " 'which',\n",
       " 'may',\n",
       " 'not',\n",
       " 'necessarily',\n",
       " 'be',\n",
       " 'the',\n",
       " 'best',\n",
       " 'way',\n",
       " 'for',\n",
       " 'you',\n",
       " 'to',\n",
       " 'hack',\n",
       " 'on',\n",
       " 'things',\n",
       " 'you',\n",
       " 'will',\n",
       " 'get',\n",
       " 'a',\n",
       " 'good',\n",
       " 'understanding',\n",
       " 'of',\n",
       " 'some',\n",
       " 'of',\n",
       " 'the',\n",
       " 'tools',\n",
       " 'i',\n",
       " 'use,',\n",
       " 'which',\n",
       " 'will',\n",
       " 'not',\n",
       " 'necessarily',\n",
       " 'be',\n",
       " 'the',\n",
       " 'best',\n",
       " 'tools',\n",
       " 'for',\n",
       " 'you',\n",
       " 'to',\n",
       " 'use',\n",
       " 'you',\n",
       " 'will',\n",
       " 'get',\n",
       " 'a',\n",
       " 'good',\n",
       " 'understanding',\n",
       " 'of',\n",
       " 'the',\n",
       " 'way',\n",
       " 'i',\n",
       " 'approach',\n",
       " 'data',\n",
       " 'problems,',\n",
       " 'which',\n",
       " 'may',\n",
       " 'not',\n",
       " 'necessarily',\n",
       " 'be',\n",
       " 'the',\n",
       " 'best',\n",
       " 'way',\n",
       " 'for',\n",
       " 'you',\n",
       " 'to',\n",
       " 'approach',\n",
       " 'data',\n",
       " 'problems',\n",
       " 'the',\n",
       " 'intent',\n",
       " 'and',\n",
       " 'the',\n",
       " 'hope',\n",
       " 'is',\n",
       " 'that',\n",
       " 'my',\n",
       " 'examples',\n",
       " 'will',\n",
       " 'inspire',\n",
       " 'xvyou',\n",
       " 'to',\n",
       " 'try',\n",
       " 'things',\n",
       " 'your',\n",
       " 'own',\n",
       " 'way',\n",
       " 'all',\n",
       " 'the',\n",
       " 'code',\n",
       " 'and',\n",
       " 'data',\n",
       " 'from',\n",
       " 'the',\n",
       " 'book',\n",
       " 'is',\n",
       " 'available',\n",
       " 'on',\n",
       " 'github',\n",
       " 'to',\n",
       " 'get',\n",
       " 'you',\n",
       " 'started']"
      ]
     },
     "execution_count": 34,
     "metadata": {},
     "output_type": "execute_result"
    }
   ],
   "source": [
    "document = \"\\\n",
    "This is a somewhat heavy aspiration for a book. The best way to learn hacking skills is \\\n",
    "by hacking on things. By reading this book, you will get a good understanding of the \\\n",
    "way I hack on things, which may not necessarily be the best way for you to hack on \\\n",
    "things. You will get a good understanding of some of the tools I use, which will not \\\n",
    "necessarily be the best tools for you to use. You will get a good understanding of the \\\n",
    "way I approach data problems, which may not necessarily be the best way for you to \\\n",
    "approach data problems. The intent (and the hope) is that my examples will inspire \\\n",
    "xvyou to try things your own way. All the code and data from the book is available on \\\n",
    "GitHub to get you started.\"\n",
    "document = [word.lower().strip(\".()\") for word in document.split(\" \")]\n",
    "document"
   ]
  },
  {
   "cell_type": "code",
   "execution_count": 39,
   "metadata": {},
   "outputs": [
    {
     "data": {
      "text/plain": [
       "[('the', 11),\n",
       " ('you', 7),\n",
       " ('way', 6),\n",
       " ('to', 6),\n",
       " ('a', 5),\n",
       " ('will', 5),\n",
       " ('is', 4),\n",
       " ('for', 4),\n",
       " ('best', 4),\n",
       " ('on', 4),\n",
       " ('get', 4),\n",
       " ('of', 4),\n",
       " ('things', 3),\n",
       " ('good', 3),\n",
       " ('understanding', 3),\n",
       " ('i', 3),\n",
       " ('which', 3),\n",
       " ('not', 3),\n",
       " ('necessarily', 3),\n",
       " ('be', 3),\n",
       " ('data', 3),\n",
       " ('this', 2),\n",
       " ('book', 2),\n",
       " ('hacking', 2),\n",
       " ('by', 2),\n",
       " ('hack', 2),\n",
       " ('may', 2),\n",
       " ('tools', 2),\n",
       " ('approach', 2),\n",
       " ('and', 2),\n",
       " ('somewhat', 1),\n",
       " ('heavy', 1),\n",
       " ('aspiration', 1),\n",
       " ('learn', 1),\n",
       " ('skills', 1),\n",
       " ('reading', 1),\n",
       " ('book,', 1),\n",
       " ('things,', 1),\n",
       " ('some', 1),\n",
       " ('use,', 1),\n",
       " ('use', 1),\n",
       " ('problems,', 1),\n",
       " ('problems', 1),\n",
       " ('intent', 1),\n",
       " ('hope', 1),\n",
       " ('that', 1),\n",
       " ('my', 1),\n",
       " ('examples', 1),\n",
       " ('inspire', 1),\n",
       " ('xvyou', 1),\n",
       " ('try', 1),\n",
       " ('your', 1),\n",
       " ('own', 1),\n",
       " ('all', 1),\n",
       " ('code', 1),\n",
       " ('from', 1),\n",
       " ('available', 1),\n",
       " ('github', 1),\n",
       " ('started', 1)]"
      ]
     },
     "execution_count": 39,
     "metadata": {},
     "output_type": "execute_result"
    }
   ],
   "source": [
    "word_counts = defaultdict(int)\n",
    "for word in document:\n",
    "  word_counts[word] += 1\n",
    "\n",
    "sorted(word_counts.items(), key=lambda key_val: key_val[1], reverse=True)"
   ]
  },
  {
   "attachments": {},
   "cell_type": "markdown",
   "metadata": {},
   "source": [
    "`defaultdict` can also be useful with `list` or `dict`, or even\n",
    "your own functions:"
   ]
  },
  {
   "cell_type": "code",
   "execution_count": 40,
   "metadata": {},
   "outputs": [
    {
     "data": {
      "text/plain": [
       "defaultdict(list, {2: [1]})"
      ]
     },
     "execution_count": 40,
     "metadata": {},
     "output_type": "execute_result"
    }
   ],
   "source": [
    "dd_list = defaultdict(list)       # list() produces an empty list\n",
    "dd_list[2].append(1)\n",
    "dd_list"
   ]
  },
  {
   "cell_type": "code",
   "execution_count": 41,
   "metadata": {},
   "outputs": [
    {
     "data": {
      "text/plain": [
       "defaultdict(dict, {'Joel': {'City': 'Seattle'}})"
      ]
     },
     "execution_count": 41,
     "metadata": {},
     "output_type": "execute_result"
    }
   ],
   "source": [
    "dd_dict = defaultdict((dict))         # dict() produces an empty dict\n",
    "dd_dict[\"Joel\"][\"City\"] = \"Seattle\"\n",
    "dd_dict"
   ]
  },
  {
   "cell_type": "code",
   "execution_count": 42,
   "metadata": {},
   "outputs": [
    {
     "data": {
      "text/plain": [
       "defaultdict(<function __main__.<lambda>()>, {2: [0, 1]})"
      ]
     },
     "execution_count": 42,
     "metadata": {},
     "output_type": "execute_result"
    }
   ],
   "source": [
    "dd_pair = defaultdict(lambda: [0, 0])       # default value would be [0, 0]\n",
    "dd_pair[2][1] = 1\n",
    "dd_pair"
   ]
  },
  {
   "attachments": {},
   "cell_type": "markdown",
   "metadata": {},
   "source": [
    "## Counter\n",
    "\n",
    " A `Counter` turns a sequence of values into a `defaultdict(int)`-like\n",
    " object mapping keys to counts:"
   ]
  },
  {
   "cell_type": "code",
   "execution_count": 45,
   "metadata": {},
   "outputs": [
    {
     "data": {
      "text/plain": [
       "Counter({0: 2, 1: 1, 2: 1})"
      ]
     },
     "execution_count": 45,
     "metadata": {},
     "output_type": "execute_result"
    }
   ],
   "source": [
    "c = Counter([0, 1, 2, 0])\n",
    "c"
   ]
  },
  {
   "cell_type": "code",
   "execution_count": 50,
   "metadata": {},
   "outputs": [
    {
     "name": "stdout",
     "output_type": "stream",
     "text": [
      "the 11\n",
      "you 7\n",
      "way 6\n",
      "to 6\n",
      "a 5\n",
      "will 5\n",
      "is 4\n",
      "for 4\n",
      "best 4\n",
      "on 4\n"
     ]
    }
   ],
   "source": [
    "# recall, document is a list of words\n",
    "word_counts = Counter(document)\n",
    "\n",
    "# print the 10 most common words and their counts\n",
    "for word, count in word_counts.most_common(10):\n",
    "  print(word, count)"
   ]
  },
  {
   "attachments": {},
   "cell_type": "markdown",
   "metadata": {},
   "source": [
    "## Sets\n",
    "\n",
    "If we have a large collection of items that we want to use for a membership\n",
    "test, a set is more appropriate than a list"
   ]
  },
  {
   "cell_type": "markdown",
   "metadata": {},
   "source": [
    "## Control Flow"
   ]
  },
  {
   "cell_type": "markdown",
   "metadata": {},
   "source": [
    "## Truthiness"
   ]
  },
  {
   "attachments": {},
   "cell_type": "markdown",
   "metadata": {},
   "source": [
    "Python uses the value `None` to indicate a nonexistent value.   \n",
    "It is simlar to other languages' `null`"
   ]
  },
  {
   "cell_type": "code",
   "execution_count": 51,
   "metadata": {},
   "outputs": [],
   "source": [
    "x = None\n",
    "assert x == None, \"this is not the Python way to check for None\"\n",
    "assert x is None, \"this is the Pythonic way to check for None\""
   ]
  },
  {
   "attachments": {},
   "cell_type": "markdown",
   "metadata": {},
   "source": [
    "The following are \"falsy\" in Python:\n",
    "`False`, `None`, `[]` (an empty `list`), `{}` (an empty `dict`),\n",
    "`\"\"`, `set()`, `0`, `0.0`"
   ]
  },
  {
   "cell_type": "markdown",
   "metadata": {},
   "source": [
    "## Sorting"
   ]
  },
  {
   "cell_type": "markdown",
   "metadata": {},
   "source": [
    "## List Comprehension"
   ]
  },
  {
   "cell_type": "markdown",
   "metadata": {},
   "source": [
    "## Automated Testing and assert"
   ]
  },
  {
   "cell_type": "markdown",
   "metadata": {},
   "source": [
    "## Object-Oriented Programming"
   ]
  },
  {
   "attachments": {},
   "cell_type": "markdown",
   "metadata": {},
   "source": [
    "## Iterables and Generators"
   ]
  },
  {
   "cell_type": "markdown",
   "metadata": {},
   "source": [
    "## Randomness"
   ]
  },
  {
   "cell_type": "markdown",
   "metadata": {},
   "source": [
    "## Regular Expressions"
   ]
  },
  {
   "cell_type": "markdown",
   "metadata": {},
   "source": [
    "## `zip` and Argument Unpacking"
   ]
  },
  {
   "attachments": {},
   "cell_type": "markdown",
   "metadata": {},
   "source": [
    "## `args` and `kwargs`"
   ]
  },
  {
   "attachments": {},
   "cell_type": "markdown",
   "metadata": {},
   "source": [
    "## Type Annotations\n",
    "\n",
    "Because Python is a *dynamically typed* language, these type annotations\n",
    "don't actually *do* anything. This only help us to understand\n",
    "the function theoretically and mathematically \n",
    "when we put them into documentation "
   ]
  },
  {
   "cell_type": "code",
   "execution_count": 54,
   "metadata": {},
   "outputs": [
    {
     "name": "stdout",
     "output_type": "stream",
     "text": [
      "15\n",
      "hi there\n"
     ]
    }
   ],
   "source": [
    "def add(a: int, b: int) -> int:\n",
    "  return a + b\n",
    "\n",
    "print(add(10, 5))            # you'd like this to be OK\n",
    "print(add(\"hi \", \"there\"))   # you'd like this to be not OK"
   ]
  },
  {
   "cell_type": "code",
   "execution_count": 65,
   "metadata": {},
   "outputs": [
    {
     "name": "stdout",
     "output_type": "stream",
     "text": [
      "9\n"
     ]
    }
   ],
   "source": [
    "def total(xs: List[float]) -> float:\n",
    "  return sum(xs)\n",
    "\n",
    "print(total([2, 3, 4]))\n",
    "\n"
   ]
  },
  {
   "cell_type": "code",
   "execution_count": null,
   "metadata": {},
   "outputs": [],
   "source": []
  }
 ],
 "metadata": {
  "kernelspec": {
   "display_name": "base",
   "language": "python",
   "name": "python3"
  },
  "language_info": {
   "codemirror_mode": {
    "name": "ipython",
    "version": 3
   },
   "file_extension": ".py",
   "mimetype": "text/x-python",
   "name": "python",
   "nbconvert_exporter": "python",
   "pygments_lexer": "ipython3",
   "version": "3.8.10"
  },
  "orig_nbformat": 4,
  "vscode": {
   "interpreter": {
    "hash": "b68217c4fa6011267e0d81cc47bb50822e9770eb46de3a1f506be20c9f89249d"
   }
  }
 },
 "nbformat": 4,
 "nbformat_minor": 2
}
