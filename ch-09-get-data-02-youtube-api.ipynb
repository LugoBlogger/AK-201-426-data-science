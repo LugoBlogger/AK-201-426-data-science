{
 "cells": [
  {
   "cell_type": "markdown",
   "metadata": {},
   "source": [
    "Logs\n",
    "- [2024/02/17]   \n",
    "  All methods in Youtube Data API v3 for Python   \n",
    "  https://developers.google.com/resources/api-libraries/documentation/youtube/v3/python/latest/\n",
    "\n",
    "  This tutorial follows:\n",
    "  - [(Hernández, 2021) - YouTube Data API v3 in Python: Tutorial with examples](https://medium.com/mcd-unison/youtube-data-api-v3-in-python-tutorial-with-examples-e829a25d2ebd)\n",
    "  - [(Fadheli, 2022) - How to Extract YouTube Data using YouTube API in Python](https://thepythoncode.com/article/using-youtube-api-in-python)"
   ]
  },
  {
   "cell_type": "code",
   "execution_count": 2,
   "metadata": {},
   "outputs": [],
   "source": [
    "import googleapiclient.discovery\n",
    "import json\n",
    "\n",
    "from google.oauth2.credentials import Credentials"
   ]
  },
  {
   "cell_type": "markdown",
   "metadata": {},
   "source": [
    "```bash\n",
    "pip install google-api-python-client\n",
    "```"
   ]
  },
  {
   "cell_type": "markdown",
   "metadata": {},
   "source": [
    "Step-by-step to get authentication in Youtube API\n",
    "\n",
    "- Login to your Google Account (ITK Student account)\n",
    "- Open the [Credentials page](https://console.cloud.google.com/apis/credentials) in the API console\n",
    "- Click \"CREATE PROJECT\"   \n",
    "  <img src=\"./img-resources/youtube-api-credentials.png\" width=600>\n",
    "- Project name: \"TestYoutubeAPI\", then click \"CREATE\"    \n",
    "  <img src=\"./img-resources/youtube-api-new-project.png\" width=300>\n",
    "- In TestYoutubeApi project, click \"+ CRETE CREDENTIALS\" and select \"API Keys\"    \n",
    "  <img src=\"./img-resources/youtube-api-create-credentials.png\" width=600>\n",
    "\n",
    "- Copy the API key created to `./credential-youtube.json` with the content   \n",
    "  <img src=\"./img-resources/youtube-api-created.png\" width=300>   \n",
    "\n",
    "  **credential-youtube.json**   \n",
    "  ```js\n",
    "  {\n",
    "    \"API_KEY\": \"your-API-key\"\n",
    "  }\n",
    "  ```\n",
    "\n",
    "- Move to \"Enabled API & services\" in side menu. Then select \"+ ENABLE APPS AND SERVICES\"    \n",
    "  <img src=\"./img-resources/youtube-api-enabled-apis-and-services.png\" width=600>\n",
    "- Select \"YouTube Data API v3\". Then click \"ENABLE\"  \n",
    "  <img src=\"./img-resources/youtube-api-youtube-data-api-v3.png\" width=300>"
   ]
  },
  {
   "cell_type": "markdown",
   "metadata": {},
   "source": [
    "- Search for videos containing the phrase \"data science\"\n",
    "- Extracting comments in a video"
   ]
  },
  {
   "cell_type": "code",
   "execution_count": 3,
   "metadata": {},
   "outputs": [],
   "source": [
    "with open(\"./credential-youtube.json\") as fp:\n",
    "  credential = json.load(fp)\n",
    "\n",
    "DEVELOPER_KEY = credential[\"API_KEY\"]"
   ]
  },
  {
   "cell_type": "code",
   "execution_count": 4,
   "metadata": {},
   "outputs": [
    {
     "data": {
      "text/plain": [
       "{'items': [{'id': {'videoId': '1Q50kYnu9Zc'},\n",
       "   'snippet': {'publishedAt': '2022-05-01T20:45:00Z',\n",
       "    'channelId': 'UCAigp2nt4ZqzSH10J1u_Snw',\n",
       "    'title': 'Elon Musk Laughs at the Idea of Getting a PhD... and Explains How to Actually Be Useful!',\n",
       "    'description': '',\n",
       "    'channelTitle': 'Inspire Greatness'}},\n",
       "  {'id': {'videoId': 'UDQ2gJZqqdE'},\n",
       "   'snippet': {'publishedAt': '2023-05-20T11:30:11Z',\n",
       "    'channelId': 'UCvknEk1Bjmep7Ebv6QrJGSg',\n",
       "    'title': 'How much does an AI ENGINEER make?',\n",
       "    'description': 'Teaching #learning #facts #support #goals #like #nonprofit #career #educationmatters #technology #newtechnology ...',\n",
       "    'channelTitle': 'Broke Brothers'}},\n",
       "  {'id': {'videoId': 'tLuhqBfcixs'},\n",
       "   'snippet': {'publishedAt': '2022-04-08T06:12:22Z',\n",
       "    'channelId': 'UCkw4JCwteGrDHIsyIIKo4tQ',\n",
       "    'title': 'Data Science Internship Program | Why Become a Data Scientist | Edureka',\n",
       "    'description': 'Learn Trending Technologies For Free! Subscribe to Edureka ...',\n",
       "    'channelTitle': 'edureka!'}},\n",
       "  {'id': {'videoId': 'Z9jj0-aK5T0'},\n",
       "   'snippet': {'publishedAt': '2023-04-19T14:07:32Z',\n",
       "    'channelId': 'UCGPjzyzRdvg2RxfWVWOzsDA',\n",
       "    'title': '#DataScientist in Denver, CO📍#salarytransparentstreet #salarytransparency #paytransparency',\n",
       "    'description': '',\n",
       "    'channelTitle': 'Salary Transparent Street'}},\n",
       "  {'id': {'videoId': 'X3paOmcrTjQ'},\n",
       "   'snippet': {'publishedAt': '2018-12-04T14:30:01Z',\n",
       "    'channelId': 'UCsvqVGtbbyHaMoevxPAq9Fg',\n",
       "    'title': 'Data Science In 5 Minutes | Data Science For Beginners | What Is Data Science? | Simplilearn',\n",
       "    'description': 'Caltech Post Graduate Program In Data Science: ...',\n",
       "    'channelTitle': 'Simplilearn'}},\n",
       "  {'id': {'videoId': 'xC-c7E5PK0Y'},\n",
       "   'snippet': {'publishedAt': '2018-06-23T01:51:50Z',\n",
       "    'channelId': 'UCV0qA-eDDICsRR9rPcnG7tw',\n",
       "    'title': 'What REALLY is Data Science? Told by a Data Scientist',\n",
       "    'description': \"Interested in Data Science? Start with learning SQL to query data. You'll need it no matter which part of the data science pyramid ...\",\n",
       "    'channelTitle': 'Joma Tech'}},\n",
       "  {'id': {'videoId': 'LHBE6Q9XlzI'},\n",
       "   'snippet': {'publishedAt': '2020-06-02T14:05:17Z',\n",
       "    'channelId': 'UC8butISFwT-Wl7EV0hUK0BQ',\n",
       "    'title': 'Python for Data Science - Course for Beginners (Learn Python, Pandas, NumPy, Matplotlib)',\n",
       "    'description': 'This Python data science course will take you from knowing nothing about Python to coding and analyzing data with Python using ...',\n",
       "    'channelTitle': 'freeCodeCamp.org'}},\n",
       "  {'id': {'videoId': '-ETQ97mXXF0'},\n",
       "   'snippet': {'publishedAt': '2019-08-18T08:30:02Z',\n",
       "    'channelId': 'UCkw4JCwteGrDHIsyIIKo4tQ',\n",
       "    'title': 'Data Science Full Course - Learn Data Science in 10 Hours | Data Science For Beginners | Edureka',\n",
       "    'description': 'Data Science Course (Use Code \"YOUTUBE20\"): https://www.edureka.co/masters-program/data-scientist-certification This ...',\n",
       "    'channelTitle': 'edureka!'}},\n",
       "  {'id': {'videoId': 'ua-CiDNNj30'},\n",
       "   'snippet': {'publishedAt': '2019-05-30T12:48:19Z',\n",
       "    'channelId': 'UC8butISFwT-Wl7EV0hUK0BQ',\n",
       "    'title': 'Learn Data Science Tutorial - Full Course for Beginners',\n",
       "    'description': 'Learn Data Science is this full tutorial course for absolute beginners. Data science is considered the \"sexiest job of the 21st ...',\n",
       "    'channelTitle': 'freeCodeCamp.org'}},\n",
       "  {'id': {'videoId': 'FvGRKQipTP8'},\n",
       "   'snippet': {'publishedAt': '2022-07-11T19:00:04Z',\n",
       "    'channelId': 'UCyXc3DjHttuFH8MBI5ccA9w',\n",
       "    'title': 'See Part 2 with the Data Scientist in the comments...',\n",
       "    'description': 'Watch Part 2 here: https://www.youtube.com/watch?v=NGvHVpFSJk8.',\n",
       "    'channelTitle': 'The Final Round'}}]}"
      ]
     },
     "execution_count": 4,
     "metadata": {},
     "output_type": "execute_result"
    }
   ],
   "source": [
    "api_service_name = \"youtube\"\n",
    "api_version = \"v3\"\n",
    "\n",
    "# API client\n",
    "youtube = googleapiclient.discovery.build(\n",
    "  api_service_name, api_version, developerKey=DEVELOPER_KEY)\n",
    "\n",
    "# Request body\n",
    "request = youtube.search().list(\n",
    "  part=\"id,snippet\",\n",
    "  type=\"video\",\n",
    "  q=\"Data Science\",\n",
    "  videoDuration=\"any\",\n",
    "  videoDefinition=\"high\",    \n",
    "  maxResults=10,\n",
    "  order=\"viewCount\",\n",
    "  fields=\"items(id(videoId),snippet(publishedAt,channelId,channelTitle,title,description))\"\n",
    ")\n",
    "\n",
    "# Request execution\n",
    "response = request.execute()\n",
    "response"
   ]
  },
  {
   "cell_type": "markdown",
   "metadata": {},
   "source": [
    "Get comment from a video"
   ]
  },
  {
   "cell_type": "code",
   "execution_count": 5,
   "metadata": {},
   "outputs": [],
   "source": [
    "# selected_url = \"https://www.youtube.com/watch?v=8J66JxvmEzo\"   # presidential debate\n",
    "# selected_url = \"https://www.youtube.com/watch?v=aKtb7Y3qOck\"   # wonderland indonesia\n",
    "selected_url = \"https://www.youtube.com/watch?v=vfEbp3A5OCI\"     # recent corruption in Indonesia\n",
    "videoId = selected_url.split(\"=\")[-1]"
   ]
  },
  {
   "cell_type": "code",
   "execution_count": 6,
   "metadata": {},
   "outputs": [
    {
     "data": {
      "text/plain": [
       "{'items': [{'snippet': {'topLevelComment': {'snippet': {'textDisplay': 'DPR kapan mengesahkan UU perampasan aset dan pemiskinan bagi koruptor kalau perlu dihukum mati karena telah melanngar HAM BERAT.<br>Yang setuju hukuman bagi mati koruptor biar negara maju.'}}}},\n",
       "  {'snippet': {'topLevelComment': {'snippet': {'textDisplay': 'Dimiskinkan saja para pelakunya'}}}},\n",
       "  {'snippet': {'topLevelComment': {'snippet': {'textDisplay': 'Wahai wakil rakyat, hanya kalian yg bisa menyuarakan aspirasi rakyat.<br>Kalian hrs berjuang untuk rakyat'}}}},\n",
       "  {'snippet': {'topLevelComment': {'snippet': {'textDisplay': 'Kalau memang berani….<br>Ungkap tuntas dalang2 korupsi<br>Kenapa baru ditangkap sekarang setelah pemilu?'}}}},\n",
       "  {'snippet': {'topLevelComment': {'snippet': {'textDisplay': 'Maling.....<br><a href=\"http://www.youtube.com/results?search_query=%23hukummatikoruptor\">#hukummatikoruptor</a> <a href=\"http://www.youtube.com/results?search_query=%23miskinkankoruptor\">#miskinkankoruptor</a>'}}}},\n",
       "  {'snippet': {'topLevelComment': {'snippet': {'textDisplay': 'Jadi ingat kata2 mahfud soal korupsi di pertambangan...'}}}},\n",
       "  {'snippet': {'topLevelComment': {'snippet': {'textDisplay': 'bupati, gubernur, kapolres, kapolda, dandim, danrem, kajari, kajati, bin babel semua tidak tahu? Hebat banget pencurinya, nabi kalah sakti'}}}},\n",
       "  {'snippet': {'topLevelComment': {'snippet': {'textDisplay': 'dalangnya pasti politik itu kejam y hehhehe  .... itu uang rakyat y pantes indo gak maju maju berkembang terus banyak y korupsi'}}}},\n",
       "  {'snippet': {'topLevelComment': {'snippet': {'textDisplay': 'Negara tak merasa rugi tu😂😂😂😂😂'}}}},\n",
       "  {'snippet': {'topLevelComment': {'snippet': {'textDisplay': 'para korupsi kasih hukum an mati...baru Indonesia aman,,GK akn ada berani korupsi.'}}}},\n",
       "  {'snippet': {'topLevelComment': {'snippet': {'textDisplay': 'Sisa nya “bagi bagi amplop”'}}}},\n",
       "  {'snippet': {'topLevelComment': {'snippet': {'textDisplay': 'Gubernur nya masa gak tau...ya minimal jd saksi lah ..'}}}},\n",
       "  {'snippet': {'topLevelComment': {'snippet': {'textDisplay': 'Ternya kita rakyat indonesia makmur./bln bisa ke gaji 20jta.itu baru dari tambang timah saja.belum dari hasil yg lainnya <br>Sayang sangat d sayangkan mereka rakus.kita d miskinkan dan d bodohi'}}}},\n",
       "  {'snippet': {'topLevelComment': {'snippet': {'textDisplay': 'Hukum Mati semua yg terlibat itu Seru an kami Anak Bangsa'}}}},\n",
       "  {'snippet': {'topLevelComment': {'snippet': {'textDisplay': 'Mumpung bulan puasa pak. Tolong Bagikan uang hasil korupsi ini kpd <b>setiap kepala keluarga</b> di seluruh INDONESIA.!! Kami butuh itu untuk MAKAN. TOLONG KAMI BAPAK NEGARAKU anak2mu butuh uang buat MAKAN'}}}},\n",
       "  {'snippet': {'topLevelComment': {'snippet': {'textDisplay': 'Indonesia seharusnya tidak punya hutang Luar negeri, jika tidak ada celah2 korupsi di pertambangan'}}}},\n",
       "  {'snippet': {'topLevelComment': {'snippet': {'textDisplay': 'Astaghfirullah Hal adzim,Pada Kemana yaa Polisi Hutan Nyaa, Sampek Gak tau, Hutan Nyaa Sampek Rusak Gitu 😢'}}}},\n",
       "  {'snippet': {'topLevelComment': {'snippet': {'textDisplay': 'Bonkar tambang lainnya sperti emas bbm dll'}}}},\n",
       "  {'snippet': {'topLevelComment': {'snippet': {'textDisplay': 'ada langkah strategis lain yg di munculkan,project2 korupsi yang berkedok inovasi,serta menunda hak karyawan2 di bawah nya seperti isentif resiko kerja..'}}}},\n",
       "  {'snippet': {'topLevelComment': {'snippet': {'textDisplay': 'Bongkar.. Pasti bnyak.. Yng terlibat'}}}},\n",
       "  {'snippet': {'topLevelComment': {'snippet': {'textDisplay': 'Miskinkan Koruptor'}}}},\n",
       "  {'snippet': {'topLevelComment': {'snippet': {'textDisplay': 'Ini adalah momentum mengusut kasus kekayaan alam Indonesia yang lain, maka urgent mengesahkan perampasan aset dan hukum mati bagi koruptor, apa mau nunggu kekayaan Indonesia habis'}}}},\n",
       "  {'snippet': {'topLevelComment': {'snippet': {'textDisplay': 'Gubernur , DPD, dan pejabat setempat bohong besar kalo gak tau, ini dah lama lho dri 2015'}}}},\n",
       "  {'snippet': {'topLevelComment': {'snippet': {'textDisplay': '271 triliun bisa bbuat rakyat kecil (bansos) bisa buat penambahan infrastruktur di seluruh indonesia...'}}}},\n",
       "  {'snippet': {'topLevelComment': {'snippet': {'textDisplay': 'Negara akan bangkrut kalau terus2 an di korupsi'}}}},\n",
       "  {'snippet': {'topLevelComment': {'snippet': {'textDisplay': 'Viralin hashtag nya guys...<br><a href=\"http://www.youtube.com/results?search_query=%23hukummatikoruptor\">#hukummatikoruptor</a> <a href=\"http://www.youtube.com/results?search_query=%23miskinkankoruptor\">#miskinkankoruptor</a>'}}}},\n",
       "  {'snippet': {'topLevelComment': {'snippet': {'textDisplay': 'Semangat Terus Bapak KAPOLRI INDONESIA Dan Bapak TNI INDONESIA BRANTAS 🐯🐯, Kirim Mereka Semuanya Ke Nusakambangan Ndan, Secepatnya Hukum Mati Mereka, Sangat Merugikan Negara Indonesia'}}}},\n",
       "  {'snippet': {'topLevelComment': {'snippet': {'textDisplay': 'Kedzaliman n kejahatan luarrr biasaaa. Nanti matinya dikubur n ditimbun timah panas!'}}}},\n",
       "  {'snippet': {'topLevelComment': {'snippet': {'textDisplay': 'Hukum rimba Indonesia 🇲🇨'}}}},\n",
       "  {'snippet': {'topLevelComment': {'snippet': {'textDisplay': 'Sudah Gak Usah Pakek Sidang Sidang Kelamaan, Kirim Mereka Semuanya Ke Nusakambangan Ndan, Hukum Mati'}}}},\n",
       "  {'snippet': {'topLevelComment': {'snippet': {'textDisplay': 'Manttiiaapppp'}}}},\n",
       "  {'snippet': {'topLevelComment': {'snippet': {'textDisplay': 'Kita sebenarnya mau merintis seperti UEA.. udah grand planing.. auto super power auto sultan semua..olah tambang sendiri.. jadi tinggal dikawal aja..'}}}},\n",
       "  {'snippet': {'topLevelComment': {'snippet': {'textDisplay': 'Terima kasih atas dukungan semua pihak ,baik pemerintah ataupun para pegiat sosial media terhadap perjuangan  paguyuban Gempur Net89.<br>Tangis kesedihan para korban dana tersandera oleh  PTSMI NET89 mungkin sudah terlalu banyak yang menceritakan,oleh karena itu<br>kami mohon agar segera tuntaskan kasus net 89 ini, agar dana kami bisa segera kembali, dan para pelaku kejahatan oknum PT SMI (SIMBIOTIK MULTITALENTA INDONESIA)  yang berstatus tersangka maupun yang masih bebas melenggang , segera bisa diproses ke persidangan dan mendapat hukuman sesuai  perbuatannya . Cukup kami yang menjadi korban jangan ada korban lain di kemudian hari.<br> Ingat!! Tuntut hak kita hingga di tangan kita<br><a href=\"http://www.youtube.com/results?search_query=%23gempurnet89\">#GempurNet89</a><br><a href=\"http://www.youtube.com/results?search_query=%23net89\">#Net89</a><br><a href=\"http://www.youtube.com/results?search_query=%23kasusnet89\">#KasusNet89</a><br><a href=\"http://www.youtube.com/results?search_query=%23ptsmi\">#ptsmi</a><br><a href=\"http://www.youtube.com/results?search_query=%23simbiotikmultitalenhtaindonesia\">#SimbiotikMultitalenhtaIndonesia</a><br><a href=\"http://www.youtube.com/results?search_query=%23polri\">#Polri</a><br><a href=\"http://www.youtube.com/results?search_query=%23polisiindonesia\">#PolisiIndonesia</a><br><a href=\"http://www.youtube.com/results?search_query=%23presisi\">#Presisi</a> <br>🙏🏻🙏🏻🙏🏻'}}}},\n",
       "  {'snippet': {'topLevelComment': {'snippet': {'textDisplay': 'Itu masih sebagiaan kecil banka belitung korupsi 271t loh,,, bagai mana kalau korupsi2 yang lainnya dibongkar juga di seluruh indonesia mungkin ribuan t atau jutaan t.'}}}},\n",
       "  {'snippet': {'topLevelComment': {'snippet': {'textDisplay': 'Tangkep siksa perlakukan seperti terroris pasti nyanyi semua...tuh contoh kaya Putin'}}}},\n",
       "  {'snippet': {'topLevelComment': {'snippet': {'textDisplay': 'Ketika ada korupsi .pasti ada keterkaitan berbagai pihak.mungkin katena ada salah satu pihak yang tidak di kasih jatah .jadi ya di bongkar.'}}}},\n",
       "  {'snippet': {'topLevelComment': {'snippet': {'textDisplay': 'Heboh doang selesai gak akan 😂😂😂'}}}},\n",
       "  {'snippet': {'topLevelComment': {'snippet': {'textDisplay': 'Hukum seberat beratnya hukum paling cocok hukum pancung'}}}},\n",
       "  {'snippet': {'topLevelComment': {'snippet': {'textDisplay': 'Sama aj boz klu toh ga di korupsi duit jg ga sampai di rakyat yang kurang mampu.sama saja'}}}},\n",
       "  {'snippet': {'topLevelComment': {'snippet': {'textDisplay': 'Pak eric sewa akuntan public dari jepang atau yg top dunia setiap 6 bln 1 x untuk audit bumn biar gak ada kurupsi mega besar seperti asuransi kasus sekarang tambang . Maksud sy klu ada audit top dunia lekas ketauan klu gak benar sedih'}}}},\n",
       "  {'snippet': {'topLevelComment': {'snippet': {'textDisplay': 'Iti baru Timah lho....coba yg lain : Batu bara, minyak bumi, gas , besi , nikel , tembaga , litium , hasil laut , kayu , perak , emas.....🙄🙄🤔😭😭😭😭🤦'}}}},\n",
       "  {'snippet': {'topLevelComment': {'snippet': {'textDisplay': 'Timah yg termasuk mineral tak dpt diperbaharui serta hanya tertemukan di wilayah tertentu saja dibawa ke luar negri buat jualan. Bandingkan dg RRC /AS dan Rusia yg menyimpan krn termasuk sangat penting dan strategis<br>di negara maju menguasai timah layaknya wall street dg emasnya'}}}},\n",
       "  {'snippet': {'topLevelComment': {'snippet': {'textDisplay': 'hukum MATI...MATI...MATI'}}}},\n",
       "  {'snippet': {'topLevelComment': {'snippet': {'textDisplay': 'ada satu nama lg.. yg nama belakangnya ada kata² &quot;.....sang&quot; 😂'}}}},\n",
       "  {'snippet': {'topLevelComment': {'snippet': {'textDisplay': 'Presenternya seharusnya geleng-geleng kepala..kok gitu aja ekspresinya? 271 T OII??? 😭😭😭'}}}},\n",
       "  {'snippet': {'topLevelComment': {'snippet': {'textDisplay': 'Koruptor setara dgn terorisme'}}}},\n",
       "  {'snippet': {'topLevelComment': {'snippet': {'textDisplay': 'negara kok baru rugi sekarang😅😅😅'}}}},\n",
       "  {'snippet': {'topLevelComment': {'snippet': {'textDisplay': 'hukum mati seperti di cina , biar smuaya takut kalo mau korupsi'}}}},\n",
       "  {'snippet': {'topLevelComment': {'snippet': {'textDisplay': 'Dan kok China semua yah?'}}}},\n",
       "  {'snippet': {'topLevelComment': {'snippet': {'textDisplay': 'Golkar'}}}},\n",
       "  {'snippet': {'topLevelComment': {'snippet': {'textDisplay': 'Dalang ny adalah klau pnya istri artis mata duitan mao gaya hidup hedon bak ratu biar smua orang tau.. betul jg sih akhirnya skrg smua tau klo yg di pamerin itu hasil korupsi🤣'}}}},\n",
       "  {'snippet': {'topLevelComment': {'snippet': {'textDisplay': 'inilah namanya penjajah di negara sendiri,,,, koar koar amerika tapi orang sndiri yg bgini, ini bisa dikatakan penghianat negara,,'}}}},\n",
       "  {'snippet': {'topLevelComment': {'snippet': {'textDisplay': 'Baru tau saya knp kasus 271T mencuat..<br>Sepertinya ada perang Politik, karena kejaksaan Agung adalah orang PDIP sebab itu bagian pendukung 02 biasanya aman dr KORUPSI akhirnya di tangkap..'}}}},\n",
       "  {'snippet': {'topLevelComment': {'snippet': {'textDisplay': 'Dimana para mahasiswa yang suka demo ,kenapa tidak muncul untuk demo padahal ada Mega korupsi yang mencapai 271 T ,tapi uang untuk Bansos selalu didemo berjilid² dasar mahasiswa tidak punya otak😂😂😂😂'}}}},\n",
       "  {'snippet': {'topLevelComment': {'snippet': {'textDisplay': 'G minum q karena Uda pulang kau'}}}},\n",
       "  {'snippet': {'topLevelComment': {'snippet': {'textDisplay': 'Harusnya jangan DUGAAN lahi, tapi PELAKU KORUPSI 😂😂<br>Jangankan 217 Triliun, yg masih milyaran aja pelakunya fine fine aja dalam penjara, malah ruangan nya layaknya hotel bintang 4😂<br>Apalagi yang 217 triliun, bisa bisa ruangannya bak istana.<br>Najis banget sama korupsi, berapapun jumlahnya 😂<br>Bnyak warga yg kesulitan cari kerja, bnyak pengangguran, bnyak rakyat melarat, ehhh dia enak enaknya korupsi.'}}}},\n",
       "  {'snippet': {'topLevelComment': {'snippet': {'textDisplay': 'salut dengan budi gunawan yg dilindungi penuh oleh pdi sampe skrng aman2 aja dia'}}}},\n",
       "  {'snippet': {'topLevelComment': {'snippet': {'textDisplay': 'Tukang jagung lagi pengen dapat adhyaksa award 2024 nih\\r<br>atau pengalihan issue ?\\r<br>ngarang ngarang korupsi 270T\\r<br>wong korupsinya cuma 1T, <br>kok kerusakan lingkungan 270T di bilang korupsi juga.\\r<br>emang pasal merusak lingkungan sama dengan pasal korupsi ?\\r<br>woi, aset PT Timah aja cuma 13T.\\r<br>revenue cuma 8T.\\r<br>mana bisa di korupsi hingga 270T.\\r<br>\\r<br>kalau mau masukin kerusakan lingkungan sbg korupsi.\\r<br>harusnya Lapindo juga jd kasus korupsi\\r<br>krn merusak lingkungan jauh lebih besar\\r<br>gak sekalian masukin  kerusakan Galaxy 1000T<br><br>motifnya apa jadikan kerusakan ekologis 270T sbg korupsi ?<br>wong BLBI aja cuma 110T<br>aset antony salim aja hanya 100T<br>lu kira bisa korupsi 270T gak ketahuan ?<br>lu pada ngapain aja selama ini ?<br>sampe ada korupsi 270T gak ketahuan ?'}}}},\n",
       "  {'snippet': {'topLevelComment': {'snippet': {'textDisplay': 'Mumpung bulan puasa pak. Tolong Bagikan uang hasil korupsi ini kpd <b>setiap kepala keluarga</b> di seluruh INDONESIA.!! Kami butuh itu untuk MAKAN. TOLONG KAMI BAPAK NEGARAKU anak2mu butuh uang buat MAKAN'}}}},\n",
       "  {'snippet': {'topLevelComment': {'snippet': {'textDisplay': 'Mumpung bulan puasa pak. Tolong Bagikan uang hasil korupsi ini kpd <b>setiap kepala keluarga</b> di seluruh INDONESIA.!! Kami butuh itu untuk MAKAN. TOLONG KAMI BAPAK NEGARAKU anak2mu butuh uang buat MAKAN!'}}}},\n",
       "  {'snippet': {'topLevelComment': {'snippet': {'textDisplay': 'Mumpung bulan puasa pak. Tolong Bagikan uang hasil korupsi ini kpd <b>setiap kepala keluarga</b> di seluruh INDONESIA.!! Kami butuh itu untuk MAKAN. TOLONG KAMI BAPAK NEGARAKU anak2mu butuh uang buat MAKAN!'}}}},\n",
       "  {'snippet': {'topLevelComment': {'snippet': {'textDisplay': 'Mumpung bulan puasa pak. Tolong Bagikan uang hasil korupsi ini kpd <b>setiap kepala keluarga</b> di seluruh INDONESIA.!! Kami butuh itu untuk MAKAN. TOLONG KAMI BAPAK NEGARAKU anak2mu butuh uang buat MAKAN'}}}}]}"
      ]
     },
     "execution_count": 6,
     "metadata": {},
     "output_type": "execute_result"
    }
   ],
   "source": [
    "num_of_comments = 100\n",
    "request = youtube.commentThreads().list(\n",
    "  part=\"snippet\",\n",
    "  videoId=videoId,\n",
    "  fields=\"items(snippet(topLevelComment(snippet(textDisplay))))\",\n",
    "  order=\"relevance\",\n",
    "  maxResults=num_of_comments,\n",
    ")\n",
    "\n",
    "response = request.execute()\n",
    "response"
   ]
  },
  {
   "cell_type": "code",
   "execution_count": null,
   "metadata": {},
   "outputs": [],
   "source": []
  }
 ],
 "metadata": {
  "kernelspec": {
   "display_name": "base",
   "language": "python",
   "name": "python3"
  },
  "language_info": {
   "codemirror_mode": {
    "name": "ipython",
    "version": 3
   },
   "file_extension": ".py",
   "mimetype": "text/x-python",
   "name": "python",
   "nbconvert_exporter": "python",
   "pygments_lexer": "ipython3",
   "version": "3.11.5"
  }
 },
 "nbformat": 4,
 "nbformat_minor": 2
}
