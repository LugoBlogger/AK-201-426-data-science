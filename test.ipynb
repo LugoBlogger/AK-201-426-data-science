{
 "cells": [
  {
   "cell_type": "code",
   "execution_count": 2,
   "metadata": {},
   "outputs": [],
   "source": [
    "from itertools import product"
   ]
  },
  {
   "cell_type": "code",
   "execution_count": 5,
   "metadata": {},
   "outputs": [
    {
     "data": {
      "text/plain": [
       "[[0, 0, 3],\n",
       " [0, 1, 2],\n",
       " [0, 2, 1],\n",
       " [0, 3, 0],\n",
       " [1, 0, 2],\n",
       " [1, 1, 1],\n",
       " [1, 2, 0],\n",
       " [2, 0, 1],\n",
       " [2, 1, 0],\n",
       " [3, 0, 0]]"
      ]
     },
     "execution_count": 5,
     "metadata": {},
     "output_type": "execute_result"
    }
   ],
   "source": [
    "N = 3 \n",
    "S = 3 \n",
    "str_digits = \"\".join([f\"{d}\" for d in range(N+1)])\n",
    "config_arr = []\n",
    "for perm in product(str_digits, repeat=S):\n",
    "  int_prod = list(map(lambda d: int(d), perm))\n",
    "  if sum(int_prod) == N:\n",
    "    config_arr.append(int_prod)\n",
    "config_arr"
   ]
  },
  {
   "cell_type": "markdown",
   "metadata": {},
   "source": [
    "$$\n",
    "\\begin{align*}\n",
    "  \\frac{\\partial P(\\mathbf{n}, t)}{\\partial t}\n",
    "    &= \\sum_{\\mathbf{n}' \\neq \\mathbf{n}} \n",
    "        T\\left[\\mathbf{n} | \\mathbf{n}'\\right] P(\\mathbf{n}', t)\n",
    "      - \\sum_{\\mathbf{n}' \\neq \\mathbf{n}}\n",
    "        T\\left[\\mathbf{n}' | \\mathbf{n}\\right] P(\\mathbf{n}, t)\n",
    "\\end{align*}\n",
    "$$"
   ]
  },
  {
   "cell_type": "markdown",
   "metadata": {},
   "source": [
    "$$\n",
    "\\begin{align*}\n",
    "T[\\mathbf{n}' | \\mathbf{n}]\n",
    "  &= \\sum_{k=1}^S \\prod_{i\\neq k} \\delta_{n_i', n_k}\n",
    "    \\left[\n",
    "      \\delta_{n_k',n_k+1} T_k(n+1| n)\n",
    "      + \\delta_{n_k', n_k-1} T_k(n-1 |n)\n",
    "    \\right] \\\\\n",
    "  &= \\sum_{k=1}^S \\prod_{i\\neq k} \\delta_{n_i', n_k}\n",
    "    \\left[\n",
    "      \\delta_{n_k',n_k+1} b(n, k)\n",
    "      + \\delta_{n_k', n_k-1} d(n, k)\n",
    "    \\right] \n",
    "\\end{align*}\n",
    "$$"
   ]
  },
  {
   "cell_type": "markdown",
   "metadata": {},
   "source": [
    "Let $S = 3$ and total population equals to 3"
   ]
  },
  {
   "cell_type": "markdown",
   "metadata": {},
   "source": [
    "$$\n",
    "\\vec{\\mathbf{c}} =\n",
    "  \\begin{bmatrix}\n",
    "    \\mathbf{n}^{(1)} \\\\\n",
    "    \\mathbf{n}^{(2)} \\\\\n",
    "    \\mathbf{n}^{(3)} \\\\\n",
    "    \\mathbf{n}^{(4)} \\\\\n",
    "    \\mathbf{n}^{(5)} \\\\\n",
    "    \\mathbf{n}^{(6)} \\\\\n",
    "    \\mathbf{n}^{(7)} \\\\\n",
    "    \\mathbf{n}^{(8)} \\\\\n",
    "    \\mathbf{n}^{(9)} \\\\\n",
    "    \\mathbf{n}^{(10)} \\\\\n",
    "  \\end{bmatrix} = \n",
    "  \\begin{bmatrix}\n",
    "     [0, 0, 3] \\\\\n",
    "     [0, 1, 2] \\\\\n",
    "     [0, 2, 1] \\\\\n",
    "     [0, 3, 0] \\\\\n",
    "     [1, 0, 2] \\\\\n",
    "     [1, 1, 1] \\\\\n",
    "     [1, 2, 0] \\\\\n",
    "     [2, 0, 1] \\\\\n",
    "     [2, 1, 0] \\\\\n",
    "     [3, 0, 0]\n",
    "  \\end{bmatrix}\n",
    "$$"
   ]
  }
 ],
 "metadata": {
  "kernelspec": {
   "display_name": "base",
   "language": "python",
   "name": "python3"
  },
  "language_info": {
   "codemirror_mode": {
    "name": "ipython",
    "version": 3
   },
   "file_extension": ".py",
   "mimetype": "text/x-python",
   "name": "python",
   "nbconvert_exporter": "python",
   "pygments_lexer": "ipython3",
   "version": "3.11.5"
  }
 },
 "nbformat": 4,
 "nbformat_minor": 2
}
