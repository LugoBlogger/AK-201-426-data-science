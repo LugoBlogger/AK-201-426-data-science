{
 "cells": [
  {
   "cell_type": "code",
   "execution_count": 13,
   "metadata": {},
   "outputs": [],
   "source": [
    "from itertools import product"
   ]
  },
  {
   "cell_type": "code",
   "execution_count": 25,
   "metadata": {},
   "outputs": [
    {
     "data": {
      "text/plain": [
       "[[0, 0, 0, 5],\n",
       " [0, 0, 1, 4],\n",
       " [0, 0, 2, 3],\n",
       " [0, 0, 3, 2],\n",
       " [0, 0, 4, 1],\n",
       " [0, 0, 5, 0],\n",
       " [0, 1, 0, 4],\n",
       " [0, 1, 1, 3],\n",
       " [0, 1, 2, 2],\n",
       " [0, 1, 3, 1],\n",
       " [0, 1, 4, 0],\n",
       " [0, 2, 0, 3],\n",
       " [0, 2, 1, 2],\n",
       " [0, 2, 2, 1],\n",
       " [0, 2, 3, 0],\n",
       " [0, 3, 0, 2],\n",
       " [0, 3, 1, 1],\n",
       " [0, 3, 2, 0],\n",
       " [0, 4, 0, 1],\n",
       " [0, 4, 1, 0],\n",
       " [0, 5, 0, 0],\n",
       " [1, 0, 0, 4],\n",
       " [1, 0, 1, 3],\n",
       " [1, 0, 2, 2],\n",
       " [1, 0, 3, 1],\n",
       " [1, 0, 4, 0],\n",
       " [1, 1, 0, 3],\n",
       " [1, 1, 1, 2],\n",
       " [1, 1, 2, 1],\n",
       " [1, 1, 3, 0],\n",
       " [1, 2, 0, 2],\n",
       " [1, 2, 1, 1],\n",
       " [1, 2, 2, 0],\n",
       " [1, 3, 0, 1],\n",
       " [1, 3, 1, 0],\n",
       " [1, 4, 0, 0],\n",
       " [2, 0, 0, 3],\n",
       " [2, 0, 1, 2],\n",
       " [2, 0, 2, 1],\n",
       " [2, 0, 3, 0],\n",
       " [2, 1, 0, 2],\n",
       " [2, 1, 1, 1],\n",
       " [2, 1, 2, 0],\n",
       " [2, 2, 0, 1],\n",
       " [2, 2, 1, 0],\n",
       " [2, 3, 0, 0],\n",
       " [3, 0, 0, 2],\n",
       " [3, 0, 1, 1],\n",
       " [3, 0, 2, 0],\n",
       " [3, 1, 0, 1],\n",
       " [3, 1, 1, 0],\n",
       " [3, 2, 0, 0],\n",
       " [4, 0, 0, 1],\n",
       " [4, 0, 1, 0],\n",
       " [4, 1, 0, 0],\n",
       " [5, 0, 0, 0]]"
      ]
     },
     "execution_count": 25,
     "metadata": {},
     "output_type": "execute_result"
    }
   ],
   "source": [
    "N = 5\n",
    "S = 4\n",
    "str_digits = \"\".join([f\"{d}\" for d in range(N+1)])\n",
    "config_arr = []\n",
    "for perm in product(str_digits, repeat=S):\n",
    "  int_prod = list(map(lambda d: int(d), perm))\n",
    "  if sum(int_prod) == N:\n",
    "    config_arr.append(int_prod)\n",
    "config_arr"
   ]
  }
 ],
 "metadata": {
  "kernelspec": {
   "display_name": "base",
   "language": "python",
   "name": "python3"
  },
  "language_info": {
   "codemirror_mode": {
    "name": "ipython",
    "version": 3
   },
   "file_extension": ".py",
   "mimetype": "text/x-python",
   "name": "python",
   "nbconvert_exporter": "python",
   "pygments_lexer": "ipython3",
   "version": "3.11.5"
  }
 },
 "nbformat": 4,
 "nbformat_minor": 2
}
