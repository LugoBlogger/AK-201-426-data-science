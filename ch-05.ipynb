{
 "cells": [
  {
   "attachments": {},
   "cell_type": "markdown",
   "metadata": {},
   "source": [
    "Logs\n",
    "= [2023/03/03]   \n",
    "  Restart this notebook if you change the scratch library"
   ]
  },
  {
   "cell_type": "code",
   "execution_count": 1,
   "metadata": {},
   "outputs": [],
   "source": [
    "import matplotlib.pyplot as plt\n",
    "import numpy as np\n",
    "\n",
    "from typing import List\n",
    "from scratch.linear_algebra import LinearAlgebra as la\n",
    "\n"
   ]
  },
  {
   "cell_type": "code",
   "execution_count": 2,
   "metadata": {},
   "outputs": [],
   "source": [
    "plt.rcParams.update(plt.rcParamsDefault)\n",
    "plt.rcParams.update({\n",
    "  'font.size': 16,\n",
    "  'grid.alpha': 0.25})"
   ]
  },
  {
   "cell_type": "markdown",
   "metadata": {},
   "source": [
    "# Statistics"
   ]
  },
  {
   "attachments": {},
   "cell_type": "markdown",
   "metadata": {},
   "source": [
    "## Describing a Single Set of Data"
   ]
  },
  {
   "cell_type": "code",
   "execution_count": 3,
   "metadata": {},
   "outputs": [],
   "source": [
    "num_friends = [\n",
    "  100.0, 49, 41, 40, 25, 21, 21, 19, 19, 18, 18, 16, 15, 15, 15, 15, \n",
    "     14, 14, 13, 13, 13, 13, 12, 12, 11, 10, 10, 10, 10, 10, 10, 10,\n",
    "     10, 10, 10, 10, 10, 10, 10, 10,  9,  9,  9,  9,  9,  9,  9,  9,\n",
    "      9,  9,  9,  9,  9,  9,  9,  9,  9,  9,  8,  8,  8,  8,  8,  8,\n",
    "      8,  8,  8,  8,  8,  8,  8,  7,  7,  7,  7,  7,  7,  7,  7,  7, \n",
    "      7,  7,  7,  7,  7,  7,  6,  6,  6,  6,  6,  6,  6,  6,  6,  6,\n",
    "      6,  6,  6,  6,  6,  6,  6,  6,  6,  6,  6,  6,  5,  5,  5,  5,\n",
    "      5,  5,  5,  5,  5,  5,  5,  5,  5,  5,  5,  5,  5,  4,  4,  4,\n",
    "      4,  4,  4,  4,  4,  4,  4,  4,  4,  4,  4,  4,  4,  4,  4,  4,\n",
    "      4,  3,  3,  3,  3,  3,  3,  3,  3,  3,  3,  3,  3,  3,  3,  3,\n",
    "      3,  3,  3,  3,  3,  2,  2,  2,  2,  2,  2,  2,  2,  2,  2,  2,\n",
    "      2,  2,  2,  2,  2,  2,  1,  1,  1,  1,  1,  1,  1,  1,  1,  1,\n",
    "      1,  1,  1,  1,  1,  1,  1,  1,  1,  1,  1,  1]\n",
    "\n",
    "\n",
    "daily_minutes = [\n",
    "      1, 68.77, 51.25, 52.08, 38.36, 44.54, 57.13,  51.4, 41.42, 31.22,\n",
    "  34.76, 54.01, 38.79, 47.59,  49.1, 27.66, 41.03, 36.73, 48.65, 28.12,\n",
    "  46.62, 35.57, 32.98,    35, 26.07, 23.77, 39.73, 40.57, 31.65, 31.21,\n",
    "  36.32, 20.45, 21.93, 26.02, 27.34, 23.49, 46.94,  30.5,  33.8, 24.23,\n",
    "   21.4, 27.94, 32.24, 40.57, 25.07, 19.42, 22.39, 18.42, 46.96, 23.72,\n",
    "  26.41, 26.97, 36.76, 40.32, 35.02, 29.47,  30.2,    31, 38.11, 38.18,\n",
    "  36.31, 21.03, 30.86, 36.07, 28.66, 29.08, 37.28, 15.28, 24.17, 22.31,\n",
    "  30.17, 25.53, 19.85, 35.37,  44.6, 17.23, 13.47, 26.33, 35.02, 32.09,\n",
    "  24.81, 19.33, 28.77, 24.26, 31.98, 25.73, 24.86, 16.28, 34.51, 15.23,\n",
    "  39.72,  40.8, 26.06, 35.76, 34.76, 16.13, 44.04, 18.03, 19.65, 32.62,\n",
    "  35.59, 39.43, 14.18, 35.24, 40.13, 41.82, 35.45, 36.07, 43.67, 24.61,\n",
    "   20.9,  21.9, 18.79, 27.61, 27.21, 26.61, 29.77, 20.59, 27.53, 13.82,\n",
    "   33.2,    25,  33.1, 36.65, 18.63, 14.87,  22.2, 36.81, 25.53, 24.62,\n",
    "  26.25, 18.21, 28.08, 19.42, 29.79,  32.8, 35.99, 28.32, 27.79, 35.88,\n",
    "  29.06, 36.28,  14.1, 36.63, 37.49,  26.9, 18.58, 38.48, 24.48, 18.95,\n",
    "  33.55, 14.24, 29.04, 32.51, 25.63, 22.22,    19, 32.73, 15.16,  13.9,\n",
    "   27.2, 32.01, 29.27,    33, 13.74, 20.42, 27.32, 18.23, 35.35, 28.48,\n",
    "   9.08, 24.62, 20.12, 35.26, 19.92, 31.02, 16.49, 12.16,  30.7, 31.22,\n",
    "  34.65, 13.13, 27.51,  33.2, 31.57,  14.1, 33.42, 17.44, 10.12, 24.42,\n",
    "   9.82, 23.39, 30.93, 15.03, 21.67, 31.09, 33.29, 22.61, 26.89, 23.48,\n",
    "   8.38, 27.81, 32.35, 23.84]\n",
    "\n",
    "\n",
    "    "
   ]
  },
  {
   "attachments": {},
   "cell_type": "markdown",
   "metadata": {},
   "source": [
    "### Central Tendencies"
   ]
  },
  {
   "cell_type": "code",
   "execution_count": 4,
   "metadata": {},
   "outputs": [
    {
     "data": {
      "text/plain": [
       "7.333333333333333"
      ]
     },
     "execution_count": 4,
     "metadata": {},
     "output_type": "execute_result"
    }
   ],
   "source": [
    "def mean(xs: List[float]) -> float:\n",
    "  return sum(xs) / len(xs)\n",
    "\n",
    "mean(num_friends)     # 7.33333"
   ]
  },
  {
   "attachments": {},
   "cell_type": "markdown",
   "metadata": {},
   "source": [
    "### Dispersion"
   ]
  },
  {
   "cell_type": "code",
   "execution_count": 5,
   "metadata": {},
   "outputs": [],
   "source": [
    "def de_mean(xs: List[float]) -> List[float]:\n",
    "  \"\"\"Translate xs by subtracting its mean (so the result has mean 0)\"\"\"\n",
    "  x_bar = mean(xs)\n",
    "  return [x - x_bar for x in xs]\n",
    "\n",
    "\n",
    "def variance(xs: List[float]) -> float:\n",
    "  \"\"\"Almost the average squared deviation from the mean\"\"\"\n",
    "  assert len(xs) >= 2, \"variance requries at least two elements\"\n",
    "\n",
    "  n = len(xs)\n",
    "  deviations = de_mean(xs)\n",
    "  return la.sum_of_squares(deviations) / (n - 1)"
   ]
  },
  {
   "cell_type": "code",
   "execution_count": 6,
   "metadata": {},
   "outputs": [],
   "source": [
    "def standard_deviation(xs: List[float]) -> float:\n",
    "  \"\"\"The standard deviation is the square root of the variance\"\"\"\n",
    "  return math.sqrt(variance(xs))"
   ]
  },
  {
   "cell_type": "markdown",
   "metadata": {},
   "source": [
    "## Correlation"
   ]
  },
  {
   "cell_type": "code",
   "execution_count": 7,
   "metadata": {},
   "outputs": [],
   "source": [
    "def covariance(xs: List[float], ys: List[float]) -> float:\n",
    "  \"\"\"Arguments:\n",
    "      - xs [List] = list of float number\"\"\"\n",
    "  assert len(xs) == len(ys), \"xs and ys must have the same number of elements\"\n",
    "\n",
    "  return la.dot(de_mean(xs), de_mean(ys)) / (len(xs) - 1)"
   ]
  },
  {
   "cell_type": "code",
   "execution_count": 8,
   "metadata": {},
   "outputs": [],
   "source": [
    "def correlation(xs: List[float], ys: List[float]) -> float:\n",
    "  \"\"\"Measures how much xs and ys vary in tandem about their means\"\"\"\n",
    "  stdev_x = standard_deviation(xs)\n",
    "  stdev_y = standard_deviation(ys)\n",
    "\n",
    "  if stdev_x > 0  and stdev_y > 0:\n",
    "    return covariance(xs, ys) / stdev_x / stdev_y\n",
    "  else:\n",
    "    return 0        # if no variation, correlation is zero"
   ]
  },
  {
   "cell_type": "markdown",
   "metadata": {},
   "source": [
    "### Correlation with an outlier"
   ]
  },
  {
   "cell_type": "code",
   "execution_count": 9,
   "metadata": {},
   "outputs": [
    {
     "data": {
      "image/png": "[encoded data removed]",
      "text/plain": [
       "<Figure size 640x480 with 1 Axes>"
      ]
     },
     "metadata": {},
     "output_type": "display_data"
    }
   ],
   "source": [
    "fig, ax = plt.subplots()\n",
    "\n",
    "ax.plot(num_friends, daily_minutes, marker='o', linestyle=\"None\")\n",
    "\n",
    "ax.set_ylim([0, 100])\n",
    "ax.grid(\"on\")\n",
    "ax.set_xlabel(\"# of friends\")\n",
    "ax.set_ylabel(\"minutes per day\")\n",
    "\n",
    "ax.hlines(np.mean(daily_minutes), \n",
    "  min(num_friends), max(num_friends), color=\"r\", zorder=3)\n",
    "ax.vlines(np.mean(num_friends), min(num_friends), max(num_friends),\n",
    "  color=\"g\", zorder=4)\n",
    "\n",
    "plt.show(fig)"
   ]
  },
  {
   "cell_type": "code",
   "execution_count": 40,
   "metadata": {},
   "outputs": [
    {
     "ename": "TypeError",
     "evalue": "unsupported operand type(s) for /: 'list' and 'int'",
     "output_type": "error",
     "traceback": [
      "\u001b[0;31m---------------------------------------------------------------------------\u001b[0m",
      "\u001b[0;31mTypeError\u001b[0m                                 Traceback (most recent call last)",
      "\u001b[1;32m/home/henokh/Documents/job-related/024 - SI ITK/ITK/Courses/AK-201-426-data-science/remote-repo/ch-05.ipynb Cell 16\u001b[0m in \u001b[0;36m<cell line: 1>\u001b[0;34m()\u001b[0m\n\u001b[0;32m----> <a href='vscode-notebook-cell:/home/henokh/Documents/job-related/024%20-%20SI%20ITK/ITK/Courses/AK-201-426-data-science/remote-repo/ch-05.ipynb#X16sZmlsZQ%3D%3D?line=0'>1</a>\u001b[0m covariance(num_friends, daily_minutes)\n",
      "\u001b[1;32m/home/henokh/Documents/job-related/024 - SI ITK/ITK/Courses/AK-201-426-data-science/remote-repo/ch-05.ipynb Cell 16\u001b[0m in \u001b[0;36mcovariance\u001b[0;34m(xs, ys)\u001b[0m\n\u001b[1;32m      <a href='vscode-notebook-cell:/home/henokh/Documents/job-related/024%20-%20SI%20ITK/ITK/Courses/AK-201-426-data-science/remote-repo/ch-05.ipynb#X16sZmlsZQ%3D%3D?line=1'>2</a>\u001b[0m \u001b[39m\"\"\"Arguments:\u001b[39;00m\n\u001b[1;32m      <a href='vscode-notebook-cell:/home/henokh/Documents/job-related/024%20-%20SI%20ITK/ITK/Courses/AK-201-426-data-science/remote-repo/ch-05.ipynb#X16sZmlsZQ%3D%3D?line=2'>3</a>\u001b[0m \u001b[39m    - xs [List] = list of float number\"\"\"\u001b[39;00m\n\u001b[1;32m      <a href='vscode-notebook-cell:/home/henokh/Documents/job-related/024%20-%20SI%20ITK/ITK/Courses/AK-201-426-data-science/remote-repo/ch-05.ipynb#X16sZmlsZQ%3D%3D?line=3'>4</a>\u001b[0m \u001b[39massert\u001b[39;00m \u001b[39mlen\u001b[39m(xs) \u001b[39m==\u001b[39m \u001b[39mlen\u001b[39m(ys), \u001b[39m\"\u001b[39m\u001b[39mxs and ys must have the same number of elements\u001b[39m\u001b[39m\"\u001b[39m\n\u001b[0;32m----> <a href='vscode-notebook-cell:/home/henokh/Documents/job-related/024%20-%20SI%20ITK/ITK/Courses/AK-201-426-data-science/remote-repo/ch-05.ipynb#X16sZmlsZQ%3D%3D?line=5'>6</a>\u001b[0m \u001b[39mreturn\u001b[39;00m la\u001b[39m.\u001b[39;49mdot(de_mean(xs), de_mean(ys)) \u001b[39m/\u001b[39;49m (\u001b[39mlen\u001b[39;49m(xs) \u001b[39m-\u001b[39;49m \u001b[39m1\u001b[39;49m)\n",
      "\u001b[0;31mTypeError\u001b[0m: unsupported operand type(s) for /: 'list' and 'int'"
     ]
    }
   ],
   "source": [
    "covariance(num_friends, daily_minutes)"
   ]
  },
  {
   "cell_type": "code",
   "execution_count": null,
   "metadata": {},
   "outputs": [],
   "source": []
  }
 ],
 "metadata": {
  "kernelspec": {
   "display_name": "base",
   "language": "python",
   "name": "python3"
  },
  "language_info": {
   "codemirror_mode": {
    "name": "ipython",
    "version": 3
   },
   "file_extension": ".py",
   "mimetype": "text/x-python",
   "name": "python",
   "nbconvert_exporter": "python",
   "pygments_lexer": "ipython3",
   "version": "3.8.10"
  },
  "orig_nbformat": 4,
  "vscode": {
   "interpreter": {
    "hash": "b68217c4fa6011267e0d81cc47bb50822e9770eb46de3a1f506be20c9f89249d"
   }
  }
 },
 "nbformat": 4,
 "nbformat_minor": 2
}
