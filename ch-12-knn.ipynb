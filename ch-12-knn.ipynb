{
 "cells": [
  {
   "cell_type": "markdown",
   "metadata": {},
   "source": [
    "Logs   \n",
    "- [2023/03/08]   \n",
    "  Restart this notebook if you change the scratch library\n",
    "\n",
    "- [2024/03/22]   \n",
    "  You do not need to restart this notebook when you change the scratch library\n"
   ]
  },
  {
   "cell_type": "code",
   "execution_count": 1,
   "metadata": {},
   "outputs": [],
   "source": [
    "import requests\n",
    "import csv\n",
    "import matplotlib.pyplot as plt\n",
    "import numpy as np\n",
    "import pandas as pd\n",
    "import tqdm              # pip install tqdm\n",
    "import seaborn as sns    # pip install seaborn\n",
    "import plotly.graph_objects as go   # pip install plotly nbformat (and restart kernel)\n",
    "\n",
    "# pip install -U scikit-learn\n",
    "from sklearn.metrics import ConfusionMatrixDisplay, classification_report\n",
    "\n",
    "from typing import List, NamedTuple, Dict, Tuple\n",
    "from collections import Counter, defaultdict\n",
    "\n",
    "from scratch.linear_algebra import LinearAlgebra as la\n",
    "from scratch.linear_algebra import Vector\n",
    "from scratch.machine_learning import MachineLearning as ml"
   ]
  },
  {
   "cell_type": "code",
   "execution_count": 2,
   "metadata": {},
   "outputs": [],
   "source": [
    "plt.rcParams.update(plt.rcParamsDefault)\n",
    "plt.rcParams.update({\n",
    "  'font.size': 16,\n",
    "  'grid.alpha': 0.25})"
   ]
  },
  {
   "cell_type": "code",
   "execution_count": 3,
   "metadata": {},
   "outputs": [],
   "source": [
    "%load_ext autoreload\n",
    "%autoreload 2 "
   ]
  },
  {
   "cell_type": "markdown",
   "metadata": {},
   "source": [
    "The idea of k-nearest neighbors is to predict a specific label in a point given \n",
    "labels of the surrounding points.\n",
    "\n",
    "For example, when we want to predict what vote will take by a person, we can look \n",
    "what his/her neighbors are planning to vote."
   ]
  },
  {
   "attachments": {},
   "cell_type": "markdown",
   "metadata": {},
   "source": [
    "## The Model\n",
    "\n",
    "k-nearest neighbours will not help us to understand the driver of a phenomena\n",
    "which influents the data. Another model will help, but not k-nearest neighbours"
   ]
  },
  {
   "attachments": {},
   "cell_type": "markdown",
   "metadata": {},
   "source": [
    "Let's say we've picked a number $k$ like 3 or 5. Then, when we want to classify some new\n",
    "data point, we find the $k$ nearest labeled points and let them vote on the new output"
   ]
  },
  {
   "cell_type": "code",
   "execution_count": 9,
   "metadata": {},
   "outputs": [],
   "source": [
    "def raw_majority_vote(labels: List[str]) -> str:\n",
    "  votes = Counter(labels)\n",
    "  # print(votes.most_common(2))\n",
    "  winner, _ = votes.most_common(1)[0]\n",
    "  return winner"
   ]
  },
  {
   "cell_type": "code",
   "execution_count": 10,
   "metadata": {},
   "outputs": [
    {
     "data": {
      "text/plain": [
       "'b'"
      ]
     },
     "execution_count": 10,
     "metadata": {},
     "output_type": "execute_result"
    }
   ],
   "source": [
    "raw_majority_vote(['a', 'b', 'c', 'b'])"
   ]
  },
  {
   "attachments": {},
   "cell_type": "markdown",
   "metadata": {},
   "source": [
    "If we have a tie, the above method would not resolve it.   \n",
    "There are possible options to resolve the tie:\n",
    "- Pick one of the winners at random.\n",
    "- Weight the votes by distance and pick the weighted winner.\n",
    "- Reduce $k$ until we find a unique winner.\n",
    "\n",
    "\n",
    "Let's implement $k$-nearest neighbours according to the last option"
   ]
  },
  {
   "cell_type": "code",
   "execution_count": 7,
   "metadata": {},
   "outputs": [
    {
     "data": {
      "text/plain": [
       "'b'"
      ]
     },
     "execution_count": 7,
     "metadata": {},
     "output_type": "execute_result"
    }
   ],
   "source": [
    "def majority_vote(labels: List[str]) -> str:\n",
    "  \"\"\"Assumes that labels are ordered from nearest to farthest.\n",
    "     The first index position is the origin and the last index\n",
    "     position is the farthest position\"\"\"\n",
    "  vote_counts = Counter(labels)\n",
    "  winner, winner_count = vote_counts.most_common(1)[0]\n",
    "  num_winners = len([count for count in vote_counts.values()\n",
    "                      if count == winner_count])\n",
    "  \n",
    "  if num_winners == 1:\n",
    "    return winner                       # unique winner, so return it\n",
    "  else:\n",
    "    return majority_vote(labels[:-1])   # try again without the farthest\n",
    "\n",
    "\n",
    "# Tie, so look at first 4, then 'b'\n",
    "majority_vote(['a', 'b', 'c', 'b', 'a'])"
   ]
  },
  {
   "attachments": {},
   "cell_type": "markdown",
   "metadata": {},
   "source": [
    "Improve the above function using `LabeledPoint` class."
   ]
  },
  {
   "cell_type": "code",
   "execution_count": 8,
   "metadata": {},
   "outputs": [],
   "source": [
    "class LabeledPoint(NamedTuple):\n",
    "  point: Vector\n",
    "  label: str\n",
    "\n",
    "\n",
    "def knn_classify(k: int, labeled_points: List[LabeledPoint], new_point: Vector) -> str:\n",
    "  # Order the labeled points from nearest to farthest\n",
    "  by_distance = sorted(labeled_points, \n",
    "                       key=lambda lp: la.distance(lp.point, new_point))\n",
    "  \n",
    "  # Find the labels for the k closest\n",
    "  k_nearest_labels = [lp.label for lp in by_distance[:k]]\n",
    "\n",
    "  # and let them vote.\n",
    "  return majority_vote(k_nearest_labels)"
   ]
  },
  {
   "cell_type": "markdown",
   "metadata": {},
   "source": [
    "## Example: The Iris Dataset"
   ]
  },
  {
   "cell_type": "markdown",
   "metadata": {},
   "source": [
    "The following data information can be found in this link: https://archive.ics.uci.edu/dataset/53/iris  \n",
    "\n",
    "A good paper that traced back the source of Iris dataset:\n",
    "[(Unwin and Kleinman, 2021) - The Iris Data Set: In Search of the Source of _Virginica_](https://academic.oup.com/jrssig/article/18/6/26/7038520)\n",
    "\n",
    "Let us download the dataset from UC Irvine Machine Learning Repository"
   ]
  },
  {
   "cell_type": "code",
   "execution_count": 10,
   "metadata": {},
   "outputs": [],
   "source": [
    "data = requests.get(\n",
    "  \"https://archive.ics.uci.edu/ml/machine-learning-databases/iris/iris.data\")\n",
    "\n",
    "with open('./datasets/iris.data', 'w') as f:\n",
    "  f.write(data.text)"
   ]
  },
  {
   "cell_type": "markdown",
   "metadata": {},
   "source": [
    "<img src=\"./img-resources/knn-nb-iris-images.png\" width=600>"
   ]
  },
  {
   "cell_type": "code",
   "execution_count": 11,
   "metadata": {},
   "outputs": [
    {
     "name": "stdout",
     "output_type": "stream",
     "text": [
      "5.1,3.5,1.4,0.2,Iris-setosa\n",
      "4.9,3.0,1.4,0.2,Iris-setosa\n",
      "4.7,3.2,1.3,0.2,Iris-setosa\n",
      "4.6,3.1,1.5,0.2,Iris-setosa\n",
      "5.0,3.6,1.4,0.2,Iris-setosa\n",
      "5.4,3.9,1.7,0.4,Iris-setosa\n",
      "4.6,3.4,1.4,0.3,Iris-setosa\n",
      "5.0,3.4,1.5,0.2,Iris-setosa\n",
      "4.4,2.9,1.4,0.2,Iris-setosa\n",
      "4.9,3.1,1.5,0.1,Iris-setosa\n",
      "5.4,3.7,1.5,0.2,Iris-setosa\n",
      "4.8,3.4,1.6,0.2,Iris-setosa\n",
      "4.8,3.0,1.4,0.1,Iris-setosa\n",
      "4.3,3.0,1.1,0.1,Iris-setosa\n",
      "5.8,4.0,1.2,0.2,Iris-setosa\n",
      "5.7,4.4,1.5,0.4,Iris-setosa\n",
      "5.4,3.9,1.3,0.4,Iris-setosa\n",
      "5.1,3.5,1.4,0.3,Iris-setosa\n",
      "5.7,3.8,1.7,0.3,Iris-setosa\n",
      "5.1,3.8,1.5,0.3,Iris-setosa\n",
      "5.4,3.4,1.7,0.2,Iris-setosa\n",
      "5.1,3.7,1.5,0.4,Iris-setosa\n",
      "4.6,3.6,1.0,0.2,Iris-setosa\n",
      "5.1,3.3,1.7,0.5,Iris-setosa\n",
      "4.8,3.4,1.9,0.2,Iris-setosa\n",
      "5.0,3.0,1.6,0.2,Iris-setosa\n",
      "5.0,3.4,1.6,0.4,Iris-setosa\n",
      "5.2,3.5,1.5,0.2,Iris-setosa\n",
      "5.2,3.4,1.4,0.2,Iris-setosa\n",
      "4.7,3.2,1.6,0.2,Iris-setosa\n",
      "4.8,3.1,1.6,0.2,Iris-setosa\n",
      "5.4,3.4,1.5,0.4,Iris-setosa\n",
      "5.2,4.1,1.5,0.1,Iris-setosa\n",
      "5.5,4.2,1.4,0.2,Iris-setosa\n",
      "4.9,3.1,1.5,0.1,Iris-setosa\n",
      "5.0,3.2,1.2,0.2,Iris-setosa\n",
      "5.5,3.5,1.3,0.2,Iris-setosa\n",
      "4.9,3.1,1.5,0.1,Iris-setosa\n",
      "4.4,3.0,1.3,0.2,Iris-setosa\n",
      "5.1,3.4,1.5,0.2,Iris-setosa\n",
      "5.0,3.5,1.3,0.3,Iris-setosa\n",
      "4.5,2.3,1.3,0.3,Iris-setosa\n",
      "4.4,3.2,1.3,0.2,Iris-setosa\n",
      "5.0,3.5,1.6,0.6,Iris-setosa\n",
      "5.1,3.8,1.9,0.4,Iris-setosa\n",
      "4.8,3.0,1.4,0.3,Iris-setosa\n",
      "5.1,3.8,1.6,0.2,Iris-setosa\n",
      "4.6,3.2,1.4,0.2,Iris-setosa\n",
      "5.3,3.7,1.5,0.2,Iris-setosa\n",
      "5.0,3.3,1.4,0.2,Iris-setosa\n",
      "7.0,3.2,4.7,1.4,Iris-versicolor\n",
      "6.4,3.2,4.5,1.5,Iris-versicolor\n",
      "6.9,3.1,4.9,1.5,Iris-versicolor\n",
      "5.5,2.3,4.0,1.3,Iris-versicolor\n",
      "6.5,2.8,4.6,1.5,Iris-versicolor\n",
      "5.7,2.8,4.5,1.3,Iris-versicolor\n",
      "6.3,3.3,4.7,1.6,Iris-versicolor\n",
      "4.9,2.4,3.3,1.0,Iris-versicolor\n",
      "6.6,2.9,4.6,1.3,Iris-versicolor\n",
      "5.2,2.7,3.9,1.4,Iris-versicolor\n",
      "5.0,2.0,3.5,1.0,Iris-versicolor\n",
      "5.9,3.0,4.2,1.5,Iris-versicolor\n",
      "6.0,2.2,4.0,1.0,Iris-versicolor\n",
      "6.1,2.9,4.7,1.4,Iris-versicolor\n",
      "5.6,2.9,3.6,1.3,Iris-versicolor\n",
      "6.7,3.1,4.4,1.4,Iris-versicolor\n",
      "5.6,3.0,4.5,1.5,Iris-versicolor\n",
      "5.8,2.7,4.1,1.0,Iris-versicolor\n",
      "6.2,2.2,4.5,1.5,Iris-versicolor\n",
      "5.6,2.5,3.9,1.1,Iris-versicolor\n",
      "5.9,3.2,4.8,1.8,Iris-versicolor\n",
      "6.1,2.8,4.0,1.3,Iris-versicolor\n",
      "6.3,2.5,4.9,1.5,Iris-versicolor\n",
      "6.1,2.8,4.7,1.2,Iris-versicolor\n",
      "6.4,2.9,4.3,1.3,Iris-versicolor\n",
      "6.6,3.0,4.4,1.4,Iris-versicolor\n",
      "6.8,2.8,4.8,1.4,Iris-versicolor\n",
      "6.7,3.0,5.0,1.7,Iris-versicolor\n",
      "6.0,2.9,4.5,1.5,Iris-versicolor\n",
      "5.7,2.6,3.5,1.0,Iris-versicolor\n",
      "5.5,2.4,3.8,1.1,Iris-versicolor\n",
      "5.5,2.4,3.7,1.0,Iris-versicolor\n",
      "5.8,2.7,3.9,1.2,Iris-versicolor\n",
      "6.0,2.7,5.1,1.6,Iris-versicolor\n",
      "5.4,3.0,4.5,1.5,Iris-versicolor\n",
      "6.0,3.4,4.5,1.6,Iris-versicolor\n",
      "6.7,3.1,4.7,1.5,Iris-versicolor\n",
      "6.3,2.3,4.4,1.3,Iris-versicolor\n",
      "5.6,3.0,4.1,1.3,Iris-versicolor\n",
      "5.5,2.5,4.0,1.3,Iris-versicolor\n",
      "5.5,2.6,4.4,1.2,Iris-versicolor\n",
      "6.1,3.0,4.6,1.4,Iris-versicolor\n",
      "5.8,2.6,4.0,1.2,Iris-versicolor\n",
      "5.0,2.3,3.3,1.0,Iris-versicolor\n",
      "5.6,2.7,4.2,1.3,Iris-versicolor\n",
      "5.7,3.0,4.2,1.2,Iris-versicolor\n",
      "5.7,2.9,4.2,1.3,Iris-versicolor\n",
      "6.2,2.9,4.3,1.3,Iris-versicolor\n",
      "5.1,2.5,3.0,1.1,Iris-versicolor\n",
      "5.7,2.8,4.1,1.3,Iris-versicolor\n",
      "6.3,3.3,6.0,2.5,Iris-virginica\n",
      "5.8,2.7,5.1,1.9,Iris-virginica\n",
      "7.1,3.0,5.9,2.1,Iris-virginica\n",
      "6.3,2.9,5.6,1.8,Iris-virginica\n",
      "6.5,3.0,5.8,2.2,Iris-virginica\n",
      "7.6,3.0,6.6,2.1,Iris-virginica\n",
      "4.9,2.5,4.5,1.7,Iris-virginica\n",
      "7.3,2.9,6.3,1.8,Iris-virginica\n",
      "6.7,2.5,5.8,1.8,Iris-virginica\n",
      "7.2,3.6,6.1,2.5,Iris-virginica\n",
      "6.5,3.2,5.1,2.0,Iris-virginica\n",
      "6.4,2.7,5.3,1.9,Iris-virginica\n",
      "6.8,3.0,5.5,2.1,Iris-virginica\n",
      "5.7,2.5,5.0,2.0,Iris-virginica\n",
      "5.8,2.8,5.1,2.4,Iris-virginica\n",
      "6.4,3.2,5.3,2.3,Iris-virginica\n",
      "6.5,3.0,5.5,1.8,Iris-virginica\n",
      "7.7,3.8,6.7,2.2,Iris-virginica\n",
      "7.7,2.6,6.9,2.3,Iris-virginica\n",
      "6.0,2.2,5.0,1.5,Iris-virginica\n",
      "6.9,3.2,5.7,2.3,Iris-virginica\n",
      "5.6,2.8,4.9,2.0,Iris-virginica\n",
      "7.7,2.8,6.7,2.0,Iris-virginica\n",
      "6.3,2.7,4.9,1.8,Iris-virginica\n",
      "6.7,3.3,5.7,2.1,Iris-virginica\n",
      "7.2,3.2,6.0,1.8,Iris-virginica\n",
      "6.2,2.8,4.8,1.8,Iris-virginica\n",
      "6.1,3.0,4.9,1.8,Iris-virginica\n",
      "6.4,2.8,5.6,2.1,Iris-virginica\n",
      "7.2,3.0,5.8,1.6,Iris-virginica\n",
      "7.4,2.8,6.1,1.9,Iris-virginica\n",
      "7.9,3.8,6.4,2.0,Iris-virginica\n",
      "6.4,2.8,5.6,2.2,Iris-virginica\n",
      "6.3,2.8,5.1,1.5,Iris-virginica\n",
      "6.1,2.6,5.6,1.4,Iris-virginica\n",
      "7.7,3.0,6.1,2.3,Iris-virginica\n",
      "6.3,3.4,5.6,2.4,Iris-virginica\n",
      "6.4,3.1,5.5,1.8,Iris-virginica\n",
      "6.0,3.0,4.8,1.8,Iris-virginica\n",
      "6.9,3.1,5.4,2.1,Iris-virginica\n",
      "6.7,3.1,5.6,2.4,Iris-virginica\n",
      "6.9,3.1,5.1,2.3,Iris-virginica\n",
      "5.8,2.7,5.1,1.9,Iris-virginica\n",
      "6.8,3.2,5.9,2.3,Iris-virginica\n",
      "6.7,3.3,5.7,2.5,Iris-virginica\n",
      "6.7,3.0,5.2,2.3,Iris-virginica\n",
      "6.3,2.5,5.0,1.9,Iris-virginica\n",
      "6.5,3.0,5.2,2.0,Iris-virginica\n",
      "6.2,3.4,5.4,2.3,Iris-virginica\n",
      "5.9,3.0,5.1,1.8,Iris-virginica\n",
      "\n"
     ]
    },
    {
     "name": "stderr",
     "output_type": "stream",
     "text": [
      "\n",
      "datasets\\iris.data\n",
      "\n",
      "\n",
      "The system cannot find the file specified.\n",
      "Error occurred while processing: #.\n",
      "The system cannot find the file specified.\n",
      "Error occurred while processing: windows.\n"
     ]
    }
   ],
   "source": [
    "# !cat \"datasets/iris.data\"     # mac/linux\n",
    "!type \"datasets\\iris.data\"     # windows"
   ]
  },
  {
   "cell_type": "markdown",
   "metadata": {},
   "source": [
    "Each column represents consecutively sepal length (cm), sepal width (cm),   \n",
    "petal length (cm), petal width (cm), and class"
   ]
  },
  {
   "attachments": {},
   "cell_type": "markdown",
   "metadata": {},
   "source": [
    "Representing our data using `LabeledPoint`"
   ]
  },
  {
   "cell_type": "code",
   "execution_count": 12,
   "metadata": {},
   "outputs": [],
   "source": [
    "def parse_iris_row(row: List[str]) -> LabeledPoint:\n",
    "  \"\"\"sepal_length, sepal_width, petal_length, petal_width, class\"\"\"\n",
    "  measurements = [float(value) for value in row[:-1]]\n",
    "\n",
    "  # class is e.g. \"Iris-virginica\"; we just want \"virginica\"\n",
    "  if len(row) != 0:\n",
    "    label = row[-1].split(\"-\")[-1]\n",
    "    return LabeledPoint(measurements, label)\n",
    "  else:\n",
    "    return None\n",
    "\n",
    "\n",
    "with open(\"./datasets/iris.data\") as f:\n",
    "  reader = csv.reader(f)\n",
    "  iris_data = [parse_iris_row(row) for row in reader]\n",
    "\n",
    "iris_data = [row for row in iris_data if row != None]\n",
    "\n",
    "# We'll also group just the points by species/label so we can plot them\n",
    "points_by_species: Dict[str, List[Vector]] = defaultdict(list)\n",
    "for iris in iris_data:\n",
    "  points_by_species[iris.label].append(iris.point)"
   ]
  },
  {
   "cell_type": "code",
   "execution_count": 13,
   "metadata": {},
   "outputs": [
    {
     "data": {
      "text/plain": [
       "[LabeledPoint(point=[5.1, 3.5, 1.4, 0.2], label='setosa'),\n",
       " LabeledPoint(point=[4.9, 3.0, 1.4, 0.2], label='setosa'),\n",
       " LabeledPoint(point=[4.7, 3.2, 1.3, 0.2], label='setosa'),\n",
       " LabeledPoint(point=[4.6, 3.1, 1.5, 0.2], label='setosa'),\n",
       " LabeledPoint(point=[5.0, 3.6, 1.4, 0.2], label='setosa')]"
      ]
     },
     "execution_count": 13,
     "metadata": {},
     "output_type": "execute_result"
    }
   ],
   "source": [
    "iris_data[:5]"
   ]
  },
  {
   "cell_type": "code",
   "execution_count": 14,
   "metadata": {},
   "outputs": [
    {
     "data": {
      "text/plain": [
       "defaultdict(list,\n",
       "            {'setosa': [[5.1, 3.5, 1.4, 0.2],\n",
       "              [4.9, 3.0, 1.4, 0.2],\n",
       "              [4.7, 3.2, 1.3, 0.2],\n",
       "              [4.6, 3.1, 1.5, 0.2],\n",
       "              [5.0, 3.6, 1.4, 0.2],\n",
       "              [5.4, 3.9, 1.7, 0.4],\n",
       "              [4.6, 3.4, 1.4, 0.3],\n",
       "              [5.0, 3.4, 1.5, 0.2],\n",
       "              [4.4, 2.9, 1.4, 0.2],\n",
       "              [4.9, 3.1, 1.5, 0.1],\n",
       "              [5.4, 3.7, 1.5, 0.2],\n",
       "              [4.8, 3.4, 1.6, 0.2],\n",
       "              [4.8, 3.0, 1.4, 0.1],\n",
       "              [4.3, 3.0, 1.1, 0.1],\n",
       "              [5.8, 4.0, 1.2, 0.2],\n",
       "              [5.7, 4.4, 1.5, 0.4],\n",
       "              [5.4, 3.9, 1.3, 0.4],\n",
       "              [5.1, 3.5, 1.4, 0.3],\n",
       "              [5.7, 3.8, 1.7, 0.3],\n",
       "              [5.1, 3.8, 1.5, 0.3],\n",
       "              [5.4, 3.4, 1.7, 0.2],\n",
       "              [5.1, 3.7, 1.5, 0.4],\n",
       "              [4.6, 3.6, 1.0, 0.2],\n",
       "              [5.1, 3.3, 1.7, 0.5],\n",
       "              [4.8, 3.4, 1.9, 0.2],\n",
       "              [5.0, 3.0, 1.6, 0.2],\n",
       "              [5.0, 3.4, 1.6, 0.4],\n",
       "              [5.2, 3.5, 1.5, 0.2],\n",
       "              [5.2, 3.4, 1.4, 0.2],\n",
       "              [4.7, 3.2, 1.6, 0.2],\n",
       "              [4.8, 3.1, 1.6, 0.2],\n",
       "              [5.4, 3.4, 1.5, 0.4],\n",
       "              [5.2, 4.1, 1.5, 0.1],\n",
       "              [5.5, 4.2, 1.4, 0.2],\n",
       "              [4.9, 3.1, 1.5, 0.1],\n",
       "              [5.0, 3.2, 1.2, 0.2],\n",
       "              [5.5, 3.5, 1.3, 0.2],\n",
       "              [4.9, 3.1, 1.5, 0.1],\n",
       "              [4.4, 3.0, 1.3, 0.2],\n",
       "              [5.1, 3.4, 1.5, 0.2],\n",
       "              [5.0, 3.5, 1.3, 0.3],\n",
       "              [4.5, 2.3, 1.3, 0.3],\n",
       "              [4.4, 3.2, 1.3, 0.2],\n",
       "              [5.0, 3.5, 1.6, 0.6],\n",
       "              [5.1, 3.8, 1.9, 0.4],\n",
       "              [4.8, 3.0, 1.4, 0.3],\n",
       "              [5.1, 3.8, 1.6, 0.2],\n",
       "              [4.6, 3.2, 1.4, 0.2],\n",
       "              [5.3, 3.7, 1.5, 0.2],\n",
       "              [5.0, 3.3, 1.4, 0.2]],\n",
       "             'versicolor': [[7.0, 3.2, 4.7, 1.4],\n",
       "              [6.4, 3.2, 4.5, 1.5],\n",
       "              [6.9, 3.1, 4.9, 1.5],\n",
       "              [5.5, 2.3, 4.0, 1.3],\n",
       "              [6.5, 2.8, 4.6, 1.5],\n",
       "              [5.7, 2.8, 4.5, 1.3],\n",
       "              [6.3, 3.3, 4.7, 1.6],\n",
       "              [4.9, 2.4, 3.3, 1.0],\n",
       "              [6.6, 2.9, 4.6, 1.3],\n",
       "              [5.2, 2.7, 3.9, 1.4],\n",
       "              [5.0, 2.0, 3.5, 1.0],\n",
       "              [5.9, 3.0, 4.2, 1.5],\n",
       "              [6.0, 2.2, 4.0, 1.0],\n",
       "              [6.1, 2.9, 4.7, 1.4],\n",
       "              [5.6, 2.9, 3.6, 1.3],\n",
       "              [6.7, 3.1, 4.4, 1.4],\n",
       "              [5.6, 3.0, 4.5, 1.5],\n",
       "              [5.8, 2.7, 4.1, 1.0],\n",
       "              [6.2, 2.2, 4.5, 1.5],\n",
       "              [5.6, 2.5, 3.9, 1.1],\n",
       "              [5.9, 3.2, 4.8, 1.8],\n",
       "              [6.1, 2.8, 4.0, 1.3],\n",
       "              [6.3, 2.5, 4.9, 1.5],\n",
       "              [6.1, 2.8, 4.7, 1.2],\n",
       "              [6.4, 2.9, 4.3, 1.3],\n",
       "              [6.6, 3.0, 4.4, 1.4],\n",
       "              [6.8, 2.8, 4.8, 1.4],\n",
       "              [6.7, 3.0, 5.0, 1.7],\n",
       "              [6.0, 2.9, 4.5, 1.5],\n",
       "              [5.7, 2.6, 3.5, 1.0],\n",
       "              [5.5, 2.4, 3.8, 1.1],\n",
       "              [5.5, 2.4, 3.7, 1.0],\n",
       "              [5.8, 2.7, 3.9, 1.2],\n",
       "              [6.0, 2.7, 5.1, 1.6],\n",
       "              [5.4, 3.0, 4.5, 1.5],\n",
       "              [6.0, 3.4, 4.5, 1.6],\n",
       "              [6.7, 3.1, 4.7, 1.5],\n",
       "              [6.3, 2.3, 4.4, 1.3],\n",
       "              [5.6, 3.0, 4.1, 1.3],\n",
       "              [5.5, 2.5, 4.0, 1.3],\n",
       "              [5.5, 2.6, 4.4, 1.2],\n",
       "              [6.1, 3.0, 4.6, 1.4],\n",
       "              [5.8, 2.6, 4.0, 1.2],\n",
       "              [5.0, 2.3, 3.3, 1.0],\n",
       "              [5.6, 2.7, 4.2, 1.3],\n",
       "              [5.7, 3.0, 4.2, 1.2],\n",
       "              [5.7, 2.9, 4.2, 1.3],\n",
       "              [6.2, 2.9, 4.3, 1.3],\n",
       "              [5.1, 2.5, 3.0, 1.1],\n",
       "              [5.7, 2.8, 4.1, 1.3]],\n",
       "             'virginica': [[6.3, 3.3, 6.0, 2.5],\n",
       "              [5.8, 2.7, 5.1, 1.9],\n",
       "              [7.1, 3.0, 5.9, 2.1],\n",
       "              [6.3, 2.9, 5.6, 1.8],\n",
       "              [6.5, 3.0, 5.8, 2.2],\n",
       "              [7.6, 3.0, 6.6, 2.1],\n",
       "              [4.9, 2.5, 4.5, 1.7],\n",
       "              [7.3, 2.9, 6.3, 1.8],\n",
       "              [6.7, 2.5, 5.8, 1.8],\n",
       "              [7.2, 3.6, 6.1, 2.5],\n",
       "              [6.5, 3.2, 5.1, 2.0],\n",
       "              [6.4, 2.7, 5.3, 1.9],\n",
       "              [6.8, 3.0, 5.5, 2.1],\n",
       "              [5.7, 2.5, 5.0, 2.0],\n",
       "              [5.8, 2.8, 5.1, 2.4],\n",
       "              [6.4, 3.2, 5.3, 2.3],\n",
       "              [6.5, 3.0, 5.5, 1.8],\n",
       "              [7.7, 3.8, 6.7, 2.2],\n",
       "              [7.7, 2.6, 6.9, 2.3],\n",
       "              [6.0, 2.2, 5.0, 1.5],\n",
       "              [6.9, 3.2, 5.7, 2.3],\n",
       "              [5.6, 2.8, 4.9, 2.0],\n",
       "              [7.7, 2.8, 6.7, 2.0],\n",
       "              [6.3, 2.7, 4.9, 1.8],\n",
       "              [6.7, 3.3, 5.7, 2.1],\n",
       "              [7.2, 3.2, 6.0, 1.8],\n",
       "              [6.2, 2.8, 4.8, 1.8],\n",
       "              [6.1, 3.0, 4.9, 1.8],\n",
       "              [6.4, 2.8, 5.6, 2.1],\n",
       "              [7.2, 3.0, 5.8, 1.6],\n",
       "              [7.4, 2.8, 6.1, 1.9],\n",
       "              [7.9, 3.8, 6.4, 2.0],\n",
       "              [6.4, 2.8, 5.6, 2.2],\n",
       "              [6.3, 2.8, 5.1, 1.5],\n",
       "              [6.1, 2.6, 5.6, 1.4],\n",
       "              [7.7, 3.0, 6.1, 2.3],\n",
       "              [6.3, 3.4, 5.6, 2.4],\n",
       "              [6.4, 3.1, 5.5, 1.8],\n",
       "              [6.0, 3.0, 4.8, 1.8],\n",
       "              [6.9, 3.1, 5.4, 2.1],\n",
       "              [6.7, 3.1, 5.6, 2.4],\n",
       "              [6.9, 3.1, 5.1, 2.3],\n",
       "              [5.8, 2.7, 5.1, 1.9],\n",
       "              [6.8, 3.2, 5.9, 2.3],\n",
       "              [6.7, 3.3, 5.7, 2.5],\n",
       "              [6.7, 3.0, 5.2, 2.3],\n",
       "              [6.3, 2.5, 5.0, 1.9],\n",
       "              [6.5, 3.0, 5.2, 2.0],\n",
       "              [6.2, 3.4, 5.4, 2.3],\n",
       "              [5.9, 3.0, 5.1, 1.8]]})"
      ]
     },
     "execution_count": 14,
     "metadata": {},
     "output_type": "execute_result"
    }
   ],
   "source": [
    "points_by_species"
   ]
  },
  {
   "cell_type": "code",
   "execution_count": 15,
   "metadata": {},
   "outputs": [
    {
     "data": {
      "text/plain": [
       "['setosa', 'versicolor', 'virginica']"
      ]
     },
     "execution_count": 15,
     "metadata": {},
     "output_type": "execute_result"
    }
   ],
   "source": [
    "all_labels = list(points_by_species.keys())\n",
    "all_labels"
   ]
  },
  {
   "cell_type": "code",
   "execution_count": 16,
   "metadata": {},
   "outputs": [
    {
     "name": "stdout",
     "output_type": "stream",
     "text": [
      "setosa: 50\n",
      "versicolor: 50\n",
      "virginica: 50\n"
     ]
    }
   ],
   "source": [
    "for label in all_labels:\n",
    "  print(f\"{label}: {len(points_by_species[label])}\")"
   ]
  },
  {
   "cell_type": "code",
   "execution_count": 17,
   "metadata": {},
   "outputs": [
    {
     "data": {
      "image/png": "[encoded data removed]",
      "text/plain": [
       "<Figure size 800x500 with 6 Axes>"
      ]
     },
     "metadata": {},
     "output_type": "display_data"
    }
   ],
   "source": [
    "metrics = ['sepal length', 'sepal width', 'petal length', 'petal width']\n",
    "pairs = [(i, j) for i in range(4) for j in range(4) if i < j]\n",
    "marks = ['+', '.', 'x']     # we have 3 classes, so 3 markers\n",
    "\n",
    "fig, ax = plt.subplots(nrows=2, ncols=3, figsize=(8, 5))\n",
    "\n",
    "for row in range(2):\n",
    "  for col in range(3):\n",
    "    i, j = pairs[3 * row + col]\n",
    "\n",
    "    ax[row][col].set_title(f\"{metrics[i]} vs {metrics[j]}\", fontsize=8)\n",
    "    ax[row][col].set_xticks([])\n",
    "    ax[row][col].set_yticks([])\n",
    "\n",
    "    for mark, (species, points) in zip(marks, points_by_species.items()):\n",
    "      xs = [point[i] for point in points]\n",
    "      ys = [point[j] for point in points]\n",
    "\n",
    "      ax[row][col].scatter(xs, ys, marker=mark, label=species)\n",
    "\n",
    "ax[-1][-1].legend(loc=\"lower right\", prop={'size': 6})\n",
    "plt.show()"
   ]
  },
  {
   "attachments": {},
   "cell_type": "markdown",
   "metadata": {},
   "source": [
    "Split the data into a test and a training set"
   ]
  },
  {
   "cell_type": "code",
   "execution_count": 18,
   "metadata": {},
   "outputs": [
    {
     "name": "stdout",
     "output_type": "stream",
     "text": [
      "len(iris_train) = 105\n",
      "len(iris_test) = 45\n"
     ]
    }
   ],
   "source": [
    "seed = 2023_04_19\n",
    "rng = np.random.default_rng(seed)\n",
    "\n",
    "iris_train, iris_test = ml.split_data(iris_data, 0.70, rng)\n",
    "\n",
    "print(f\"len(iris_train) = {len(iris_train)}\")\n",
    "print(f\"len(iris_test) = {len(iris_test)}\")"
   ]
  },
  {
   "attachments": {},
   "cell_type": "markdown",
   "metadata": {},
   "source": [
    "Predict with $k$-NN with $k=5$"
   ]
  },
  {
   "cell_type": "markdown",
   "metadata": {},
   "source": [
    "To get the visualization of iris dataset, we use PCA. see `ch-10-working-with-data.ipynb`   \n",
    "for the code how to produce the following image"
   ]
  },
  {
   "cell_type": "markdown",
   "metadata": {},
   "source": [
    "<img src=\"./img-resources/knn-nb-knn-explained-with-pca.png\" width=800>"
   ]
  },
  {
   "cell_type": "code",
   "execution_count": 19,
   "metadata": {},
   "outputs": [],
   "source": [
    "y_true = []\n",
    "y_pred = []\n",
    "for iris in iris_test:\n",
    "  y_pred.append(knn_classify(5, iris_train, iris.point))\n",
    "  y_true.append(iris.label)"
   ]
  },
  {
   "cell_type": "code",
   "execution_count": 20,
   "metadata": {},
   "outputs": [
    {
     "name": "stdout",
     "output_type": "stream",
     "text": [
      "0.9555555555555556\n",
      "defaultdict(<class 'int'>, {('versicolor', 'versicolor'): 16, ('virginica', 'virginica'): 15, ('setosa', 'setosa'): 12, ('virginica', 'versicolor'): 2})\n"
     ]
    }
   ],
   "source": [
    "# track how many times we see (predicted, actual)\n",
    "confusion_matrix: Dict[Tuple[str, str], int] = defaultdict(int)\n",
    "num_correct = 0\n",
    "\n",
    "for predicted, actual in zip(y_pred, y_true):\n",
    "  if predicted == actual:\n",
    "    num_correct += 1\n",
    "  \n",
    "  confusion_matrix[(predicted, actual)] += 1\n",
    "\n",
    "pct_correct = num_correct / len(iris_test)\n",
    "print(pct_correct)\n",
    "print(confusion_matrix)"
   ]
  },
  {
   "cell_type": "code",
   "execution_count": 21,
   "metadata": {},
   "outputs": [
    {
     "data": {
      "image/png": "[encoded data removed]",
      "text/plain": [
       "<Figure size 600x600 with 2 Axes>"
      ]
     },
     "metadata": {},
     "output_type": "display_data"
    }
   ],
   "source": [
    "fig, ax = plt.subplots(figsize=[6, 6])\n",
    "ConfusionMatrixDisplay.from_predictions(y_true, y_pred, ax=ax);\n",
    "plt.show(fig)"
   ]
  },
  {
   "cell_type": "code",
   "execution_count": 22,
   "metadata": {},
   "outputs": [
    {
     "name": "stdout",
     "output_type": "stream",
     "text": [
      "              precision    recall  f1-score   support\n",
      "\n",
      "      setosa       1.00      1.00      1.00        12\n",
      "  versicolor       1.00      0.89      0.94        18\n",
      "   virginica       0.88      1.00      0.94        15\n",
      "\n",
      "    accuracy                           0.96        45\n",
      "   macro avg       0.96      0.96      0.96        45\n",
      "weighted avg       0.96      0.96      0.96        45\n",
      "\n"
     ]
    }
   ],
   "source": [
    "print(classification_report(y_true, y_pred))"
   ]
  },
  {
   "attachments": {},
   "cell_type": "markdown",
   "metadata": {},
   "source": [
    "## The Curse of Dimensionality"
   ]
  },
  {
   "attachments": {},
   "cell_type": "markdown",
   "metadata": {},
   "source": [
    "Generating random points and random distances from the interval $[0, 1]^N$.   \n",
    "$N$ is the dimension of the generated points"
   ]
  },
  {
   "cell_type": "code",
   "execution_count": 23,
   "metadata": {},
   "outputs": [],
   "source": [
    "def random_distances(dim: int, num_pairs: int, rng) \\\n",
    "    -> List[float]:\n",
    "\n",
    "  return [la.distance(rng.random(dim), rng.random(dim)) for _ in range(num_pairs)]"
   ]
  },
  {
   "attachments": {},
   "cell_type": "markdown",
   "metadata": {},
   "source": [
    "For every dimension from 1 to 100, we'll compute 10_000 distance and uses those   \n",
    "to compute the average distance between points and the minimum distance between   \n",
    "points in each dimension"
   ]
  },
  {
   "cell_type": "code",
   "execution_count": 24,
   "metadata": {},
   "outputs": [
    {
     "name": "stderr",
     "output_type": "stream",
     "text": [
      "Curse of dimensionality: 100%|██████████| 99/99 [00:14<00:00,  6.72it/s]\n"
     ]
    }
   ],
   "source": [
    "dimensions = range(1, 100)\n",
    "\n",
    "avg_distances = []\n",
    "min_distances = []\n",
    "\n",
    "seed = 2023_03_19\n",
    "rng = np.random.default_rng(seed)\n",
    "for dim in tqdm.tqdm(dimensions, desc=\"Curse of dimensionality\"):\n",
    "  distances = random_distances(dim, 10_000, rng)    # 10,000 randomn pairs\n",
    "  avg_distances.append(sum(distances) / 10_000)           # track the average\n",
    "  min_distances.append(min(distances))                    # trach the minimum"
   ]
  },
  {
   "cell_type": "code",
   "execution_count": 25,
   "metadata": {},
   "outputs": [
    {
     "data": {
      "image/png": "[encoded data removed]",
      "text/plain": [
       "<Figure size 800x600 with 1 Axes>"
      ]
     },
     "metadata": {},
     "output_type": "display_data"
    }
   ],
   "source": [
    "fig, ax = plt.subplots(figsize=(8, 6))\n",
    "\n",
    "x_dims = list(dimensions)\n",
    "\n",
    "ax.plot(x_dims, avg_distances, label=\"average distance\")\n",
    "ax.plot(x_dims, min_distances, label=\"minimum distance\")\n",
    "\n",
    "ax.set_xlabel(\"# of dimensions\")\n",
    "ax.set_title(\"10,000 random distances\")\n",
    "\n",
    "ax.grid('on')\n",
    "ax.legend(loc=\"upper left\")\n",
    "\n",
    "\n",
    "plt.show(fig)"
   ]
  },
  {
   "cell_type": "code",
   "execution_count": 26,
   "metadata": {},
   "outputs": [
    {
     "data": {
      "image/png": "[encoded data removed]",
      "text/plain": [
       "<Figure size 800x600 with 1 Axes>"
      ]
     },
     "metadata": {},
     "output_type": "display_data"
    }
   ],
   "source": [
    "fig, ax = plt.subplots(figsize=(8, 6))\n",
    "\n",
    "x_dims = list(dimensions)\n",
    "\n",
    "y_ratio = [min_dist / avg_dist for min_dist, avg_dist \n",
    "            in zip(min_distances, avg_distances)]\n",
    "ax.plot(x_dims, y_ratio)\n",
    "\n",
    "ax.set_xlabel(\"# of dimensions\")\n",
    "ax.set_title(\"minimum distance / average distance\")\n",
    "\n",
    "ax.grid('on')\n",
    "\n",
    "\n",
    "plt.show(fig)"
   ]
  },
  {
   "attachments": {},
   "cell_type": "markdown",
   "metadata": {},
   "source": [
    "In low-dimensional datasets, the closest points tend to be much closer\n",
    "than the average. But two points are close only if they are close in\n",
    "every dimension, and every extra dimension&mdash;even if just noise&mdash;\n",
    "is another opportunity for each point to be farther away from every\n",
    "other point. When you haev a lot of dimensions, it's likely that the\n",
    "closest point aren't much closer than evarage, so two points\n",
    "being close doesn't mean very much (unless there's a lot of structure\n",
    "in your data that makes it behaves as if it were much lower-dimensional)"
   ]
  },
  {
   "cell_type": "markdown",
   "metadata": {},
   "source": [
    "Another way of thinking, why the more dimension of data that you have, \n",
    "the more distance (more difficult to have good model) between two points is by looking\n",
    "of sparsity (the density of points)"
   ]
  },
  {
   "cell_type": "markdown",
   "metadata": {},
   "source": [
    "Fifty random points in one dimension. For the sake of visualization, we add\n",
    "some shifts in the y-direction.   \n",
    "We clearly see there is a pretty good coverage. All the area is covered by \n",
    "the random points."
   ]
  },
  {
   "cell_type": "code",
   "execution_count": 27,
   "metadata": {},
   "outputs": [
    {
     "data": {
      "image/png": "[encoded data removed]",
      "text/plain": [
       "<Figure size 600x200 with 1 Axes>"
      ]
     },
     "metadata": {},
     "output_type": "display_data"
    }
   ],
   "source": [
    "seed = 24_03_22\n",
    "N = 50\n",
    "rng = np.random.default_rng(seed)\n",
    "fifty_rand = rng.random(N)\n",
    "\n",
    "df_fifty = pd.DataFrame(fifty_rand, columns=[\"x\"])\n",
    "\n",
    "fig, ax = plt.subplots(figsize=(6, 2))\n",
    "\n",
    "sns.swarmplot(df_fifty, x=\"x\", ax=ax)\n",
    "\n",
    "plt.show(fig)"
   ]
  },
  {
   "cell_type": "markdown",
   "metadata": {},
   "source": [
    "Fifty random points in two dimensions"
   ]
  },
  {
   "cell_type": "code",
   "execution_count": 28,
   "metadata": {},
   "outputs": [
    {
     "data": {
      "image/png": "[encoded data removed]",
      "text/plain": [
       "<Figure size 600x600 with 1 Axes>"
      ]
     },
     "metadata": {},
     "output_type": "display_data"
    }
   ],
   "source": [
    "seed = 24_03_22\n",
    "N = 50\n",
    "rng = np.random.default_rng(seed)\n",
    "fifty_rand_2d = rng.random(size=(N, 2))\n",
    "\n",
    "fig, ax = plt.subplots(figsize=(6, 6))\n",
    "\n",
    "ax.scatter(fifty_rand_2d[:, 0], fifty_rand_2d[:, 1])\n",
    "\n",
    "plt.show(fig)"
   ]
  },
  {
   "cell_type": "markdown",
   "metadata": {},
   "source": [
    "And in three dimensions"
   ]
  },
  {
   "cell_type": "code",
   "execution_count": 36,
   "metadata": {},
   "outputs": [
    {
     "data": {
      "application/vnd.plotly.v1+json": {
       "config": {
        "plotlyServerURL": "https://plot.ly"
       },
       "data": [
        {
         "marker": {
          "color": [
           0.4441768397412318,
           0.6642022150936019,
           0.3476978837454773,
           0.14630717297197637,
           0.4754924933957385,
           0.0858481046635794,
           0.8972709078396257,
           0.8314705258739518,
           0.5246351217951861,
           0.9797504378186117,
           0.7440719989376184,
           0.5135175398708183,
           0.8970346407312925,
           0.2124900610914483,
           0.753758169230694,
           0.16078849176275378,
           0.20411803495678738,
           0.6371048643247432,
           0.8715362812067438,
           0.17130918867842593,
           0.25833062827986497,
           0.8528893236417185,
           0.9318912691915057,
           0.10780844441325699,
           0.06280377911955792,
           0.22086373311858842,
           0.4490547680979261,
           0.2607658248740998,
           0.44202646079256114,
           0.9802910775964618,
           0.9252435433532589,
           0.7138707802260607,
           0.3044336757937236,
           0.40552394854792184,
           0.44603069291943065,
           0.7741908317783258,
           0.19206301599518683,
           0.029618240046658362,
           0.24961546264807644,
           0.8524971789666005,
           0.6076891991218639,
           0.5498161075126422,
           0.9299793751091743,
           0.017621345808125355,
           0.7551316463672559,
           0.15603013206891392,
           0.15346909084570204,
           0.7707426321995506,
           0.9311524392231304,
           0.12586505700093287
          ],
          "colorbar": {
           "len": 0.85,
           "thickness": 10,
           "x": 0.85
          },
          "colorscale": [
           [
            0,
            "#440154"
           ],
           [
            0.1111111111111111,
            "#482878"
           ],
           [
            0.2222222222222222,
            "#3e4989"
           ],
           [
            0.3333333333333333,
            "#31688e"
           ],
           [
            0.4444444444444444,
            "#26828e"
           ],
           [
            0.5555555555555556,
            "#1f9e89"
           ],
           [
            0.6666666666666666,
            "#35b779"
           ],
           [
            0.7777777777777778,
            "#6ece58"
           ],
           [
            0.8888888888888888,
            "#b5de2b"
           ],
           [
            1,
            "#fde725"
           ]
          ],
          "size": 5
         },
         "mode": "markers",
         "name": "data",
         "type": "scatter3d",
         "x": [
          0.11780622442426114,
          0.3814472319819998,
          0.25648779850666326,
          0.297191821425702,
          0.2197750633762895,
          0.9018667194714128,
          0.7891046723079393,
          0.8166279435784305,
          0.7688921896780155,
          0.06951436731984917,
          0.6182573953187958,
          0.5647863876286405,
          0.35876707109388084,
          0.138817900000613,
          0.7249854594443909,
          0.43401245145187184,
          0.974348771706553,
          0.08314212662059295,
          0.37101146070168556,
          0.805890087582923,
          0.5899841518575074,
          0.7790247460824586,
          0.7427293852854654,
          0.1570373719711785,
          0.04034300943646851,
          0.5924807564597714,
          0.9399705154652838,
          0.9555057629463988,
          0.3865191913778364,
          0.8942511093972182,
          0.7624947014929133,
          0.1958502639785804,
          0.10151981727181647,
          0.5711774498470037,
          0.8990813030226763,
          0.6741920440631222,
          0.6025597973355975,
          0.9990628557955302,
          0.14941472690584612,
          0.09476276595485544,
          0.9789588258047166,
          0.41844232072546905,
          0.28936304770761,
          0.6690749005290995,
          0.660259228786536,
          0.9694368828921982,
          0.3132133534223145,
          0.2428439761467971,
          0.6038815918874785,
          0.846342917303004
         ],
         "y": [
          0.25064526385304486,
          0.033349236274886396,
          0.8616895153731131,
          0.4109367135928452,
          0.4884941304850483,
          0.4598671416248047,
          0.17525958349366189,
          0.9092306606609014,
          0.6500873924973544,
          0.4384059009527975,
          0.7325787388648641,
          0.4773678002768629,
          0.6823222300726087,
          0.1497421007773746,
          0.0027605630347423693,
          0.9531469010832396,
          0.11488827160155946,
          0.6926431547704667,
          0.5607385056515557,
          0.13691447967166215,
          0.2248863725969935,
          0.40083169702927657,
          0.9727711146174789,
          0.2171195173762147,
          0.7716495137992211,
          0.15613806035619493,
          0.657005376650428,
          0.7425253679014349,
          0.41860907821703996,
          0.05835865382943772,
          0.09341305418948753,
          0.21617961948181563,
          0.23774801536800305,
          0.8264588989333606,
          0.1038132193020096,
          0.8482117006775087,
          0.6682278875728169,
          0.4203806835686077,
          0.08852399121963717,
          0.5580854713033219,
          0.05479849833132022,
          0.6261215632599579,
          0.5375463914473276,
          0.7751844998943335,
          0.4488995265686352,
          0.7538110501647405,
          0.5174237830913754,
          0.7257518917172188,
          0.475587253789964,
          0.7032933829767374
         ],
         "z": [
          0.4441768397412318,
          0.6642022150936019,
          0.3476978837454773,
          0.14630717297197637,
          0.4754924933957385,
          0.0858481046635794,
          0.8972709078396257,
          0.8314705258739518,
          0.5246351217951861,
          0.9797504378186117,
          0.7440719989376184,
          0.5135175398708183,
          0.8970346407312925,
          0.2124900610914483,
          0.753758169230694,
          0.16078849176275378,
          0.20411803495678738,
          0.6371048643247432,
          0.8715362812067438,
          0.17130918867842593,
          0.25833062827986497,
          0.8528893236417185,
          0.9318912691915057,
          0.10780844441325699,
          0.06280377911955792,
          0.22086373311858842,
          0.4490547680979261,
          0.2607658248740998,
          0.44202646079256114,
          0.9802910775964618,
          0.9252435433532589,
          0.7138707802260607,
          0.3044336757937236,
          0.40552394854792184,
          0.44603069291943065,
          0.7741908317783258,
          0.19206301599518683,
          0.029618240046658362,
          0.24961546264807644,
          0.8524971789666005,
          0.6076891991218639,
          0.5498161075126422,
          0.9299793751091743,
          0.017621345808125355,
          0.7551316463672559,
          0.15603013206891392,
          0.15346909084570204,
          0.7707426321995506,
          0.9311524392231304,
          0.12586505700093287
         ]
        }
       ],
       "layout": {
        "autosize": false,
        "height": 400,
        "legend": {
         "x": 0.1,
         "y": 0.9
        },
        "margin": {
         "b": 5,
         "l": 5,
         "r": 10,
         "t": 10
        },
        "scene": {
         "aspectmode": "cube",
         "camera": {
          "center": {
           "x": 0,
           "y": 0,
           "z": -0.2
          },
          "eye": {
           "x": -1,
           "y": 2,
           "z": 1
          }
         },
         "xaxis": {
          "autorange": "reversed",
          "title": {
           "text": "x1"
          }
         },
         "yaxis": {
          "autorange": "reversed",
          "title": {
           "text": "x2"
          }
         },
         "zaxis": {
          "title": {
           "text": "x3"
          }
         }
        },
        "template": {
         "data": {
          "bar": [
           {
            "error_x": {
             "color": "#2a3f5f"
            },
            "error_y": {
             "color": "#2a3f5f"
            },
            "marker": {
             "line": {
              "color": "#E5ECF6",
              "width": 0.5
             },
             "pattern": {
              "fillmode": "overlay",
              "size": 10,
              "solidity": 0.2
             }
            },
            "type": "bar"
           }
          ],
          "barpolar": [
           {
            "marker": {
             "line": {
              "color": "#E5ECF6",
              "width": 0.5
             },
             "pattern": {
              "fillmode": "overlay",
              "size": 10,
              "solidity": 0.2
             }
            },
            "type": "barpolar"
           }
          ],
          "carpet": [
           {
            "aaxis": {
             "endlinecolor": "#2a3f5f",
             "gridcolor": "white",
             "linecolor": "white",
             "minorgridcolor": "white",
             "startlinecolor": "#2a3f5f"
            },
            "baxis": {
             "endlinecolor": "#2a3f5f",
             "gridcolor": "white",
             "linecolor": "white",
             "minorgridcolor": "white",
             "startlinecolor": "#2a3f5f"
            },
            "type": "carpet"
           }
          ],
          "choropleth": [
           {
            "colorbar": {
             "outlinewidth": 0,
             "ticks": ""
            },
            "type": "choropleth"
           }
          ],
          "contour": [
           {
            "colorbar": {
             "outlinewidth": 0,
             "ticks": ""
            },
            "colorscale": [
             [
              0,
              "#0d0887"
             ],
             [
              0.1111111111111111,
              "#46039f"
             ],
             [
              0.2222222222222222,
              "#7201a8"
             ],
             [
              0.3333333333333333,
              "#9c179e"
             ],
             [
              0.4444444444444444,
              "#bd3786"
             ],
             [
              0.5555555555555556,
              "#d8576b"
             ],
             [
              0.6666666666666666,
              "#ed7953"
             ],
             [
              0.7777777777777778,
              "#fb9f3a"
             ],
             [
              0.8888888888888888,
              "#fdca26"
             ],
             [
              1,
              "#f0f921"
             ]
            ],
            "type": "contour"
           }
          ],
          "contourcarpet": [
           {
            "colorbar": {
             "outlinewidth": 0,
             "ticks": ""
            },
            "type": "contourcarpet"
           }
          ],
          "heatmap": [
           {
            "colorbar": {
             "outlinewidth": 0,
             "ticks": ""
            },
            "colorscale": [
             [
              0,
              "#0d0887"
             ],
             [
              0.1111111111111111,
              "#46039f"
             ],
             [
              0.2222222222222222,
              "#7201a8"
             ],
             [
              0.3333333333333333,
              "#9c179e"
             ],
             [
              0.4444444444444444,
              "#bd3786"
             ],
             [
              0.5555555555555556,
              "#d8576b"
             ],
             [
              0.6666666666666666,
              "#ed7953"
             ],
             [
              0.7777777777777778,
              "#fb9f3a"
             ],
             [
              0.8888888888888888,
              "#fdca26"
             ],
             [
              1,
              "#f0f921"
             ]
            ],
            "type": "heatmap"
           }
          ],
          "heatmapgl": [
           {
            "colorbar": {
             "outlinewidth": 0,
             "ticks": ""
            },
            "colorscale": [
             [
              0,
              "#0d0887"
             ],
             [
              0.1111111111111111,
              "#46039f"
             ],
             [
              0.2222222222222222,
              "#7201a8"
             ],
             [
              0.3333333333333333,
              "#9c179e"
             ],
             [
              0.4444444444444444,
              "#bd3786"
             ],
             [
              0.5555555555555556,
              "#d8576b"
             ],
             [
              0.6666666666666666,
              "#ed7953"
             ],
             [
              0.7777777777777778,
              "#fb9f3a"
             ],
             [
              0.8888888888888888,
              "#fdca26"
             ],
             [
              1,
              "#f0f921"
             ]
            ],
            "type": "heatmapgl"
           }
          ],
          "histogram": [
           {
            "marker": {
             "pattern": {
              "fillmode": "overlay",
              "size": 10,
              "solidity": 0.2
             }
            },
            "type": "histogram"
           }
          ],
          "histogram2d": [
           {
            "colorbar": {
             "outlinewidth": 0,
             "ticks": ""
            },
            "colorscale": [
             [
              0,
              "#0d0887"
             ],
             [
              0.1111111111111111,
              "#46039f"
             ],
             [
              0.2222222222222222,
              "#7201a8"
             ],
             [
              0.3333333333333333,
              "#9c179e"
             ],
             [
              0.4444444444444444,
              "#bd3786"
             ],
             [
              0.5555555555555556,
              "#d8576b"
             ],
             [
              0.6666666666666666,
              "#ed7953"
             ],
             [
              0.7777777777777778,
              "#fb9f3a"
             ],
             [
              0.8888888888888888,
              "#fdca26"
             ],
             [
              1,
              "#f0f921"
             ]
            ],
            "type": "histogram2d"
           }
          ],
          "histogram2dcontour": [
           {
            "colorbar": {
             "outlinewidth": 0,
             "ticks": ""
            },
            "colorscale": [
             [
              0,
              "#0d0887"
             ],
             [
              0.1111111111111111,
              "#46039f"
             ],
             [
              0.2222222222222222,
              "#7201a8"
             ],
             [
              0.3333333333333333,
              "#9c179e"
             ],
             [
              0.4444444444444444,
              "#bd3786"
             ],
             [
              0.5555555555555556,
              "#d8576b"
             ],
             [
              0.6666666666666666,
              "#ed7953"
             ],
             [
              0.7777777777777778,
              "#fb9f3a"
             ],
             [
              0.8888888888888888,
              "#fdca26"
             ],
             [
              1,
              "#f0f921"
             ]
            ],
            "type": "histogram2dcontour"
           }
          ],
          "mesh3d": [
           {
            "colorbar": {
             "outlinewidth": 0,
             "ticks": ""
            },
            "type": "mesh3d"
           }
          ],
          "parcoords": [
           {
            "line": {
             "colorbar": {
              "outlinewidth": 0,
              "ticks": ""
             }
            },
            "type": "parcoords"
           }
          ],
          "pie": [
           {
            "automargin": true,
            "type": "pie"
           }
          ],
          "scatter": [
           {
            "fillpattern": {
             "fillmode": "overlay",
             "size": 10,
             "solidity": 0.2
            },
            "type": "scatter"
           }
          ],
          "scatter3d": [
           {
            "line": {
             "colorbar": {
              "outlinewidth": 0,
              "ticks": ""
             }
            },
            "marker": {
             "colorbar": {
              "outlinewidth": 0,
              "ticks": ""
             }
            },
            "type": "scatter3d"
           }
          ],
          "scattercarpet": [
           {
            "marker": {
             "colorbar": {
              "outlinewidth": 0,
              "ticks": ""
             }
            },
            "type": "scattercarpet"
           }
          ],
          "scattergeo": [
           {
            "marker": {
             "colorbar": {
              "outlinewidth": 0,
              "ticks": ""
             }
            },
            "type": "scattergeo"
           }
          ],
          "scattergl": [
           {
            "marker": {
             "colorbar": {
              "outlinewidth": 0,
              "ticks": ""
             }
            },
            "type": "scattergl"
           }
          ],
          "scattermapbox": [
           {
            "marker": {
             "colorbar": {
              "outlinewidth": 0,
              "ticks": ""
             }
            },
            "type": "scattermapbox"
           }
          ],
          "scatterpolar": [
           {
            "marker": {
             "colorbar": {
              "outlinewidth": 0,
              "ticks": ""
             }
            },
            "type": "scatterpolar"
           }
          ],
          "scatterpolargl": [
           {
            "marker": {
             "colorbar": {
              "outlinewidth": 0,
              "ticks": ""
             }
            },
            "type": "scatterpolargl"
           }
          ],
          "scatterternary": [
           {
            "marker": {
             "colorbar": {
              "outlinewidth": 0,
              "ticks": ""
             }
            },
            "type": "scatterternary"
           }
          ],
          "surface": [
           {
            "colorbar": {
             "outlinewidth": 0,
             "ticks": ""
            },
            "colorscale": [
             [
              0,
              "#0d0887"
             ],
             [
              0.1111111111111111,
              "#46039f"
             ],
             [
              0.2222222222222222,
              "#7201a8"
             ],
             [
              0.3333333333333333,
              "#9c179e"
             ],
             [
              0.4444444444444444,
              "#bd3786"
             ],
             [
              0.5555555555555556,
              "#d8576b"
             ],
             [
              0.6666666666666666,
              "#ed7953"
             ],
             [
              0.7777777777777778,
              "#fb9f3a"
             ],
             [
              0.8888888888888888,
              "#fdca26"
             ],
             [
              1,
              "#f0f921"
             ]
            ],
            "type": "surface"
           }
          ],
          "table": [
           {
            "cells": {
             "fill": {
              "color": "#EBF0F8"
             },
             "line": {
              "color": "white"
             }
            },
            "header": {
             "fill": {
              "color": "#C8D4E3"
             },
             "line": {
              "color": "white"
             }
            },
            "type": "table"
           }
          ]
         },
         "layout": {
          "annotationdefaults": {
           "arrowcolor": "#2a3f5f",
           "arrowhead": 0,
           "arrowwidth": 1
          },
          "autotypenumbers": "strict",
          "coloraxis": {
           "colorbar": {
            "outlinewidth": 0,
            "ticks": ""
           }
          },
          "colorscale": {
           "diverging": [
            [
             0,
             "#8e0152"
            ],
            [
             0.1,
             "#c51b7d"
            ],
            [
             0.2,
             "#de77ae"
            ],
            [
             0.3,
             "#f1b6da"
            ],
            [
             0.4,
             "#fde0ef"
            ],
            [
             0.5,
             "#f7f7f7"
            ],
            [
             0.6,
             "#e6f5d0"
            ],
            [
             0.7,
             "#b8e186"
            ],
            [
             0.8,
             "#7fbc41"
            ],
            [
             0.9,
             "#4d9221"
            ],
            [
             1,
             "#276419"
            ]
           ],
           "sequential": [
            [
             0,
             "#0d0887"
            ],
            [
             0.1111111111111111,
             "#46039f"
            ],
            [
             0.2222222222222222,
             "#7201a8"
            ],
            [
             0.3333333333333333,
             "#9c179e"
            ],
            [
             0.4444444444444444,
             "#bd3786"
            ],
            [
             0.5555555555555556,
             "#d8576b"
            ],
            [
             0.6666666666666666,
             "#ed7953"
            ],
            [
             0.7777777777777778,
             "#fb9f3a"
            ],
            [
             0.8888888888888888,
             "#fdca26"
            ],
            [
             1,
             "#f0f921"
            ]
           ],
           "sequentialminus": [
            [
             0,
             "#0d0887"
            ],
            [
             0.1111111111111111,
             "#46039f"
            ],
            [
             0.2222222222222222,
             "#7201a8"
            ],
            [
             0.3333333333333333,
             "#9c179e"
            ],
            [
             0.4444444444444444,
             "#bd3786"
            ],
            [
             0.5555555555555556,
             "#d8576b"
            ],
            [
             0.6666666666666666,
             "#ed7953"
            ],
            [
             0.7777777777777778,
             "#fb9f3a"
            ],
            [
             0.8888888888888888,
             "#fdca26"
            ],
            [
             1,
             "#f0f921"
            ]
           ]
          },
          "colorway": [
           "#636efa",
           "#EF553B",
           "#00cc96",
           "#ab63fa",
           "#FFA15A",
           "#19d3f3",
           "#FF6692",
           "#B6E880",
           "#FF97FF",
           "#FECB52"
          ],
          "font": {
           "color": "#2a3f5f"
          },
          "geo": {
           "bgcolor": "white",
           "lakecolor": "white",
           "landcolor": "#E5ECF6",
           "showlakes": true,
           "showland": true,
           "subunitcolor": "white"
          },
          "hoverlabel": {
           "align": "left"
          },
          "hovermode": "closest",
          "mapbox": {
           "style": "light"
          },
          "paper_bgcolor": "white",
          "plot_bgcolor": "#E5ECF6",
          "polar": {
           "angularaxis": {
            "gridcolor": "white",
            "linecolor": "white",
            "ticks": ""
           },
           "bgcolor": "#E5ECF6",
           "radialaxis": {
            "gridcolor": "white",
            "linecolor": "white",
            "ticks": ""
           }
          },
          "scene": {
           "xaxis": {
            "backgroundcolor": "#E5ECF6",
            "gridcolor": "white",
            "gridwidth": 2,
            "linecolor": "white",
            "showbackground": true,
            "ticks": "",
            "zerolinecolor": "white"
           },
           "yaxis": {
            "backgroundcolor": "#E5ECF6",
            "gridcolor": "white",
            "gridwidth": 2,
            "linecolor": "white",
            "showbackground": true,
            "ticks": "",
            "zerolinecolor": "white"
           },
           "zaxis": {
            "backgroundcolor": "#E5ECF6",
            "gridcolor": "white",
            "gridwidth": 2,
            "linecolor": "white",
            "showbackground": true,
            "ticks": "",
            "zerolinecolor": "white"
           }
          },
          "shapedefaults": {
           "line": {
            "color": "#2a3f5f"
           }
          },
          "ternary": {
           "aaxis": {
            "gridcolor": "white",
            "linecolor": "white",
            "ticks": ""
           },
           "baxis": {
            "gridcolor": "white",
            "linecolor": "white",
            "ticks": ""
           },
           "bgcolor": "#E5ECF6",
           "caxis": {
            "gridcolor": "white",
            "linecolor": "white",
            "ticks": ""
           }
          },
          "title": {
           "x": 0.05
          },
          "xaxis": {
           "automargin": true,
           "gridcolor": "white",
           "linecolor": "white",
           "ticks": "",
           "title": {
            "standoff": 15
           },
           "zerolinecolor": "white",
           "zerolinewidth": 2
          },
          "yaxis": {
           "automargin": true,
           "gridcolor": "white",
           "linecolor": "white",
           "ticks": "",
           "title": {
            "standoff": 15
           },
           "zerolinecolor": "white",
           "zerolinewidth": 2
          }
         }
        },
        "width": 500
       }
      }
     },
     "metadata": {},
     "output_type": "display_data"
    }
   ],
   "source": [
    "seed = 24_03_22\n",
    "N = 50\n",
    "rng = np.random.default_rng(seed)\n",
    "fifty_rand_3d = rng.random(size=(N, 3))\n",
    "\n",
    "fig = go.Figure(\n",
    "  data=[\n",
    "    go.Scatter3d(\n",
    "      x=fifty_rand_3d[:, 0], y=fifty_rand_3d[:, 1], z=fifty_rand_3d[:, 2], \n",
    "      mode=\"markers\", \n",
    "      marker={\"color\": fifty_rand_3d[:, 2], \"size\": 5, \"colorscale\": \"Viridis\", \n",
    "              \"colorbar\": {\"thickness\": 10, \"len\": 0.85, \"x\": 0.85}},\n",
    "      name=\"data\")])\n",
    "\n",
    "r = 2\n",
    "camera = {\"eye\": {\"x\": -0.5*r, \"y\": r, \"z\": 0.5*r},\n",
    "          \"center\": dict(x=0, y=0, z=-0.2)}\n",
    "fig.update_layout(autosize=False, width=500, height=400, \n",
    "                  scene={\"xaxis_title\": \"x1\",\n",
    "                         \"yaxis_title\": \"x2\",\n",
    "                         \"zaxis_title\": \"x3\", \n",
    "                         \"xaxis\": dict(autorange=\"reversed\"),\n",
    "                         \"yaxis\": dict(autorange=\"reversed\")},\n",
    "                  margin={\"l\":5, \"r\":10, \"b\":5, \"t\":10},\n",
    "                  scene_camera=camera,\n",
    "                  scene_aspectmode=\"cube\",\n",
    "                  legend={\"x\": 0.1, \"y\": 0.9})\n",
    "\n",
    "fig.show()\n"
   ]
  },
  {
   "cell_type": "markdown",
   "metadata": {},
   "source": [
    "In three dimensional space, we see that there are more empty spaces for\n",
    "the same number of points compare to the one dimensional space."
   ]
  },
  {
   "attachments": {},
   "cell_type": "markdown",
   "metadata": {},
   "source": [
    "So if you're trying to use nearest neighbors in higher dimensions, it's probably a good idea to do some kind of dimensionality reduction first."
   ]
  }
 ],
 "metadata": {
  "kernelspec": {
   "display_name": "Python 3",
   "language": "python",
   "name": "python3"
  },
  "language_info": {
   "codemirror_mode": {
    "name": "ipython",
    "version": 3
   },
   "file_extension": ".py",
   "mimetype": "text/x-python",
   "name": "python",
   "nbconvert_exporter": "python",
   "pygments_lexer": "ipython3",
   "version": "3.11.5"
  },
  "orig_nbformat": 4
 },
 "nbformat": 4,
 "nbformat_minor": 2
}
