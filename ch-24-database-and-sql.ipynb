{
 "cells": [
  {
   "attachments": {},
   "cell_type": "markdown",
   "metadata": {},
   "source": [
    "Logs   \n",
    "- [2023/03/08]   \n",
    "  Restart this notebook if you change the scratch library\n",
    "\n",
    "\n",
    "To do \n",
    "- Review the simple concept of SQL from relational in Discrete Mathematics.   \n",
    "  When you create the slides of this topic, review about relation in discrete mathematics"
   ]
  },
  {
   "cell_type": "code",
   "execution_count": 1,
   "metadata": {},
   "outputs": [],
   "source": [
    "from typing import Tuple, Sequence, List, Any, Callable, Dict, Iterator\n",
    "from collections import defaultdict"
   ]
  },
  {
   "attachments": {},
   "cell_type": "markdown",
   "metadata": {},
   "source": [
    "We try to mimic the behaviour of the standard database   \n",
    "such as PostgreSQL, MySQL, SQL Server by creating from scratch    \n",
    "NotQuiteABase.\n",
    "\n",
    "This also show the power of simulation using Python. It is not fast, but\n",
    "it is enough to show the principle."
   ]
  },
  {
   "attachments": {},
   "cell_type": "markdown",
   "metadata": {},
   "source": [
    "## Create Table Insert\n",
    "\n",
    "- Table is a collection of rows\n",
    "- Table has an association to a fixed *schema*\n",
    "- Schema consists of column names and column types "
   ]
  },
  {
   "cell_type": "code",
   "execution_count": 2,
   "metadata": {},
   "outputs": [],
   "source": [
    "  # user_id  name   num_friends\n",
    "users = [[0, \"Hero\", 0],\n",
    "         [1, \"Dunn\", 2],\n",
    "         [2, \"Sue\", 3],\n",
    "         [3, \"Chi\", 3]]"
   ]
  },
  {
   "attachments": {},
   "cell_type": "markdown",
   "metadata": {},
   "source": [
    "The above table can be written as SQL like the following\n",
    "```sql\n",
    "CREATE TABLE users (\n",
    "  user_id INT NOT NULL,\n",
    "  _name VARCHAR(200),\n",
    "  num_friends INT)\n",
    "```\n",
    "\n",
    "and inserting one by one each row\n",
    "\n",
    "```sql\n",
    "INSERT INTO users (user_id, _name, num_friend) VALUES (0, 'Hero', 0);\n",
    "```"
   ]
  },
  {
   "cell_type": "code",
   "execution_count": 3,
   "metadata": {},
   "outputs": [],
   "source": [
    "# A few type aliases we'll use later\n",
    "Row = Dict[str, Any]                        # A database row\n",
    "WhereClause = Callable[[Row], bool]         # Predicate for a single row\n",
    "HavingClause = Callable[[List[Row]], bool]  # Predicate over multiple rows"
   ]
  },
  {
   "attachments": {},
   "cell_type": "markdown",
   "metadata": {},
   "source": [
    "## Implementation of SQL in Python using `Table` class"
   ]
  },
  {
   "cell_type": "code",
   "execution_count": 15,
   "metadata": {},
   "outputs": [],
   "source": [
    "class Table(object):  \n",
    "  def __init__(self, columns: List[str], types: List[type]) -> None:\n",
    "    assert len(columns) == len(types), \"# of columns must == # of types\"\n",
    "\n",
    "    self.columns = columns      # Names of columns\n",
    "    self.types = types          # Data types of columns\n",
    "    self.rows: List[Row] = []   # (no data yet)\n",
    "  \n",
    "  def col2type(self, col: str) -> type:\n",
    "    \"\"\"Get the type of a column\"\"\"\n",
    "    idx = self.columns.index(col)     # Find the index of the column\n",
    "    return self.types[idx]            # and return its type.\n",
    "\n",
    "  def insert(self, values: list) -> None:\n",
    "    # Check for right # of values\n",
    "    if len(values) != len(self.types):\n",
    "      raise ValueError(f\"You need to provide {len(self.types)} values\")\n",
    "\n",
    "    # Check for right types of values\n",
    "    for value, type_ in zip(values, self.types):\n",
    "      if not isinstance(value, type_) and value is not None:\n",
    "        raise TypeError(f\"Expected type {type_} but got value {value}\")\n",
    "\n",
    "    # Add the corresponding dict as a \"row\"  \n",
    "    self.rows.append(dict(zip(self.columns, values)))\n",
    "\n",
    "  def update(self, updates: Dict[str, Any], \n",
    "              predicate: WhereClause = lambda row: True):\n",
    "    \"\"\"First make sure the updates have valid names and types\"\"\"\n",
    "    for column, new_value in updates.items():\n",
    "      if column not in self.columns:\n",
    "        raise ValueError(f\"invalid column: {column}\")\n",
    "\n",
    "      type_ = self.col2type(column)\n",
    "      if not isinstance(new_value, type_) and new_value is not None:\n",
    "        raise TypeError(f\"expected type {type_}, but got {new_value}\")\n",
    "\n",
    "    # Now update\n",
    "    for row in self.rows:\n",
    "      if predicate(row):\n",
    "        for column, new_value in updates.items():\n",
    "          row[column] = new_value\n",
    "\n",
    "  def delete(self, predicate: WhereClause = lambda row: True) -> None:\n",
    "    \"\"\"Delete all rows matching predicate\"\"\" \n",
    "    self.rows = [row for row in self.rows if not predicate(row)]\n",
    "\n",
    "\n",
    "  def select(self, keep_columns: List[str] = None, \n",
    "             additional_columns: Dict[str, Callable] = None) -> \"Table\":\n",
    "    \"\"\"\n",
    "    keep_column: it specifies the names of the columns you want to keep in\n",
    "      the result. If you don't supply it, the result contains all columns\n",
    "    additional_column: it is a dictionary whose keys are new column names\n",
    "      and whose values are function specifying how to compute the values\n",
    "      of the new columns. We'll peek at the type annotations of those\n",
    "      functions to figure out the types of the new columns, so the functions\n",
    "      will need to have annotated return types.\n",
    "    \"\"\"\n",
    "    if keep_columns is None:        # If no columns specified\n",
    "      keep_columns = self.columns   # return all columns\n",
    "\n",
    "    if additional_columns is None: \n",
    "      additional_columns = {}\n",
    "\n",
    "    # New column names and types\n",
    "    new_columns = keep_columns + list(additional_columns.keys())\n",
    "    keep_types = [self.col2type(col) for col in keep_columns]\n",
    "\n",
    "    # This is how to get the return type from a type annotation\n",
    "    # It will crash if `calculation` doesn't have a return type.\n",
    "    add_types = [calculation.__annotations__['return']\n",
    "                  for calculation in additional_columns.values()]\n",
    "\n",
    "    # Create a new table for results\n",
    "    new_table = Table(new_columns, keep_types + add_types)\n",
    "\n",
    "    for row in self.rows:\n",
    "      new_row = [row[column] for column in keep_columns]\n",
    "      for column_name, calculation in additional_columns.items():\n",
    "        new_row.append(calculation(row))\n",
    "      new_table.insert(new_row)\n",
    "\n",
    "    return new_table\n",
    "\n",
    "  def where(self, predicate, WhereClause = lambda row: True) -> 'Table':\n",
    "    \"\"\"Return only the rows that satisfy the supplied predicate\"\"\" \n",
    "    where_table = Table(self.columns, self.types)\n",
    "    for row in self.rows:\n",
    "      if predicate(row):\n",
    "        values = [row[column] for column in self.columns]\n",
    "        where_table.insert(values)\n",
    "    return where_table\n",
    "\n",
    "  def limit(self, num_rows: int) -> \"Table\":\n",
    "    \"\"\"Return only the first `num_rows` rows\"\"\"\n",
    "    limit_table = Table(self.columns, self.types)\n",
    "    for i, row in enumerate(self.rows):\n",
    "      if i >= num_rows:\n",
    "        break \n",
    "      values = [row[column] for column in self.columns]\n",
    "      limit_table.insert(values)\n",
    "    return limit_table\n",
    "\n",
    "  def group_by(self, group_by_columns: List[str], aggregates: Dict[str, Callable],\n",
    "               having: HavingClause = lambda group: True) -> 'Table':\n",
    "    grouped_rows = defaultdict(list)\n",
    "\n",
    "    # Populate groups\n",
    "    for row in self.rows:\n",
    "      key = tuple(row[column] for column in group_by_columns)\n",
    "      grouped_rows[key].append(row)\n",
    "\n",
    "    # Result table consists of group_by columns and aggregates\n",
    "    new_columns = group_by_columns + list(aggregates.keys())\n",
    "    group_by_types = [self.col2type(col) for col in group_by_columns]\n",
    "    aggregates_types = [agg.__annotations__['return']\n",
    "                        for agg in aggregates.values()]\n",
    "    result_table = Table(new_columns, group_by_types + aggregates_types)\n",
    "\n",
    "    for key, rows in grouped_rows.items():\n",
    "      if having(rows):\n",
    "        new_row = list(key)\n",
    "        for aggregate_name, aggregate_fn in aggregates.items():\n",
    "          new_row.append(aggregate_fn(rows))\n",
    "        result_table.insert(new_row)\n",
    "\n",
    "    return result_table\n",
    "  \n",
    "  def order_by(self, order: Callable[[Row], Any]) -> 'Table':\n",
    "    new_table = self.select()     # make a copy\n",
    "    new_table.rows.sort(key=order)\n",
    "    return new_table\n",
    "\n",
    "  def join(self, other_table: 'Table', left_join: bool = False) -> 'Table':\n",
    "    join_on_columns = [c for c in self.columns            # columns in\n",
    "                        if c in other_table.columns]      # both table\n",
    "\n",
    "    additional_columns = [c for c in other_table.columns  # columns only\n",
    "                            if c not in join_on_columns]  # in right table\n",
    "    \n",
    "    # all columns from left table + additional_columns from right table\n",
    "    new_columns = self.columns + additional_columns\n",
    "    new_types = self.types + [other_table.col2type(col)\n",
    "                                for col in additional_columns]\n",
    "    \n",
    "    join_table = Table(new_columns, new_types)\n",
    "\n",
    "    for row in self.rows:\n",
    "      other_rows = other_table.where(\n",
    "        Table.is_join(row, join_on_columns)).rows\n",
    "\n",
    "      # Each other row that matches this one produces a result row. \n",
    "      for other_row in other_rows:\n",
    "        join_table.insert([row[c] for c in self.columns] +\n",
    "                          [other_row[c] for c in additional_columns])\n",
    "\n",
    "      # If no rows match and it's a left join, output with Nones.\n",
    "      if left_join and not other_rows:\n",
    "        join_table.insert([row[c] for c in self.columns] +\n",
    "                          [None for c in additional_columns])\n",
    "\n",
    "    return join_table\n",
    "\n",
    "\n",
    "  \"\"\"The following methods treat a table like a List[Row]\"\"\"\n",
    "  def __getitem__(self, idx: int) -> Row:\n",
    "    return self.rows[idx]\n",
    "\n",
    "  def __iter__(self) -> Iterator[Row]:\n",
    "    return iter(self.rows)\n",
    "\n",
    "  def __len__(self) -> int:\n",
    "    return len(self.rows)\n",
    "\n",
    "  \n",
    "  def __repr__(self):\n",
    "    \"\"\"Pretty representation of the table: columns then rows\"\"\" \n",
    "    rows = \"\\n\".join(str(row) for row in self.rows)\n",
    "    return f\"{self.columns}\\n{rows}\"\n",
    "\n",
    "  @staticmethod\n",
    "  def is_join(row, join_on_columns):\n",
    "    return lambda other_row: all(other_row[c] == row[c] for c in join_on_columns)"
   ]
  },
  {
   "attachments": {},
   "cell_type": "markdown",
   "metadata": {},
   "source": [
    "Create our `Users` table"
   ]
  },
  {
   "cell_type": "code",
   "execution_count": 16,
   "metadata": {},
   "outputs": [
    {
     "name": "stdout",
     "output_type": "stream",
     "text": [
      "['user_id', 'name', 'num_friends']\n",
      "{'user_id': 0, 'name': 'Hero', 'num_friends': 0}\n",
      "{'user_id': 1, 'name': 'Dunn', 'num_friends': 2}\n",
      "{'user_id': 2, 'name': 'Sue', 'num_friends': 3}\n",
      "{'user_id': 3, 'name': 'Chi', 'num_friends': 3}\n",
      "{'user_id': 4, 'name': 'Thor', 'num_friends': 3}\n",
      "{'user_id': 5, 'name': 'Clive', 'num_friends': 2}\n",
      "{'user_id': 6, 'name': 'Hicks', 'num_friends': 3}\n",
      "{'user_id': 7, 'name': 'Devin', 'num_friends': 2}\n",
      "{'user_id': 8, 'name': 'Kate', 'num_friends': 2}\n",
      "{'user_id': 9, 'name': 'Klein', 'num_friends': 3}\n",
      "{'user_id': 10, 'name': 'Jen', 'num_friends': 1}\n"
     ]
    }
   ],
   "source": [
    "# Constructor requires column names and types\n",
    "users = Table(['user_id', 'name', 'num_friends'], [int, str, int])\n",
    "users.insert([0, \"Hero\", 0])\n",
    "users.insert([1, \"Dunn\", 2])\n",
    "users.insert([2, \"Sue\", 3])\n",
    "users.insert([3, \"Chi\", 3])\n",
    "users.insert([4, \"Thor\", 3])\n",
    "users.insert([5, \"Clive\", 2])\n",
    "users.insert([6, \"Hicks\", 3])\n",
    "users.insert([7, \"Devin\", 2])\n",
    "users.insert([8, \"Kate\", 2])\n",
    "users.insert([9, \"Klein\", 3])\n",
    "users.insert([10, \"Jen\", 1])\n",
    "\n",
    "print(users)"
   ]
  },
  {
   "attachments": {},
   "cell_type": "markdown",
   "metadata": {},
   "source": [
    "Testing for the above list-like API for NoQuiteABase `Table`"
   ]
  },
  {
   "cell_type": "code",
   "execution_count": 17,
   "metadata": {},
   "outputs": [],
   "source": [
    "assert len(users) == 11\n",
    "assert users[1]['name'] == \"Dunn\""
   ]
  },
  {
   "attachments": {},
   "cell_type": "markdown",
   "metadata": {},
   "source": [
    "## Update"
   ]
  },
  {
   "attachments": {},
   "cell_type": "markdown",
   "metadata": {},
   "source": [
    "We are going to add `update` functionality to `Users` class like\n",
    "the `UPDATE` command in SQL\n",
    "```sql\n",
    "UPDATE users\n",
    "  SET num_friends = 3\n",
    "  WHERE user_id = 1;\n",
    "```\n",
    "\n",
    "See the implementation inside the `Users` class above.\n",
    "\n",
    "Testing for `update` method"
   ]
  },
  {
   "cell_type": "code",
   "execution_count": 18,
   "metadata": {},
   "outputs": [],
   "source": [
    "assert users[1]['num_friends'] == 2              # Original value\n",
    "\n",
    "users.update({'num_friends': 3},                 # Set num_friends = 3\n",
    "              lambda row: row['user_id'] == 1)   # in rows where user_id == 1\n",
    "\n",
    "assert users[1]['num_friends'] == 3              # Update value"
   ]
  },
  {
   "attachments": {},
   "cell_type": "markdown",
   "metadata": {},
   "source": [
    "## DELETE"
   ]
  },
  {
   "attachments": {},
   "cell_type": "markdown",
   "metadata": {},
   "source": [
    "- A **dangerous** way deletes every row from a table\n",
    "  ```sql\n",
    "  DELETE FROM users;\n",
    "  ```\n",
    "\n",
    "- **less* dangerous ways add a `WHERE` clause and deletes only rows\n",
    "  that match a certain condition\n",
    "  ```sql\n",
    "  DELETE FROM users WHERE user_id = 1;\n",
    "  ```\n",
    "\n",
    "See the implementation inside the `Users` class above.\n",
    "\n",
    "Testing the `delete` method\n",
    "```python\n",
    "# We're not actually going to run these\n",
    "users.delete(lambda row: row[\"user_id\"] == 1)     # Deletes rows with user_id == 1\n",
    "users.delete()\n",
    "```"
   ]
  },
  {
   "attachments": {},
   "cell_type": "markdown",
   "metadata": {},
   "source": [
    "## SELECT"
   ]
  },
  {
   "attachments": {},
   "cell_type": "markdown",
   "metadata": {},
   "source": [
    "We implement the following `SELECT`, `WHERE`, and `LIMIT` commands\n",
    "in our `Table` class \n",
    "\n",
    "```sql\n",
    "SELECT * FROM users;                              -- get the entire contents\n",
    "SELECT * FROM users LIMIT 2;                      -- get the first two rows\n",
    "SELECT user_id FROM users;                        -- only get specific columns\n",
    "SELECT user_id FROM users WHERE name = \"Dunn\";    -- only get specific row\n",
    "```\n",
    "\n",
    "```sql\n",
    "-- get name column and compute its length then store it into a new column\n",
    "-- with name_length\n",
    "SELECT LENGTH(name) AS name_length FROM users; \n",
    "```\n",
    "\n",
    "See the implementation inside the `Users` class above.\n",
    "\n",
    "Testing the implementation of `.select`, `.where` and `.limit` method"
   ]
  },
  {
   "cell_type": "code",
   "execution_count": 19,
   "metadata": {},
   "outputs": [],
   "source": [
    "# SELECT * FROM users;\n",
    "all_users = users.select()\n",
    "assert len(all_users) == 11\n",
    "\n",
    "# SELECT * FROM users LIMIT 2;\n",
    "two_users = users.limit(2)\n",
    "assert len(two_users) == 2\n",
    "\n",
    "# SELECT user_id FROM USERS;\n",
    "just_ids = users.select(keep_columns=[\"user_id\"])\n",
    "assert just_ids.columns == ['user_id']\n",
    "\n",
    "# SELECT user_id FROM users WHERE name == \"Dunn\";\n",
    "dunn_ids = (\n",
    "  users\n",
    "  .where(lambda row: row[\"name\"] == \"Dunn\")\n",
    "  .select(keep_columns=[\"user_id\"])\n",
    ")\n",
    "\n",
    "# SELECT LENGTH(name) AS name_length FROM users;\n",
    "def name_length(row) -> int: \n",
    "  return len(row[\"name\"])\n",
    "\n",
    "name_lengths = users.select(keep_columns=[],\n",
    "                            additional_columns={\"name_length\": name_length})\n",
    "assert name_lengths[0]['name_length'] == len(\"Hero\")"
   ]
  },
  {
   "attachments": {},
   "cell_type": "markdown",
   "metadata": {},
   "source": [
    "## GROUP BY"
   ]
  },
  {
   "attachments": {},
   "cell_type": "markdown",
   "metadata": {},
   "source": [
    "Next, we implement `GROUP BY` to our `Table` class\n",
    "\n",
    "Some examples using `GROUP BY`\n",
    "\n",
    "> Find the number of users and the smallest `user_id`\n",
    "> for each possible name length\n",
    ">```sql\n",
    ">SELECT LENGTH(name) as name_length,\n",
    ">  MIN(user_id) AS min_user_id,\n",
    ">  COUNT(*) AS num_users\n",
    ">  FROM users\n",
    ">  GROUP BY LENGTH(name)\n",
    ">```\n",
    "\n",
    "> The average number of friends for users whose names start    \n",
    "> with specific letters but see only the results for letters    \n",
    "> whose corresponding average is greater than 1.\n",
    ">```sql\n",
    ">SELECT SUBSTR(name, 1, 1) as first_letter,\n",
    ">  AVG(num_friends) as avg_num_friends\n",
    ">  FROM users\n",
    ">  GROUP BY SUBSTR(name, 1, 1)\n",
    ">  HAVING AVG(num_friends) > 1;\n",
    ">```\n",
    "\n",
    "> An example compute overall aggregates\n",
    ">```sql\n",
    ">SELECT SUM(user_id) as user_id_sum\n",
    ">  FROM users\n",
    ">  WHERE user_id > 1;\n",
    ">```\n"
   ]
  },
  {
   "attachments": {},
   "cell_type": "markdown",
   "metadata": {},
   "source": [
    "Metric for `name_length`"
   ]
  },
  {
   "cell_type": "code",
   "execution_count": 20,
   "metadata": {},
   "outputs": [
    {
     "data": {
      "text/plain": [
       "['name_length', 'min_user_id', 'num_users']\n",
       "{'name_length': 4, 'min_user_id': 0, 'num_users': 4}\n",
       "{'name_length': 3, 'min_user_id': 2, 'num_users': 3}\n",
       "{'name_length': 5, 'min_user_id': 5, 'num_users': 4}"
      ]
     },
     "execution_count": 20,
     "metadata": {},
     "output_type": "execute_result"
    }
   ],
   "source": [
    "def name_length(row) -> int: \n",
    "  return len(row[\"name\"])\n",
    "\n",
    "def min_user_id(rows) -> int:\n",
    "  return min(row[\"user_id\"] for row in rows)\n",
    "\n",
    "def length(rows) -> int:\n",
    "  return len(rows)\n",
    "\n",
    "stats_by_length = (\n",
    "  users\n",
    "  .select(additional_columns={\"name_length\": name_length})\n",
    "  .group_by(group_by_columns=[\"name_length\"],\n",
    "            aggregates={\"min_user_id\": min_user_id,\n",
    "                        \"num_users\": length}) \n",
    ")\n",
    "stats_by_length\n"
   ]
  },
  {
   "attachments": {},
   "cell_type": "markdown",
   "metadata": {},
   "source": [
    "Metric for `first_letter`"
   ]
  },
  {
   "cell_type": "code",
   "execution_count": 21,
   "metadata": {},
   "outputs": [
    {
     "data": {
      "text/plain": [
       "['first_letter', 'avg_num_friends']\n",
       "{'first_letter': 'H', 'avg_num_friends': 1.5}\n",
       "{'first_letter': 'D', 'avg_num_friends': 2.5}\n",
       "{'first_letter': 'S', 'avg_num_friends': 3.0}\n",
       "{'first_letter': 'C', 'avg_num_friends': 2.5}\n",
       "{'first_letter': 'T', 'avg_num_friends': 3.0}\n",
       "{'first_letter': 'K', 'avg_num_friends': 2.5}"
      ]
     },
     "execution_count": 21,
     "metadata": {},
     "output_type": "execute_result"
    }
   ],
   "source": [
    "def first_letter_of_name(row: Row) -> str:\n",
    "  return row[\"name\"][0] if row[\"name\"] else \"\"\n",
    "\n",
    "def average_num_friends(rows: List[Row]) -> float:\n",
    "  return sum(row[\"num_friends\"] for row in rows) / len(rows)\n",
    "\n",
    "def enough_friends(rows: List[Row]) -> bool:\n",
    "  return average_num_friends(rows) > 1\n",
    "\n",
    "avg_friends_by_letter = (\n",
    "  users\n",
    "  .select(additional_columns={\"first_letter\": first_letter_of_name})\n",
    "  .group_by(group_by_columns=[\"first_letter\"],\n",
    "            aggregates={\"avg_num_friends\": average_num_friends},\n",
    "            having=enough_friends)\n",
    ")\n",
    "avg_friends_by_letter"
   ]
  },
  {
   "attachments": {},
   "cell_type": "markdown",
   "metadata": {},
   "source": [
    "Metric for `user_id_sum`"
   ]
  },
  {
   "cell_type": "code",
   "execution_count": 22,
   "metadata": {},
   "outputs": [
    {
     "data": {
      "text/plain": [
       "['user_id_sum']\n",
       "{'user_id_sum': 54}"
      ]
     },
     "execution_count": 22,
     "metadata": {},
     "output_type": "execute_result"
    }
   ],
   "source": [
    "def sum_user_ids(rows: List[Row]) -> int:\n",
    "  return sum(row[\"user_id\"] for row in rows)\n",
    "\n",
    "user_id_sum = (\n",
    "  users\n",
    "  .where(lambda row: row[\"user_id\"] > 1)\n",
    "  .group_by(group_by_columns=[],\n",
    "            aggregates={\"user_id_sum\": sum_user_ids})\n",
    ")\n",
    "user_id_sum"
   ]
  },
  {
   "attachments": {},
   "cell_type": "markdown",
   "metadata": {},
   "source": [
    "## ORDER BY\n"
   ]
  },
  {
   "attachments": {},
   "cell_type": "markdown",
   "metadata": {},
   "source": [
    "We are going to implement `ORDER BY` command.\n",
    "Here is an example\n",
    "\n",
    "```sql\n",
    "SELECT * FROM users\n",
    "  ORDER BY name\n",
    "  LIMIT 2;\n",
    "```\n",
    "\n",
    "See the implementation inside the `Users` class above.\n",
    "\n",
    "Testing the method `.order_by` in `Users` class"
   ]
  },
  {
   "cell_type": "code",
   "execution_count": 23,
   "metadata": {},
   "outputs": [
    {
     "data": {
      "text/plain": [
       "['first_letter', 'avg_num_friends']\n",
       "{'first_letter': 'S', 'avg_num_friends': 3.0}\n",
       "{'first_letter': 'T', 'avg_num_friends': 3.0}\n",
       "{'first_letter': 'D', 'avg_num_friends': 2.5}\n",
       "{'first_letter': 'C', 'avg_num_friends': 2.5}"
      ]
     },
     "execution_count": 23,
     "metadata": {},
     "output_type": "execute_result"
    }
   ],
   "source": [
    "friendliest_letters = (\n",
    "  avg_friends_by_letter\n",
    "  .order_by(lambda row: -row[\"avg_num_friends\"])\n",
    "  .limit(4) \n",
    ")\n",
    "\n",
    "friendliest_letters"
   ]
  },
  {
   "attachments": {},
   "cell_type": "markdown",
   "metadata": {},
   "source": [
    "## JOIN\n",
    "\n",
    "- Because SQL table cannot contain list in each row, we have to create     \n",
    "  a second table that store a relation from one-to-many.        \n",
    "  For example, when we work with our users' interests in Python,  we can just     \n",
    "  give user a `list` containing his interests. We cannot do like that in     \n",
    "  SQL table, so the typical solution is to create a second table.    \n",
    "  This kind of strategy is called *redundancy*\n",
    "\n",
    "  ```sql\n",
    "  CREATE TABLE user_unterests (\n",
    "    user_id INT NOT NULL,\n",
    "    interest VARCHAR(10) NOT NULL\n",
    "  );\n",
    "  ```\n",
    "\n",
    "  Implementation in Python"
   ]
  },
  {
   "cell_type": "code",
   "execution_count": 24,
   "metadata": {},
   "outputs": [
    {
     "data": {
      "text/plain": [
       "['user_id', 'interest']\n",
       "{'user_id': 0, 'interest': 'SQL'}\n",
       "{'user_id': 0, 'interest': 'NoSQL'}\n",
       "{'user_id': 2, 'interest': 'SQL'}\n",
       "{'user_id': 2, 'interest': 'MySQL'}"
      ]
     },
     "execution_count": 24,
     "metadata": {},
     "output_type": "execute_result"
    }
   ],
   "source": [
    "user_interests = Table(['user_id', 'interest'], [int, str])\n",
    "user_interests.insert([0, \"SQL\"])\n",
    "user_interests.insert([0, \"NoSQL\"])\n",
    "user_interests.insert([2, \"SQL\"])\n",
    "user_interests.insert([2, \"MySQL\"])\n",
    "\n",
    "user_interests"
   ]
  },
  {
   "attachments": {},
   "cell_type": "markdown",
   "metadata": {},
   "source": [
    "`JOIN` is useful when we want to analyze (querying) items from two different     \n",
    "tables, but connected by column name. In our example `users` and     \n",
    "`user_interests` tables are connected by the column `user_id`\n",
    "\n",
    "Using `JOIN`, we can join the corresponding table by their common columns\n",
    "\n",
    "Example:\n",
    "```sql\n",
    "SELECT users.name\n",
    "  FROM users\n",
    "  JOIN user_interests\n",
    "  ON users.user_id = user_interests.user_id\n",
    "  WHERE user_interests.interest = \"SQL\"\n",
    "```\n",
    "\n",
    "```sql\n",
    "SELECT users.id, COUNT(user_interests.interest) AS num_interests\n",
    "  FROM users\n",
    "  LEFT JOIN user_interests\n",
    "  ON users.user_id = user_interests.user_id\n",
    "```"
   ]
  },
  {
   "attachments": {},
   "cell_type": "markdown",
   "metadata": {},
   "source": [
    "The implementation of `JOIN` example"
   ]
  },
  {
   "cell_type": "code",
   "execution_count": 28,
   "metadata": {},
   "outputs": [
    {
     "data": {
      "text/plain": [
       "['name']\n",
       "{'name': 'Hero'}\n",
       "{'name': 'Sue'}"
      ]
     },
     "execution_count": 28,
     "metadata": {},
     "output_type": "execute_result"
    }
   ],
   "source": [
    "sql_users = (\n",
    "  users\n",
    "  .join(user_interests)\n",
    "  .where(lambda row: row[\"interest\"] == \"SQL\")\n",
    "  .select(keep_columns=[\"name\"])\n",
    ")\n",
    "\n",
    "sql_users"
   ]
  },
  {
   "cell_type": "code",
   "execution_count": 30,
   "metadata": {},
   "outputs": [
    {
     "data": {
      "text/plain": [
       "['user_id', 'num_interests']\n",
       "{'user_id': 0, 'num_interests': 2}\n",
       "{'user_id': 1, 'num_interests': 0}\n",
       "{'user_id': 2, 'num_interests': 2}\n",
       "{'user_id': 3, 'num_interests': 0}\n",
       "{'user_id': 4, 'num_interests': 0}\n",
       "{'user_id': 5, 'num_interests': 0}\n",
       "{'user_id': 6, 'num_interests': 0}\n",
       "{'user_id': 7, 'num_interests': 0}\n",
       "{'user_id': 8, 'num_interests': 0}\n",
       "{'user_id': 9, 'num_interests': 0}\n",
       "{'user_id': 10, 'num_interests': 0}"
      ]
     },
     "execution_count": 30,
     "metadata": {},
     "output_type": "execute_result"
    }
   ],
   "source": [
    "def count_interests(rows: List[Row]) -> int:\n",
    "  \"\"\"counts how many rows have non-None interests\"\"\" \n",
    "  return len([row for row in rows if row[\"interest\"] is not None])\n",
    "\n",
    "user_interest_counts = (\n",
    "  users\n",
    "  .join(user_interests, left_join=True)\n",
    "  .group_by(group_by_columns=[\"user_id\"],\n",
    "            aggregates={\"num_interests\": count_interests})\n",
    ")\n",
    "\n",
    "user_interest_counts"
   ]
  },
  {
   "attachments": {},
   "cell_type": "markdown",
   "metadata": {},
   "source": [
    "## Subqueries"
   ]
  },
  {
   "attachments": {},
   "cell_type": "markdown",
   "metadata": {},
   "source": [
    "Subquery is doing a query from a query result. Given a table and doing\n",
    "query will result a subtable. From that subtable you can do query.\n",
    "That is subquery.\n",
    "\n",
    "An example of subquery\n",
    "> Find the smallest `user_id` of anyone interested in SQL\n",
    ">```sql\n",
    ">SELECT MIN(user_id) AS min_user_id FROM\n",
    ">  (SELECT user_id FROM user_interests WHERE interest = 'SQL') sql_interests;\n",
    ">```\n",
    "\n",
    "The implementation of the above example using `Table` class"
   ]
  },
  {
   "cell_type": "code",
   "execution_count": 32,
   "metadata": {},
   "outputs": [
    {
     "data": {
      "text/plain": [
       "['user_id']\n",
       "{'user_id': 0}\n",
       "{'user_id': 2}"
      ]
     },
     "execution_count": 32,
     "metadata": {},
     "output_type": "execute_result"
    }
   ],
   "source": [
    "def min_user_id(rows) -> int:\n",
    "  return min(row[\"user_id\"] for row in rows)\n",
    "\n",
    "likes_sql_user_ids = (\n",
    "  user_interests\n",
    "  .where(lambda row: row[\"interest\"] == \"SQL\")\n",
    "  .select(keep_columns=['user_id'])\n",
    ")\n",
    "\n",
    "likes_sql_user_ids.group_by(group_by_columns=[],\n",
    "                            aggregates={\"min_user_id\": min_user_id})\n",
    "\n",
    "likes_sql_user_ids"
   ]
  },
  {
   "attachments": {},
   "cell_type": "markdown",
   "metadata": {},
   "source": [
    "## Indexing\n",
    "\n",
    "- Our implementation to find a specific value and joining two table\n",
    "  are not very efficient for a table which has a lot of rows.\n",
    "- When we have duplicate items in `user_id`, our implementation of `Table` class\n",
    "  will alow that. In practice, we won't allow that.\n",
    "- Indexing of our row will solve this problem. Unfortunately this is \n",
    "  out of scope in our discussion"
   ]
  },
  {
   "attachments": {},
   "cell_type": "markdown",
   "metadata": {},
   "source": [
    "## Query Optimization"
   ]
  },
  {
   "attachments": {},
   "cell_type": "markdown",
   "metadata": {},
   "source": [
    "Recall the query to find all users who are interested in SQL:\n",
    "```sql\n",
    "SELECT users.name\n",
    "  FROM users\n",
    "  JOIN user_interests\n",
    "  ON users.user_id = user_interests.user_id\n",
    "  WHERE user_interests.interest = 'SQL';\n",
    "```\n",
    "\n",
    "Given two queries procedures from our `Table` class:\n",
    "\n",
    "```python\n",
    "(\n",
    "  user_interests\n",
    "  .where(lambda row: row[\"interest\"] == 'SQL')\n",
    "  .join(users)\n",
    "  .select([\"name\"])\n",
    ")\n",
    "```\n",
    "\n",
    "```python\n",
    "(\n",
    "  user_interests\n",
    "  .join(users)\n",
    "  .where(lambda row: row[\"interests\"] == 'SQL')\n",
    "  .select([\"name\"])\n",
    ")\n",
    "```\n",
    "\n",
    "The first option is faster because filter-before-join is almost      \n",
    "certainly more efficient, since in that case `join` has many fewer rows     \n",
    "to operate on.\n",
    "\n",
    "In SQL, we generally would'nt worry about this. We declare the commands    \n",
    "to get the result we want, and leave it up to the query engine to execute   \n",
    "them (and use indexes efficiently)"
   ]
  },
  {
   "attachments": {},
   "cell_type": "markdown",
   "metadata": {},
   "source": [
    "## NoSQL\n",
    "\n",
    "- A recent trend in databases is toward nonrelational \"NoSQL\" databases."
   ]
  },
  {
   "cell_type": "code",
   "execution_count": null,
   "metadata": {},
   "outputs": [],
   "source": []
  }
 ],
 "metadata": {
  "kernelspec": {
   "display_name": "base",
   "language": "python",
   "name": "python3"
  },
  "language_info": {
   "codemirror_mode": {
    "name": "ipython",
    "version": 3
   },
   "file_extension": ".py",
   "mimetype": "text/x-python",
   "name": "python",
   "nbconvert_exporter": "python",
   "pygments_lexer": "ipython3",
   "version": "3.8.10"
  },
  "orig_nbformat": 4
 },
 "nbformat": 4,
 "nbformat_minor": 2
}
