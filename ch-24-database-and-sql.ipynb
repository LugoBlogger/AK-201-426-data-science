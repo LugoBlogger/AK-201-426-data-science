{
 "cells": [
  {
   "attachments": {},
   "cell_type": "markdown",
   "metadata": {},
   "source": [
    "Logs   \n",
    "- [2023/03/08]   \n",
    "  Restart this notebook if you change the scratch library"
   ]
  },
  {
   "cell_type": "code",
   "execution_count": 3,
   "metadata": {},
   "outputs": [],
   "source": [
    "from typing import Tuple, Sequence, List, Any, Callable, Dict, Iterator\n",
    "from collections import defaultdict"
   ]
  },
  {
   "attachments": {},
   "cell_type": "markdown",
   "metadata": {},
   "source": [
    "We try to mimic the behaviour of the standard database   \n",
    "such as PostgreSQL, MySQL, SQL Server by creating from scratch    \n",
    "NotQuiteABase"
   ]
  },
  {
   "attachments": {},
   "cell_type": "markdown",
   "metadata": {},
   "source": [
    "## Create Table Insert\n",
    "\n",
    "- Table is a collection of rows\n",
    "- Table has an association to a fixed *schema*\n",
    "- Schema consists of column names and column types "
   ]
  },
  {
   "cell_type": "code",
   "execution_count": 2,
   "metadata": {},
   "outputs": [],
   "source": [
    "  # user_id  name   num_friends\n",
    "users = [[0, \"Hero\", 0],\n",
    "         [1, \"Dunn\", 2],\n",
    "         [2, \"Sue\", 3],\n",
    "         [3, \"Chi\", 3]]"
   ]
  },
  {
   "attachments": {},
   "cell_type": "markdown",
   "metadata": {},
   "source": [
    "The above table can be writtes as SQL like the following\n",
    "```sql\n",
    "CREATE TABLE users (\n",
    "  user_id INT NOT NULL,\n",
    "  _name VARCHAR(200),\n",
    "  num_friends INT)\n",
    "```\n",
    "\n",
    "and inserting one by one each row\n",
    "\n",
    "```sql\n",
    "INSERT INTO users (user_id, _name, num_friend) VALUES (0, 'Hero', 0);\n",
    "```"
   ]
  },
  {
   "cell_type": "code",
   "execution_count": 15,
   "metadata": {},
   "outputs": [],
   "source": [
    "# A few type aliases we'll use later\n",
    "Row = Dict[str, Any]                        # A database row\n",
    "WhereClause = Callable[[Row], bool]         # Predicate for a single row\n",
    "HavingClause = Callable[[List[Row]], bool]  # Predicate over multiple rows"
   ]
  },
  {
   "attachments": {},
   "cell_type": "markdown",
   "metadata": {},
   "source": [
    "## Implementation of SQL in Python using `Table` class"
   ]
  },
  {
   "cell_type": "code",
   "execution_count": 43,
   "metadata": {},
   "outputs": [],
   "source": [
    "class Table(object):  \n",
    "  def __init__(self, columns: List[str], types: List[type]) -> None:\n",
    "    assert len(columns) == len(types), \"# of columns must == # of types\"\n",
    "\n",
    "    self.columns = columns      # Names of columns\n",
    "    self.types = types          # Data types of columns\n",
    "    self.rows: List[Row] = []   # (no data yet)\n",
    "  \n",
    "  def col2type(self, col: str) -> type:\n",
    "    \"\"\"Get the type of a column\"\"\"\n",
    "    idx = self.columns.index(col)     # Find the index of the column\n",
    "    return self.types[idx]            # and return its type.\n",
    "\n",
    "  def insert(self, values: list) -> None:\n",
    "    # Check for right # of values\n",
    "    if len(values) != len(self.types):\n",
    "      raise ValueError(f\"You need to provide {len(self.types)} values\")\n",
    "\n",
    "    # Check for right types of values\n",
    "    for value, type_ in zip(values, self.types):\n",
    "      if not isinstance(value, type_) and value is not None:\n",
    "        raise TypeError(f\"Expected type {type_} but got value {value}\")\n",
    "\n",
    "    # Add the corresponding dict as a \"row\"  \n",
    "    self.rows.append(dict(zip(self.columns, values)))\n",
    "\n",
    "  def update(self, updates: Dict[str, Any], \n",
    "              predicate: WhereClause = lambda row: True):\n",
    "    \"\"\"First make sure the updates have valid names and types\"\"\"\n",
    "    for column, new_value in updates.items():\n",
    "      if column not in self.columns:\n",
    "        raise ValueError(f\"invalid column: {column}\")\n",
    "\n",
    "      type_ = self.col2type(column)\n",
    "      if not isinstance(new_value, type_) and new_value is not None:\n",
    "        raise TypeError(f\"expected type {type_}, but got {new_value}\")\n",
    "\n",
    "    # Now update\n",
    "    for row in self.rows:\n",
    "      if predicate(row):\n",
    "        for column, new_value in updates.items():\n",
    "          row[column] = new_value\n",
    "\n",
    "  def delete(self, predicate: WhereClause = lambda row: True) -> None:\n",
    "    \"\"\"Delete all rows matching predicate\"\"\" \n",
    "    self.rows = [row for row in self.rows if not predicate(row)]\n",
    "\n",
    "\n",
    "  def select(self, keep_columns: List[str] = None, \n",
    "             additional_columns: Dict[str, Callable] = None) -> \"Table\":\n",
    "    \"\"\"\n",
    "    keep_column: it specifies the names of the columns you want to keep in\n",
    "      the result. If you don't supply it, the result contains all columns\n",
    "    additional_column: it is a dictionary whose keys are new column names\n",
    "      and whose values are function specifying how to compute the values\n",
    "      of the new columns. We'll peek at the type annotations of those\n",
    "      functions to figure out the types of the new columns, so the functions\n",
    "      will need to have annotated return types.\n",
    "    \"\"\"\n",
    "    if keep_columns is None:        # If no columns specified\n",
    "      keep_columns = self.columns   # return all columns\n",
    "\n",
    "    if additional_columns is None: \n",
    "      additional_columns = {}\n",
    "\n",
    "    # New column names and types\n",
    "    new_columns = keep_columns + list(additional_columns.keys())\n",
    "    keep_types = [self.col2type(col) for col in keep_columns]\n",
    "\n",
    "    # This is how to get the return type from a type annotation\n",
    "    # It will cras if `calculation` doesn't have a return type.\n",
    "    add_types = [calculation.__annotations__['return']\n",
    "                  for calculation in additional_columns.values()]\n",
    "\n",
    "    # Create a new table for results\n",
    "    new_table = Table(new_columns, keep_types + add_types)\n",
    "\n",
    "    for row in self.rows:\n",
    "      new_row = [row[column] for column in keep_columns]\n",
    "      for column_name, calculation in additional_columns.items():\n",
    "        new_row.append(calculation(row))\n",
    "      new_table.insert(new_row)\n",
    "\n",
    "    return new_table\n",
    "\n",
    "  def where(self, predicate, WhereClause = lambda row: True) -> 'Table':\n",
    "    \"\"\"Return only the rows that satisfy the supplied predicate\"\"\" \n",
    "    where_table = Table(self.columns, self.types)\n",
    "    for row in self.rows:\n",
    "      if predicate(row):\n",
    "        values = [row[column] for column in self.columns]\n",
    "        where_table.insert(values)\n",
    "    return where_table\n",
    "\n",
    "  def limit(self, num_rows: int) -> \"Table\":\n",
    "    \"\"\"Return only the first `num_rows` rows\"\"\"\n",
    "    limit_table = Table(self.columns, self.types)\n",
    "    for i, row in enumerate(self.rows):\n",
    "      if i >= num_rows:\n",
    "        break \n",
    "      values = [row[column] for column in self.columns]\n",
    "      limit_table.insert(values)\n",
    "    return limit_table\n",
    "\n",
    "\n",
    "  \"\"\"The following methods treat a table like a List[Row]\"\"\"\n",
    "  def __getitem__(self, idx: int) -> Row:\n",
    "    return self.rows[idx]\n",
    "\n",
    "  def __iter__(self) -> Iterator[Row]:\n",
    "    return iter(self.rows)\n",
    "\n",
    "  def __len__(self) -> int:\n",
    "    return len(self.rows)\n",
    "\n",
    "  \n",
    "  def __repr__(self):\n",
    "    \"\"\"Pretty representation of the table: columns then rows\"\"\" \n",
    "    rows = \"\\n\".join(str(row) for row in self.rows)\n",
    "    return f\"{self.columns}\\n{rows}\""
   ]
  },
  {
   "attachments": {},
   "cell_type": "markdown",
   "metadata": {},
   "source": [
    "Create our `Users` table"
   ]
  },
  {
   "cell_type": "code",
   "execution_count": 44,
   "metadata": {},
   "outputs": [
    {
     "name": "stdout",
     "output_type": "stream",
     "text": [
      "['user_id', 'name', 'num_friends']\n",
      "{'user_id': 0, 'name': 'Hero', 'num_friends': 0}\n",
      "{'user_id': 1, 'name': 'Dunn', 'num_friends': 2}\n",
      "{'user_id': 2, 'name': 'Sue', 'num_friends': 3}\n",
      "{'user_id': 3, 'name': 'Chi', 'num_friends': 3}\n",
      "{'user_id': 4, 'name': 'Thor', 'num_friends': 3}\n",
      "{'user_id': 5, 'name': 'Clive', 'num_friends': 2}\n",
      "{'user_id': 6, 'name': 'Hicks', 'num_friends': 3}\n",
      "{'user_id': 7, 'name': 'Devin', 'num_friends': 2}\n",
      "{'user_id': 8, 'name': 'Kate', 'num_friends': 2}\n",
      "{'user_id': 9, 'name': 'Klein', 'num_friends': 3}\n",
      "{'user_id': 10, 'name': 'Jen', 'num_friends': 1}\n"
     ]
    }
   ],
   "source": [
    "# Constructor requires column names and types\n",
    "users = Table(['user_id', 'name', 'num_friends'], [int, str, int])\n",
    "users.insert([0, \"Hero\", 0])\n",
    "users.insert([1, \"Dunn\", 2])\n",
    "users.insert([2, \"Sue\", 3])\n",
    "users.insert([3, \"Chi\", 3])\n",
    "users.insert([4, \"Thor\", 3])\n",
    "users.insert([5, \"Clive\", 2])\n",
    "users.insert([6, \"Hicks\", 3])\n",
    "users.insert([7, \"Devin\", 2])\n",
    "users.insert([8, \"Kate\", 2])\n",
    "users.insert([9, \"Klein\", 3])\n",
    "users.insert([10, \"Jen\", 1])\n",
    "\n",
    "print(users)"
   ]
  },
  {
   "attachments": {},
   "cell_type": "markdown",
   "metadata": {},
   "source": [
    "Testing for the above list-like API for NoQuiteABase `Table`"
   ]
  },
  {
   "cell_type": "code",
   "execution_count": 45,
   "metadata": {},
   "outputs": [],
   "source": [
    "assert len(users) == 11\n",
    "assert users[1]['name'] == \"Dunn\""
   ]
  },
  {
   "attachments": {},
   "cell_type": "markdown",
   "metadata": {},
   "source": [
    "## Update"
   ]
  },
  {
   "attachments": {},
   "cell_type": "markdown",
   "metadata": {},
   "source": [
    "We are going to add `update` functionality to `Users` class like\n",
    "the `UPDATE` command in SQL\n",
    "```sql\n",
    "UPDATE users\n",
    "  SET num_friends = 3\n",
    "  WHERE user_id = 1;\n",
    "```\n",
    "\n",
    "See the implementation to the `Users` class to the previous section\n",
    "\n",
    "Testing for `update` method"
   ]
  },
  {
   "cell_type": "code",
   "execution_count": 46,
   "metadata": {},
   "outputs": [],
   "source": [
    "assert users[1]['num_friends'] == 2              # Original value\n",
    "\n",
    "users.update({'num_friends': 3},                 # Set num_friends = 3\n",
    "              lambda row: row['user_id'] == 1)   # in rows where user_id == 1\n",
    "\n",
    "assert users[1]['num_friends'] == 3              # Update value"
   ]
  },
  {
   "attachments": {},
   "cell_type": "markdown",
   "metadata": {},
   "source": [
    "## DELETE"
   ]
  },
  {
   "attachments": {},
   "cell_type": "markdown",
   "metadata": {},
   "source": [
    "- A **dangerous** way deletes every row from a table\n",
    "  ```sql\n",
    "  DELETE FROM users;\n",
    "  ```\n",
    "\n",
    "- **less* dangerous ways add a `WHERE` clause and deletes only rows\n",
    "  that match a certain condition\n",
    "  ```sql\n",
    "  DELETE FROM users WHERE user_id = 1;\n",
    "  ```\n",
    "\n",
    "See the implementation to `Users` class in the previous section.\n",
    "\n",
    "Testing the `delete` method\n",
    "```python\n",
    "# We're not actually going to run these\n",
    "users.delete(lambda row: row[\"user_id\"] == 1)     # Deletes rows with user_id == 1\n",
    "users.delete()\n",
    "```"
   ]
  },
  {
   "attachments": {},
   "cell_type": "markdown",
   "metadata": {},
   "source": [
    "## SELECT"
   ]
  },
  {
   "attachments": {},
   "cell_type": "markdown",
   "metadata": {},
   "source": [
    "We implement the following `SELECT`, `WHERE`, and `LIMIT` commands\n",
    "in our `Table` class \n",
    "\n",
    "```sql\n",
    "SELECT * FROM users;                              -- get the entire contents\n",
    "SELECT * FROM users LIMIT 2;                      -- get the first two rows\n",
    "SELECT user_id FROM users;                        -- only get specific columns\n",
    "SELECT user_id FROM users WHERE name = \"Dunn\";    -- only get specific row\n",
    "```\n",
    "\n",
    "```sql\n",
    "-- get name column and compute its length then store it into a new column\n",
    "-- with name_length\n",
    "SELECT LENGTH(name) AS name_length FROM users; \n",
    "```\n",
    "\n",
    "Testing the implementation of `.select`, `.where` and `.limit` method"
   ]
  },
  {
   "cell_type": "code",
   "execution_count": 48,
   "metadata": {},
   "outputs": [],
   "source": [
    "# SELECT * FROM users;\n",
    "all_users = users.select()\n",
    "assert len(all_users) == 11\n",
    "\n",
    "# SELECT * FROM users LIMIT 2;\n",
    "two_users = users.limit(2)\n",
    "assert len(two_users) == 2\n",
    "\n",
    "# SELECT user_id FROM USERS;\n",
    "just_ids = users.select(keep_columns=[\"user_id\"])\n",
    "assert just_ids.columns == ['user_id']\n",
    "\n",
    "# SELECT user_id FROM users WHERE name == \"Dunn\";\n",
    "dunn_ids = (\n",
    "  users\n",
    "  .where(lambda row: row[\"name\"] == \"Dunn\")\n",
    "  .select(keep_columns=[\"user_id\"])\n",
    ")\n",
    "\n",
    "# SELECT LENGTH(name) AS name_length FROM users;\n",
    "def name_length(row) -> int: return len(row[\"name\"])\n",
    "\n",
    "name_length = users.select(keep_columns=[],\n",
    "                            additional_columns={\"name_length\": name_length})\n",
    "assert name_length[0]['name_length'] == len(\"Hero\")"
   ]
  },
  {
   "attachments": {},
   "cell_type": "markdown",
   "metadata": {},
   "source": []
  }
 ],
 "metadata": {
  "kernelspec": {
   "display_name": "base",
   "language": "python",
   "name": "python3"
  },
  "language_info": {
   "codemirror_mode": {
    "name": "ipython",
    "version": 3
   },
   "file_extension": ".py",
   "mimetype": "text/x-python",
   "name": "python",
   "nbconvert_exporter": "python",
   "pygments_lexer": "ipython3",
   "version": "3.8.10"
  },
  "orig_nbformat": 4
 },
 "nbformat": 4,
 "nbformat_minor": 2
}
