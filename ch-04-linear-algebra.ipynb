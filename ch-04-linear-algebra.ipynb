{
 "cells": [
  {
   "cell_type": "code",
   "execution_count": 27,
   "metadata": {},
   "outputs": [],
   "source": [
    "import numpy as np\n",
    "\n",
    "from typing import List, Tuple, Callable"
   ]
  },
  {
   "cell_type": "code",
   "execution_count": 4,
   "metadata": {},
   "outputs": [],
   "source": [
    "%load_ext autoreload\n",
    "%autoreload 2 "
   ]
  },
  {
   "cell_type": "markdown",
   "metadata": {},
   "source": [
    "# Linear Algebra"
   ]
  },
  {
   "cell_type": "markdown",
   "metadata": {},
   "source": [
    "Linear algebra is the branch of mathematics that deals with _vector spaces_. \n",
    "This is not complete description of linear algebra. It only showed you   \n",
    "how to perform calculation involving vectors and matrices in Python.\n",
    "\n",
    "To understand linear algebra, you should consult the standard textbook \n",
    "in Linear Algebra such as (Straing, 2023) - Introduction to Linear Algebra 6th Ed."
   ]
  },
  {
   "cell_type": "markdown",
   "metadata": {},
   "source": [
    "## Vectors"
   ]
  },
  {
   "cell_type": "markdown",
   "metadata": {},
   "source": [
    "Abstractly, _vectors_ are objects that can be added together to form \n",
    "a new vectors and that can be multiplied by _scalars_ (i.e., numbers), \n",
    "also to form new vectors."
   ]
  },
  {
   "cell_type": "markdown",
   "metadata": {},
   "source": [
    "To represent vector in Python, first we can define type of vector\n",
    "using `List[float]`. It means that our vector contains of floating point\n",
    "numbers (decimal numbers).\n",
    "\n",
    "As you can see in the below, that we can represent vector in mathematics\n",
    "using `list` data structure in Python."
   ]
  },
  {
   "cell_type": "code",
   "execution_count": 5,
   "metadata": {},
   "outputs": [],
   "source": [
    "Vector = List[float]\n",
    "\n",
    "height_weight_age = [70,    # inches,\n",
    "                     170,   # pounds\n",
    "                     40]    # years\n",
    "grades = [95,   # exam1\n",
    "          80,   # exam2\n",
    "          75,   # exam3\n",
    "          62]   # exam4"
   ]
  },
  {
   "cell_type": "markdown",
   "metadata": {},
   "source": [
    "Define a function to perform vector addition"
   ]
  },
  {
   "cell_type": "code",
   "execution_count": 7,
   "metadata": {},
   "outputs": [],
   "source": [
    "def add(v: Vector, w: Vector) -> Vector:\n",
    "  \"\"\"Adds corresponding elements\"\"\"\n",
    "  assert len(v) == len(w), \"vectors must be the same length\"\n",
    "  return [v_i + w_i for v_i, w_i in zip(v, w)]"
   ]
  },
  {
   "cell_type": "code",
   "execution_count": 13,
   "metadata": {},
   "outputs": [],
   "source": [
    "assert add([1, 2, 3], [4, 5, 6]) == [5, 7, 9]"
   ]
  },
  {
   "cell_type": "markdown",
   "metadata": {},
   "source": [
    "Define a function to perform vector subtraction"
   ]
  },
  {
   "cell_type": "code",
   "execution_count": 8,
   "metadata": {},
   "outputs": [],
   "source": [
    "def subtract(v: Vector, w: Vector) -> Vector:\n",
    "  \"\"\"Subtracts corresponding elements\"\"\"\n",
    "  assert len(v) == len(w), \"vectors must be the same length\"\n",
    "  return [v_i - w_i for v_i, w_i in zip(v, w)]"
   ]
  },
  {
   "cell_type": "code",
   "execution_count": 14,
   "metadata": {},
   "outputs": [],
   "source": [
    "assert subtract([5, 7, 9], [4, 5, 6]) == [1, 2, 3]"
   ]
  },
  {
   "cell_type": "markdown",
   "metadata": {},
   "source": [
    "Define a vector sum for a given a list of $m$ vectors $\\mathbf{v}_i$\n",
    "$$\n",
    "\\begin{align*}\n",
    "  \\sum_{i=1}^m \\mathbf{v}_i \n",
    "    &= \\mathbf{v}_1 + \\mathbf{v}_2 + \\ldots + \\mathbf{v}_m \\\\\n",
    "    &= \\begin{bmatrix} v_{1, 1} \\\\ v_{1, 2} \\\\ \\vdots \\\\ v_{1, n} \\end{bmatrix} \n",
    "       + \\begin{bmatrix} v_{2, 1} \\\\ v_{2, 2} \\\\ \\vdots \\\\ v_{2, n} \\end{bmatrix}\n",
    "       + \\ldots\n",
    "       + \\begin{bmatrix} v_{m, 1} \\\\ v_{m, 2} \\\\ \\vdots \\\\ v_{m, n} \\end{bmatrix} \\\\\n",
    "    &= \\begin{bmatrix}\n",
    "      \\sum_{i=1}^m v_{i, 1} \\\\[6pt]\n",
    "      \\sum_{i=1}^m v_{i, 2} \\\\[6pt]\n",
    "      \\vdots \\\\[6pt]\n",
    "      \\sum_{i=1}^m v_{i, n} \n",
    "    \\end{bmatrix}\n",
    "\\end{align*}\n",
    "$$"
   ]
  },
  {
   "cell_type": "code",
   "execution_count": 9,
   "metadata": {},
   "outputs": [],
   "source": [
    "def vector_sum(vectors: List[Vector]) -> Vector:\n",
    "  \"\"\"Sum all corresponding elements\"\"\"\n",
    "  # Check that vectors is not empty\n",
    "  assert vectors, \"no vectors provided!\"\n",
    "\n",
    "  # Check the vectors are all the same size\n",
    "  num_elements = len(vectors[0])\n",
    "  assert all(len(v) == num_elements for v in vectors), \"different sizes!\"\n",
    "\n",
    "  # the i-th element of the result is the sum of every vector[i]\n",
    "  return [sum(vector[i] for vector in vectors)\n",
    "          for i in range(num_elements)]"
   ]
  },
  {
   "cell_type": "code",
   "execution_count": 15,
   "metadata": {},
   "outputs": [],
   "source": [
    "assert vector_sum([[1, 2], [3, 4], [5, 6], [7, 8]]) == [16, 20]"
   ]
  },
  {
   "cell_type": "markdown",
   "metadata": {},
   "source": [
    "Define a multiplcation of a vector by a scalar"
   ]
  },
  {
   "cell_type": "code",
   "execution_count": 10,
   "metadata": {},
   "outputs": [],
   "source": [
    "def scalar_multiply(c: float, v: Vector) -> Vector:\n",
    "  \"\"\"Multiplies every element by c\"\"\" \n",
    "  return [c * v_i for v_i in v]"
   ]
  },
  {
   "cell_type": "code",
   "execution_count": 16,
   "metadata": {},
   "outputs": [],
   "source": [
    "assert scalar_multiply(2, [1, 2, 3]) == [2, 4, 6]"
   ]
  },
  {
   "cell_type": "markdown",
   "metadata": {},
   "source": [
    "Define a componentwise means of a list of (same-sized) vectors"
   ]
  },
  {
   "cell_type": "code",
   "execution_count": 11,
   "metadata": {},
   "outputs": [],
   "source": [
    "def vector_mean(vectors: List[Vector]) -> Vector:\n",
    "  \"\"\"Computes the element-wise average\"\"\" \n",
    "  n = len(vectors)\n",
    "  return scalar_multiply(1/n, vector_sum(vectors))"
   ]
  },
  {
   "cell_type": "code",
   "execution_count": 17,
   "metadata": {},
   "outputs": [],
   "source": [
    "assert vector_mean([[1, 2], [3, 4], [5, 6]]) == [3, 4]"
   ]
  },
  {
   "cell_type": "markdown",
   "metadata": {},
   "source": [
    "Define a dot product between two vectors (the sum of their componentwise products)"
   ]
  },
  {
   "cell_type": "code",
   "execution_count": 12,
   "metadata": {},
   "outputs": [],
   "source": [
    "def dot(v: Vector, w: Vector) -> float:\n",
    "  \"\"\"Computes v_1 * w_1 + ... + v_n * w_n\"\"\"\n",
    "  assert len(v) == len(w), \"vectors must be the same length\"\n",
    "\n",
    "  return sum(v_i * w_i for v_i, w_i in zip(v, w))"
   ]
  },
  {
   "cell_type": "code",
   "execution_count": 18,
   "metadata": {},
   "outputs": [],
   "source": [
    "assert dot([1, 2, 3], [4, 5, 6]) == 32   # 1*4 + 2*5 + 3*6"
   ]
  },
  {
   "cell_type": "markdown",
   "metadata": {},
   "source": [
    "Define a functino to compute a vector's _sum of squares_"
   ]
  },
  {
   "cell_type": "code",
   "execution_count": 19,
   "metadata": {},
   "outputs": [],
   "source": [
    "def sum_of_squares(v: Vector) -> float:\n",
    "  \"\"\"Returns v_1 * v_1 + ... + v_n * v_n\"\"\"\n",
    "  return dot(v, v)"
   ]
  },
  {
   "cell_type": "code",
   "execution_count": 20,
   "metadata": {},
   "outputs": [],
   "source": [
    "assert sum_of_squares([1, 2, 3]) == 14    # 1*1 + 2*2 + 3*3"
   ]
  },
  {
   "cell_type": "markdown",
   "metadata": {},
   "source": [
    "Define a function to compute the _magnitude_ (or length) of a vector"
   ]
  },
  {
   "cell_type": "code",
   "execution_count": 21,
   "metadata": {},
   "outputs": [],
   "source": [
    "def magnitude(v: Vector) -> float:\n",
    "  \"\"\"Returns the magnitude (or length) of v\"\"\"\n",
    "  return np.sqrt(sum_of_squares(v))"
   ]
  },
  {
   "cell_type": "code",
   "execution_count": 22,
   "metadata": {},
   "outputs": [],
   "source": [
    "assert magnitude([3, 4]) == 5"
   ]
  },
  {
   "cell_type": "markdown",
   "metadata": {},
   "source": [
    "Define a function to compute a distance (Euclidean metric) between two vectors.  \n",
    "We can use the definition of Euclidean metric to construct the distance, or \n",
    "use the previous function `magnitude` and `subtract`"
   ]
  },
  {
   "cell_type": "code",
   "execution_count": 25,
   "metadata": {},
   "outputs": [],
   "source": [
    "def squared_distance(v: Vector, w: Vector) -> float:\n",
    "  \"\"\"Computes (v_1 - w_1)**2 + ... + (v_n - w_n)**2\"\"\"\n",
    "  return sum_of_squares(subtract(v, w))\n",
    "\n",
    "def distance(v: Vector, w: Vector) -> float:    \n",
    "  \"\"\"Computes the distance between v and w\"\"\"\n",
    "  return np.sqrt(squared_distance(v, w))\n",
    "\n",
    "def distance_with_magnitude(v: Vector, w: Vector) -> float:\n",
    "  return magnitude(subtract(v, w))"
   ]
  },
  {
   "cell_type": "markdown",
   "metadata": {},
   "source": [
    "## Matrices"
   ]
  },
  {
   "cell_type": "markdown",
   "metadata": {},
   "source": [
    "A _matrix_ is a two-dimensional collection of numbers.   \n",
    "We can represent a mtrix in Python using a nested list (a list inside a list or two-dimensional\n",
    "list)"
   ]
  },
  {
   "cell_type": "code",
   "execution_count": 29,
   "metadata": {},
   "outputs": [],
   "source": [
    "# Another type alias\n",
    "Matrix = List[List[float]]\n",
    "\n",
    "A = [[1, 2, 3],   # A has 2 rows and 3 columns\n",
    "     [4, 5, 6]]\n",
    "\n",
    "B = [[1, 2],    # B has 3 rows and 2 columns\n",
    "     [3, 4],\n",
    "     [5, 6]]"
   ]
  },
  {
   "cell_type": "markdown",
   "metadata": {},
   "source": [
    "Define a function to get the shape (dimension) of a matrix"
   ]
  },
  {
   "cell_type": "code",
   "execution_count": 30,
   "metadata": {},
   "outputs": [],
   "source": [
    "def shape(A: Matrix) -> Tuple[int, int]:\n",
    "  \"\"\"Returns (# of rows of A, # of columns of A)\"\"\"\n",
    "  num_rows = len(A)\n",
    "  num_cols = len(A[0]) if A else 0      # number of elements in first row\n",
    "  return num_rows, num_cols"
   ]
  },
  {
   "cell_type": "code",
   "execution_count": 31,
   "metadata": {},
   "outputs": [],
   "source": [
    "assert shape([[1, 2, 3], [4, 5, 6]]) == (2, 3)  # 2 rows, 3 columns"
   ]
  },
  {
   "cell_type": "markdown",
   "metadata": {},
   "source": [
    "Define a function to get each row or each column for a given index\n",
    "of row or column"
   ]
  },
  {
   "cell_type": "code",
   "execution_count": 33,
   "metadata": {},
   "outputs": [],
   "source": [
    "def get_row(A: Matrix, i: int) -> Vector:\n",
    "  \"\"\"Returns the i-th row of A (as a Vector)\"\"\"\n",
    "  return A[i]\n",
    "\n",
    "def get_column(A: Matrix, j: int) -> Vector:\n",
    "  \"\"\"Returns the j-th column of A (as a Vector)\"\"\"\n",
    "  return [A_i[j]          # jth element of row A_i\n",
    "          for A_i in A]   # for each row A_i"
   ]
  },
  {
   "cell_type": "markdown",
   "metadata": {},
   "source": [
    "Define a function to construct a matrix if it is given a function\n",
    "for calculating each element"
   ]
  },
  {
   "cell_type": "code",
   "execution_count": 34,
   "metadata": {},
   "outputs": [],
   "source": [
    "def make_matrix(num_rows: int, num_cols: int,\n",
    "  entry_fn: Callable[[int, int], float]) -> Matrix:\n",
    "\n",
    "  \"\"\" \n",
    "  Return a num_rows x num_cols matrix whose (i,j)-th entry\n",
    "  is entry_fn(i,j)\n",
    "  \"\"\"\n",
    "  return [[entry_fn(i,j)                  # given i, create a list\n",
    "            for j in range(num_cols)]     # [entry_fn(i, 0), ...]\n",
    "              for i in range(num_rows)]   # create one list for each i  \n"
   ]
  },
  {
   "cell_type": "markdown",
   "metadata": {},
   "source": [
    "Define a function to create an identity matrix"
   ]
  },
  {
   "cell_type": "code",
   "execution_count": 35,
   "metadata": {},
   "outputs": [],
   "source": [
    "def identity_matrix(n: int) -> Matrix:\n",
    "  \"\"\"Returns the n x n identity matrix\"\"\"\n",
    "  return make_matrix(n, n, lambda i, j: 1 if i == j else 0)"
   ]
  },
  {
   "cell_type": "code",
   "execution_count": 37,
   "metadata": {},
   "outputs": [],
   "source": [
    "assert identity_matrix(5) == [[1, 0, 0, 0, 0],\n",
    "                              [0, 1, 0, 0, 0],\n",
    "                              [0, 0, 1, 0, 0],\n",
    "                              [0, 0, 0, 1, 0],\n",
    "                              [0, 0, 0, 0, 1]]"
   ]
  },
  {
   "cell_type": "markdown",
   "metadata": {},
   "source": [
    "Remember how to construct a matrix in Python, \n",
    "because it is very useful.   \n",
    "For example if you have a data of heights, weigths,\n",
    "and age of 1,000 people, you can represent it as a matrix\n",
    "with the shape `(1000,3)`\n",
    "\n",
    "\n"
   ]
  },
  {
   "cell_type": "markdown",
   "metadata": {},
   "source": [
    "In the previous chapter (chapter 01), we represent\n",
    "the friendship by a list of tuple of two elements"
   ]
  },
  {
   "cell_type": "code",
   "execution_count": 38,
   "metadata": {},
   "outputs": [],
   "source": [
    "friendships = [(0, 1), (0, 2), (1, 2), (1, 3), (2, 3), (3, 4),\n",
    "               (4, 5), (5, 6), (5, 7), (6, 8), (7, 8), (8, 9)]"
   ]
  },
  {
   "cell_type": "markdown",
   "metadata": {},
   "source": [
    "Using a matrix, we can turn that representation into the following (this is called _adjacency matrix_)"
   ]
  },
  {
   "cell_type": "code",
   "execution_count": 40,
   "metadata": {},
   "outputs": [],
   "source": [
    "#           user  0  1  2  3  4  5  6  7  8  9\n",
    "# \n",
    "friend_matrix = [[0, 1, 1, 0, 0, 0, 0, 0, 0, 0], # user 0\n",
    "                 [1, 0, 1, 1, 0, 0, 0, 0, 0, 0], # user 1\n",
    "                 [1, 1, 0, 1, 0, 0, 0, 0, 0, 0], # user 2\n",
    "                 [0, 1, 1, 0, 1, 0, 0, 0, 0, 0], # user 3\n",
    "                 [0, 0, 0, 1, 0, 1, 0, 0, 0, 0], # user 4\n",
    "                 [0, 0, 0, 0, 1, 0, 1, 1, 0, 0], # user 5\n",
    "                 [0, 0, 0, 0, 0, 1, 0, 0, 1, 0], # user 6\n",
    "                 [0, 0, 0, 0, 0, 1, 0, 0, 1, 0], # user 7\n",
    "                 [0, 0, 0, 0, 0, 0, 1, 1, 0, 1], # user 8\n",
    "                 [0, 0, 0, 0, 0, 0, 0, 0, 1, 0]] # user 9"
   ]
  },
  {
   "cell_type": "markdown",
   "metadata": {},
   "source": [
    "Using matrix representation, it is much quicker to check\n",
    "whether two nodes are connected (two people are friends each other)"
   ]
  },
  {
   "cell_type": "code",
   "execution_count": 41,
   "metadata": {},
   "outputs": [],
   "source": [
    "assert friend_matrix[0][2] == 1, \"0 and 2 are friends\"\n",
    "assert friend_matrix[0][8] == 0, \"0 and 8 are not friends\""
   ]
  },
  {
   "cell_type": "markdown",
   "metadata": {},
   "source": [
    "To find a node's connections, you only need to inspect\n",
    "the column (or the row) corresponding to that node"
   ]
  },
  {
   "cell_type": "code",
   "execution_count": 42,
   "metadata": {},
   "outputs": [
    {
     "data": {
      "text/plain": [
       "[4, 6, 7]"
      ]
     },
     "execution_count": 42,
     "metadata": {},
     "output_type": "execute_result"
    }
   ],
   "source": [
    "# only need to look at one row (friend of user 5)\n",
    "friends_of_five = [i for i, is_friend in enumerate(friend_matrix[5])\n",
    "                   if is_friend]\n",
    "friends_of_five"
   ]
  },
  {
   "cell_type": "markdown",
   "metadata": {},
   "source": [
    "This matrix representation is convenient for a small graph, \n",
    "but for a large connection for example like in social media,\n",
    "we have to use the previous representation using tuple."
   ]
  },
  {
   "cell_type": "markdown",
   "metadata": {},
   "source": []
  }
 ],
 "metadata": {
  "kernelspec": {
   "display_name": "base",
   "language": "python",
   "name": "python3"
  },
  "language_info": {
   "codemirror_mode": {
    "name": "ipython",
    "version": 3
   },
   "file_extension": ".py",
   "mimetype": "text/x-python",
   "name": "python",
   "nbconvert_exporter": "python",
   "pygments_lexer": "ipython3",
   "version": "3.11.5"
  }
 },
 "nbformat": 4,
 "nbformat_minor": 2
}
