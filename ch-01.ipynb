{
 "cells": [
  {
   "cell_type": "code",
   "execution_count": 1,
   "metadata": {},
   "outputs": [],
   "source": [
    "import networkx as nx\n",
    "import matplotlib.pyplot as plt\n",
    "import numpy as np\n",
    "\n",
    "from IPython.display import display\n",
    "from collections import Counter, defaultdict"
   ]
  },
  {
   "cell_type": "code",
   "execution_count": 2,
   "metadata": {},
   "outputs": [],
   "source": [
    "plt.rcParams.update(plt.rcParamsDefault)\n",
    "plt.rcParams.update({\n",
    "  'font.size': 16,\n",
    "  'grid.alpha': 0.25})"
   ]
  },
  {
   "attachments": {},
   "cell_type": "markdown",
   "metadata": {},
   "source": [
    "# Motivating Hypotetical: Data Sciencester "
   ]
  },
  {
   "attachments": {},
   "cell_type": "markdown",
   "metadata": {},
   "source": [
    "## Finding Key Connectors"
   ]
  },
  {
   "cell_type": "code",
   "execution_count": 4,
   "metadata": {},
   "outputs": [],
   "source": [
    "users = [\n",
    "  {\"id\": 0, \"name\": \"Hero\"},\n",
    "  {\"id\": 1, \"name\": \"Dunn\"},\n",
    "  {\"id\": 2, \"name\": \"Sue\"},\n",
    "  {\"id\": 3, \"name\": \"Chi\"},\n",
    "  {\"id\": 4, \"name\": \"Thor\"},\n",
    "  {\"id\": 5, \"name\": \"Clive\"},\n",
    "  {\"id\": 6, \"name\": \"Hicks\"},\n",
    "  {\"id\": 7, \"name\": \"Devin\"},\n",
    "  {\"id\": 8, \"name\": \"Kate\"},\n",
    "  {\"id\": 9, \"name\": \"Klein\"}\n",
    "]"
   ]
  },
  {
   "cell_type": "code",
   "execution_count": 5,
   "metadata": {},
   "outputs": [],
   "source": [
    "friendship_pairs = [(0, 1), (0, 2), (1, 2), (1, 3), (2, 3), (3, 4),\n",
    "                    (4, 5), (5, 6), (5, 7), (6, 8), (7, 8), (8, 9)]"
   ]
  },
  {
   "attachments": {},
   "cell_type": "markdown",
   "metadata": {},
   "source": [
    "### Draw a graph for the DataSciencester network"
   ]
  },
  {
   "cell_type": "code",
   "execution_count": 20,
   "metadata": {},
   "outputs": [
    {
     "name": "stdout",
     "output_type": "stream",
     "text": [
      "The DataSciencester network\n"
     ]
    },
    {
     "data": {
      "image/png": "[encoded data removed]",
      "text/plain": [
       "<Figure size 1000x1000 with 1 Axes>"
      ]
     },
     "metadata": {},
     "output_type": "display_data"
    }
   ],
   "source": [
    "G = nx.Graph()\n",
    "[G.add_node(user[\"id\"]) for user in users]\n",
    "G.add_edges_from(friendship_pairs)\n",
    "\n",
    "fig, ax = plt.subplots(figsize=(10, 10))\n",
    "\n",
    "node_pos = {\n",
    "  0: (0, 2), 1: (1, 1), 2: (1, 3), 3: (2, 2), 4: (3, 2),\n",
    "  5: (4, 2), 6: (5, 3), 7:(5, 1), 8: (6, 2), 9: (7, 2)}\n",
    "\n",
    "nx.draw(G, pos=node_pos, with_labels=True, font_weight=\"bold\", \n",
    "  node_color=\"#cfe2f3\", node_size=700, \n",
    "  edgecolors=\"k\", ax=ax)\n",
    "\n",
    "# nx.draw(G, with_labels=True, font_weight=\"bold\", \n",
    "#   node_color=\"#cfe2f3\", node_size=700, \n",
    "#   edgecolors=\"k\", ax=ax)\n",
    "\n",
    "ax.set_aspect(\"equal\")\n",
    "ax.set_ylim([0.6, 3.5])\n",
    "# ax.set_title(\"The DataSciencester network\")\n",
    "\n",
    "print(\"The DataSciencester network\")\n",
    "plt.show(fig)"
   ]
  },
  {
   "cell_type": "code",
   "execution_count": 21,
   "metadata": {},
   "outputs": [
    {
     "data": {
      "text/plain": [
       "{0: [1, 2],\n",
       " 1: [0, 2, 3],\n",
       " 2: [0, 1, 3],\n",
       " 3: [1, 2, 4],\n",
       " 4: [3, 5],\n",
       " 5: [4, 6, 7],\n",
       " 6: [5, 8],\n",
       " 7: [5, 8],\n",
       " 8: [6, 7, 9],\n",
       " 9: [8]}"
      ]
     },
     "execution_count": 21,
     "metadata": {},
     "output_type": "execute_result"
    }
   ],
   "source": [
    "# Initialize the dict with an empty list for each user id:\n",
    "friendships = {user[\"id\"]: [] for user in users}\n",
    "\n",
    "# And loop over the friendship pairs to populate it:\n",
    "for i, j in friendship_pairs:\n",
    "  friendships[i].append(j)      # Add j as a friend of user i\n",
    "  friendships[j].append(i)      # Add i as a friend of user j\n",
    "\n",
    "friendships"
   ]
  },
  {
   "attachments": {},
   "cell_type": "markdown",
   "metadata": {},
   "source": [
    "### Average connections\n",
    "First we find the *total* number of connections, by summing up the lengths of all the `friends` list:"
   ]
  },
  {
   "cell_type": "code",
   "execution_count": 24,
   "metadata": {},
   "outputs": [
    {
     "name": "stdout",
     "output_type": "stream",
     "text": [
      "total_connections: 24\n",
      "avg_connections: 2.4\n"
     ]
    }
   ],
   "source": [
    "def number_of_friends(user):\n",
    "  \"\"\"How many friends does `user` have?\"\"\" \n",
    "  user_id = user[\"id\"]\n",
    "  friend_ids = friendships[user_id]\n",
    "  return len(friend_ids)\n",
    "\n",
    "total_connections = sum(number_of_friends(user) for user in users)\n",
    "print(f\"total_connections: {total_connections}\")\n",
    "\n",
    "num_users = len(users)                              # length of the users list\n",
    "avg_connections = total_connections / num_users     # 24 / 10 == 2.4\n",
    "print(f\"avg_connections: {avg_connections}\")\n"
   ]
  },
  {
   "attachments": {},
   "cell_type": "markdown",
   "metadata": {},
   "source": [
    "Find the most connected people"
   ]
  },
  {
   "cell_type": "code",
   "execution_count": 9,
   "metadata": {},
   "outputs": [
    {
     "name": "stdout",
     "output_type": "stream",
     "text": [
      "num_friends_by_id: [(1, 3), (2, 3), (3, 3), (5, 3), (8, 3), (0, 2), (4, 2), (6, 2), (7, 2), (9, 1)]\n"
     ]
    }
   ],
   "source": [
    "# Create a list (user_id, number_of_friends).\n",
    "num_friends_by_id = [(user[\"id\"], number_of_friends(user)) for user in users]\n",
    "\n",
    "num_friends_by_id.sort(\n",
    "  key=lambda id_and_friends: id_and_friends[1],\n",
    "  reverse=True)\n",
    "\n",
    "print(f\"num_friends_by_id: {num_friends_by_id}\")"
   ]
  },
  {
   "cell_type": "markdown",
   "metadata": {},
   "source": [
    "### Draw the network with degree centrality"
   ]
  },
  {
   "cell_type": "code",
   "execution_count": 10,
   "metadata": {},
   "outputs": [
    {
     "name": "stdout",
     "output_type": "stream",
     "text": [
      "The DataSciencester network sized by degree\n"
     ]
    },
    {
     "data": {
      "image/png": "[encoded data removed]",
      "text/plain": [
       "<Figure size 1000x1000 with 1 Axes>"
      ]
     },
     "metadata": {},
     "output_type": "display_data"
    }
   ],
   "source": [
    "fig, ax = plt.subplots(figsize=(10, 10))\n",
    "\n",
    "friend_size_id_sort = num_friends_by_id.copy()\n",
    "friend_size_id_sort.sort(key= lambda id_and_friends: id_and_friends[0])\n",
    "\n",
    "node_pos = {\n",
    "  0: (0, 2), 1: (1, 1), 2: (1, 3), 3: (2, 2), 4: (3, 2),\n",
    "  5: (4, 2), 6: (5, 3), 7:(5, 1), 8: (6, 2), 9: (7, 2)}\n",
    "nx.draw(G, pos=node_pos, nodelist=G.nodes, \n",
    "  node_size=[300*size**2 for (_, size) in friend_size_id_sort],\n",
    "  with_labels=True, font_weight=\"bold\", \n",
    "  node_color=\"#cfe2f3\", edgecolors=\"k\", ax=ax)\n",
    "\n",
    "ax.set_aspect(\"equal\")\n",
    "ax.set_ylim([0.5, 3.5])\n",
    "print(\"The DataSciencester network sized by degree\")\n",
    "plt.show(fig)"
   ]
  },
  {
   "cell_type": "markdown",
   "metadata": {},
   "source": [
    "## Data Scientists You May Know"
   ]
  },
  {
   "cell_type": "code",
   "execution_count": 11,
   "metadata": {},
   "outputs": [
    {
     "data": {
      "text/plain": [
       "[0, 2, 3, 0, 1, 3]"
      ]
     },
     "execution_count": 11,
     "metadata": {},
     "output_type": "execute_result"
    }
   ],
   "source": [
    "def foaf_ids_bad(user):\n",
    "  \"\"\"foaf is short for \"friend of a friend\" \"\"\"\n",
    "  return [foaf_id \n",
    "          for friend_id in friendships[user[\"id\"]]\n",
    "            for foaf_id in friendships[friend_id]]\n",
    "\n",
    "foaf_ids_bad(users[0])"
   ]
  },
  {
   "attachments": {},
   "cell_type": "markdown",
   "metadata": {},
   "source": [
    "It  includes user 0 twice, since Hero is indeed friends with both of his friends includes users 1 and 2, although they are both friends with Hero already.\n",
    "And it includes user 3 twice, as Chi is reachable through two different friends:"
   ]
  },
  {
   "cell_type": "code",
   "execution_count": 12,
   "metadata": {},
   "outputs": [
    {
     "name": "stdout",
     "output_type": "stream",
     "text": [
      "[1, 2]\n",
      "[0, 2, 3]\n",
      "[0, 1, 3]\n"
     ]
    }
   ],
   "source": [
    "print(friendships[0])   # we have the friends of user 0: 1 and 2\n",
    "\n",
    "# input the friends of user 0\n",
    "print(friendships[1])\n",
    "print(friendships[2])"
   ]
  },
  {
   "attachments": {},
   "cell_type": "markdown",
   "metadata": {},
   "source": [
    "Produce a *count* of mutual friends and exclude people already know to the user:"
   ]
  },
  {
   "cell_type": "code",
   "execution_count": 13,
   "metadata": {},
   "outputs": [],
   "source": [
    "def friends_of_friends(user):\n",
    "  user_id = user[\"id\"]\n",
    "  return Counter(\n",
    "    foaf_id \n",
    "    for friend_id in friendships[user_id]           # For each of my friends\n",
    "      for foaf_id in friendships[friend_id]         # find their friends\n",
    "        if foaf_id != user_id                       # who aren't me\n",
    "          and foaf_id not in friendships[user_id]   # and aren't my friends\n",
    "  )"
   ]
  },
  {
   "cell_type": "code",
   "execution_count": 14,
   "metadata": {},
   "outputs": [
    {
     "name": "stdout",
     "output_type": "stream",
     "text": [
      "Counter({3: 2})\n",
      "Counter({0: 2, 5: 1})\n"
     ]
    }
   ],
   "source": [
    "print(friends_of_friends(users[0]))\n",
    "print(friends_of_friends(users[3]))"
   ]
  },
  {
   "attachments": {},
   "cell_type": "markdown",
   "metadata": {},
   "source": [
    "This correctly tells Hero (`id` 0) has two mutual friends with Chi (`id` 3).\n",
    "\n",
    "The second print out tell us that Chi (`id` 3) has two mutual friends with Hero (`id` 0) but only one mutual friend with Clive (`id` 5)"
   ]
  },
  {
   "attachments": {},
   "cell_type": "markdown",
   "metadata": {},
   "source": [
    "The next step uses the data of a list of pairs of `user_id` and `interest`"
   ]
  },
  {
   "cell_type": "code",
   "execution_count": 28,
   "metadata": {},
   "outputs": [],
   "source": [
    "interests = [\n",
    "  (0, \"Hadoop\"), (0, \"Big Data\"), (0, \"HBase\"), (0, \"Java\"),\n",
    "  (0, \"Spark\"), (0, \"Storm\"), (0, \"Cassandra\"),\n",
    "  (1, \"NoSQL\"), (1, \"MongoDB\"), (1, \"Cassandra\"), (1, \"HBase\"),\n",
    "  (1, \"Postgres\"), (2, \"Python\"), (2, \"scikit-learn\"), (2, \"scipy\"),\n",
    "  (2, \"numpy\"), (2, \"statsmodels\"), (2, \"pandas\"), (3, \"R\"), (3, \"Python\"),\n",
    "  (3, \"statistics\"), (3, \"regression\"), (3, \"probability\"),\n",
    "  (4, \"machine learning\"), (4, \"regression\"), (4, \"decision trees\"),\n",
    "  (4, \"libsvm\"), (5, \"Python\"), (5, \"R\"), (5, \"Java\"), (5, \"C++\"),\n",
    "  (5, \"Haskell\"), (5, \"programming languages\"), (6, \"statistics\"),\n",
    "  (6, \"probability\"), (6, \"mathematics\"), (6, \"theory\"),\n",
    "  (7, \"machine learning\"), (7, \"scikit-learn\"), (7, \"Mahout\"),\n",
    "  (7, \"neural networks\"), (8, \"neural networks\"), (8, \"deep learning\"),\n",
    "  (8, \"Big Data\"), (8, \"artificial intelligence\"), (9, \"Hadoop\"),\n",
    "  (9, \"Java\"), (9, \"MapReduce\"), (9, \"Big Data\")\n",
    "]"
   ]
  },
  {
   "cell_type": "code",
   "execution_count": 29,
   "metadata": {},
   "outputs": [
    {
     "data": {
      "text/plain": [
       "[0, 9]"
      ]
     },
     "execution_count": 29,
     "metadata": {},
     "output_type": "execute_result"
    }
   ],
   "source": [
    "def data_scientists_who_like(target_interest):\n",
    "  \"\"\"Find the ids of all users who like the target interes.\"\"\"\n",
    "  return [user_id\n",
    "          for user_id, user_interest in interests\n",
    "            if user_interest == target_interest]\n",
    "\n",
    "data_scientists_who_like(\"Hadoop\")"
   ]
  },
  {
   "attachments": {},
   "cell_type": "markdown",
   "metadata": {},
   "source": [
    "The above function is not efficient because its examines the whole\n",
    "list of interests for every search. It is probably better off building\n",
    "and index from interest to users."
   ]
  },
  {
   "cell_type": "code",
   "execution_count": 31,
   "metadata": {},
   "outputs": [
    {
     "data": {
      "text/plain": [
       "defaultdict(list,\n",
       "            {'Hadoop': [0, 9],\n",
       "             'Big Data': [0, 8, 9],\n",
       "             'HBase': [0, 1],\n",
       "             'Java': [0, 5, 9],\n",
       "             'Spark': [0],\n",
       "             'Storm': [0],\n",
       "             'Cassandra': [0, 1],\n",
       "             'NoSQL': [1],\n",
       "             'MongoDB': [1],\n",
       "             'Postgres': [1],\n",
       "             'Python': [2, 3, 5],\n",
       "             'scikit-learn': [2, 7],\n",
       "             'scipy': [2],\n",
       "             'numpy': [2],\n",
       "             'statsmodels': [2],\n",
       "             'pandas': [2],\n",
       "             'R': [3, 5],\n",
       "             'statistics': [3, 6],\n",
       "             'regression': [3, 4],\n",
       "             'probability': [3, 6],\n",
       "             'machine learning': [4, 7],\n",
       "             'decision trees': [4],\n",
       "             'libsvm': [4],\n",
       "             'C++': [5],\n",
       "             'Haskell': [5],\n",
       "             'programming languages': [5],\n",
       "             'mathematics': [6],\n",
       "             'theory': [6],\n",
       "             'Mahout': [7],\n",
       "             'neural networks': [7, 8],\n",
       "             'deep learning': [8],\n",
       "             'artificial intelligence': [8],\n",
       "             'MapReduce': [9]})"
      ]
     },
     "execution_count": 31,
     "metadata": {},
     "output_type": "execute_result"
    }
   ],
   "source": [
    "# Keys are interests, values are lists of user_ids with that interest\n",
    "user_ids_by_interest = defaultdict(list)\n",
    "\n",
    "for user_id, interest in interests:\n",
    "  user_ids_by_interest[interest].append(user_id)\n",
    "\n",
    "user_ids_by_interest"
   ]
  },
  {
   "cell_type": "code",
   "execution_count": 32,
   "metadata": {},
   "outputs": [
    {
     "data": {
      "text/plain": [
       "defaultdict(list,\n",
       "            {0: ['Hadoop',\n",
       "              'Big Data',\n",
       "              'HBase',\n",
       "              'Java',\n",
       "              'Spark',\n",
       "              'Storm',\n",
       "              'Cassandra'],\n",
       "             1: ['NoSQL', 'MongoDB', 'Cassandra', 'HBase', 'Postgres'],\n",
       "             2: ['Python',\n",
       "              'scikit-learn',\n",
       "              'scipy',\n",
       "              'numpy',\n",
       "              'statsmodels',\n",
       "              'pandas'],\n",
       "             3: ['R', 'Python', 'statistics', 'regression', 'probability'],\n",
       "             4: ['machine learning', 'regression', 'decision trees', 'libsvm'],\n",
       "             5: ['Python',\n",
       "              'R',\n",
       "              'Java',\n",
       "              'C++',\n",
       "              'Haskell',\n",
       "              'programming languages'],\n",
       "             6: ['statistics', 'probability', 'mathematics', 'theory'],\n",
       "             7: ['machine learning',\n",
       "              'scikit-learn',\n",
       "              'Mahout',\n",
       "              'neural networks'],\n",
       "             8: ['neural networks',\n",
       "              'deep learning',\n",
       "              'Big Data',\n",
       "              'artificial intelligence'],\n",
       "             9: ['Hadoop', 'Java', 'MapReduce', 'Big Data']})"
      ]
     },
     "execution_count": 32,
     "metadata": {},
     "output_type": "execute_result"
    }
   ],
   "source": [
    "# Keys are user_ids, values are list of interest for that user_id\n",
    "interests_by_user_id = defaultdict(list)\n",
    "\n",
    "for user_id, interest in interests:\n",
    "  interests_by_user_id[user_id].append(interest)\n",
    "\n",
    "interests_by_user_id"
   ]
  },
  {
   "attachments": {},
   "cell_type": "markdown",
   "metadata": {},
   "source": [
    "Find the one who has the most interests in common with a given user:"
   ]
  },
  {
   "cell_type": "code",
   "execution_count": 33,
   "metadata": {},
   "outputs": [],
   "source": [
    "def most_common_interests_with(user):\n",
    "  return Counter(\n",
    "    interested_user_id\n",
    "    for interest in interests_by_user_id[user[\"id\"]]              # iterate over the user's interests\n",
    "      for interested_user_id in user_ids_by_interest[interest]    # iterate over the other users with that interests\n",
    "        if interested_user_id != user[\"id\"]                       # keep count of how many times we see each other user\n",
    "  )"
   ]
  },
  {
   "cell_type": "code",
   "execution_count": 34,
   "metadata": {},
   "outputs": [
    {
     "data": {
      "text/plain": [
       "Counter({9: 3, 8: 1, 1: 2, 5: 1})"
      ]
     },
     "execution_count": 34,
     "metadata": {},
     "output_type": "execute_result"
    }
   ],
   "source": [
    "most_common_interests_with(users[0])"
   ]
  },
  {
   "attachments": {},
   "cell_type": "markdown",
   "metadata": {},
   "source": [
    "This shows that Hero (`id` 0) has most common interest with Klein (`id` 9)\n",
    "and its number of common interests is three things: `Hadoop`, `Java`, and `Big Data`. The remaining three users has single common interest with Hero."
   ]
  },
  {
   "attachments": {},
   "cell_type": "markdown",
   "metadata": {},
   "source": [
    "## Salaries and Experience\n",
    "\n",
    "The data is containing user's `salary` (in dollars) and `tenure` \n",
    "as a data scientist (in years)"
   ]
  },
  {
   "cell_type": "code",
   "execution_count": 35,
   "metadata": {},
   "outputs": [],
   "source": [
    "salaries_and_tenures = [(83_000, 8.7), (88_000, 8.1),\n",
    "                        (48_000, 0.7), (76_000, 6),\n",
    "                        (69_000, 6.5), (76_000, 7.5),\n",
    "                        (60_000, 2.5), (83_000, 10),\n",
    "                        (48_000, 1.9), (63_000, 4.2)]"
   ]
  },
  {
   "cell_type": "code",
   "execution_count": 36,
   "metadata": {},
   "outputs": [
    {
     "data": {
      "image/png": "[encoded data removed]",
      "text/plain": [
       "<Figure size 640x480 with 1 Axes>"
      ]
     },
     "metadata": {},
     "output_type": "display_data"
    }
   ],
   "source": [
    "fig, ax = plt.subplots()\n",
    "\n",
    "x_data = [tenure for _, tenure in salaries_and_tenures]\n",
    "y_data = [salary for salary, _ in salaries_and_tenures]\n",
    "ax.plot(x_data, y_data, linestyle=\"None\", marker=\".\", \n",
    "  markersize=20)\n",
    "\n",
    "ax.set_xlabel(\"Years Experience\")\n",
    "ax.set_ylabel(\"Salary\")\n",
    "ax.grid(\"on\")\n",
    "\n",
    "ax.set_xlim([0, 12])\n",
    "ax.set_ylim([40_000, 100_000])\n",
    "\n",
    "plt.show(fig)"
   ]
  },
  {
   "cell_type": "markdown",
   "metadata": {},
   "source": [
    "### A fun fact about this data"
   ]
  },
  {
   "cell_type": "code",
   "execution_count": 37,
   "metadata": {},
   "outputs": [
    {
     "name": "stdout",
     "output_type": "stream",
     "text": [
      "defaultdict(<class 'list'>, {8.7: [83000], 8.1: [88000], 0.7: [48000], 6: [76000], 6.5: [69000], 7.5: [76000], 2.5: [60000], 10: [83000], 1.9: [48000], 4.2: [63000]})\n"
     ]
    },
    {
     "data": {
      "text/plain": [
       "{8.7: 83000.0,\n",
       " 8.1: 88000.0,\n",
       " 0.7: 48000.0,\n",
       " 6: 76000.0,\n",
       " 6.5: 69000.0,\n",
       " 7.5: 76000.0,\n",
       " 2.5: 60000.0,\n",
       " 10: 83000.0,\n",
       " 1.9: 48000.0,\n",
       " 4.2: 63000.0}"
      ]
     },
     "execution_count": 37,
     "metadata": {},
     "output_type": "execute_result"
    }
   ],
   "source": [
    "# Keys are years, values are lists of the salaries for each tenure\n",
    "salary_by_tenure = defaultdict(list)\n",
    "\n",
    "for salary, tenure in salaries_and_tenures:\n",
    "  salary_by_tenure[tenure].append(salary)\n",
    "print(salary_by_tenure)\n",
    "# Keys are years, each value is average salary for that tenure.\n",
    "average_salary_by_tenure = {\n",
    "  tenure: sum(salaries) / len(salaries)\n",
    "  for tenure, salaries in salary_by_tenure.items()\n",
    "}\n",
    "\n",
    "average_salary_by_tenure"
   ]
  },
  {
   "cell_type": "markdown",
   "metadata": {},
   "source": [
    "It might be more helpful to bucket the tenures:"
   ]
  },
  {
   "cell_type": "code",
   "execution_count": 24,
   "metadata": {},
   "outputs": [],
   "source": [
    "def tenure_bucket(tenure):\n",
    "  if tenure < 2:\n",
    "    return \"less than two\"\n",
    "  elif tenure < 5:\n",
    "    return \"between two and five\"\n",
    "  else:\n",
    "    return \"more than five\""
   ]
  },
  {
   "cell_type": "code",
   "execution_count": 25,
   "metadata": {},
   "outputs": [
    {
     "data": {
      "text/plain": [
       "{'more than five': 79166.66666666667,\n",
       " 'less than two': 48000.0,\n",
       " 'between two and five': 61500.0}"
      ]
     },
     "metadata": {},
     "output_type": "display_data"
    },
    {
     "name": "stdout",
     "output_type": "stream",
     "text": [
      "64.93055555555556\n"
     ]
    }
   ],
   "source": [
    "# Keys are tenure buckets, values are lists of salaries for that bucket.\n",
    "salary_by_tenure_bucket = defaultdict(list)\n",
    "\n",
    "for salary, tenure in salaries_and_tenures:\n",
    "  bucket = tenure_bucket(tenure)\n",
    "  salary_by_tenure_bucket[bucket].append(salary)\n",
    "\n",
    "# Keys are tenure buckets, values are average salary for that bucket.\n",
    "average_salary_by_bucket = {\n",
    "  tenure_bucket: sum(salaries) / len(salaries)\n",
    "  for tenure_bucket, salaries in salary_by_tenure_bucket.items()\n",
    "}\n",
    "\n",
    "display(average_salary_by_bucket)\n",
    "\n",
    "print((average_salary_by_bucket[\"more than five\"] \n",
    "  / average_salary_by_bucket[\"less than two\"] - 1) * 100)"
   ]
  },
  {
   "attachments": {},
   "cell_type": "markdown",
   "metadata": {},
   "source": [
    "And we have a soundbite: \"Data scientists with more than five years' experience earn 65% more than data scientists with little or no experience!\""
   ]
  },
  {
   "cell_type": "markdown",
   "metadata": {},
   "source": [
    "## Paid Accounts"
   ]
  },
  {
   "cell_type": "code",
   "execution_count": 26,
   "metadata": {},
   "outputs": [],
   "source": [
    "experience_and_paid = [\n",
    "  (0.7, \"paid\"),\n",
    "  (1.9, \"unpaid\"),\n",
    "  (2.5, \"paid\"),\n",
    "  (4.2, \"unpaid\"),\n",
    "  (6.0, \"unpaid\"),\n",
    "  (6.5, \"unpaid\"),\n",
    "  (7.5, \"unpaid\"),\n",
    "  (8.1, \"unpaid\"),\n",
    "  (8.7, \"paid\"),\n",
    "  (10.0, \"paid\")]"
   ]
  },
  {
   "cell_type": "code",
   "execution_count": 27,
   "metadata": {},
   "outputs": [
    {
     "data": {
      "image/png": "[encoded data removed]",
      "text/plain": [
       "<Figure size 640x480 with 1 Axes>"
      ]
     },
     "metadata": {},
     "output_type": "display_data"
    }
   ],
   "source": [
    "fig, ax = plt.subplots()\n",
    "\n",
    "x_data = [experience for experience, _ in experience_and_paid]\n",
    "y_data = [1 if paid == \"paid\" else 0 for _, paid in experience_and_paid]\n",
    "\n",
    "ax.plot(x_data, y_data, linestyle=\"None\", marker=\".\", \n",
    "  markersize=20)\n",
    "\n",
    "ax.set_xlabel(\"Years Experience\")\n",
    "ax.set_ylabel(\"Paid account\")\n",
    "ax.grid(\"on\")\n",
    "\n",
    "# ax.set_xlim([0, 12])\n",
    "# ax.set_ylim([40_000, 100_000])\n",
    "\n",
    "plt.show(fig)\n",
    "\n"
   ]
  },
  {
   "attachments": {},
   "cell_type": "markdown",
   "metadata": {},
   "source": [
    "With more data (and more mathematics), we could build a model predicting\n",
    "the likelihood that a user would pay based on his years of experience"
   ]
  },
  {
   "attachments": {},
   "cell_type": "markdown",
   "metadata": {},
   "source": [
    "## Topic of Interests"
   ]
  },
  {
   "cell_type": "code",
   "execution_count": 1,
   "metadata": {},
   "outputs": [],
   "source": [
    "interests = [\n",
    "  (0, \"Hadoop\"), (0, \"Big Data\"), (0, \"HBase\"), (0, \"Java\"),\n",
    "  (0, \"Spark\"), (0, \"Storm\"), (0, \"Cassandra\"),\n",
    "  (1, \"NoSQL\"), (1, \"MongoDB\"), (1, \"Cassandra\"), (1, \"HBase\"),\n",
    "  (1, \"Postgres\"), (2, \"Python\"), (2, \"scikit-learn\"), (2, \"scipy\"),\n",
    "  (2, \"numpy\"), (2, \"statsmodels\"), (2, \"pandas\"), (3, \"R\"), (3, \"Python\"),\n",
    "  (3, \"statistics\"), (3, \"regression\"), (3, \"probability\"),\n",
    "  (4, \"machine learning\"), (4, \"regression\"), (4, \"decision trees\"),\n",
    "  (4, \"libsvm\"), (5, \"Python\"), (5, \"R\"), (5, \"Java\"), (5, \"C++\"),\n",
    "  (5, \"Haskell\"), (5, \"programming languages\"), (6, \"statistics\"),\n",
    "  (6, \"probability\"), (6, \"mathematics\"), (6, \"theory\"),\n",
    "  (7, \"machine learning\"), (7, \"scikit-learn\"), (7, \"Mahout\"),\n",
    "  (7, \"neural networks\"), (8, \"neural networks\"), (8, \"deep learning\"),\n",
    "  (8, \"Big Data\"), (8, \"artificial intelligence\"), (9, \"Hadoop\"),\n",
    "  (9, \"Java\"), (9, \"MapReduce\"), (9, \"Big Data\")\n",
    "]"
   ]
  },
  {
   "cell_type": "markdown",
   "metadata": {},
   "source": [
    "Count the words"
   ]
  },
  {
   "cell_type": "code",
   "execution_count": 28,
   "metadata": {},
   "outputs": [],
   "source": [
    "# - lowercase each interest\n",
    "# - split it into words\n",
    "# - count the results\n",
    "words_and_counts = Counter(\n",
    "  word for user, interest in interests\n",
    "    for word in interest.lower().split())"
   ]
  },
  {
   "cell_type": "code",
   "execution_count": 29,
   "metadata": {},
   "outputs": [
    {
     "name": "stdout",
     "output_type": "stream",
     "text": [
      "big 3\n",
      "data 3\n",
      "java 3\n",
      "python 3\n",
      "learning 3\n",
      "hadoop 2\n",
      "hbase 2\n",
      "cassandra 2\n",
      "scikit-learn 2\n",
      "r 2\n",
      "statistics 2\n",
      "regression 2\n",
      "probability 2\n",
      "machine 2\n",
      "neural 2\n",
      "networks 2\n"
     ]
    }
   ],
   "source": [
    "for word, count in words_and_counts.most_common():\n",
    "  if count > 1:\n",
    "    print(word, count)"
   ]
  },
  {
   "cell_type": "code",
   "execution_count": null,
   "metadata": {},
   "outputs": [],
   "source": []
  }
 ],
 "metadata": {
  "kernelspec": {
   "display_name": "base",
   "language": "python",
   "name": "python3"
  },
  "language_info": {
   "codemirror_mode": {
    "name": "ipython",
    "version": 3
   },
   "file_extension": ".py",
   "mimetype": "text/x-python",
   "name": "python",
   "nbconvert_exporter": "python",
   "pygments_lexer": "ipython3",
   "version": "3.8.10"
  },
  "orig_nbformat": 4,
  "vscode": {
   "interpreter": {
    "hash": "b68217c4fa6011267e0d81cc47bb50822e9770eb46de3a1f506be20c9f89249d"
   }
  }
 },
 "nbformat": 4,
 "nbformat_minor": 2
}
